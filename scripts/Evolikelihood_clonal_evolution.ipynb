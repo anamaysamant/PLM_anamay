{
 "cells": [
  {
   "cell_type": "code",
   "execution_count": 1,
   "id": "f093f1a7-2e7b-4a51-a093-d20668e80206",
   "metadata": {},
   "outputs": [],
   "source": [
    "import os \n",
    "import sys\n",
    "import argparse\n",
    "import evolocity as evo\n",
    "import anndata\n",
    "import pandas as pd\n",
    "import numpy as np\n",
    "import torch\n",
    "import scanpy as sc\n",
    "import plotly.express as px\n"
   ]
  },
  {
   "cell_type": "code",
   "execution_count": 2,
   "id": "c79cc8d5-521b-4b52-92ad-91270c5f082c",
   "metadata": {},
   "outputs": [],
   "source": [
    "dataset = \"horns2020a__VDJ_RAW\"\n",
    "mode = \"full_VDJ\""
   ]
  },
  {
   "cell_type": "markdown",
   "id": "e5423619-7501-4a91-b8fe-0b5f8a0bb42c",
   "metadata": {},
   "source": [
    "### Mimicking Clonal Evolution"
   ]
  },
  {
   "cell_type": "code",
   "execution_count": 3,
   "id": "09cd89a2-ade0-4b44-8057-a55466cf12df",
   "metadata": {},
   "outputs": [],
   "source": [
    "import pandas as pd\n",
    "\n",
    "sys.path.append(\"../src\")\n",
    "\n",
    "from ablang_model import Ablang\n",
    "from antiberty_model import Antiberty\n",
    "from ESM_model import ESM\n",
    "from sapiens_model import Sapiens\n",
    "from protbert import ProtBert\n",
    "\n",
    "if not os.path.exists(os.path.join(\"..\",\"..\",\"..\",\"data\",dataset,\"clonal_sub_rank_table.csv\")):\n",
    "    model_names = [\"ablang\",\"protbert\",\"sapiens\",\"ESM\"]\n",
    "    model_classes = [Ablang,ProtBert, Sapiens,ESM]\n",
    "    \n",
    "    abforest_files_location = os.path.join(\"..\",\"..\",\"..\",\"data\",dataset,\"clonal_analysis\")\n",
    "    \n",
    "    output_table = []\n",
    "    \n",
    "    file_names = os.listdir(abforest_files_location)\n",
    "    \n",
    "    node_features_filename = [file_name for file_name in file_names if (\"node_features\" in file_name)]\n",
    "    adj_mat_filename = [file_name for file_name in file_names if (\"adj_mat\" in file_name)]\n",
    "    \n",
    "    node_features_filename = node_features_filename[0]\n",
    "    adj_mat_filename = adj_mat_filename[0]\n",
    "    \n",
    "    for j,model in enumerate(model_names):\n",
    "        \n",
    "        torch.cuda.empty_cache()\n",
    "        \n",
    "        all_node_features = pd.read_csv(os.path.join(abforest_files_location, node_features_filename))\n",
    "        all_adj_mat = pd.read_csv(os.path.join(abforest_files_location, adj_mat_filename))\n",
    "        \n",
    "        clonotypes = list(all_node_features[\"sample_clonotype\"].unique())\n",
    "        \n",
    "        if model == \"ablang\":\n",
    "            model_init = Ablang(chain=\"heavy\")\n",
    "        if model == \"sapiens\":\n",
    "            model_init = Sapiens(chain_type=\"H\")\n",
    "        else:\n",
    "            model_init = model_classes[j]()\n",
    "    \n",
    "        for clonotype in clonotypes:\n",
    "                    \n",
    "            node_features = all_node_features.loc[all_node_features[\"sample_clonotype\"] == clonotype,:]\n",
    "            adj_mat = all_adj_mat.loc[all_adj_mat[\"sample_clonotype\"] == clonotype,:]\n",
    "    \n",
    "            germline_index = node_features[\"label\"].astype(int).max()\n",
    "            \n",
    "            node_features = node_features.loc[node_features[\"label\"] != germline_index, :].reset_index(drop = True)\n",
    "            adj_mat = adj_mat.loc[adj_mat[\"i\"] != germline_index,:].reset_index(drop = True)\n",
    "            \n",
    "            num_edges = adj_mat.shape[0]\n",
    "        \n",
    "            for i in range(adj_mat.shape[0]):\n",
    "                \n",
    "                seq_2 = node_features[\"network_sequences\"][adj_mat.iloc[i,0] - 1]\n",
    "                seq_1 = node_features[\"network_sequences\"][adj_mat.iloc[i,1] - 1]\n",
    "    \n",
    "                if len(seq_1) != len(seq_2):\n",
    "                    continue\n",
    "    \n",
    "                diff_positions = [k for k in range(len(seq_1)) if seq_1[k] != seq_2[k]]\n",
    "                same_positions = list(set(range(len(seq_1))) - set(diff_positions))\n",
    "                \n",
    "                prob_matrix = model_init.calc_probability_matrix(seq_1)\n",
    "                \n",
    "                substitute_ranks = []\n",
    "                unmutated_ranks = []\n",
    "                unmutated_pos_ranks = []\n",
    "    \n",
    "                substitute_probs = []\n",
    "                unmutated_probs = []\n",
    "                unmutated_pos_probs = []\n",
    "                \n",
    "                for pos in diff_positions:\n",
    "    \n",
    "                    likelihood_values = pd.Series(prob_matrix.iloc[pos,:])\n",
    "                    ranks = likelihood_values.rank(ascending=False)\n",
    "    \n",
    "                    substitute_ranks.append(ranks[seq_2[pos]])\n",
    "                    unmutated_ranks.append(ranks[seq_1[pos]])\n",
    "    \n",
    "                    substitute_probs.append(likelihood_values[seq_2[pos]])\n",
    "                    unmutated_probs.append(likelihood_values[seq_1[pos]])\n",
    "    \n",
    "                for pos in same_positions:\n",
    "    \n",
    "                    likelihood_values = pd.Series(prob_matrix.iloc[pos,:])\n",
    "                    ranks = likelihood_values.rank(ascending=False)\n",
    "                    \n",
    "                    unmutated_pos_ranks.append(ranks[seq_1[pos]])\n",
    "                    unmutated_pos_probs.append(likelihood_values[seq_1[pos]])\n",
    "    \n",
    "                mean_substitute_rank = np.average(substitute_ranks)\n",
    "                mean_unmutated_rank = np.average(unmutated_ranks)\n",
    "                mean_unmutated_pos_rank = np.average(unmutated_pos_ranks)\n",
    "    \n",
    "                mean_substitute_probs = np.average(substitute_probs)\n",
    "                mean_unmutated_probs = np.average(unmutated_probs)\n",
    "                mean_unmutated_pos_probs = np.average(unmutated_pos_probs)\n",
    "    \n",
    "                output_table.append({\"model\":model,\"clonotype\":clonotype,\"edge\":f\"edge_{i}\",\"n_subs\":len(diff_positions),\n",
    "                                     \"mean_sub_rank\":mean_substitute_rank, \"mean_unmutated_rank\":mean_unmutated_rank,\n",
    "                                    \"mean_unmutated_pos_rank\":mean_unmutated_pos_rank,\"mean_substitute_probs\":mean_substitute_probs,\n",
    "                                    \"mean_unmutated_probs\":mean_unmutated_probs,\"mean_unmutated_pos_probs\":mean_unmutated_pos_probs})\n",
    "    \n",
    "        del(model_init)    \n",
    "                \n",
    "    output_table = pd.DataFrame(output_table)\n",
    "else:\n",
    "    output_table = pd.read_csv(os.path.join(\"..\",\"..\",\"..\",\"data\",dataset,\"clonal_sub_rank_table_rev.csv\"))"
   ]
  },
  {
   "cell_type": "markdown",
   "id": "b2986a7c-13a2-40d4-9c5d-46ace38f0a23",
   "metadata": {},
   "source": [
    "#### Mutated residues in mutating positions "
   ]
  },
  {
   "cell_type": "code",
   "execution_count": 38,
   "id": "1b18cbf8-3c21-43b0-ac09-96a382f18efd",
   "metadata": {},
   "outputs": [
    {
     "data": {
      "text/html": [
       "<div>\n",
       "<style scoped>\n",
       "    .dataframe tbody tr th:only-of-type {\n",
       "        vertical-align: middle;\n",
       "    }\n",
       "\n",
       "    .dataframe tbody tr th {\n",
       "        vertical-align: top;\n",
       "    }\n",
       "\n",
       "    .dataframe thead th {\n",
       "        text-align: right;\n",
       "    }\n",
       "</style>\n",
       "<table border=\"1\" class=\"dataframe\">\n",
       "  <thead>\n",
       "    <tr style=\"text-align: right;\">\n",
       "      <th></th>\n",
       "      <th>model</th>\n",
       "      <th>clonotype</th>\n",
       "      <th>edge</th>\n",
       "      <th>n_subs</th>\n",
       "      <th>mean_sub_rank</th>\n",
       "      <th>mean_unmutated_rank</th>\n",
       "      <th>mean_unmutated_pos_rank</th>\n",
       "      <th>mean_substitute_probs</th>\n",
       "      <th>mean_unmutated_probs</th>\n",
       "      <th>mean_unmutated_pos_probs</th>\n",
       "    </tr>\n",
       "  </thead>\n",
       "  <tbody>\n",
       "    <tr>\n",
       "      <th>0</th>\n",
       "      <td>ablang</td>\n",
       "      <td>s1_clonotype1</td>\n",
       "      <td>edge_0</td>\n",
       "      <td>18</td>\n",
       "      <td>4.111111</td>\n",
       "      <td>1.722222</td>\n",
       "      <td>1.021277</td>\n",
       "      <td>0.242657</td>\n",
       "      <td>0.567410</td>\n",
       "      <td>0.926657</td>\n",
       "    </tr>\n",
       "    <tr>\n",
       "      <th>1</th>\n",
       "      <td>ablang</td>\n",
       "      <td>s1_clonotype1</td>\n",
       "      <td>edge_1</td>\n",
       "      <td>12</td>\n",
       "      <td>3.500000</td>\n",
       "      <td>2.083333</td>\n",
       "      <td>1.020000</td>\n",
       "      <td>0.292385</td>\n",
       "      <td>0.430943</td>\n",
       "      <td>0.921478</td>\n",
       "    </tr>\n",
       "    <tr>\n",
       "      <th>2</th>\n",
       "      <td>ablang</td>\n",
       "      <td>s1_clonotype1</td>\n",
       "      <td>edge_3</td>\n",
       "      <td>16</td>\n",
       "      <td>3.062500</td>\n",
       "      <td>2.000000</td>\n",
       "      <td>1.104167</td>\n",
       "      <td>0.285423</td>\n",
       "      <td>0.483494</td>\n",
       "      <td>0.894153</td>\n",
       "    </tr>\n",
       "    <tr>\n",
       "      <th>3</th>\n",
       "      <td>ablang</td>\n",
       "      <td>s1_clonotype2</td>\n",
       "      <td>edge_0</td>\n",
       "      <td>3</td>\n",
       "      <td>5.666667</td>\n",
       "      <td>4.666667</td>\n",
       "      <td>1.925620</td>\n",
       "      <td>0.032352</td>\n",
       "      <td>0.333311</td>\n",
       "      <td>0.803585</td>\n",
       "    </tr>\n",
       "    <tr>\n",
       "      <th>4</th>\n",
       "      <td>ablang</td>\n",
       "      <td>s1_clonotype2</td>\n",
       "      <td>edge_1</td>\n",
       "      <td>3</td>\n",
       "      <td>5.666667</td>\n",
       "      <td>4.666667</td>\n",
       "      <td>1.925620</td>\n",
       "      <td>0.037808</td>\n",
       "      <td>0.283924</td>\n",
       "      <td>0.804809</td>\n",
       "    </tr>\n",
       "    <tr>\n",
       "      <th>...</th>\n",
       "      <td>...</td>\n",
       "      <td>...</td>\n",
       "      <td>...</td>\n",
       "      <td>...</td>\n",
       "      <td>...</td>\n",
       "      <td>...</td>\n",
       "      <td>...</td>\n",
       "      <td>...</td>\n",
       "      <td>...</td>\n",
       "      <td>...</td>\n",
       "    </tr>\n",
       "    <tr>\n",
       "      <th>379</th>\n",
       "      <td>ESM</td>\n",
       "      <td>s4_clonotype343</td>\n",
       "      <td>edge_0</td>\n",
       "      <td>1</td>\n",
       "      <td>2.000000</td>\n",
       "      <td>1.000000</td>\n",
       "      <td>1.271186</td>\n",
       "      <td>0.034242</td>\n",
       "      <td>0.938358</td>\n",
       "      <td>0.829873</td>\n",
       "    </tr>\n",
       "    <tr>\n",
       "      <th>380</th>\n",
       "      <td>ESM</td>\n",
       "      <td>s4_clonotype367</td>\n",
       "      <td>edge_0</td>\n",
       "      <td>3</td>\n",
       "      <td>1.666667</td>\n",
       "      <td>1.333333</td>\n",
       "      <td>1.034188</td>\n",
       "      <td>0.321354</td>\n",
       "      <td>0.676902</td>\n",
       "      <td>0.934669</td>\n",
       "    </tr>\n",
       "    <tr>\n",
       "      <th>381</th>\n",
       "      <td>ESM</td>\n",
       "      <td>s4_clonotype434</td>\n",
       "      <td>edge_0</td>\n",
       "      <td>2</td>\n",
       "      <td>12.500000</td>\n",
       "      <td>1.000000</td>\n",
       "      <td>1.050000</td>\n",
       "      <td>0.008296</td>\n",
       "      <td>0.727903</td>\n",
       "      <td>0.909778</td>\n",
       "    </tr>\n",
       "    <tr>\n",
       "      <th>382</th>\n",
       "      <td>ESM</td>\n",
       "      <td>s4_clonotype449</td>\n",
       "      <td>edge_0</td>\n",
       "      <td>1</td>\n",
       "      <td>3.000000</td>\n",
       "      <td>1.000000</td>\n",
       "      <td>1.172131</td>\n",
       "      <td>0.000148</td>\n",
       "      <td>0.999365</td>\n",
       "      <td>0.893606</td>\n",
       "    </tr>\n",
       "    <tr>\n",
       "      <th>383</th>\n",
       "      <td>ESM</td>\n",
       "      <td>s4_clonotype524</td>\n",
       "      <td>edge_0</td>\n",
       "      <td>1</td>\n",
       "      <td>1.000000</td>\n",
       "      <td>2.000000</td>\n",
       "      <td>1.033333</td>\n",
       "      <td>0.648199</td>\n",
       "      <td>0.116807</td>\n",
       "      <td>0.909461</td>\n",
       "    </tr>\n",
       "  </tbody>\n",
       "</table>\n",
       "<p>384 rows × 10 columns</p>\n",
       "</div>"
      ],
      "text/plain": [
       "      model        clonotype    edge  n_subs  mean_sub_rank  \\\n",
       "0    ablang    s1_clonotype1  edge_0      18       4.111111   \n",
       "1    ablang    s1_clonotype1  edge_1      12       3.500000   \n",
       "2    ablang    s1_clonotype1  edge_3      16       3.062500   \n",
       "3    ablang    s1_clonotype2  edge_0       3       5.666667   \n",
       "4    ablang    s1_clonotype2  edge_1       3       5.666667   \n",
       "..      ...              ...     ...     ...            ...   \n",
       "379     ESM  s4_clonotype343  edge_0       1       2.000000   \n",
       "380     ESM  s4_clonotype367  edge_0       3       1.666667   \n",
       "381     ESM  s4_clonotype434  edge_0       2      12.500000   \n",
       "382     ESM  s4_clonotype449  edge_0       1       3.000000   \n",
       "383     ESM  s4_clonotype524  edge_0       1       1.000000   \n",
       "\n",
       "     mean_unmutated_rank  mean_unmutated_pos_rank  mean_substitute_probs  \\\n",
       "0               1.722222                 1.021277               0.242657   \n",
       "1               2.083333                 1.020000               0.292385   \n",
       "2               2.000000                 1.104167               0.285423   \n",
       "3               4.666667                 1.925620               0.032352   \n",
       "4               4.666667                 1.925620               0.037808   \n",
       "..                   ...                      ...                    ...   \n",
       "379             1.000000                 1.271186               0.034242   \n",
       "380             1.333333                 1.034188               0.321354   \n",
       "381             1.000000                 1.050000               0.008296   \n",
       "382             1.000000                 1.172131               0.000148   \n",
       "383             2.000000                 1.033333               0.648199   \n",
       "\n",
       "     mean_unmutated_probs  mean_unmutated_pos_probs  \n",
       "0                0.567410                  0.926657  \n",
       "1                0.430943                  0.921478  \n",
       "2                0.483494                  0.894153  \n",
       "3                0.333311                  0.803585  \n",
       "4                0.283924                  0.804809  \n",
       "..                    ...                       ...  \n",
       "379              0.938358                  0.829873  \n",
       "380              0.676902                  0.934669  \n",
       "381              0.727903                  0.909778  \n",
       "382              0.999365                  0.893606  \n",
       "383              0.116807                  0.909461  \n",
       "\n",
       "[384 rows x 10 columns]"
      ]
     },
     "execution_count": 38,
     "metadata": {},
     "output_type": "execute_result"
    }
   ],
   "source": [
    "output_table"
   ]
  },
  {
   "cell_type": "code",
   "execution_count": 5,
   "id": "32ef81cd-6899-4905-a1a3-0bba76fbfac9",
   "metadata": {},
   "outputs": [
    {
     "data": {
      "application/vnd.plotly.v1+json": {
       "config": {
        "plotlyServerURL": "https://plot.ly"
       },
       "data": [
        {
         "alignmentgroup": "True",
         "bingroup": "x",
         "hovertemplate": "model=ablang<br>mean_sub_rank=%{x}<br>count=%{y}<extra></extra>",
         "legendgroup": "",
         "marker": {
          "color": "#636efa",
          "pattern": {
           "shape": ""
          }
         },
         "name": "",
         "offsetgroup": "",
         "orientation": "v",
         "showlegend": false,
         "type": "histogram",
         "x": [
          2,
          2,
          2.25,
          5.666666666666667,
          5.333333333333333,
          1.5,
          2.7142857142857144,
          2.090909090909091,
          3.5,
          1.3636363636363635,
          1.25,
          1.75,
          1.375,
          1,
          1,
          1,
          1.6923076923076923,
          3.083333333333333,
          2.1578947368421053,
          3.25,
          2,
          4.125,
          1.8125,
          1.25,
          3.1666666666666665,
          1.1538461538461535,
          1.75,
          2.5,
          1.8333333333333333,
          2.2857142857142856,
          1.5454545454545454,
          2.571428571428572,
          1.4285714285714286,
          2.6666666666666665,
          1,
          1,
          2.111111111111111,
          1.5,
          1.3333333333333333,
          2,
          2,
          1.9090909090909087,
          1.6666666666666667,
          2.333333333333333,
          1,
          2.875,
          1,
          1.875,
          3,
          1.5,
          1.5714285714285714,
          2,
          1.5,
          3.142857142857143,
          1,
          2.2857142857142856,
          1.6666666666666667,
          1.7142857142857142,
          2.642857142857143,
          3.2,
          1.625,
          2.6923076923076925,
          2.571428571428572,
          2.2222222222222223,
          4.166666666666667,
          1.8333333333333333,
          2.5,
          1,
          2.2142857142857144,
          2.2,
          1,
          4,
          3,
          3,
          1.25,
          3,
          1.875,
          2,
          2.142857142857143,
          4.277777777777778,
          4.375,
          4.222222222222222,
          2.333333333333333,
          1.6666666666666667,
          4.4,
          1,
          8.904255319148936,
          7.744897959183674,
          1,
          1.4,
          1,
          2,
          1.3333333333333333,
          1,
          1,
          1
         ],
         "xaxis": "x3",
         "xbins": {
          "size": 1
         },
         "yaxis": "y3"
        },
        {
         "alignmentgroup": "True",
         "bingroup": "x",
         "hovertemplate": "model=protbert<br>mean_sub_rank=%{x}<br>count=%{y}<extra></extra>",
         "legendgroup": "",
         "marker": {
          "color": "#636efa",
          "pattern": {
           "shape": ""
          }
         },
         "name": "",
         "offsetgroup": "",
         "orientation": "v",
         "showlegend": false,
         "type": "histogram",
         "x": [
          3.333333333333333,
          4,
          3.1875,
          7.333333333333333,
          7,
          2.5,
          2.7142857142857144,
          2.363636363636364,
          2.8,
          1.4545454545454546,
          1.375,
          3.083333333333333,
          2,
          7,
          1,
          3.1666666666666665,
          2.8461538461538463,
          3.5,
          2.526315789473684,
          3.625,
          2,
          5.25,
          3.1875,
          3.125,
          4,
          2,
          2,
          3.25,
          2.6666666666666665,
          5,
          2.4545454545454546,
          3,
          3.142857142857143,
          5.666666666666667,
          2,
          1,
          2.888888888888889,
          2,
          1.6666666666666667,
          2.6666666666666665,
          3.1666666666666665,
          3.272727272727273,
          2,
          3.111111111111111,
          1,
          4.125,
          1.5,
          4.25,
          4.4,
          2,
          2.142857142857143,
          3.6666666666666665,
          1.75,
          4.095238095238095,
          1.4,
          3.357142857142857,
          2.6666666666666665,
          2.142857142857143,
          3.142857142857143,
          4,
          1.75,
          4.076923076923077,
          3.571428571428572,
          2.888888888888889,
          4.083333333333333,
          3.6666666666666665,
          3.5,
          2,
          2.571428571428572,
          3.4,
          1,
          3.5,
          3,
          2.090909090909091,
          3.5,
          4.666666666666667,
          3,
          2.4285714285714284,
          2.9285714285714284,
          5.611111111111111,
          4.75,
          4.444444444444445,
          3.6666666666666665,
          2.5,
          4.4,
          1.6666666666666667,
          8.159574468085106,
          7.316326530612245,
          1.3333333333333333,
          2.2,
          2,
          2,
          1.3333333333333333,
          4.5,
          1,
          3
         ],
         "xaxis": "x4",
         "xbins": {
          "size": 1
         },
         "yaxis": "y4"
        },
        {
         "alignmentgroup": "True",
         "bingroup": "x",
         "hovertemplate": "model=sapiens<br>mean_sub_rank=%{x}<br>count=%{y}<extra></extra>",
         "legendgroup": "",
         "marker": {
          "color": "#636efa",
          "pattern": {
           "shape": ""
          }
         },
         "name": "",
         "offsetgroup": "",
         "orientation": "v",
         "showlegend": false,
         "type": "histogram",
         "x": [
          2.2777777777777777,
          2.75,
          2.6875,
          5,
          5.333333333333333,
          2.625,
          3.071428571428572,
          2,
          3.1,
          1.6363636363636365,
          1.375,
          2.5,
          1.875,
          1,
          1,
          1.3333333333333333,
          1.6153846153846154,
          2.583333333333333,
          2.5789473684210527,
          5.125,
          2,
          4.25,
          2.625,
          1.25,
          3,
          1.6923076923076923,
          3,
          2.75,
          2.833333333333333,
          2.571428571428572,
          2.272727272727273,
          2.2857142857142856,
          2,
          2,
          3,
          1,
          2.888888888888889,
          2,
          1.3333333333333333,
          2.333333333333333,
          3,
          2.636363636363636,
          2.6666666666666665,
          2.111111111111111,
          1,
          4.625,
          1,
          2.5,
          4.6,
          1.5,
          1.8571428571428568,
          2.888888888888889,
          1.5,
          3.7142857142857135,
          1,
          2.9285714285714284,
          1.6666666666666667,
          2.571428571428572,
          2.642857142857143,
          5,
          1.75,
          4.6923076923076925,
          3.571428571428572,
          2.6666666666666665,
          4.333333333333333,
          2.6666666666666665,
          1.8333333333333333,
          1,
          2.357142857142857,
          2.8,
          1,
          3.5,
          2,
          2.1818181818181817,
          2,
          2.8666666666666667,
          2.25,
          2,
          2.4285714285714284,
          4.388888888888889,
          5.625,
          5.333333333333333,
          3.888888888888889,
          1.8333333333333333,
          5.8,
          1,
          9.46808510638298,
          9.70408163265306,
          1,
          3.2,
          1.2,
          2,
          1.3333333333333333,
          2,
          1,
          1
         ],
         "xaxis": "x",
         "xbins": {
          "size": 1
         },
         "yaxis": "y"
        },
        {
         "alignmentgroup": "True",
         "bingroup": "x",
         "hovertemplate": "model=ESM<br>mean_sub_rank=%{x}<br>count=%{y}<extra></extra>",
         "legendgroup": "",
         "marker": {
          "color": "#636efa",
          "pattern": {
           "shape": ""
          }
         },
         "name": "",
         "offsetgroup": "",
         "orientation": "v",
         "showlegend": false,
         "type": "histogram",
         "x": [
          3.2777777777777777,
          3.9166666666666665,
          3.5625,
          6.333333333333333,
          7,
          2.5,
          4.142857142857143,
          3.8181818181818175,
          4.2,
          3.8181818181818175,
          2.75,
          4.666666666666667,
          3.125,
          6.333333333333333,
          2,
          4.166666666666667,
          3.3846153846153846,
          3.4166666666666665,
          3.1578947368421053,
          3.375,
          3,
          6.25,
          4.5625,
          3.375,
          4.333333333333333,
          3,
          3,
          3.25,
          4.333333333333333,
          5.714285714285714,
          2.272727272727273,
          3.4285714285714284,
          3.4285714285714284,
          4.666666666666667,
          2,
          1,
          3.6666666666666665,
          2.75,
          2,
          2.333333333333333,
          4.416666666666667,
          2.909090909090909,
          3.333333333333333,
          3.333333333333333,
          1,
          5.875,
          1.5,
          4.125,
          3,
          1.75,
          3.7142857142857135,
          3.6666666666666665,
          1.25,
          4.380952380952381,
          1.4,
          2.9285714285714284,
          2.333333333333333,
          2.571428571428572,
          3.2857142857142856,
          3.4,
          2.125,
          4.307692307692308,
          1.8571428571428568,
          4.555555555555555,
          5.083333333333333,
          4,
          4,
          2,
          2.5,
          4,
          1.5,
          3.75,
          4,
          2.5454545454545454,
          4.5,
          4.733333333333333,
          3.875,
          3.4285714285714284,
          3.642857142857143,
          6.111111111111111,
          5.375,
          4.777777777777778,
          4.222222222222222,
          3.333333333333333,
          4.4,
          2.333333333333333,
          8.680851063829786,
          7.530612244897959,
          1.6666666666666667,
          2,
          1.8,
          2,
          1.6666666666666667,
          4,
          1,
          9
         ],
         "xaxis": "x2",
         "xbins": {
          "size": 1
         },
         "yaxis": "y2"
        }
       ],
       "layout": {
        "annotations": [
         {
          "font": {},
          "showarrow": false,
          "text": "model=sapiens",
          "x": 0.245,
          "xanchor": "center",
          "xref": "paper",
          "y": 0.46499999999999997,
          "yanchor": "bottom",
          "yref": "paper"
         },
         {
          "font": {},
          "showarrow": false,
          "text": "model=ESM",
          "x": 0.755,
          "xanchor": "center",
          "xref": "paper",
          "y": 0.46499999999999997,
          "yanchor": "bottom",
          "yref": "paper"
         },
         {
          "font": {},
          "showarrow": false,
          "text": "model=ablang",
          "x": 0.245,
          "xanchor": "center",
          "xref": "paper",
          "y": 0.9999999999999999,
          "yanchor": "bottom",
          "yref": "paper"
         },
         {
          "font": {},
          "showarrow": false,
          "text": "model=protbert",
          "x": 0.755,
          "xanchor": "center",
          "xref": "paper",
          "y": 0.9999999999999999,
          "yanchor": "bottom",
          "yref": "paper"
         }
        ],
        "autosize": true,
        "barmode": "relative",
        "font": {
         "size": 23
        },
        "legend": {
         "tracegroupgap": 0
        },
        "template": {
         "data": {
          "bar": [
           {
            "error_x": {
             "color": "#2a3f5f"
            },
            "error_y": {
             "color": "#2a3f5f"
            },
            "marker": {
             "line": {
              "color": "#E5ECF6",
              "width": 0.5
             },
             "pattern": {
              "fillmode": "overlay",
              "size": 10,
              "solidity": 0.2
             }
            },
            "type": "bar"
           }
          ],
          "barpolar": [
           {
            "marker": {
             "line": {
              "color": "#E5ECF6",
              "width": 0.5
             },
             "pattern": {
              "fillmode": "overlay",
              "size": 10,
              "solidity": 0.2
             }
            },
            "type": "barpolar"
           }
          ],
          "carpet": [
           {
            "aaxis": {
             "endlinecolor": "#2a3f5f",
             "gridcolor": "white",
             "linecolor": "white",
             "minorgridcolor": "white",
             "startlinecolor": "#2a3f5f"
            },
            "baxis": {
             "endlinecolor": "#2a3f5f",
             "gridcolor": "white",
             "linecolor": "white",
             "minorgridcolor": "white",
             "startlinecolor": "#2a3f5f"
            },
            "type": "carpet"
           }
          ],
          "choropleth": [
           {
            "colorbar": {
             "outlinewidth": 0,
             "ticks": ""
            },
            "type": "choropleth"
           }
          ],
          "contour": [
           {
            "colorbar": {
             "outlinewidth": 0,
             "ticks": ""
            },
            "colorscale": [
             [
              0,
              "#0d0887"
             ],
             [
              0.1111111111111111,
              "#46039f"
             ],
             [
              0.2222222222222222,
              "#7201a8"
             ],
             [
              0.3333333333333333,
              "#9c179e"
             ],
             [
              0.4444444444444444,
              "#bd3786"
             ],
             [
              0.5555555555555556,
              "#d8576b"
             ],
             [
              0.6666666666666666,
              "#ed7953"
             ],
             [
              0.7777777777777778,
              "#fb9f3a"
             ],
             [
              0.8888888888888888,
              "#fdca26"
             ],
             [
              1,
              "#f0f921"
             ]
            ],
            "type": "contour"
           }
          ],
          "contourcarpet": [
           {
            "colorbar": {
             "outlinewidth": 0,
             "ticks": ""
            },
            "type": "contourcarpet"
           }
          ],
          "heatmap": [
           {
            "colorbar": {
             "outlinewidth": 0,
             "ticks": ""
            },
            "colorscale": [
             [
              0,
              "#0d0887"
             ],
             [
              0.1111111111111111,
              "#46039f"
             ],
             [
              0.2222222222222222,
              "#7201a8"
             ],
             [
              0.3333333333333333,
              "#9c179e"
             ],
             [
              0.4444444444444444,
              "#bd3786"
             ],
             [
              0.5555555555555556,
              "#d8576b"
             ],
             [
              0.6666666666666666,
              "#ed7953"
             ],
             [
              0.7777777777777778,
              "#fb9f3a"
             ],
             [
              0.8888888888888888,
              "#fdca26"
             ],
             [
              1,
              "#f0f921"
             ]
            ],
            "type": "heatmap"
           }
          ],
          "heatmapgl": [
           {
            "colorbar": {
             "outlinewidth": 0,
             "ticks": ""
            },
            "colorscale": [
             [
              0,
              "#0d0887"
             ],
             [
              0.1111111111111111,
              "#46039f"
             ],
             [
              0.2222222222222222,
              "#7201a8"
             ],
             [
              0.3333333333333333,
              "#9c179e"
             ],
             [
              0.4444444444444444,
              "#bd3786"
             ],
             [
              0.5555555555555556,
              "#d8576b"
             ],
             [
              0.6666666666666666,
              "#ed7953"
             ],
             [
              0.7777777777777778,
              "#fb9f3a"
             ],
             [
              0.8888888888888888,
              "#fdca26"
             ],
             [
              1,
              "#f0f921"
             ]
            ],
            "type": "heatmapgl"
           }
          ],
          "histogram": [
           {
            "marker": {
             "pattern": {
              "fillmode": "overlay",
              "size": 10,
              "solidity": 0.2
             }
            },
            "type": "histogram"
           }
          ],
          "histogram2d": [
           {
            "colorbar": {
             "outlinewidth": 0,
             "ticks": ""
            },
            "colorscale": [
             [
              0,
              "#0d0887"
             ],
             [
              0.1111111111111111,
              "#46039f"
             ],
             [
              0.2222222222222222,
              "#7201a8"
             ],
             [
              0.3333333333333333,
              "#9c179e"
             ],
             [
              0.4444444444444444,
              "#bd3786"
             ],
             [
              0.5555555555555556,
              "#d8576b"
             ],
             [
              0.6666666666666666,
              "#ed7953"
             ],
             [
              0.7777777777777778,
              "#fb9f3a"
             ],
             [
              0.8888888888888888,
              "#fdca26"
             ],
             [
              1,
              "#f0f921"
             ]
            ],
            "type": "histogram2d"
           }
          ],
          "histogram2dcontour": [
           {
            "colorbar": {
             "outlinewidth": 0,
             "ticks": ""
            },
            "colorscale": [
             [
              0,
              "#0d0887"
             ],
             [
              0.1111111111111111,
              "#46039f"
             ],
             [
              0.2222222222222222,
              "#7201a8"
             ],
             [
              0.3333333333333333,
              "#9c179e"
             ],
             [
              0.4444444444444444,
              "#bd3786"
             ],
             [
              0.5555555555555556,
              "#d8576b"
             ],
             [
              0.6666666666666666,
              "#ed7953"
             ],
             [
              0.7777777777777778,
              "#fb9f3a"
             ],
             [
              0.8888888888888888,
              "#fdca26"
             ],
             [
              1,
              "#f0f921"
             ]
            ],
            "type": "histogram2dcontour"
           }
          ],
          "mesh3d": [
           {
            "colorbar": {
             "outlinewidth": 0,
             "ticks": ""
            },
            "type": "mesh3d"
           }
          ],
          "parcoords": [
           {
            "line": {
             "colorbar": {
              "outlinewidth": 0,
              "ticks": ""
             }
            },
            "type": "parcoords"
           }
          ],
          "pie": [
           {
            "automargin": true,
            "type": "pie"
           }
          ],
          "scatter": [
           {
            "fillpattern": {
             "fillmode": "overlay",
             "size": 10,
             "solidity": 0.2
            },
            "type": "scatter"
           }
          ],
          "scatter3d": [
           {
            "line": {
             "colorbar": {
              "outlinewidth": 0,
              "ticks": ""
             }
            },
            "marker": {
             "colorbar": {
              "outlinewidth": 0,
              "ticks": ""
             }
            },
            "type": "scatter3d"
           }
          ],
          "scattercarpet": [
           {
            "marker": {
             "colorbar": {
              "outlinewidth": 0,
              "ticks": ""
             }
            },
            "type": "scattercarpet"
           }
          ],
          "scattergeo": [
           {
            "marker": {
             "colorbar": {
              "outlinewidth": 0,
              "ticks": ""
             }
            },
            "type": "scattergeo"
           }
          ],
          "scattergl": [
           {
            "marker": {
             "colorbar": {
              "outlinewidth": 0,
              "ticks": ""
             }
            },
            "type": "scattergl"
           }
          ],
          "scattermapbox": [
           {
            "marker": {
             "colorbar": {
              "outlinewidth": 0,
              "ticks": ""
             }
            },
            "type": "scattermapbox"
           }
          ],
          "scatterpolar": [
           {
            "marker": {
             "colorbar": {
              "outlinewidth": 0,
              "ticks": ""
             }
            },
            "type": "scatterpolar"
           }
          ],
          "scatterpolargl": [
           {
            "marker": {
             "colorbar": {
              "outlinewidth": 0,
              "ticks": ""
             }
            },
            "type": "scatterpolargl"
           }
          ],
          "scatterternary": [
           {
            "marker": {
             "colorbar": {
              "outlinewidth": 0,
              "ticks": ""
             }
            },
            "type": "scatterternary"
           }
          ],
          "surface": [
           {
            "colorbar": {
             "outlinewidth": 0,
             "ticks": ""
            },
            "colorscale": [
             [
              0,
              "#0d0887"
             ],
             [
              0.1111111111111111,
              "#46039f"
             ],
             [
              0.2222222222222222,
              "#7201a8"
             ],
             [
              0.3333333333333333,
              "#9c179e"
             ],
             [
              0.4444444444444444,
              "#bd3786"
             ],
             [
              0.5555555555555556,
              "#d8576b"
             ],
             [
              0.6666666666666666,
              "#ed7953"
             ],
             [
              0.7777777777777778,
              "#fb9f3a"
             ],
             [
              0.8888888888888888,
              "#fdca26"
             ],
             [
              1,
              "#f0f921"
             ]
            ],
            "type": "surface"
           }
          ],
          "table": [
           {
            "cells": {
             "fill": {
              "color": "#EBF0F8"
             },
             "line": {
              "color": "white"
             }
            },
            "header": {
             "fill": {
              "color": "#C8D4E3"
             },
             "line": {
              "color": "white"
             }
            },
            "type": "table"
           }
          ]
         },
         "layout": {
          "annotationdefaults": {
           "arrowcolor": "#2a3f5f",
           "arrowhead": 0,
           "arrowwidth": 1
          },
          "autotypenumbers": "strict",
          "coloraxis": {
           "colorbar": {
            "outlinewidth": 0,
            "ticks": ""
           }
          },
          "colorscale": {
           "diverging": [
            [
             0,
             "#8e0152"
            ],
            [
             0.1,
             "#c51b7d"
            ],
            [
             0.2,
             "#de77ae"
            ],
            [
             0.3,
             "#f1b6da"
            ],
            [
             0.4,
             "#fde0ef"
            ],
            [
             0.5,
             "#f7f7f7"
            ],
            [
             0.6,
             "#e6f5d0"
            ],
            [
             0.7,
             "#b8e186"
            ],
            [
             0.8,
             "#7fbc41"
            ],
            [
             0.9,
             "#4d9221"
            ],
            [
             1,
             "#276419"
            ]
           ],
           "sequential": [
            [
             0,
             "#0d0887"
            ],
            [
             0.1111111111111111,
             "#46039f"
            ],
            [
             0.2222222222222222,
             "#7201a8"
            ],
            [
             0.3333333333333333,
             "#9c179e"
            ],
            [
             0.4444444444444444,
             "#bd3786"
            ],
            [
             0.5555555555555556,
             "#d8576b"
            ],
            [
             0.6666666666666666,
             "#ed7953"
            ],
            [
             0.7777777777777778,
             "#fb9f3a"
            ],
            [
             0.8888888888888888,
             "#fdca26"
            ],
            [
             1,
             "#f0f921"
            ]
           ],
           "sequentialminus": [
            [
             0,
             "#0d0887"
            ],
            [
             0.1111111111111111,
             "#46039f"
            ],
            [
             0.2222222222222222,
             "#7201a8"
            ],
            [
             0.3333333333333333,
             "#9c179e"
            ],
            [
             0.4444444444444444,
             "#bd3786"
            ],
            [
             0.5555555555555556,
             "#d8576b"
            ],
            [
             0.6666666666666666,
             "#ed7953"
            ],
            [
             0.7777777777777778,
             "#fb9f3a"
            ],
            [
             0.8888888888888888,
             "#fdca26"
            ],
            [
             1,
             "#f0f921"
            ]
           ]
          },
          "colorway": [
           "#636efa",
           "#EF553B",
           "#00cc96",
           "#ab63fa",
           "#FFA15A",
           "#19d3f3",
           "#FF6692",
           "#B6E880",
           "#FF97FF",
           "#FECB52"
          ],
          "font": {
           "color": "#2a3f5f"
          },
          "geo": {
           "bgcolor": "white",
           "lakecolor": "white",
           "landcolor": "#E5ECF6",
           "showlakes": true,
           "showland": true,
           "subunitcolor": "white"
          },
          "hoverlabel": {
           "align": "left"
          },
          "hovermode": "closest",
          "mapbox": {
           "style": "light"
          },
          "paper_bgcolor": "white",
          "plot_bgcolor": "#E5ECF6",
          "polar": {
           "angularaxis": {
            "gridcolor": "white",
            "linecolor": "white",
            "ticks": ""
           },
           "bgcolor": "#E5ECF6",
           "radialaxis": {
            "gridcolor": "white",
            "linecolor": "white",
            "ticks": ""
           }
          },
          "scene": {
           "xaxis": {
            "backgroundcolor": "#E5ECF6",
            "gridcolor": "white",
            "gridwidth": 2,
            "linecolor": "white",
            "showbackground": true,
            "ticks": "",
            "zerolinecolor": "white"
           },
           "yaxis": {
            "backgroundcolor": "#E5ECF6",
            "gridcolor": "white",
            "gridwidth": 2,
            "linecolor": "white",
            "showbackground": true,
            "ticks": "",
            "zerolinecolor": "white"
           },
           "zaxis": {
            "backgroundcolor": "#E5ECF6",
            "gridcolor": "white",
            "gridwidth": 2,
            "linecolor": "white",
            "showbackground": true,
            "ticks": "",
            "zerolinecolor": "white"
           }
          },
          "shapedefaults": {
           "line": {
            "color": "#2a3f5f"
           }
          },
          "ternary": {
           "aaxis": {
            "gridcolor": "white",
            "linecolor": "white",
            "ticks": ""
           },
           "baxis": {
            "gridcolor": "white",
            "linecolor": "white",
            "ticks": ""
           },
           "bgcolor": "#E5ECF6",
           "caxis": {
            "gridcolor": "white",
            "linecolor": "white",
            "ticks": ""
           }
          },
          "title": {
           "x": 0.05
          },
          "xaxis": {
           "automargin": true,
           "gridcolor": "white",
           "linecolor": "white",
           "ticks": "",
           "title": {
            "standoff": 15
           },
           "zerolinecolor": "white",
           "zerolinewidth": 2
          },
          "yaxis": {
           "automargin": true,
           "gridcolor": "white",
           "linecolor": "white",
           "ticks": "",
           "title": {
            "standoff": 15
           },
           "zerolinecolor": "white",
           "zerolinewidth": 2
          }
         }
        },
        "title": {
         "text": " Average Evo-likelihood substitution ranks (Reversed)"
        },
        "xaxis": {
         "anchor": "y",
         "domain": [
          0,
          0.49
         ],
         "range": [
          0,
          20
         ],
         "title": {
          "text": "mean_sub_rank"
         },
         "type": "linear"
        },
        "xaxis2": {
         "anchor": "y2",
         "domain": [
          0.51,
          1
         ],
         "matches": "x",
         "range": [
          0,
          20
         ],
         "title": {
          "text": "mean_sub_rank"
         },
         "type": "linear"
        },
        "xaxis3": {
         "anchor": "y3",
         "domain": [
          0,
          0.49
         ],
         "matches": "x",
         "range": [
          0,
          20
         ],
         "showticklabels": false,
         "type": "linear"
        },
        "xaxis4": {
         "anchor": "y4",
         "domain": [
          0.51,
          1
         ],
         "matches": "x",
         "range": [
          0,
          20
         ],
         "showticklabels": false,
         "type": "linear"
        },
        "yaxis": {
         "anchor": "x",
         "domain": [
          0,
          0.46499999999999997
         ],
         "range": [
          0,
          45
         ],
         "title": {
          "text": "count"
         }
        },
        "yaxis2": {
         "anchor": "x2",
         "domain": [
          0,
          0.46499999999999997
         ],
         "matches": "y",
         "range": [
          0,
          45
         ],
         "showticklabels": false
        },
        "yaxis3": {
         "anchor": "x3",
         "domain": [
          0.5349999999999999,
          0.9999999999999999
         ],
         "matches": "y",
         "range": [
          0,
          45
         ],
         "title": {
          "text": "count"
         }
        },
        "yaxis4": {
         "anchor": "x4",
         "domain": [
          0.5349999999999999,
          0.9999999999999999
         ],
         "matches": "y",
         "range": [
          0,
          45
         ],
         "showticklabels": false
        }
       }
      },
      "image/png": "[encoded data removed]",
      "text/html": [
       "<div>                            <div id=\"58c75539-65c4-4c68-9e38-af05a87bc20d\" class=\"plotly-graph-div\" style=\"height:600px; width:100%;\"></div>            <script type=\"text/javascript\">                require([\"plotly\"], function(Plotly) {                    window.PLOTLYENV=window.PLOTLYENV || {};                                    if (document.getElementById(\"58c75539-65c4-4c68-9e38-af05a87bc20d\")) {                    Plotly.newPlot(                        \"58c75539-65c4-4c68-9e38-af05a87bc20d\",                        [{\"alignmentgroup\":\"True\",\"bingroup\":\"x\",\"hovertemplate\":\"model=ablang\\u003cbr\\u003emean_sub_rank=%{x}\\u003cbr\\u003ecount=%{y}\\u003cextra\\u003e\\u003c\\u002fextra\\u003e\",\"legendgroup\":\"\",\"marker\":{\"color\":\"#636efa\",\"pattern\":{\"shape\":\"\"}},\"name\":\"\",\"offsetgroup\":\"\",\"orientation\":\"v\",\"showlegend\":false,\"x\":[2.0,2.0,2.25,5.666666666666667,5.333333333333333,1.5,2.7142857142857144,2.090909090909091,3.5,1.3636363636363635,1.25,1.75,1.375,1.0,1.0,1.0,1.6923076923076923,3.083333333333333,2.1578947368421053,3.25,2.0,4.125,1.8125,1.25,3.1666666666666665,1.1538461538461535,1.75,2.5,1.8333333333333333,2.2857142857142856,1.5454545454545454,2.571428571428572,1.4285714285714286,2.6666666666666665,1.0,1.0,2.111111111111111,1.5,1.3333333333333333,2.0,2.0,1.9090909090909087,1.6666666666666667,2.333333333333333,1.0,2.875,1.0,1.875,3.0,1.5,1.5714285714285714,2.0,1.5,3.142857142857143,1.0,2.2857142857142856,1.6666666666666667,1.7142857142857142,2.642857142857143,3.2,1.625,2.6923076923076925,2.571428571428572,2.2222222222222223,4.166666666666667,1.8333333333333333,2.5,1.0,2.2142857142857144,2.2,1.0,4.0,3.0,3.0,1.25,3.0,1.875,2.0,2.142857142857143,4.277777777777778,4.375,4.222222222222222,2.333333333333333,1.6666666666666667,4.4,1.0,8.904255319148936,7.744897959183674,1.0,1.4,1.0,2.0,1.3333333333333333,1.0,1.0,1.0],\"xaxis\":\"x3\",\"yaxis\":\"y3\",\"type\":\"histogram\",\"xbins\":{\"size\":1}},{\"alignmentgroup\":\"True\",\"bingroup\":\"x\",\"hovertemplate\":\"model=protbert\\u003cbr\\u003emean_sub_rank=%{x}\\u003cbr\\u003ecount=%{y}\\u003cextra\\u003e\\u003c\\u002fextra\\u003e\",\"legendgroup\":\"\",\"marker\":{\"color\":\"#636efa\",\"pattern\":{\"shape\":\"\"}},\"name\":\"\",\"offsetgroup\":\"\",\"orientation\":\"v\",\"showlegend\":false,\"x\":[3.333333333333333,4.0,3.1875,7.333333333333333,7.0,2.5,2.7142857142857144,2.363636363636364,2.8,1.4545454545454546,1.375,3.083333333333333,2.0,7.0,1.0,3.1666666666666665,2.8461538461538463,3.5,2.526315789473684,3.625,2.0,5.25,3.1875,3.125,4.0,2.0,2.0,3.25,2.6666666666666665,5.0,2.4545454545454546,3.0,3.142857142857143,5.666666666666667,2.0,1.0,2.888888888888889,2.0,1.6666666666666667,2.6666666666666665,3.1666666666666665,3.272727272727273,2.0,3.111111111111111,1.0,4.125,1.5,4.25,4.4,2.0,2.142857142857143,3.6666666666666665,1.75,4.095238095238095,1.4,3.357142857142857,2.6666666666666665,2.142857142857143,3.142857142857143,4.0,1.75,4.076923076923077,3.571428571428572,2.888888888888889,4.083333333333333,3.6666666666666665,3.5,2.0,2.571428571428572,3.4,1.0,3.5,3.0,2.090909090909091,3.5,4.666666666666667,3.0,2.4285714285714284,2.9285714285714284,5.611111111111111,4.75,4.444444444444445,3.6666666666666665,2.5,4.4,1.6666666666666667,8.159574468085106,7.316326530612245,1.3333333333333333,2.2,2.0,2.0,1.3333333333333333,4.5,1.0,3.0],\"xaxis\":\"x4\",\"yaxis\":\"y4\",\"type\":\"histogram\",\"xbins\":{\"size\":1}},{\"alignmentgroup\":\"True\",\"bingroup\":\"x\",\"hovertemplate\":\"model=sapiens\\u003cbr\\u003emean_sub_rank=%{x}\\u003cbr\\u003ecount=%{y}\\u003cextra\\u003e\\u003c\\u002fextra\\u003e\",\"legendgroup\":\"\",\"marker\":{\"color\":\"#636efa\",\"pattern\":{\"shape\":\"\"}},\"name\":\"\",\"offsetgroup\":\"\",\"orientation\":\"v\",\"showlegend\":false,\"x\":[2.2777777777777777,2.75,2.6875,5.0,5.333333333333333,2.625,3.071428571428572,2.0,3.1,1.6363636363636365,1.375,2.5,1.875,1.0,1.0,1.3333333333333333,1.6153846153846154,2.583333333333333,2.5789473684210527,5.125,2.0,4.25,2.625,1.25,3.0,1.6923076923076923,3.0,2.75,2.833333333333333,2.571428571428572,2.272727272727273,2.2857142857142856,2.0,2.0,3.0,1.0,2.888888888888889,2.0,1.3333333333333333,2.333333333333333,3.0,2.636363636363636,2.6666666666666665,2.111111111111111,1.0,4.625,1.0,2.5,4.6,1.5,1.8571428571428568,2.888888888888889,1.5,3.7142857142857135,1.0,2.9285714285714284,1.6666666666666667,2.571428571428572,2.642857142857143,5.0,1.75,4.6923076923076925,3.571428571428572,2.6666666666666665,4.333333333333333,2.6666666666666665,1.8333333333333333,1.0,2.357142857142857,2.8,1.0,3.5,2.0,2.1818181818181817,2.0,2.8666666666666667,2.25,2.0,2.4285714285714284,4.388888888888889,5.625,5.333333333333333,3.888888888888889,1.8333333333333333,5.8,1.0,9.46808510638298,9.70408163265306,1.0,3.2,1.2,2.0,1.3333333333333333,2.0,1.0,1.0],\"xaxis\":\"x\",\"yaxis\":\"y\",\"type\":\"histogram\",\"xbins\":{\"size\":1}},{\"alignmentgroup\":\"True\",\"bingroup\":\"x\",\"hovertemplate\":\"model=ESM\\u003cbr\\u003emean_sub_rank=%{x}\\u003cbr\\u003ecount=%{y}\\u003cextra\\u003e\\u003c\\u002fextra\\u003e\",\"legendgroup\":\"\",\"marker\":{\"color\":\"#636efa\",\"pattern\":{\"shape\":\"\"}},\"name\":\"\",\"offsetgroup\":\"\",\"orientation\":\"v\",\"showlegend\":false,\"x\":[3.2777777777777777,3.9166666666666665,3.5625,6.333333333333333,7.0,2.5,4.142857142857143,3.8181818181818175,4.2,3.8181818181818175,2.75,4.666666666666667,3.125,6.333333333333333,2.0,4.166666666666667,3.3846153846153846,3.4166666666666665,3.1578947368421053,3.375,3.0,6.25,4.5625,3.375,4.333333333333333,3.0,3.0,3.25,4.333333333333333,5.714285714285714,2.272727272727273,3.4285714285714284,3.4285714285714284,4.666666666666667,2.0,1.0,3.6666666666666665,2.75,2.0,2.333333333333333,4.416666666666667,2.909090909090909,3.333333333333333,3.333333333333333,1.0,5.875,1.5,4.125,3.0,1.75,3.7142857142857135,3.6666666666666665,1.25,4.380952380952381,1.4,2.9285714285714284,2.333333333333333,2.571428571428572,3.2857142857142856,3.4,2.125,4.307692307692308,1.8571428571428568,4.555555555555555,5.083333333333333,4.0,4.0,2.0,2.5,4.0,1.5,3.75,4.0,2.5454545454545454,4.5,4.733333333333333,3.875,3.4285714285714284,3.642857142857143,6.111111111111111,5.375,4.777777777777778,4.222222222222222,3.333333333333333,4.4,2.333333333333333,8.680851063829786,7.530612244897959,1.6666666666666667,2.0,1.8,2.0,1.6666666666666667,4.0,1.0,9.0],\"xaxis\":\"x2\",\"yaxis\":\"y2\",\"type\":\"histogram\",\"xbins\":{\"size\":1}}],                        {\"template\":{\"data\":{\"histogram2dcontour\":[{\"type\":\"histogram2dcontour\",\"colorbar\":{\"outlinewidth\":0,\"ticks\":\"\"},\"colorscale\":[[0.0,\"#0d0887\"],[0.1111111111111111,\"#46039f\"],[0.2222222222222222,\"#7201a8\"],[0.3333333333333333,\"#9c179e\"],[0.4444444444444444,\"#bd3786\"],[0.5555555555555556,\"#d8576b\"],[0.6666666666666666,\"#ed7953\"],[0.7777777777777778,\"#fb9f3a\"],[0.8888888888888888,\"#fdca26\"],[1.0,\"#f0f921\"]]}],\"choropleth\":[{\"type\":\"choropleth\",\"colorbar\":{\"outlinewidth\":0,\"ticks\":\"\"}}],\"histogram2d\":[{\"type\":\"histogram2d\",\"colorbar\":{\"outlinewidth\":0,\"ticks\":\"\"},\"colorscale\":[[0.0,\"#0d0887\"],[0.1111111111111111,\"#46039f\"],[0.2222222222222222,\"#7201a8\"],[0.3333333333333333,\"#9c179e\"],[0.4444444444444444,\"#bd3786\"],[0.5555555555555556,\"#d8576b\"],[0.6666666666666666,\"#ed7953\"],[0.7777777777777778,\"#fb9f3a\"],[0.8888888888888888,\"#fdca26\"],[1.0,\"#f0f921\"]]}],\"heatmap\":[{\"type\":\"heatmap\",\"colorbar\":{\"outlinewidth\":0,\"ticks\":\"\"},\"colorscale\":[[0.0,\"#0d0887\"],[0.1111111111111111,\"#46039f\"],[0.2222222222222222,\"#7201a8\"],[0.3333333333333333,\"#9c179e\"],[0.4444444444444444,\"#bd3786\"],[0.5555555555555556,\"#d8576b\"],[0.6666666666666666,\"#ed7953\"],[0.7777777777777778,\"#fb9f3a\"],[0.8888888888888888,\"#fdca26\"],[1.0,\"#f0f921\"]]}],\"heatmapgl\":[{\"type\":\"heatmapgl\",\"colorbar\":{\"outlinewidth\":0,\"ticks\":\"\"},\"colorscale\":[[0.0,\"#0d0887\"],[0.1111111111111111,\"#46039f\"],[0.2222222222222222,\"#7201a8\"],[0.3333333333333333,\"#9c179e\"],[0.4444444444444444,\"#bd3786\"],[0.5555555555555556,\"#d8576b\"],[0.6666666666666666,\"#ed7953\"],[0.7777777777777778,\"#fb9f3a\"],[0.8888888888888888,\"#fdca26\"],[1.0,\"#f0f921\"]]}],\"contourcarpet\":[{\"type\":\"contourcarpet\",\"colorbar\":{\"outlinewidth\":0,\"ticks\":\"\"}}],\"contour\":[{\"type\":\"contour\",\"colorbar\":{\"outlinewidth\":0,\"ticks\":\"\"},\"colorscale\":[[0.0,\"#0d0887\"],[0.1111111111111111,\"#46039f\"],[0.2222222222222222,\"#7201a8\"],[0.3333333333333333,\"#9c179e\"],[0.4444444444444444,\"#bd3786\"],[0.5555555555555556,\"#d8576b\"],[0.6666666666666666,\"#ed7953\"],[0.7777777777777778,\"#fb9f3a\"],[0.8888888888888888,\"#fdca26\"],[1.0,\"#f0f921\"]]}],\"surface\":[{\"type\":\"surface\",\"colorbar\":{\"outlinewidth\":0,\"ticks\":\"\"},\"colorscale\":[[0.0,\"#0d0887\"],[0.1111111111111111,\"#46039f\"],[0.2222222222222222,\"#7201a8\"],[0.3333333333333333,\"#9c179e\"],[0.4444444444444444,\"#bd3786\"],[0.5555555555555556,\"#d8576b\"],[0.6666666666666666,\"#ed7953\"],[0.7777777777777778,\"#fb9f3a\"],[0.8888888888888888,\"#fdca26\"],[1.0,\"#f0f921\"]]}],\"mesh3d\":[{\"type\":\"mesh3d\",\"colorbar\":{\"outlinewidth\":0,\"ticks\":\"\"}}],\"scatter\":[{\"fillpattern\":{\"fillmode\":\"overlay\",\"size\":10,\"solidity\":0.2},\"type\":\"scatter\"}],\"parcoords\":[{\"type\":\"parcoords\",\"line\":{\"colorbar\":{\"outlinewidth\":0,\"ticks\":\"\"}}}],\"scatterpolargl\":[{\"type\":\"scatterpolargl\",\"marker\":{\"colorbar\":{\"outlinewidth\":0,\"ticks\":\"\"}}}],\"bar\":[{\"error_x\":{\"color\":\"#2a3f5f\"},\"error_y\":{\"color\":\"#2a3f5f\"},\"marker\":{\"line\":{\"color\":\"#E5ECF6\",\"width\":0.5},\"pattern\":{\"fillmode\":\"overlay\",\"size\":10,\"solidity\":0.2}},\"type\":\"bar\"}],\"scattergeo\":[{\"type\":\"scattergeo\",\"marker\":{\"colorbar\":{\"outlinewidth\":0,\"ticks\":\"\"}}}],\"scatterpolar\":[{\"type\":\"scatterpolar\",\"marker\":{\"colorbar\":{\"outlinewidth\":0,\"ticks\":\"\"}}}],\"histogram\":[{\"marker\":{\"pattern\":{\"fillmode\":\"overlay\",\"size\":10,\"solidity\":0.2}},\"type\":\"histogram\"}],\"scattergl\":[{\"type\":\"scattergl\",\"marker\":{\"colorbar\":{\"outlinewidth\":0,\"ticks\":\"\"}}}],\"scatter3d\":[{\"type\":\"scatter3d\",\"line\":{\"colorbar\":{\"outlinewidth\":0,\"ticks\":\"\"}},\"marker\":{\"colorbar\":{\"outlinewidth\":0,\"ticks\":\"\"}}}],\"scattermapbox\":[{\"type\":\"scattermapbox\",\"marker\":{\"colorbar\":{\"outlinewidth\":0,\"ticks\":\"\"}}}],\"scatterternary\":[{\"type\":\"scatterternary\",\"marker\":{\"colorbar\":{\"outlinewidth\":0,\"ticks\":\"\"}}}],\"scattercarpet\":[{\"type\":\"scattercarpet\",\"marker\":{\"colorbar\":{\"outlinewidth\":0,\"ticks\":\"\"}}}],\"carpet\":[{\"aaxis\":{\"endlinecolor\":\"#2a3f5f\",\"gridcolor\":\"white\",\"linecolor\":\"white\",\"minorgridcolor\":\"white\",\"startlinecolor\":\"#2a3f5f\"},\"baxis\":{\"endlinecolor\":\"#2a3f5f\",\"gridcolor\":\"white\",\"linecolor\":\"white\",\"minorgridcolor\":\"white\",\"startlinecolor\":\"#2a3f5f\"},\"type\":\"carpet\"}],\"table\":[{\"cells\":{\"fill\":{\"color\":\"#EBF0F8\"},\"line\":{\"color\":\"white\"}},\"header\":{\"fill\":{\"color\":\"#C8D4E3\"},\"line\":{\"color\":\"white\"}},\"type\":\"table\"}],\"barpolar\":[{\"marker\":{\"line\":{\"color\":\"#E5ECF6\",\"width\":0.5},\"pattern\":{\"fillmode\":\"overlay\",\"size\":10,\"solidity\":0.2}},\"type\":\"barpolar\"}],\"pie\":[{\"automargin\":true,\"type\":\"pie\"}]},\"layout\":{\"autotypenumbers\":\"strict\",\"colorway\":[\"#636efa\",\"#EF553B\",\"#00cc96\",\"#ab63fa\",\"#FFA15A\",\"#19d3f3\",\"#FF6692\",\"#B6E880\",\"#FF97FF\",\"#FECB52\"],\"font\":{\"color\":\"#2a3f5f\"},\"hovermode\":\"closest\",\"hoverlabel\":{\"align\":\"left\"},\"paper_bgcolor\":\"white\",\"plot_bgcolor\":\"#E5ECF6\",\"polar\":{\"bgcolor\":\"#E5ECF6\",\"angularaxis\":{\"gridcolor\":\"white\",\"linecolor\":\"white\",\"ticks\":\"\"},\"radialaxis\":{\"gridcolor\":\"white\",\"linecolor\":\"white\",\"ticks\":\"\"}},\"ternary\":{\"bgcolor\":\"#E5ECF6\",\"aaxis\":{\"gridcolor\":\"white\",\"linecolor\":\"white\",\"ticks\":\"\"},\"baxis\":{\"gridcolor\":\"white\",\"linecolor\":\"white\",\"ticks\":\"\"},\"caxis\":{\"gridcolor\":\"white\",\"linecolor\":\"white\",\"ticks\":\"\"}},\"coloraxis\":{\"colorbar\":{\"outlinewidth\":0,\"ticks\":\"\"}},\"colorscale\":{\"sequential\":[[0.0,\"#0d0887\"],[0.1111111111111111,\"#46039f\"],[0.2222222222222222,\"#7201a8\"],[0.3333333333333333,\"#9c179e\"],[0.4444444444444444,\"#bd3786\"],[0.5555555555555556,\"#d8576b\"],[0.6666666666666666,\"#ed7953\"],[0.7777777777777778,\"#fb9f3a\"],[0.8888888888888888,\"#fdca26\"],[1.0,\"#f0f921\"]],\"sequentialminus\":[[0.0,\"#0d0887\"],[0.1111111111111111,\"#46039f\"],[0.2222222222222222,\"#7201a8\"],[0.3333333333333333,\"#9c179e\"],[0.4444444444444444,\"#bd3786\"],[0.5555555555555556,\"#d8576b\"],[0.6666666666666666,\"#ed7953\"],[0.7777777777777778,\"#fb9f3a\"],[0.8888888888888888,\"#fdca26\"],[1.0,\"#f0f921\"]],\"diverging\":[[0,\"#8e0152\"],[0.1,\"#c51b7d\"],[0.2,\"#de77ae\"],[0.3,\"#f1b6da\"],[0.4,\"#fde0ef\"],[0.5,\"#f7f7f7\"],[0.6,\"#e6f5d0\"],[0.7,\"#b8e186\"],[0.8,\"#7fbc41\"],[0.9,\"#4d9221\"],[1,\"#276419\"]]},\"xaxis\":{\"gridcolor\":\"white\",\"linecolor\":\"white\",\"ticks\":\"\",\"title\":{\"standoff\":15},\"zerolinecolor\":\"white\",\"automargin\":true,\"zerolinewidth\":2},\"yaxis\":{\"gridcolor\":\"white\",\"linecolor\":\"white\",\"ticks\":\"\",\"title\":{\"standoff\":15},\"zerolinecolor\":\"white\",\"automargin\":true,\"zerolinewidth\":2},\"scene\":{\"xaxis\":{\"backgroundcolor\":\"#E5ECF6\",\"gridcolor\":\"white\",\"linecolor\":\"white\",\"showbackground\":true,\"ticks\":\"\",\"zerolinecolor\":\"white\",\"gridwidth\":2},\"yaxis\":{\"backgroundcolor\":\"#E5ECF6\",\"gridcolor\":\"white\",\"linecolor\":\"white\",\"showbackground\":true,\"ticks\":\"\",\"zerolinecolor\":\"white\",\"gridwidth\":2},\"zaxis\":{\"backgroundcolor\":\"#E5ECF6\",\"gridcolor\":\"white\",\"linecolor\":\"white\",\"showbackground\":true,\"ticks\":\"\",\"zerolinecolor\":\"white\",\"gridwidth\":2}},\"shapedefaults\":{\"line\":{\"color\":\"#2a3f5f\"}},\"annotationdefaults\":{\"arrowcolor\":\"#2a3f5f\",\"arrowhead\":0,\"arrowwidth\":1},\"geo\":{\"bgcolor\":\"white\",\"landcolor\":\"#E5ECF6\",\"subunitcolor\":\"white\",\"showland\":true,\"showlakes\":true,\"lakecolor\":\"white\"},\"title\":{\"x\":0.05},\"mapbox\":{\"style\":\"light\"}}},\"xaxis\":{\"anchor\":\"y\",\"domain\":[0.0,0.49],\"title\":{\"text\":\"mean_sub_rank\"},\"range\":[0,20]},\"yaxis\":{\"anchor\":\"x\",\"domain\":[0.0,0.46499999999999997],\"title\":{\"text\":\"count\"},\"range\":[0,45]},\"xaxis2\":{\"anchor\":\"y2\",\"domain\":[0.51,1.0],\"matches\":\"x\",\"title\":{\"text\":\"mean_sub_rank\"},\"range\":[0,20]},\"yaxis2\":{\"anchor\":\"x2\",\"domain\":[0.0,0.46499999999999997],\"matches\":\"y\",\"showticklabels\":false,\"range\":[0,45]},\"xaxis3\":{\"anchor\":\"y3\",\"domain\":[0.0,0.49],\"matches\":\"x\",\"showticklabels\":false,\"range\":[0,20]},\"yaxis3\":{\"anchor\":\"x3\",\"domain\":[0.5349999999999999,0.9999999999999999],\"matches\":\"y\",\"title\":{\"text\":\"count\"},\"range\":[0,45]},\"xaxis4\":{\"anchor\":\"y4\",\"domain\":[0.51,1.0],\"matches\":\"x\",\"showticklabels\":false,\"range\":[0,20]},\"yaxis4\":{\"anchor\":\"x4\",\"domain\":[0.5349999999999999,0.9999999999999999],\"matches\":\"y\",\"showticklabels\":false,\"range\":[0,45]},\"annotations\":[{\"font\":{},\"showarrow\":false,\"text\":\"model=sapiens\",\"x\":0.245,\"xanchor\":\"center\",\"xref\":\"paper\",\"y\":0.46499999999999997,\"yanchor\":\"bottom\",\"yref\":\"paper\"},{\"font\":{},\"showarrow\":false,\"text\":\"model=ESM\",\"x\":0.755,\"xanchor\":\"center\",\"xref\":\"paper\",\"y\":0.46499999999999997,\"yanchor\":\"bottom\",\"yref\":\"paper\"},{\"font\":{},\"showarrow\":false,\"text\":\"model=ablang\",\"x\":0.245,\"xanchor\":\"center\",\"xref\":\"paper\",\"y\":0.9999999999999999,\"yanchor\":\"bottom\",\"yref\":\"paper\"},{\"font\":{},\"showarrow\":false,\"text\":\"model=protbert\",\"x\":0.755,\"xanchor\":\"center\",\"xref\":\"paper\",\"y\":0.9999999999999999,\"yanchor\":\"bottom\",\"yref\":\"paper\"}],\"legend\":{\"tracegroupgap\":0},\"title\":{\"text\":\" Average Evo-likelihood substitution ranks (Reversed)\"},\"barmode\":\"relative\",\"font\":{\"size\":23},\"height\":600},                        {\"responsive\": true}                    ).then(function(){\n",
       "                            \n",
       "var gd = document.getElementById('58c75539-65c4-4c68-9e38-af05a87bc20d');\n",
       "var x = new MutationObserver(function (mutations, observer) {{\n",
       "        var display = window.getComputedStyle(gd).display;\n",
       "        if (!display || display === 'none') {{\n",
       "            console.log([gd, 'removed!']);\n",
       "            Plotly.purge(gd);\n",
       "            observer.disconnect();\n",
       "        }}\n",
       "}});\n",
       "\n",
       "// Listen for the removal of the full notebook cells\n",
       "var notebookContainer = gd.closest('#notebook-container');\n",
       "if (notebookContainer) {{\n",
       "    x.observe(notebookContainer, {childList: true});\n",
       "}}\n",
       "\n",
       "// Listen for the clearing of the current output cell\n",
       "var outputEl = gd.closest('.output');\n",
       "if (outputEl) {{\n",
       "    x.observe(outputEl, {childList: true});\n",
       "}}\n",
       "\n",
       "                        })                };                });            </script>        </div>"
      ]
     },
     "metadata": {},
     "output_type": "display_data"
    }
   ],
   "source": [
    "output_table_subset = output_table#.loc[(output_table[\"n_subs\"] == 1),:]\n",
    "\n",
    "fig = px.histogram(\n",
    "    data_frame = output_table_subset,\n",
    "    x = \"mean_sub_rank\",\n",
    "    facet_col = \"model\",\n",
    "    facet_col_wrap=2,\n",
    "    orientation = \"v\",\n",
    "    title=f' Average Evo-likelihood substitution ranks (Reversed)',\n",
    ")\n",
    "\n",
    "fig.update_traces(xbins_size=1)\n",
    "fig.update_layout(height = 600, font_size = 23)\n",
    "fig.update_xaxes(range=[0, 20])\n",
    "fig.update_yaxes(range=[0, 45])\n",
    "\n",
    "fig.show()"
   ]
  },
  {
   "cell_type": "markdown",
   "id": "a5eb0aff-3a67-4a30-9a5d-d9f41130e7a6",
   "metadata": {},
   "source": [
    "#### Unmutated residues in mutating positions"
   ]
  },
  {
   "cell_type": "code",
   "execution_count": 44,
   "id": "72e77a98-cae0-4e30-8449-d313dd544d24",
   "metadata": {
    "scrolled": true
   },
   "outputs": [
    {
     "data": {
      "application/vnd.plotly.v1+json": {
       "config": {
        "plotlyServerURL": "https://plot.ly"
       },
       "data": [
        {
         "alignmentgroup": "True",
         "bingroup": "x",
         "hovertemplate": "model=ablang<br>mean_unmutated_rank=%{x}<br>count=%{y}<extra></extra>",
         "legendgroup": "",
         "marker": {
          "color": "#636efa",
          "pattern": {
           "shape": ""
          }
         },
         "name": "",
         "offsetgroup": "",
         "orientation": "v",
         "showlegend": false,
         "type": "histogram",
         "x": [
          1.7222222222222223,
          2.083333333333333,
          2,
          4.666666666666667,
          4.666666666666667,
          1.75,
          2.357142857142857,
          2.090909090909091,
          3.3,
          1.2727272727272727,
          1,
          2.333333333333333,
          2.125,
          1,
          1,
          1,
          1.3076923076923077,
          2.6666666666666665,
          2.210526315789474,
          2.375,
          2,
          3.5,
          2.125,
          1.5,
          3,
          1.0769230769230769,
          1.75,
          3,
          2,
          2.4285714285714284,
          1.5454545454545454,
          3.142857142857143,
          1.5714285714285714,
          2,
          1,
          1,
          2,
          1.25,
          1.3333333333333333,
          2,
          2.1666666666666665,
          2.1818181818181817,
          1.6666666666666667,
          2.111111111111111,
          1,
          4.375,
          1,
          1.625,
          3.2,
          1.5,
          1.5714285714285714,
          1.8888888888888888,
          1,
          3.1904761904761907,
          1,
          2.142857142857143,
          1.6666666666666667,
          2,
          3.071428571428572,
          2.6,
          1.5,
          2.230769230769231,
          2.857142857142857,
          2.6666666666666665,
          4.5,
          2,
          1.3333333333333333,
          1,
          1.6428571428571428,
          1.8,
          1,
          3.75,
          3,
          1.818181818181818,
          1.25,
          2.7333333333333334,
          1.75,
          2,
          2.2142857142857144,
          3.6666666666666665,
          3.75,
          4.444444444444445,
          2.7777777777777777,
          1.3333333333333333,
          4.8,
          1,
          1.053191489361702,
          1.4081632653061225,
          1,
          1.4,
          1,
          6,
          1.3333333333333333,
          1,
          1,
          1
         ],
         "xaxis": "x3",
         "xbins": {
          "size": 1
         },
         "yaxis": "y3"
        },
        {
         "alignmentgroup": "True",
         "bingroup": "x",
         "hovertemplate": "model=protbert<br>mean_unmutated_rank=%{x}<br>count=%{y}<extra></extra>",
         "legendgroup": "",
         "marker": {
          "color": "#636efa",
          "pattern": {
           "shape": ""
          }
         },
         "name": "",
         "offsetgroup": "",
         "orientation": "v",
         "showlegend": false,
         "type": "histogram",
         "x": [
          1.2777777777777777,
          1.5,
          1.3125,
          1.3333333333333333,
          1.3333333333333333,
          1,
          1.0714285714285714,
          1.0909090909090908,
          1.1,
          1.0909090909090908,
          1,
          1.5833333333333333,
          1.25,
          1.6666666666666667,
          1,
          1,
          1,
          1.0833333333333333,
          1.263157894736842,
          1.375,
          1.5,
          1,
          1.375,
          1,
          1.6666666666666667,
          1.0769230769230769,
          1,
          1,
          1.3333333333333333,
          2.142857142857143,
          1,
          1.1428571428571428,
          1.1428571428571428,
          1,
          1,
          1,
          1.1111111111111112,
          1,
          1,
          1.3333333333333333,
          1.25,
          1.181818181818182,
          1,
          1.1111111111111112,
          1,
          1.375,
          1,
          1.125,
          1.6,
          1.25,
          1.1428571428571428,
          1.1111111111111112,
          1,
          1.4761904761904765,
          1,
          1.0714285714285714,
          1,
          1.1428571428571428,
          1.1428571428571428,
          1.6,
          1.125,
          1.4615384615384617,
          1,
          1.4444444444444444,
          1,
          1.5,
          1.1666666666666667,
          1,
          1.0714285714285714,
          1.6,
          1,
          1.25,
          1,
          1,
          1,
          1.3333333333333333,
          1.125,
          1.2857142857142858,
          1.0714285714285714,
          1.5,
          1.25,
          1.4444444444444444,
          1.4444444444444444,
          1.1666666666666667,
          1.2,
          1,
          1.127659574468085,
          1,
          1,
          1.2,
          1,
          1,
          1.3333333333333333,
          1,
          1,
          1
         ],
         "xaxis": "x4",
         "xbins": {
          "size": 1
         },
         "yaxis": "y4"
        },
        {
         "alignmentgroup": "True",
         "bingroup": "x",
         "hovertemplate": "model=sapiens<br>mean_unmutated_rank=%{x}<br>count=%{y}<extra></extra>",
         "legendgroup": "",
         "marker": {
          "color": "#636efa",
          "pattern": {
           "shape": ""
          }
         },
         "name": "",
         "offsetgroup": "",
         "orientation": "v",
         "showlegend": false,
         "type": "histogram",
         "x": [
          1.4444444444444444,
          1.6666666666666667,
          1.3125,
          1.3333333333333333,
          1.3333333333333333,
          1.125,
          1.1428571428571428,
          1.2727272727272727,
          1.2,
          1.0909090909090908,
          1,
          1.3333333333333333,
          1.375,
          1,
          1,
          1,
          1,
          1.4166666666666667,
          1.4210526315789471,
          1.375,
          1.5,
          1.125,
          1.5,
          1.25,
          1.6666666666666667,
          1.0769230769230769,
          1.25,
          1.25,
          1.5,
          1.4285714285714286,
          1.0909090909090908,
          1.2857142857142858,
          1.1428571428571428,
          1,
          1,
          1,
          1.3333333333333333,
          1,
          1.3333333333333333,
          1.3333333333333333,
          1.5,
          1.3636363636363635,
          1.3333333333333333,
          1.3333333333333333,
          1,
          1.875,
          1,
          1.25,
          1.4,
          1.25,
          1.2857142857142858,
          1.5555555555555556,
          1,
          1.6666666666666667,
          1,
          1.2142857142857142,
          1,
          1.4285714285714286,
          1.2142857142857142,
          1.6,
          1,
          1.6923076923076923,
          1,
          1.6666666666666667,
          1.0833333333333333,
          1.3333333333333333,
          1,
          1,
          1.1428571428571428,
          1.4,
          1,
          1.5,
          1,
          1.181818181818182,
          1,
          1.5333333333333334,
          1.25,
          1.4285714285714286,
          1.2857142857142858,
          1.5,
          1.75,
          2,
          1.6666666666666667,
          1.1666666666666667,
          2.2,
          1,
          1.0106382978723405,
          1.010204081632653,
          1,
          1.2,
          1,
          1,
          1.3333333333333333,
          1,
          1,
          1
         ],
         "xaxis": "x",
         "xbins": {
          "size": 1
         },
         "yaxis": "y"
        },
        {
         "alignmentgroup": "True",
         "bingroup": "x",
         "hovertemplate": "model=ESM<br>mean_unmutated_rank=%{x}<br>count=%{y}<extra></extra>",
         "legendgroup": "",
         "marker": {
          "color": "#636efa",
          "pattern": {
           "shape": ""
          }
         },
         "name": "",
         "offsetgroup": "",
         "orientation": "v",
         "showlegend": false,
         "type": "histogram",
         "x": [
          1.1111111111111112,
          1.25,
          1.25,
          1.3333333333333333,
          1.3333333333333333,
          1,
          1.0714285714285714,
          1.0909090909090908,
          1.3,
          1.5454545454545454,
          1,
          1.5833333333333333,
          1.125,
          2,
          1,
          1,
          1,
          1.0833333333333333,
          1.3157894736842106,
          1.25,
          1,
          1.125,
          1.4375,
          1.125,
          1.8333333333333333,
          1.0769230769230769,
          1.25,
          1,
          1.3333333333333333,
          1.5714285714285714,
          1,
          1.4285714285714286,
          1.2857142857142858,
          1,
          1,
          1,
          1.1111111111111112,
          1,
          1,
          1.3333333333333333,
          1.5,
          1.0909090909090908,
          1.3333333333333333,
          1.1111111111111112,
          1,
          3.125,
          1,
          1.125,
          1.2,
          1,
          1.2857142857142858,
          1,
          1,
          1.238095238095238,
          1,
          1.0714285714285714,
          1,
          1.1428571428571428,
          1.0714285714285714,
          1.2,
          1,
          1.8461538461538465,
          1,
          1.5555555555555556,
          1.4166666666666667,
          1.8333333333333333,
          1.3333333333333333,
          1,
          1.0714285714285714,
          2,
          1,
          1.5,
          1,
          1.0909090909090908,
          1,
          1.3333333333333333,
          1.125,
          1.1428571428571428,
          1.1428571428571428,
          1.3888888888888888,
          1.75,
          1.3333333333333333,
          1.5555555555555556,
          1.1666666666666667,
          1.2,
          1,
          1.127659574468085,
          1.020408163265306,
          1,
          1.4,
          1,
          1,
          1.3333333333333333,
          1,
          1,
          2
         ],
         "xaxis": "x2",
         "xbins": {
          "size": 1
         },
         "yaxis": "y2"
        }
       ],
       "layout": {
        "annotations": [
         {
          "font": {},
          "showarrow": false,
          "text": "model=sapiens",
          "x": 0.245,
          "xanchor": "center",
          "xref": "paper",
          "y": 0.46499999999999997,
          "yanchor": "bottom",
          "yref": "paper"
         },
         {
          "font": {},
          "showarrow": false,
          "text": "model=ESM",
          "x": 0.755,
          "xanchor": "center",
          "xref": "paper",
          "y": 0.46499999999999997,
          "yanchor": "bottom",
          "yref": "paper"
         },
         {
          "font": {},
          "showarrow": false,
          "text": "model=ablang",
          "x": 0.245,
          "xanchor": "center",
          "xref": "paper",
          "y": 0.9999999999999999,
          "yanchor": "bottom",
          "yref": "paper"
         },
         {
          "font": {},
          "showarrow": false,
          "text": "model=protbert",
          "x": 0.755,
          "xanchor": "center",
          "xref": "paper",
          "y": 0.9999999999999999,
          "yanchor": "bottom",
          "yref": "paper"
         }
        ],
        "autosize": true,
        "barmode": "relative",
        "font": {
         "size": 22
        },
        "legend": {
         "tracegroupgap": 0
        },
        "template": {
         "data": {
          "bar": [
           {
            "error_x": {
             "color": "#2a3f5f"
            },
            "error_y": {
             "color": "#2a3f5f"
            },
            "marker": {
             "line": {
              "color": "#E5ECF6",
              "width": 0.5
             },
             "pattern": {
              "fillmode": "overlay",
              "size": 10,
              "solidity": 0.2
             }
            },
            "type": "bar"
           }
          ],
          "barpolar": [
           {
            "marker": {
             "line": {
              "color": "#E5ECF6",
              "width": 0.5
             },
             "pattern": {
              "fillmode": "overlay",
              "size": 10,
              "solidity": 0.2
             }
            },
            "type": "barpolar"
           }
          ],
          "carpet": [
           {
            "aaxis": {
             "endlinecolor": "#2a3f5f",
             "gridcolor": "white",
             "linecolor": "white",
             "minorgridcolor": "white",
             "startlinecolor": "#2a3f5f"
            },
            "baxis": {
             "endlinecolor": "#2a3f5f",
             "gridcolor": "white",
             "linecolor": "white",
             "minorgridcolor": "white",
             "startlinecolor": "#2a3f5f"
            },
            "type": "carpet"
           }
          ],
          "choropleth": [
           {
            "colorbar": {
             "outlinewidth": 0,
             "ticks": ""
            },
            "type": "choropleth"
           }
          ],
          "contour": [
           {
            "colorbar": {
             "outlinewidth": 0,
             "ticks": ""
            },
            "colorscale": [
             [
              0,
              "#0d0887"
             ],
             [
              0.1111111111111111,
              "#46039f"
             ],
             [
              0.2222222222222222,
              "#7201a8"
             ],
             [
              0.3333333333333333,
              "#9c179e"
             ],
             [
              0.4444444444444444,
              "#bd3786"
             ],
             [
              0.5555555555555556,
              "#d8576b"
             ],
             [
              0.6666666666666666,
              "#ed7953"
             ],
             [
              0.7777777777777778,
              "#fb9f3a"
             ],
             [
              0.8888888888888888,
              "#fdca26"
             ],
             [
              1,
              "#f0f921"
             ]
            ],
            "type": "contour"
           }
          ],
          "contourcarpet": [
           {
            "colorbar": {
             "outlinewidth": 0,
             "ticks": ""
            },
            "type": "contourcarpet"
           }
          ],
          "heatmap": [
           {
            "colorbar": {
             "outlinewidth": 0,
             "ticks": ""
            },
            "colorscale": [
             [
              0,
              "#0d0887"
             ],
             [
              0.1111111111111111,
              "#46039f"
             ],
             [
              0.2222222222222222,
              "#7201a8"
             ],
             [
              0.3333333333333333,
              "#9c179e"
             ],
             [
              0.4444444444444444,
              "#bd3786"
             ],
             [
              0.5555555555555556,
              "#d8576b"
             ],
             [
              0.6666666666666666,
              "#ed7953"
             ],
             [
              0.7777777777777778,
              "#fb9f3a"
             ],
             [
              0.8888888888888888,
              "#fdca26"
             ],
             [
              1,
              "#f0f921"
             ]
            ],
            "type": "heatmap"
           }
          ],
          "heatmapgl": [
           {
            "colorbar": {
             "outlinewidth": 0,
             "ticks": ""
            },
            "colorscale": [
             [
              0,
              "#0d0887"
             ],
             [
              0.1111111111111111,
              "#46039f"
             ],
             [
              0.2222222222222222,
              "#7201a8"
             ],
             [
              0.3333333333333333,
              "#9c179e"
             ],
             [
              0.4444444444444444,
              "#bd3786"
             ],
             [
              0.5555555555555556,
              "#d8576b"
             ],
             [
              0.6666666666666666,
              "#ed7953"
             ],
             [
              0.7777777777777778,
              "#fb9f3a"
             ],
             [
              0.8888888888888888,
              "#fdca26"
             ],
             [
              1,
              "#f0f921"
             ]
            ],
            "type": "heatmapgl"
           }
          ],
          "histogram": [
           {
            "marker": {
             "pattern": {
              "fillmode": "overlay",
              "size": 10,
              "solidity": 0.2
             }
            },
            "type": "histogram"
           }
          ],
          "histogram2d": [
           {
            "colorbar": {
             "outlinewidth": 0,
             "ticks": ""
            },
            "colorscale": [
             [
              0,
              "#0d0887"
             ],
             [
              0.1111111111111111,
              "#46039f"
             ],
             [
              0.2222222222222222,
              "#7201a8"
             ],
             [
              0.3333333333333333,
              "#9c179e"
             ],
             [
              0.4444444444444444,
              "#bd3786"
             ],
             [
              0.5555555555555556,
              "#d8576b"
             ],
             [
              0.6666666666666666,
              "#ed7953"
             ],
             [
              0.7777777777777778,
              "#fb9f3a"
             ],
             [
              0.8888888888888888,
              "#fdca26"
             ],
             [
              1,
              "#f0f921"
             ]
            ],
            "type": "histogram2d"
           }
          ],
          "histogram2dcontour": [
           {
            "colorbar": {
             "outlinewidth": 0,
             "ticks": ""
            },
            "colorscale": [
             [
              0,
              "#0d0887"
             ],
             [
              0.1111111111111111,
              "#46039f"
             ],
             [
              0.2222222222222222,
              "#7201a8"
             ],
             [
              0.3333333333333333,
              "#9c179e"
             ],
             [
              0.4444444444444444,
              "#bd3786"
             ],
             [
              0.5555555555555556,
              "#d8576b"
             ],
             [
              0.6666666666666666,
              "#ed7953"
             ],
             [
              0.7777777777777778,
              "#fb9f3a"
             ],
             [
              0.8888888888888888,
              "#fdca26"
             ],
             [
              1,
              "#f0f921"
             ]
            ],
            "type": "histogram2dcontour"
           }
          ],
          "mesh3d": [
           {
            "colorbar": {
             "outlinewidth": 0,
             "ticks": ""
            },
            "type": "mesh3d"
           }
          ],
          "parcoords": [
           {
            "line": {
             "colorbar": {
              "outlinewidth": 0,
              "ticks": ""
             }
            },
            "type": "parcoords"
           }
          ],
          "pie": [
           {
            "automargin": true,
            "type": "pie"
           }
          ],
          "scatter": [
           {
            "fillpattern": {
             "fillmode": "overlay",
             "size": 10,
             "solidity": 0.2
            },
            "type": "scatter"
           }
          ],
          "scatter3d": [
           {
            "line": {
             "colorbar": {
              "outlinewidth": 0,
              "ticks": ""
             }
            },
            "marker": {
             "colorbar": {
              "outlinewidth": 0,
              "ticks": ""
             }
            },
            "type": "scatter3d"
           }
          ],
          "scattercarpet": [
           {
            "marker": {
             "colorbar": {
              "outlinewidth": 0,
              "ticks": ""
             }
            },
            "type": "scattercarpet"
           }
          ],
          "scattergeo": [
           {
            "marker": {
             "colorbar": {
              "outlinewidth": 0,
              "ticks": ""
             }
            },
            "type": "scattergeo"
           }
          ],
          "scattergl": [
           {
            "marker": {
             "colorbar": {
              "outlinewidth": 0,
              "ticks": ""
             }
            },
            "type": "scattergl"
           }
          ],
          "scattermapbox": [
           {
            "marker": {
             "colorbar": {
              "outlinewidth": 0,
              "ticks": ""
             }
            },
            "type": "scattermapbox"
           }
          ],
          "scatterpolar": [
           {
            "marker": {
             "colorbar": {
              "outlinewidth": 0,
              "ticks": ""
             }
            },
            "type": "scatterpolar"
           }
          ],
          "scatterpolargl": [
           {
            "marker": {
             "colorbar": {
              "outlinewidth": 0,
              "ticks": ""
             }
            },
            "type": "scatterpolargl"
           }
          ],
          "scatterternary": [
           {
            "marker": {
             "colorbar": {
              "outlinewidth": 0,
              "ticks": ""
             }
            },
            "type": "scatterternary"
           }
          ],
          "surface": [
           {
            "colorbar": {
             "outlinewidth": 0,
             "ticks": ""
            },
            "colorscale": [
             [
              0,
              "#0d0887"
             ],
             [
              0.1111111111111111,
              "#46039f"
             ],
             [
              0.2222222222222222,
              "#7201a8"
             ],
             [
              0.3333333333333333,
              "#9c179e"
             ],
             [
              0.4444444444444444,
              "#bd3786"
             ],
             [
              0.5555555555555556,
              "#d8576b"
             ],
             [
              0.6666666666666666,
              "#ed7953"
             ],
             [
              0.7777777777777778,
              "#fb9f3a"
             ],
             [
              0.8888888888888888,
              "#fdca26"
             ],
             [
              1,
              "#f0f921"
             ]
            ],
            "type": "surface"
           }
          ],
          "table": [
           {
            "cells": {
             "fill": {
              "color": "#EBF0F8"
             },
             "line": {
              "color": "white"
             }
            },
            "header": {
             "fill": {
              "color": "#C8D4E3"
             },
             "line": {
              "color": "white"
             }
            },
            "type": "table"
           }
          ]
         },
         "layout": {
          "annotationdefaults": {
           "arrowcolor": "#2a3f5f",
           "arrowhead": 0,
           "arrowwidth": 1
          },
          "autotypenumbers": "strict",
          "coloraxis": {
           "colorbar": {
            "outlinewidth": 0,
            "ticks": ""
           }
          },
          "colorscale": {
           "diverging": [
            [
             0,
             "#8e0152"
            ],
            [
             0.1,
             "#c51b7d"
            ],
            [
             0.2,
             "#de77ae"
            ],
            [
             0.3,
             "#f1b6da"
            ],
            [
             0.4,
             "#fde0ef"
            ],
            [
             0.5,
             "#f7f7f7"
            ],
            [
             0.6,
             "#e6f5d0"
            ],
            [
             0.7,
             "#b8e186"
            ],
            [
             0.8,
             "#7fbc41"
            ],
            [
             0.9,
             "#4d9221"
            ],
            [
             1,
             "#276419"
            ]
           ],
           "sequential": [
            [
             0,
             "#0d0887"
            ],
            [
             0.1111111111111111,
             "#46039f"
            ],
            [
             0.2222222222222222,
             "#7201a8"
            ],
            [
             0.3333333333333333,
             "#9c179e"
            ],
            [
             0.4444444444444444,
             "#bd3786"
            ],
            [
             0.5555555555555556,
             "#d8576b"
            ],
            [
             0.6666666666666666,
             "#ed7953"
            ],
            [
             0.7777777777777778,
             "#fb9f3a"
            ],
            [
             0.8888888888888888,
             "#fdca26"
            ],
            [
             1,
             "#f0f921"
            ]
           ],
           "sequentialminus": [
            [
             0,
             "#0d0887"
            ],
            [
             0.1111111111111111,
             "#46039f"
            ],
            [
             0.2222222222222222,
             "#7201a8"
            ],
            [
             0.3333333333333333,
             "#9c179e"
            ],
            [
             0.4444444444444444,
             "#bd3786"
            ],
            [
             0.5555555555555556,
             "#d8576b"
            ],
            [
             0.6666666666666666,
             "#ed7953"
            ],
            [
             0.7777777777777778,
             "#fb9f3a"
            ],
            [
             0.8888888888888888,
             "#fdca26"
            ],
            [
             1,
             "#f0f921"
            ]
           ]
          },
          "colorway": [
           "#636efa",
           "#EF553B",
           "#00cc96",
           "#ab63fa",
           "#FFA15A",
           "#19d3f3",
           "#FF6692",
           "#B6E880",
           "#FF97FF",
           "#FECB52"
          ],
          "font": {
           "color": "#2a3f5f"
          },
          "geo": {
           "bgcolor": "white",
           "lakecolor": "white",
           "landcolor": "#E5ECF6",
           "showlakes": true,
           "showland": true,
           "subunitcolor": "white"
          },
          "hoverlabel": {
           "align": "left"
          },
          "hovermode": "closest",
          "mapbox": {
           "style": "light"
          },
          "paper_bgcolor": "white",
          "plot_bgcolor": "#E5ECF6",
          "polar": {
           "angularaxis": {
            "gridcolor": "white",
            "linecolor": "white",
            "ticks": ""
           },
           "bgcolor": "#E5ECF6",
           "radialaxis": {
            "gridcolor": "white",
            "linecolor": "white",
            "ticks": ""
           }
          },
          "scene": {
           "xaxis": {
            "backgroundcolor": "#E5ECF6",
            "gridcolor": "white",
            "gridwidth": 2,
            "linecolor": "white",
            "showbackground": true,
            "ticks": "",
            "zerolinecolor": "white"
           },
           "yaxis": {
            "backgroundcolor": "#E5ECF6",
            "gridcolor": "white",
            "gridwidth": 2,
            "linecolor": "white",
            "showbackground": true,
            "ticks": "",
            "zerolinecolor": "white"
           },
           "zaxis": {
            "backgroundcolor": "#E5ECF6",
            "gridcolor": "white",
            "gridwidth": 2,
            "linecolor": "white",
            "showbackground": true,
            "ticks": "",
            "zerolinecolor": "white"
           }
          },
          "shapedefaults": {
           "line": {
            "color": "#2a3f5f"
           }
          },
          "ternary": {
           "aaxis": {
            "gridcolor": "white",
            "linecolor": "white",
            "ticks": ""
           },
           "baxis": {
            "gridcolor": "white",
            "linecolor": "white",
            "ticks": ""
           },
           "bgcolor": "#E5ECF6",
           "caxis": {
            "gridcolor": "white",
            "linecolor": "white",
            "ticks": ""
           }
          },
          "title": {
           "x": 0.05
          },
          "xaxis": {
           "automargin": true,
           "gridcolor": "white",
           "linecolor": "white",
           "ticks": "",
           "title": {
            "standoff": 15
           },
           "zerolinecolor": "white",
           "zerolinewidth": 2
          },
          "yaxis": {
           "automargin": true,
           "gridcolor": "white",
           "linecolor": "white",
           "ticks": "",
           "title": {
            "standoff": 15
           },
           "zerolinecolor": "white",
           "zerolinewidth": 2
          }
         }
        },
        "title": {
         "text": "Average evo-likelihood original residue rank (mutating positions)"
        },
        "xaxis": {
         "anchor": "y",
         "domain": [
          0,
          0.49
         ],
         "range": [
          0,
          20
         ],
         "title": {
          "text": "mean_unmutated_rank"
         },
         "type": "linear"
        },
        "xaxis2": {
         "anchor": "y2",
         "domain": [
          0.51,
          1
         ],
         "matches": "x",
         "range": [
          0,
          20
         ],
         "title": {
          "text": "mean_unmutated_rank"
         },
         "type": "linear"
        },
        "xaxis3": {
         "anchor": "y3",
         "domain": [
          0,
          0.49
         ],
         "matches": "x",
         "range": [
          0,
          20
         ],
         "showticklabels": false,
         "type": "linear"
        },
        "xaxis4": {
         "anchor": "y4",
         "domain": [
          0.51,
          1
         ],
         "matches": "x",
         "range": [
          0,
          20
         ],
         "showticklabels": false,
         "type": "linear"
        },
        "yaxis": {
         "anchor": "x",
         "domain": [
          0,
          0.46499999999999997
         ],
         "range": [
          0,
          100
         ],
         "title": {
          "text": "count"
         }
        },
        "yaxis2": {
         "anchor": "x2",
         "domain": [
          0,
          0.46499999999999997
         ],
         "matches": "y",
         "range": [
          0,
          100
         ],
         "showticklabels": false
        },
        "yaxis3": {
         "anchor": "x3",
         "domain": [
          0.5349999999999999,
          0.9999999999999999
         ],
         "matches": "y",
         "range": [
          0,
          100
         ],
         "title": {
          "text": "count"
         }
        },
        "yaxis4": {
         "anchor": "x4",
         "domain": [
          0.5349999999999999,
          0.9999999999999999
         ],
         "matches": "y",
         "range": [
          0,
          100
         ],
         "showticklabels": false
        }
       }
      },
      "image/png": "[encoded data removed]",
      "text/html": [
       "<div>                            <div id=\"2e0f4861-38a8-46d7-9133-37a9a184f57e\" class=\"plotly-graph-div\" style=\"height:600px; width:100%;\"></div>            <script type=\"text/javascript\">                require([\"plotly\"], function(Plotly) {                    window.PLOTLYENV=window.PLOTLYENV || {};                                    if (document.getElementById(\"2e0f4861-38a8-46d7-9133-37a9a184f57e\")) {                    Plotly.newPlot(                        \"2e0f4861-38a8-46d7-9133-37a9a184f57e\",                        [{\"alignmentgroup\":\"True\",\"bingroup\":\"x\",\"hovertemplate\":\"model=ablang\\u003cbr\\u003emean_unmutated_rank=%{x}\\u003cbr\\u003ecount=%{y}\\u003cextra\\u003e\\u003c\\u002fextra\\u003e\",\"legendgroup\":\"\",\"marker\":{\"color\":\"#636efa\",\"pattern\":{\"shape\":\"\"}},\"name\":\"\",\"offsetgroup\":\"\",\"orientation\":\"v\",\"showlegend\":false,\"x\":[1.7222222222222223,2.083333333333333,2.0,4.666666666666667,4.666666666666667,1.75,2.357142857142857,2.090909090909091,3.3,1.2727272727272727,1.0,2.333333333333333,2.125,1.0,1.0,1.0,1.3076923076923077,2.6666666666666665,2.210526315789474,2.375,2.0,3.5,2.125,1.5,3.0,1.0769230769230769,1.75,3.0,2.0,2.4285714285714284,1.5454545454545454,3.142857142857143,1.5714285714285714,2.0,1.0,1.0,2.0,1.25,1.3333333333333333,2.0,2.1666666666666665,2.1818181818181817,1.6666666666666667,2.111111111111111,1.0,4.375,1.0,1.625,3.2,1.5,1.5714285714285714,1.8888888888888888,1.0,3.1904761904761907,1.0,2.142857142857143,1.6666666666666667,2.0,3.071428571428572,2.6,1.5,2.230769230769231,2.857142857142857,2.6666666666666665,4.5,2.0,1.3333333333333333,1.0,1.6428571428571428,1.8,1.0,3.75,3.0,1.818181818181818,1.25,2.7333333333333334,1.75,2.0,2.2142857142857144,3.6666666666666665,3.75,4.444444444444445,2.7777777777777777,1.3333333333333333,4.8,1.0,1.053191489361702,1.4081632653061225,1.0,1.4,1.0,6.0,1.3333333333333333,1.0,1.0,1.0],\"xaxis\":\"x3\",\"yaxis\":\"y3\",\"type\":\"histogram\",\"xbins\":{\"size\":1}},{\"alignmentgroup\":\"True\",\"bingroup\":\"x\",\"hovertemplate\":\"model=protbert\\u003cbr\\u003emean_unmutated_rank=%{x}\\u003cbr\\u003ecount=%{y}\\u003cextra\\u003e\\u003c\\u002fextra\\u003e\",\"legendgroup\":\"\",\"marker\":{\"color\":\"#636efa\",\"pattern\":{\"shape\":\"\"}},\"name\":\"\",\"offsetgroup\":\"\",\"orientation\":\"v\",\"showlegend\":false,\"x\":[1.2777777777777777,1.5,1.3125,1.3333333333333333,1.3333333333333333,1.0,1.0714285714285714,1.0909090909090908,1.1,1.0909090909090908,1.0,1.5833333333333333,1.25,1.6666666666666667,1.0,1.0,1.0,1.0833333333333333,1.263157894736842,1.375,1.5,1.0,1.375,1.0,1.6666666666666667,1.0769230769230769,1.0,1.0,1.3333333333333333,2.142857142857143,1.0,1.1428571428571428,1.1428571428571428,1.0,1.0,1.0,1.1111111111111112,1.0,1.0,1.3333333333333333,1.25,1.181818181818182,1.0,1.1111111111111112,1.0,1.375,1.0,1.125,1.6,1.25,1.1428571428571428,1.1111111111111112,1.0,1.4761904761904765,1.0,1.0714285714285714,1.0,1.1428571428571428,1.1428571428571428,1.6,1.125,1.4615384615384617,1.0,1.4444444444444444,1.0,1.5,1.1666666666666667,1.0,1.0714285714285714,1.6,1.0,1.25,1.0,1.0,1.0,1.3333333333333333,1.125,1.2857142857142858,1.0714285714285714,1.5,1.25,1.4444444444444444,1.4444444444444444,1.1666666666666667,1.2,1.0,1.127659574468085,1.0,1.0,1.2,1.0,1.0,1.3333333333333333,1.0,1.0,1.0],\"xaxis\":\"x4\",\"yaxis\":\"y4\",\"type\":\"histogram\",\"xbins\":{\"size\":1}},{\"alignmentgroup\":\"True\",\"bingroup\":\"x\",\"hovertemplate\":\"model=sapiens\\u003cbr\\u003emean_unmutated_rank=%{x}\\u003cbr\\u003ecount=%{y}\\u003cextra\\u003e\\u003c\\u002fextra\\u003e\",\"legendgroup\":\"\",\"marker\":{\"color\":\"#636efa\",\"pattern\":{\"shape\":\"\"}},\"name\":\"\",\"offsetgroup\":\"\",\"orientation\":\"v\",\"showlegend\":false,\"x\":[1.4444444444444444,1.6666666666666667,1.3125,1.3333333333333333,1.3333333333333333,1.125,1.1428571428571428,1.2727272727272727,1.2,1.0909090909090908,1.0,1.3333333333333333,1.375,1.0,1.0,1.0,1.0,1.4166666666666667,1.4210526315789471,1.375,1.5,1.125,1.5,1.25,1.6666666666666667,1.0769230769230769,1.25,1.25,1.5,1.4285714285714286,1.0909090909090908,1.2857142857142858,1.1428571428571428,1.0,1.0,1.0,1.3333333333333333,1.0,1.3333333333333333,1.3333333333333333,1.5,1.3636363636363635,1.3333333333333333,1.3333333333333333,1.0,1.875,1.0,1.25,1.4,1.25,1.2857142857142858,1.5555555555555556,1.0,1.6666666666666667,1.0,1.2142857142857142,1.0,1.4285714285714286,1.2142857142857142,1.6,1.0,1.6923076923076923,1.0,1.6666666666666667,1.0833333333333333,1.3333333333333333,1.0,1.0,1.1428571428571428,1.4,1.0,1.5,1.0,1.181818181818182,1.0,1.5333333333333334,1.25,1.4285714285714286,1.2857142857142858,1.5,1.75,2.0,1.6666666666666667,1.1666666666666667,2.2,1.0,1.0106382978723405,1.010204081632653,1.0,1.2,1.0,1.0,1.3333333333333333,1.0,1.0,1.0],\"xaxis\":\"x\",\"yaxis\":\"y\",\"type\":\"histogram\",\"xbins\":{\"size\":1}},{\"alignmentgroup\":\"True\",\"bingroup\":\"x\",\"hovertemplate\":\"model=ESM\\u003cbr\\u003emean_unmutated_rank=%{x}\\u003cbr\\u003ecount=%{y}\\u003cextra\\u003e\\u003c\\u002fextra\\u003e\",\"legendgroup\":\"\",\"marker\":{\"color\":\"#636efa\",\"pattern\":{\"shape\":\"\"}},\"name\":\"\",\"offsetgroup\":\"\",\"orientation\":\"v\",\"showlegend\":false,\"x\":[1.1111111111111112,1.25,1.25,1.3333333333333333,1.3333333333333333,1.0,1.0714285714285714,1.0909090909090908,1.3,1.5454545454545454,1.0,1.5833333333333333,1.125,2.0,1.0,1.0,1.0,1.0833333333333333,1.3157894736842106,1.25,1.0,1.125,1.4375,1.125,1.8333333333333333,1.0769230769230769,1.25,1.0,1.3333333333333333,1.5714285714285714,1.0,1.4285714285714286,1.2857142857142858,1.0,1.0,1.0,1.1111111111111112,1.0,1.0,1.3333333333333333,1.5,1.0909090909090908,1.3333333333333333,1.1111111111111112,1.0,3.125,1.0,1.125,1.2,1.0,1.2857142857142858,1.0,1.0,1.238095238095238,1.0,1.0714285714285714,1.0,1.1428571428571428,1.0714285714285714,1.2,1.0,1.8461538461538465,1.0,1.5555555555555556,1.4166666666666667,1.8333333333333333,1.3333333333333333,1.0,1.0714285714285714,2.0,1.0,1.5,1.0,1.0909090909090908,1.0,1.3333333333333333,1.125,1.1428571428571428,1.1428571428571428,1.3888888888888888,1.75,1.3333333333333333,1.5555555555555556,1.1666666666666667,1.2,1.0,1.127659574468085,1.020408163265306,1.0,1.4,1.0,1.0,1.3333333333333333,1.0,1.0,2.0],\"xaxis\":\"x2\",\"yaxis\":\"y2\",\"type\":\"histogram\",\"xbins\":{\"size\":1}}],                        {\"template\":{\"data\":{\"histogram2dcontour\":[{\"type\":\"histogram2dcontour\",\"colorbar\":{\"outlinewidth\":0,\"ticks\":\"\"},\"colorscale\":[[0.0,\"#0d0887\"],[0.1111111111111111,\"#46039f\"],[0.2222222222222222,\"#7201a8\"],[0.3333333333333333,\"#9c179e\"],[0.4444444444444444,\"#bd3786\"],[0.5555555555555556,\"#d8576b\"],[0.6666666666666666,\"#ed7953\"],[0.7777777777777778,\"#fb9f3a\"],[0.8888888888888888,\"#fdca26\"],[1.0,\"#f0f921\"]]}],\"choropleth\":[{\"type\":\"choropleth\",\"colorbar\":{\"outlinewidth\":0,\"ticks\":\"\"}}],\"histogram2d\":[{\"type\":\"histogram2d\",\"colorbar\":{\"outlinewidth\":0,\"ticks\":\"\"},\"colorscale\":[[0.0,\"#0d0887\"],[0.1111111111111111,\"#46039f\"],[0.2222222222222222,\"#7201a8\"],[0.3333333333333333,\"#9c179e\"],[0.4444444444444444,\"#bd3786\"],[0.5555555555555556,\"#d8576b\"],[0.6666666666666666,\"#ed7953\"],[0.7777777777777778,\"#fb9f3a\"],[0.8888888888888888,\"#fdca26\"],[1.0,\"#f0f921\"]]}],\"heatmap\":[{\"type\":\"heatmap\",\"colorbar\":{\"outlinewidth\":0,\"ticks\":\"\"},\"colorscale\":[[0.0,\"#0d0887\"],[0.1111111111111111,\"#46039f\"],[0.2222222222222222,\"#7201a8\"],[0.3333333333333333,\"#9c179e\"],[0.4444444444444444,\"#bd3786\"],[0.5555555555555556,\"#d8576b\"],[0.6666666666666666,\"#ed7953\"],[0.7777777777777778,\"#fb9f3a\"],[0.8888888888888888,\"#fdca26\"],[1.0,\"#f0f921\"]]}],\"heatmapgl\":[{\"type\":\"heatmapgl\",\"colorbar\":{\"outlinewidth\":0,\"ticks\":\"\"},\"colorscale\":[[0.0,\"#0d0887\"],[0.1111111111111111,\"#46039f\"],[0.2222222222222222,\"#7201a8\"],[0.3333333333333333,\"#9c179e\"],[0.4444444444444444,\"#bd3786\"],[0.5555555555555556,\"#d8576b\"],[0.6666666666666666,\"#ed7953\"],[0.7777777777777778,\"#fb9f3a\"],[0.8888888888888888,\"#fdca26\"],[1.0,\"#f0f921\"]]}],\"contourcarpet\":[{\"type\":\"contourcarpet\",\"colorbar\":{\"outlinewidth\":0,\"ticks\":\"\"}}],\"contour\":[{\"type\":\"contour\",\"colorbar\":{\"outlinewidth\":0,\"ticks\":\"\"},\"colorscale\":[[0.0,\"#0d0887\"],[0.1111111111111111,\"#46039f\"],[0.2222222222222222,\"#7201a8\"],[0.3333333333333333,\"#9c179e\"],[0.4444444444444444,\"#bd3786\"],[0.5555555555555556,\"#d8576b\"],[0.6666666666666666,\"#ed7953\"],[0.7777777777777778,\"#fb9f3a\"],[0.8888888888888888,\"#fdca26\"],[1.0,\"#f0f921\"]]}],\"surface\":[{\"type\":\"surface\",\"colorbar\":{\"outlinewidth\":0,\"ticks\":\"\"},\"colorscale\":[[0.0,\"#0d0887\"],[0.1111111111111111,\"#46039f\"],[0.2222222222222222,\"#7201a8\"],[0.3333333333333333,\"#9c179e\"],[0.4444444444444444,\"#bd3786\"],[0.5555555555555556,\"#d8576b\"],[0.6666666666666666,\"#ed7953\"],[0.7777777777777778,\"#fb9f3a\"],[0.8888888888888888,\"#fdca26\"],[1.0,\"#f0f921\"]]}],\"mesh3d\":[{\"type\":\"mesh3d\",\"colorbar\":{\"outlinewidth\":0,\"ticks\":\"\"}}],\"scatter\":[{\"fillpattern\":{\"fillmode\":\"overlay\",\"size\":10,\"solidity\":0.2},\"type\":\"scatter\"}],\"parcoords\":[{\"type\":\"parcoords\",\"line\":{\"colorbar\":{\"outlinewidth\":0,\"ticks\":\"\"}}}],\"scatterpolargl\":[{\"type\":\"scatterpolargl\",\"marker\":{\"colorbar\":{\"outlinewidth\":0,\"ticks\":\"\"}}}],\"bar\":[{\"error_x\":{\"color\":\"#2a3f5f\"},\"error_y\":{\"color\":\"#2a3f5f\"},\"marker\":{\"line\":{\"color\":\"#E5ECF6\",\"width\":0.5},\"pattern\":{\"fillmode\":\"overlay\",\"size\":10,\"solidity\":0.2}},\"type\":\"bar\"}],\"scattergeo\":[{\"type\":\"scattergeo\",\"marker\":{\"colorbar\":{\"outlinewidth\":0,\"ticks\":\"\"}}}],\"scatterpolar\":[{\"type\":\"scatterpolar\",\"marker\":{\"colorbar\":{\"outlinewidth\":0,\"ticks\":\"\"}}}],\"histogram\":[{\"marker\":{\"pattern\":{\"fillmode\":\"overlay\",\"size\":10,\"solidity\":0.2}},\"type\":\"histogram\"}],\"scattergl\":[{\"type\":\"scattergl\",\"marker\":{\"colorbar\":{\"outlinewidth\":0,\"ticks\":\"\"}}}],\"scatter3d\":[{\"type\":\"scatter3d\",\"line\":{\"colorbar\":{\"outlinewidth\":0,\"ticks\":\"\"}},\"marker\":{\"colorbar\":{\"outlinewidth\":0,\"ticks\":\"\"}}}],\"scattermapbox\":[{\"type\":\"scattermapbox\",\"marker\":{\"colorbar\":{\"outlinewidth\":0,\"ticks\":\"\"}}}],\"scatterternary\":[{\"type\":\"scatterternary\",\"marker\":{\"colorbar\":{\"outlinewidth\":0,\"ticks\":\"\"}}}],\"scattercarpet\":[{\"type\":\"scattercarpet\",\"marker\":{\"colorbar\":{\"outlinewidth\":0,\"ticks\":\"\"}}}],\"carpet\":[{\"aaxis\":{\"endlinecolor\":\"#2a3f5f\",\"gridcolor\":\"white\",\"linecolor\":\"white\",\"minorgridcolor\":\"white\",\"startlinecolor\":\"#2a3f5f\"},\"baxis\":{\"endlinecolor\":\"#2a3f5f\",\"gridcolor\":\"white\",\"linecolor\":\"white\",\"minorgridcolor\":\"white\",\"startlinecolor\":\"#2a3f5f\"},\"type\":\"carpet\"}],\"table\":[{\"cells\":{\"fill\":{\"color\":\"#EBF0F8\"},\"line\":{\"color\":\"white\"}},\"header\":{\"fill\":{\"color\":\"#C8D4E3\"},\"line\":{\"color\":\"white\"}},\"type\":\"table\"}],\"barpolar\":[{\"marker\":{\"line\":{\"color\":\"#E5ECF6\",\"width\":0.5},\"pattern\":{\"fillmode\":\"overlay\",\"size\":10,\"solidity\":0.2}},\"type\":\"barpolar\"}],\"pie\":[{\"automargin\":true,\"type\":\"pie\"}]},\"layout\":{\"autotypenumbers\":\"strict\",\"colorway\":[\"#636efa\",\"#EF553B\",\"#00cc96\",\"#ab63fa\",\"#FFA15A\",\"#19d3f3\",\"#FF6692\",\"#B6E880\",\"#FF97FF\",\"#FECB52\"],\"font\":{\"color\":\"#2a3f5f\"},\"hovermode\":\"closest\",\"hoverlabel\":{\"align\":\"left\"},\"paper_bgcolor\":\"white\",\"plot_bgcolor\":\"#E5ECF6\",\"polar\":{\"bgcolor\":\"#E5ECF6\",\"angularaxis\":{\"gridcolor\":\"white\",\"linecolor\":\"white\",\"ticks\":\"\"},\"radialaxis\":{\"gridcolor\":\"white\",\"linecolor\":\"white\",\"ticks\":\"\"}},\"ternary\":{\"bgcolor\":\"#E5ECF6\",\"aaxis\":{\"gridcolor\":\"white\",\"linecolor\":\"white\",\"ticks\":\"\"},\"baxis\":{\"gridcolor\":\"white\",\"linecolor\":\"white\",\"ticks\":\"\"},\"caxis\":{\"gridcolor\":\"white\",\"linecolor\":\"white\",\"ticks\":\"\"}},\"coloraxis\":{\"colorbar\":{\"outlinewidth\":0,\"ticks\":\"\"}},\"colorscale\":{\"sequential\":[[0.0,\"#0d0887\"],[0.1111111111111111,\"#46039f\"],[0.2222222222222222,\"#7201a8\"],[0.3333333333333333,\"#9c179e\"],[0.4444444444444444,\"#bd3786\"],[0.5555555555555556,\"#d8576b\"],[0.6666666666666666,\"#ed7953\"],[0.7777777777777778,\"#fb9f3a\"],[0.8888888888888888,\"#fdca26\"],[1.0,\"#f0f921\"]],\"sequentialminus\":[[0.0,\"#0d0887\"],[0.1111111111111111,\"#46039f\"],[0.2222222222222222,\"#7201a8\"],[0.3333333333333333,\"#9c179e\"],[0.4444444444444444,\"#bd3786\"],[0.5555555555555556,\"#d8576b\"],[0.6666666666666666,\"#ed7953\"],[0.7777777777777778,\"#fb9f3a\"],[0.8888888888888888,\"#fdca26\"],[1.0,\"#f0f921\"]],\"diverging\":[[0,\"#8e0152\"],[0.1,\"#c51b7d\"],[0.2,\"#de77ae\"],[0.3,\"#f1b6da\"],[0.4,\"#fde0ef\"],[0.5,\"#f7f7f7\"],[0.6,\"#e6f5d0\"],[0.7,\"#b8e186\"],[0.8,\"#7fbc41\"],[0.9,\"#4d9221\"],[1,\"#276419\"]]},\"xaxis\":{\"gridcolor\":\"white\",\"linecolor\":\"white\",\"ticks\":\"\",\"title\":{\"standoff\":15},\"zerolinecolor\":\"white\",\"automargin\":true,\"zerolinewidth\":2},\"yaxis\":{\"gridcolor\":\"white\",\"linecolor\":\"white\",\"ticks\":\"\",\"title\":{\"standoff\":15},\"zerolinecolor\":\"white\",\"automargin\":true,\"zerolinewidth\":2},\"scene\":{\"xaxis\":{\"backgroundcolor\":\"#E5ECF6\",\"gridcolor\":\"white\",\"linecolor\":\"white\",\"showbackground\":true,\"ticks\":\"\",\"zerolinecolor\":\"white\",\"gridwidth\":2},\"yaxis\":{\"backgroundcolor\":\"#E5ECF6\",\"gridcolor\":\"white\",\"linecolor\":\"white\",\"showbackground\":true,\"ticks\":\"\",\"zerolinecolor\":\"white\",\"gridwidth\":2},\"zaxis\":{\"backgroundcolor\":\"#E5ECF6\",\"gridcolor\":\"white\",\"linecolor\":\"white\",\"showbackground\":true,\"ticks\":\"\",\"zerolinecolor\":\"white\",\"gridwidth\":2}},\"shapedefaults\":{\"line\":{\"color\":\"#2a3f5f\"}},\"annotationdefaults\":{\"arrowcolor\":\"#2a3f5f\",\"arrowhead\":0,\"arrowwidth\":1},\"geo\":{\"bgcolor\":\"white\",\"landcolor\":\"#E5ECF6\",\"subunitcolor\":\"white\",\"showland\":true,\"showlakes\":true,\"lakecolor\":\"white\"},\"title\":{\"x\":0.05},\"mapbox\":{\"style\":\"light\"}}},\"xaxis\":{\"anchor\":\"y\",\"domain\":[0.0,0.49],\"title\":{\"text\":\"mean_unmutated_rank\"},\"range\":[0,20]},\"yaxis\":{\"anchor\":\"x\",\"domain\":[0.0,0.46499999999999997],\"title\":{\"text\":\"count\"},\"range\":[0,100]},\"xaxis2\":{\"anchor\":\"y2\",\"domain\":[0.51,1.0],\"matches\":\"x\",\"title\":{\"text\":\"mean_unmutated_rank\"},\"range\":[0,20]},\"yaxis2\":{\"anchor\":\"x2\",\"domain\":[0.0,0.46499999999999997],\"matches\":\"y\",\"showticklabels\":false,\"range\":[0,100]},\"xaxis3\":{\"anchor\":\"y3\",\"domain\":[0.0,0.49],\"matches\":\"x\",\"showticklabels\":false,\"range\":[0,20]},\"yaxis3\":{\"anchor\":\"x3\",\"domain\":[0.5349999999999999,0.9999999999999999],\"matches\":\"y\",\"title\":{\"text\":\"count\"},\"range\":[0,100]},\"xaxis4\":{\"anchor\":\"y4\",\"domain\":[0.51,1.0],\"matches\":\"x\",\"showticklabels\":false,\"range\":[0,20]},\"yaxis4\":{\"anchor\":\"x4\",\"domain\":[0.5349999999999999,0.9999999999999999],\"matches\":\"y\",\"showticklabels\":false,\"range\":[0,100]},\"annotations\":[{\"font\":{},\"showarrow\":false,\"text\":\"model=sapiens\",\"x\":0.245,\"xanchor\":\"center\",\"xref\":\"paper\",\"y\":0.46499999999999997,\"yanchor\":\"bottom\",\"yref\":\"paper\"},{\"font\":{},\"showarrow\":false,\"text\":\"model=ESM\",\"x\":0.755,\"xanchor\":\"center\",\"xref\":\"paper\",\"y\":0.46499999999999997,\"yanchor\":\"bottom\",\"yref\":\"paper\"},{\"font\":{},\"showarrow\":false,\"text\":\"model=ablang\",\"x\":0.245,\"xanchor\":\"center\",\"xref\":\"paper\",\"y\":0.9999999999999999,\"yanchor\":\"bottom\",\"yref\":\"paper\"},{\"font\":{},\"showarrow\":false,\"text\":\"model=protbert\",\"x\":0.755,\"xanchor\":\"center\",\"xref\":\"paper\",\"y\":0.9999999999999999,\"yanchor\":\"bottom\",\"yref\":\"paper\"}],\"legend\":{\"tracegroupgap\":0},\"title\":{\"text\":\"Average evo-likelihood original residue rank (mutating positions)\"},\"barmode\":\"relative\",\"font\":{\"size\":22},\"height\":600},                        {\"responsive\": true}                    ).then(function(){\n",
       "                            \n",
       "var gd = document.getElementById('2e0f4861-38a8-46d7-9133-37a9a184f57e');\n",
       "var x = new MutationObserver(function (mutations, observer) {{\n",
       "        var display = window.getComputedStyle(gd).display;\n",
       "        if (!display || display === 'none') {{\n",
       "            console.log([gd, 'removed!']);\n",
       "            Plotly.purge(gd);\n",
       "            observer.disconnect();\n",
       "        }}\n",
       "}});\n",
       "\n",
       "// Listen for the removal of the full notebook cells\n",
       "var notebookContainer = gd.closest('#notebook-container');\n",
       "if (notebookContainer) {{\n",
       "    x.observe(notebookContainer, {childList: true});\n",
       "}}\n",
       "\n",
       "// Listen for the clearing of the current output cell\n",
       "var outputEl = gd.closest('.output');\n",
       "if (outputEl) {{\n",
       "    x.observe(outputEl, {childList: true});\n",
       "}}\n",
       "\n",
       "                        })                };                });            </script>        </div>"
      ]
     },
     "metadata": {},
     "output_type": "display_data"
    }
   ],
   "source": [
    "output_table_subset = output_table#.loc[(output_table[\"n_subs\"] == 1),:]\n",
    "\n",
    "fig = px.histogram(\n",
    "    data_frame = output_table_subset,\n",
    "    x = \"mean_unmutated_rank\",\n",
    "    facet_col = \"model\",\n",
    "    facet_col_wrap=2,\n",
    "    orientation = \"v\",\n",
    "    title=f'Average evo-likelihood original residue rank (mutating positions)',\n",
    ")\n",
    "\n",
    "fig.update_traces(xbins_size=1)\n",
    "fig.update_layout(height = 600, font_size = 22)\n",
    "fig.update_xaxes(range=[0, 20])\n",
    "fig.update_yaxes(range=[0, 100])\n",
    "\n",
    "fig.show()"
   ]
  },
  {
   "cell_type": "code",
   "execution_count": 43,
   "id": "8b7a75cc-84d1-48c8-adbf-1d67d10a1cad",
   "metadata": {},
   "outputs": [
    {
     "data": {
      "application/vnd.plotly.v1+json": {
       "config": {
        "plotlyServerURL": "https://plot.ly"
       },
       "data": [
        {
         "alignmentgroup": "True",
         "bingroup": "x",
         "hovertemplate": "model=ablang<br>mean_unmutated_probs=%{x}<br>count=%{y}<extra></extra>",
         "legendgroup": "",
         "marker": {
          "color": "#636efa",
          "pattern": {
           "shape": ""
          }
         },
         "name": "",
         "offsetgroup": "",
         "orientation": "v",
         "showlegend": false,
         "type": "histogram",
         "x": [
          0.5674099,
          0.4309431,
          0.48349363,
          0.3333105,
          0.28392437,
          0.6794478,
          0.6247138,
          0.5065542,
          0.48453432,
          0.86564183,
          0.9492313,
          0.5997348,
          0.5215471,
          0.866911,
          0.9815497,
          0.8837115,
          0.77158046,
          0.33598408,
          0.42286345,
          0.5807291,
          0.53183794,
          0.34468764,
          0.53403664,
          0.6394397,
          0.44368616,
          0.7903432,
          0.44895607,
          0.3992762,
          0.49442002,
          0.508349,
          0.6589107,
          0.49494198,
          0.5523423,
          0.5658391,
          0.63155866,
          0.9835528,
          0.48838064,
          0.59542173,
          0.6053999,
          0.6166449,
          0.46227047,
          0.35061857,
          0.57883006,
          0.53279907,
          0.89060336,
          0.5043159,
          0.8793973,
          0.4835534,
          0.59817946,
          0.6766776,
          0.6361756,
          0.4394704,
          0.79546475,
          0.4502567,
          0.99696034,
          0.54018897,
          0.6263683,
          0.5060743,
          0.5571046,
          0.5748559,
          0.6026194,
          0.5184069,
          0.620882,
          0.45771477,
          0.4307947,
          0.5846314,
          0.58865947,
          0.9835675,
          0.54365283,
          0.50847685,
          0.9390352,
          0.35957384,
          0.114821024,
          0.7036347,
          0.571888,
          0.4320725,
          0.5790143,
          0.572534,
          0.48359492,
          0.3149413,
          0.43822074,
          0.33983722,
          0.3413692,
          0.53662413,
          0.25886834,
          0.79597276,
          0.9308151,
          0.9078231,
          0.8383704,
          0.44310197,
          0.8053848,
          0.03914537,
          0.6551168,
          0.7459417,
          0.9913577,
          0.9207855
         ],
         "xaxis": "x3",
         "xbins": {
          "size": 0.1
         },
         "yaxis": "y3"
        },
        {
         "alignmentgroup": "True",
         "bingroup": "x",
         "hovertemplate": "model=protbert<br>mean_unmutated_probs=%{x}<br>count=%{y}<extra></extra>",
         "legendgroup": "",
         "marker": {
          "color": "#636efa",
          "pattern": {
           "shape": ""
          }
         },
         "name": "",
         "offsetgroup": "",
         "orientation": "v",
         "showlegend": false,
         "type": "histogram",
         "x": [
          0.8105894,
          0.7070562,
          0.7127576,
          0.6388501,
          0.63679594,
          0.91310424,
          0.82130575,
          0.8360366,
          0.82975847,
          0.9072693,
          0.99657136,
          0.63615954,
          0.7412951,
          0.6695911,
          0.9972154,
          0.8782649,
          0.9035161,
          0.73949534,
          0.7055815,
          0.72860545,
          0.64737684,
          0.734815,
          0.6992278,
          0.8222736,
          0.5857699,
          0.8970198,
          0.80724764,
          0.863414,
          0.61313665,
          0.591558,
          0.8821583,
          0.70861584,
          0.80623376,
          0.76153326,
          0.9576173,
          0.99549013,
          0.8139074,
          0.9232373,
          0.8811732,
          0.68927854,
          0.72812,
          0.7636833,
          0.87025934,
          0.7870148,
          0.9893115,
          0.6614967,
          0.9925548,
          0.73468345,
          0.79044545,
          0.828585,
          0.80331,
          0.7493241,
          0.9688786,
          0.6749132,
          0.99156874,
          0.8078161,
          0.87141865,
          0.8198399,
          0.7900451,
          0.66263205,
          0.89951015,
          0.6970819,
          0.90215594,
          0.61883235,
          0.7776263,
          0.68557954,
          0.82222366,
          0.99463564,
          0.86717755,
          0.64312285,
          0.9938023,
          0.67734027,
          0.8314866,
          0.8921181,
          0.77059966,
          0.7086516,
          0.7951945,
          0.79534835,
          0.7855376,
          0.64343697,
          0.7192204,
          0.57936466,
          0.68572325,
          0.81180316,
          0.6735612,
          0.9267028,
          0.9085667,
          0.9449976,
          0.9920073,
          0.79282206,
          0.9482915,
          0.82632333,
          0.6624809,
          0.6539944,
          0.9996747,
          0.6749358
         ],
         "xaxis": "x4",
         "xbins": {
          "size": 0.1
         },
         "yaxis": "y4"
        },
        {
         "alignmentgroup": "True",
         "bingroup": "x",
         "hovertemplate": "model=sapiens<br>mean_unmutated_probs=%{x}<br>count=%{y}<extra></extra>",
         "legendgroup": "",
         "marker": {
          "color": "#636efa",
          "pattern": {
           "shape": ""
          }
         },
         "name": "",
         "offsetgroup": "",
         "orientation": "v",
         "showlegend": false,
         "type": "histogram",
         "x": [
          0.6596759,
          0.5047828,
          0.6582851,
          0.49576712,
          0.49767652,
          0.7638252,
          0.7078544,
          0.6078888,
          0.6505152,
          0.82898116,
          0.90288335,
          0.6123244,
          0.5938645,
          0.9015557,
          0.89513654,
          0.89438987,
          0.8676458,
          0.6069335,
          0.577517,
          0.587875,
          0.46972984,
          0.635999,
          0.6369787,
          0.717529,
          0.46139327,
          0.84590024,
          0.60991967,
          0.6632813,
          0.5870003,
          0.5351402,
          0.7871698,
          0.6091951,
          0.704122,
          0.7843995,
          0.7348965,
          0.90503114,
          0.6492397,
          0.8359896,
          0.6768263,
          0.68205404,
          0.60259175,
          0.61315113,
          0.67528176,
          0.6441339,
          0.8947001,
          0.5823218,
          0.90115386,
          0.71922684,
          0.64704627,
          0.73039746,
          0.6750042,
          0.64606977,
          0.8753958,
          0.6254663,
          0.90135765,
          0.6548727,
          0.85346556,
          0.65536964,
          0.6612177,
          0.58062494,
          0.81927145,
          0.6047131,
          0.7892042,
          0.5275768,
          0.64592344,
          0.6702698,
          0.7695721,
          0.9141099,
          0.7428432,
          0.5707065,
          0.8996635,
          0.5849723,
          0.6567592,
          0.7143684,
          0.8444419,
          0.5796292,
          0.7049637,
          0.6330388,
          0.60573757,
          0.560456,
          0.5721326,
          0.5110622,
          0.50258154,
          0.7185238,
          0.40311617,
          0.9036364,
          0.8863664,
          0.8662171,
          0.8936823,
          0.61478496,
          0.907735,
          0.68932766,
          0.6103259,
          0.86961293,
          0.89871025,
          0.8998791
         ],
         "xaxis": "x",
         "xbins": {
          "size": 0.1
         },
         "yaxis": "y"
        },
        {
         "alignmentgroup": "True",
         "bingroup": "x",
         "hovertemplate": "model=ESM<br>mean_unmutated_probs=%{x}<br>count=%{y}<extra></extra>",
         "legendgroup": "",
         "marker": {
          "color": "#636efa",
          "pattern": {
           "shape": ""
          }
         },
         "name": "",
         "offsetgroup": "",
         "orientation": "v",
         "showlegend": false,
         "type": "histogram",
         "x": [
          0.7682344,
          0.6944677,
          0.7134787,
          0.6446571,
          0.58399445,
          0.78680044,
          0.77848774,
          0.79098105,
          0.7298382,
          0.71134037,
          0.85370356,
          0.6653524,
          0.741539,
          0.6277835,
          0.9964551,
          0.8751349,
          0.8229094,
          0.76286644,
          0.65640104,
          0.6997594,
          0.7551644,
          0.6956434,
          0.6619069,
          0.7381784,
          0.5529391,
          0.8139541,
          0.6654527,
          0.851339,
          0.64649516,
          0.6535583,
          0.890807,
          0.6372145,
          0.7479097,
          0.7578862,
          0.96408045,
          0.9947515,
          0.7370666,
          0.8243071,
          0.9367542,
          0.67067796,
          0.7089607,
          0.73325384,
          0.7284966,
          0.7637058,
          0.9892453,
          0.59588456,
          0.99491715,
          0.74813795,
          0.7434144,
          0.9005081,
          0.6558073,
          0.74825406,
          0.9759152,
          0.7330354,
          0.94568217,
          0.7918592,
          0.9116454,
          0.74286026,
          0.77739793,
          0.76589906,
          0.93341774,
          0.6917409,
          0.94078964,
          0.5890675,
          0.6514273,
          0.7381534,
          0.76594895,
          0.8951277,
          0.8153633,
          0.6152667,
          0.9918506,
          0.6509423,
          0.70761734,
          0.8561817,
          0.8028534,
          0.6755054,
          0.7593788,
          0.7149501,
          0.7218547,
          0.62800187,
          0.6829877,
          0.6182391,
          0.6262197,
          0.7857731,
          0.6603689,
          0.8355725,
          0.8453956,
          0.8979439,
          0.98375225,
          0.7086566,
          0.8865898,
          0.9383583,
          0.6769021,
          0.72790265,
          0.99936527,
          0.116806835
         ],
         "xaxis": "x2",
         "xbins": {
          "size": 0.1
         },
         "yaxis": "y2"
        }
       ],
       "layout": {
        "annotations": [
         {
          "font": {},
          "showarrow": false,
          "text": "model=sapiens",
          "x": 0.245,
          "xanchor": "center",
          "xref": "paper",
          "y": 0.46499999999999997,
          "yanchor": "bottom",
          "yref": "paper"
         },
         {
          "font": {},
          "showarrow": false,
          "text": "model=ESM",
          "x": 0.755,
          "xanchor": "center",
          "xref": "paper",
          "y": 0.46499999999999997,
          "yanchor": "bottom",
          "yref": "paper"
         },
         {
          "font": {},
          "showarrow": false,
          "text": "model=ablang",
          "x": 0.245,
          "xanchor": "center",
          "xref": "paper",
          "y": 0.9999999999999999,
          "yanchor": "bottom",
          "yref": "paper"
         },
         {
          "font": {},
          "showarrow": false,
          "text": "model=protbert",
          "x": 0.755,
          "xanchor": "center",
          "xref": "paper",
          "y": 0.9999999999999999,
          "yanchor": "bottom",
          "yref": "paper"
         }
        ],
        "autosize": true,
        "barmode": "relative",
        "font": {
         "size": 22
        },
        "legend": {
         "tracegroupgap": 0
        },
        "template": {
         "data": {
          "bar": [
           {
            "error_x": {
             "color": "#2a3f5f"
            },
            "error_y": {
             "color": "#2a3f5f"
            },
            "marker": {
             "line": {
              "color": "#E5ECF6",
              "width": 0.5
             },
             "pattern": {
              "fillmode": "overlay",
              "size": 10,
              "solidity": 0.2
             }
            },
            "type": "bar"
           }
          ],
          "barpolar": [
           {
            "marker": {
             "line": {
              "color": "#E5ECF6",
              "width": 0.5
             },
             "pattern": {
              "fillmode": "overlay",
              "size": 10,
              "solidity": 0.2
             }
            },
            "type": "barpolar"
           }
          ],
          "carpet": [
           {
            "aaxis": {
             "endlinecolor": "#2a3f5f",
             "gridcolor": "white",
             "linecolor": "white",
             "minorgridcolor": "white",
             "startlinecolor": "#2a3f5f"
            },
            "baxis": {
             "endlinecolor": "#2a3f5f",
             "gridcolor": "white",
             "linecolor": "white",
             "minorgridcolor": "white",
             "startlinecolor": "#2a3f5f"
            },
            "type": "carpet"
           }
          ],
          "choropleth": [
           {
            "colorbar": {
             "outlinewidth": 0,
             "ticks": ""
            },
            "type": "choropleth"
           }
          ],
          "contour": [
           {
            "colorbar": {
             "outlinewidth": 0,
             "ticks": ""
            },
            "colorscale": [
             [
              0,
              "#0d0887"
             ],
             [
              0.1111111111111111,
              "#46039f"
             ],
             [
              0.2222222222222222,
              "#7201a8"
             ],
             [
              0.3333333333333333,
              "#9c179e"
             ],
             [
              0.4444444444444444,
              "#bd3786"
             ],
             [
              0.5555555555555556,
              "#d8576b"
             ],
             [
              0.6666666666666666,
              "#ed7953"
             ],
             [
              0.7777777777777778,
              "#fb9f3a"
             ],
             [
              0.8888888888888888,
              "#fdca26"
             ],
             [
              1,
              "#f0f921"
             ]
            ],
            "type": "contour"
           }
          ],
          "contourcarpet": [
           {
            "colorbar": {
             "outlinewidth": 0,
             "ticks": ""
            },
            "type": "contourcarpet"
           }
          ],
          "heatmap": [
           {
            "colorbar": {
             "outlinewidth": 0,
             "ticks": ""
            },
            "colorscale": [
             [
              0,
              "#0d0887"
             ],
             [
              0.1111111111111111,
              "#46039f"
             ],
             [
              0.2222222222222222,
              "#7201a8"
             ],
             [
              0.3333333333333333,
              "#9c179e"
             ],
             [
              0.4444444444444444,
              "#bd3786"
             ],
             [
              0.5555555555555556,
              "#d8576b"
             ],
             [
              0.6666666666666666,
              "#ed7953"
             ],
             [
              0.7777777777777778,
              "#fb9f3a"
             ],
             [
              0.8888888888888888,
              "#fdca26"
             ],
             [
              1,
              "#f0f921"
             ]
            ],
            "type": "heatmap"
           }
          ],
          "heatmapgl": [
           {
            "colorbar": {
             "outlinewidth": 0,
             "ticks": ""
            },
            "colorscale": [
             [
              0,
              "#0d0887"
             ],
             [
              0.1111111111111111,
              "#46039f"
             ],
             [
              0.2222222222222222,
              "#7201a8"
             ],
             [
              0.3333333333333333,
              "#9c179e"
             ],
             [
              0.4444444444444444,
              "#bd3786"
             ],
             [
              0.5555555555555556,
              "#d8576b"
             ],
             [
              0.6666666666666666,
              "#ed7953"
             ],
             [
              0.7777777777777778,
              "#fb9f3a"
             ],
             [
              0.8888888888888888,
              "#fdca26"
             ],
             [
              1,
              "#f0f921"
             ]
            ],
            "type": "heatmapgl"
           }
          ],
          "histogram": [
           {
            "marker": {
             "pattern": {
              "fillmode": "overlay",
              "size": 10,
              "solidity": 0.2
             }
            },
            "type": "histogram"
           }
          ],
          "histogram2d": [
           {
            "colorbar": {
             "outlinewidth": 0,
             "ticks": ""
            },
            "colorscale": [
             [
              0,
              "#0d0887"
             ],
             [
              0.1111111111111111,
              "#46039f"
             ],
             [
              0.2222222222222222,
              "#7201a8"
             ],
             [
              0.3333333333333333,
              "#9c179e"
             ],
             [
              0.4444444444444444,
              "#bd3786"
             ],
             [
              0.5555555555555556,
              "#d8576b"
             ],
             [
              0.6666666666666666,
              "#ed7953"
             ],
             [
              0.7777777777777778,
              "#fb9f3a"
             ],
             [
              0.8888888888888888,
              "#fdca26"
             ],
             [
              1,
              "#f0f921"
             ]
            ],
            "type": "histogram2d"
           }
          ],
          "histogram2dcontour": [
           {
            "colorbar": {
             "outlinewidth": 0,
             "ticks": ""
            },
            "colorscale": [
             [
              0,
              "#0d0887"
             ],
             [
              0.1111111111111111,
              "#46039f"
             ],
             [
              0.2222222222222222,
              "#7201a8"
             ],
             [
              0.3333333333333333,
              "#9c179e"
             ],
             [
              0.4444444444444444,
              "#bd3786"
             ],
             [
              0.5555555555555556,
              "#d8576b"
             ],
             [
              0.6666666666666666,
              "#ed7953"
             ],
             [
              0.7777777777777778,
              "#fb9f3a"
             ],
             [
              0.8888888888888888,
              "#fdca26"
             ],
             [
              1,
              "#f0f921"
             ]
            ],
            "type": "histogram2dcontour"
           }
          ],
          "mesh3d": [
           {
            "colorbar": {
             "outlinewidth": 0,
             "ticks": ""
            },
            "type": "mesh3d"
           }
          ],
          "parcoords": [
           {
            "line": {
             "colorbar": {
              "outlinewidth": 0,
              "ticks": ""
             }
            },
            "type": "parcoords"
           }
          ],
          "pie": [
           {
            "automargin": true,
            "type": "pie"
           }
          ],
          "scatter": [
           {
            "fillpattern": {
             "fillmode": "overlay",
             "size": 10,
             "solidity": 0.2
            },
            "type": "scatter"
           }
          ],
          "scatter3d": [
           {
            "line": {
             "colorbar": {
              "outlinewidth": 0,
              "ticks": ""
             }
            },
            "marker": {
             "colorbar": {
              "outlinewidth": 0,
              "ticks": ""
             }
            },
            "type": "scatter3d"
           }
          ],
          "scattercarpet": [
           {
            "marker": {
             "colorbar": {
              "outlinewidth": 0,
              "ticks": ""
             }
            },
            "type": "scattercarpet"
           }
          ],
          "scattergeo": [
           {
            "marker": {
             "colorbar": {
              "outlinewidth": 0,
              "ticks": ""
             }
            },
            "type": "scattergeo"
           }
          ],
          "scattergl": [
           {
            "marker": {
             "colorbar": {
              "outlinewidth": 0,
              "ticks": ""
             }
            },
            "type": "scattergl"
           }
          ],
          "scattermapbox": [
           {
            "marker": {
             "colorbar": {
              "outlinewidth": 0,
              "ticks": ""
             }
            },
            "type": "scattermapbox"
           }
          ],
          "scatterpolar": [
           {
            "marker": {
             "colorbar": {
              "outlinewidth": 0,
              "ticks": ""
             }
            },
            "type": "scatterpolar"
           }
          ],
          "scatterpolargl": [
           {
            "marker": {
             "colorbar": {
              "outlinewidth": 0,
              "ticks": ""
             }
            },
            "type": "scatterpolargl"
           }
          ],
          "scatterternary": [
           {
            "marker": {
             "colorbar": {
              "outlinewidth": 0,
              "ticks": ""
             }
            },
            "type": "scatterternary"
           }
          ],
          "surface": [
           {
            "colorbar": {
             "outlinewidth": 0,
             "ticks": ""
            },
            "colorscale": [
             [
              0,
              "#0d0887"
             ],
             [
              0.1111111111111111,
              "#46039f"
             ],
             [
              0.2222222222222222,
              "#7201a8"
             ],
             [
              0.3333333333333333,
              "#9c179e"
             ],
             [
              0.4444444444444444,
              "#bd3786"
             ],
             [
              0.5555555555555556,
              "#d8576b"
             ],
             [
              0.6666666666666666,
              "#ed7953"
             ],
             [
              0.7777777777777778,
              "#fb9f3a"
             ],
             [
              0.8888888888888888,
              "#fdca26"
             ],
             [
              1,
              "#f0f921"
             ]
            ],
            "type": "surface"
           }
          ],
          "table": [
           {
            "cells": {
             "fill": {
              "color": "#EBF0F8"
             },
             "line": {
              "color": "white"
             }
            },
            "header": {
             "fill": {
              "color": "#C8D4E3"
             },
             "line": {
              "color": "white"
             }
            },
            "type": "table"
           }
          ]
         },
         "layout": {
          "annotationdefaults": {
           "arrowcolor": "#2a3f5f",
           "arrowhead": 0,
           "arrowwidth": 1
          },
          "autotypenumbers": "strict",
          "coloraxis": {
           "colorbar": {
            "outlinewidth": 0,
            "ticks": ""
           }
          },
          "colorscale": {
           "diverging": [
            [
             0,
             "#8e0152"
            ],
            [
             0.1,
             "#c51b7d"
            ],
            [
             0.2,
             "#de77ae"
            ],
            [
             0.3,
             "#f1b6da"
            ],
            [
             0.4,
             "#fde0ef"
            ],
            [
             0.5,
             "#f7f7f7"
            ],
            [
             0.6,
             "#e6f5d0"
            ],
            [
             0.7,
             "#b8e186"
            ],
            [
             0.8,
             "#7fbc41"
            ],
            [
             0.9,
             "#4d9221"
            ],
            [
             1,
             "#276419"
            ]
           ],
           "sequential": [
            [
             0,
             "#0d0887"
            ],
            [
             0.1111111111111111,
             "#46039f"
            ],
            [
             0.2222222222222222,
             "#7201a8"
            ],
            [
             0.3333333333333333,
             "#9c179e"
            ],
            [
             0.4444444444444444,
             "#bd3786"
            ],
            [
             0.5555555555555556,
             "#d8576b"
            ],
            [
             0.6666666666666666,
             "#ed7953"
            ],
            [
             0.7777777777777778,
             "#fb9f3a"
            ],
            [
             0.8888888888888888,
             "#fdca26"
            ],
            [
             1,
             "#f0f921"
            ]
           ],
           "sequentialminus": [
            [
             0,
             "#0d0887"
            ],
            [
             0.1111111111111111,
             "#46039f"
            ],
            [
             0.2222222222222222,
             "#7201a8"
            ],
            [
             0.3333333333333333,
             "#9c179e"
            ],
            [
             0.4444444444444444,
             "#bd3786"
            ],
            [
             0.5555555555555556,
             "#d8576b"
            ],
            [
             0.6666666666666666,
             "#ed7953"
            ],
            [
             0.7777777777777778,
             "#fb9f3a"
            ],
            [
             0.8888888888888888,
             "#fdca26"
            ],
            [
             1,
             "#f0f921"
            ]
           ]
          },
          "colorway": [
           "#636efa",
           "#EF553B",
           "#00cc96",
           "#ab63fa",
           "#FFA15A",
           "#19d3f3",
           "#FF6692",
           "#B6E880",
           "#FF97FF",
           "#FECB52"
          ],
          "font": {
           "color": "#2a3f5f"
          },
          "geo": {
           "bgcolor": "white",
           "lakecolor": "white",
           "landcolor": "#E5ECF6",
           "showlakes": true,
           "showland": true,
           "subunitcolor": "white"
          },
          "hoverlabel": {
           "align": "left"
          },
          "hovermode": "closest",
          "mapbox": {
           "style": "light"
          },
          "paper_bgcolor": "white",
          "plot_bgcolor": "#E5ECF6",
          "polar": {
           "angularaxis": {
            "gridcolor": "white",
            "linecolor": "white",
            "ticks": ""
           },
           "bgcolor": "#E5ECF6",
           "radialaxis": {
            "gridcolor": "white",
            "linecolor": "white",
            "ticks": ""
           }
          },
          "scene": {
           "xaxis": {
            "backgroundcolor": "#E5ECF6",
            "gridcolor": "white",
            "gridwidth": 2,
            "linecolor": "white",
            "showbackground": true,
            "ticks": "",
            "zerolinecolor": "white"
           },
           "yaxis": {
            "backgroundcolor": "#E5ECF6",
            "gridcolor": "white",
            "gridwidth": 2,
            "linecolor": "white",
            "showbackground": true,
            "ticks": "",
            "zerolinecolor": "white"
           },
           "zaxis": {
            "backgroundcolor": "#E5ECF6",
            "gridcolor": "white",
            "gridwidth": 2,
            "linecolor": "white",
            "showbackground": true,
            "ticks": "",
            "zerolinecolor": "white"
           }
          },
          "shapedefaults": {
           "line": {
            "color": "#2a3f5f"
           }
          },
          "ternary": {
           "aaxis": {
            "gridcolor": "white",
            "linecolor": "white",
            "ticks": ""
           },
           "baxis": {
            "gridcolor": "white",
            "linecolor": "white",
            "ticks": ""
           },
           "bgcolor": "#E5ECF6",
           "caxis": {
            "gridcolor": "white",
            "linecolor": "white",
            "ticks": ""
           }
          },
          "title": {
           "x": 0.05
          },
          "xaxis": {
           "automargin": true,
           "gridcolor": "white",
           "linecolor": "white",
           "ticks": "",
           "title": {
            "standoff": 15
           },
           "zerolinecolor": "white",
           "zerolinewidth": 2
          },
          "yaxis": {
           "automargin": true,
           "gridcolor": "white",
           "linecolor": "white",
           "ticks": "",
           "title": {
            "standoff": 15
           },
           "zerolinecolor": "white",
           "zerolinewidth": 2
          }
         }
        },
        "title": {
         "text": "Average evo-likelihood original residue probs (mutating positions)"
        },
        "xaxis": {
         "anchor": "y",
         "domain": [
          0,
          0.49
         ],
         "range": [
          0,
          1
         ],
         "title": {
          "text": "mean_unmutated_probs"
         },
         "type": "linear"
        },
        "xaxis2": {
         "anchor": "y2",
         "domain": [
          0.51,
          1
         ],
         "matches": "x",
         "range": [
          0,
          1
         ],
         "title": {
          "text": "mean_unmutated_probs"
         },
         "type": "linear"
        },
        "xaxis3": {
         "anchor": "y3",
         "domain": [
          0,
          0.49
         ],
         "matches": "x",
         "range": [
          0,
          1
         ],
         "showticklabels": false,
         "type": "linear"
        },
        "xaxis4": {
         "anchor": "y4",
         "domain": [
          0.51,
          1
         ],
         "matches": "x",
         "range": [
          0,
          1
         ],
         "showticklabels": false,
         "type": "linear"
        },
        "yaxis": {
         "anchor": "x",
         "domain": [
          0,
          0.46499999999999997
         ],
         "range": [
          0,
          100
         ],
         "title": {
          "text": "count"
         }
        },
        "yaxis2": {
         "anchor": "x2",
         "domain": [
          0,
          0.46499999999999997
         ],
         "matches": "y",
         "range": [
          0,
          100
         ],
         "showticklabels": false
        },
        "yaxis3": {
         "anchor": "x3",
         "domain": [
          0.5349999999999999,
          0.9999999999999999
         ],
         "matches": "y",
         "range": [
          0,
          100
         ],
         "title": {
          "text": "count"
         }
        },
        "yaxis4": {
         "anchor": "x4",
         "domain": [
          0.5349999999999999,
          0.9999999999999999
         ],
         "matches": "y",
         "range": [
          0,
          100
         ],
         "showticklabels": false
        }
       }
      },
      "image/png": "[encoded data removed]",
      "text/html": [
       "<div>                            <div id=\"f5b88096-5079-4c68-bbd9-71d061037d3d\" class=\"plotly-graph-div\" style=\"height:600px; width:100%;\"></div>            <script type=\"text/javascript\">                require([\"plotly\"], function(Plotly) {                    window.PLOTLYENV=window.PLOTLYENV || {};                                    if (document.getElementById(\"f5b88096-5079-4c68-bbd9-71d061037d3d\")) {                    Plotly.newPlot(                        \"f5b88096-5079-4c68-bbd9-71d061037d3d\",                        [{\"alignmentgroup\":\"True\",\"bingroup\":\"x\",\"hovertemplate\":\"model=ablang\\u003cbr\\u003emean_unmutated_probs=%{x}\\u003cbr\\u003ecount=%{y}\\u003cextra\\u003e\\u003c\\u002fextra\\u003e\",\"legendgroup\":\"\",\"marker\":{\"color\":\"#636efa\",\"pattern\":{\"shape\":\"\"}},\"name\":\"\",\"offsetgroup\":\"\",\"orientation\":\"v\",\"showlegend\":false,\"x\":[0.5674099,0.4309431,0.48349363,0.3333105,0.28392437,0.6794478,0.6247138,0.5065542,0.48453432,0.86564183,0.9492313,0.5997348,0.5215471,0.866911,0.9815497,0.8837115,0.77158046,0.33598408,0.42286345,0.5807291,0.53183794,0.34468764,0.53403664,0.6394397,0.44368616,0.7903432,0.44895607,0.3992762,0.49442002,0.508349,0.6589107,0.49494198,0.5523423,0.5658391,0.63155866,0.9835528,0.48838064,0.59542173,0.6053999,0.6166449,0.46227047,0.35061857,0.57883006,0.53279907,0.89060336,0.5043159,0.8793973,0.4835534,0.59817946,0.6766776,0.6361756,0.4394704,0.79546475,0.4502567,0.99696034,0.54018897,0.6263683,0.5060743,0.5571046,0.5748559,0.6026194,0.5184069,0.620882,0.45771477,0.4307947,0.5846314,0.58865947,0.9835675,0.54365283,0.50847685,0.9390352,0.35957384,0.114821024,0.7036347,0.571888,0.4320725,0.5790143,0.572534,0.48359492,0.3149413,0.43822074,0.33983722,0.3413692,0.53662413,0.25886834,0.79597276,0.9308151,0.9078231,0.8383704,0.44310197,0.8053848,0.03914537,0.6551168,0.7459417,0.9913577,0.9207855],\"xaxis\":\"x3\",\"yaxis\":\"y3\",\"type\":\"histogram\",\"xbins\":{\"size\":0.1}},{\"alignmentgroup\":\"True\",\"bingroup\":\"x\",\"hovertemplate\":\"model=protbert\\u003cbr\\u003emean_unmutated_probs=%{x}\\u003cbr\\u003ecount=%{y}\\u003cextra\\u003e\\u003c\\u002fextra\\u003e\",\"legendgroup\":\"\",\"marker\":{\"color\":\"#636efa\",\"pattern\":{\"shape\":\"\"}},\"name\":\"\",\"offsetgroup\":\"\",\"orientation\":\"v\",\"showlegend\":false,\"x\":[0.8105894,0.7070562,0.7127576,0.6388501,0.63679594,0.91310424,0.82130575,0.8360366,0.82975847,0.9072693,0.99657136,0.63615954,0.7412951,0.6695911,0.9972154,0.8782649,0.9035161,0.73949534,0.7055815,0.72860545,0.64737684,0.734815,0.6992278,0.8222736,0.5857699,0.8970198,0.80724764,0.863414,0.61313665,0.591558,0.8821583,0.70861584,0.80623376,0.76153326,0.9576173,0.99549013,0.8139074,0.9232373,0.8811732,0.68927854,0.72812,0.7636833,0.87025934,0.7870148,0.9893115,0.6614967,0.9925548,0.73468345,0.79044545,0.828585,0.80331,0.7493241,0.9688786,0.6749132,0.99156874,0.8078161,0.87141865,0.8198399,0.7900451,0.66263205,0.89951015,0.6970819,0.90215594,0.61883235,0.7776263,0.68557954,0.82222366,0.99463564,0.86717755,0.64312285,0.9938023,0.67734027,0.8314866,0.8921181,0.77059966,0.7086516,0.7951945,0.79534835,0.7855376,0.64343697,0.7192204,0.57936466,0.68572325,0.81180316,0.6735612,0.9267028,0.9085667,0.9449976,0.9920073,0.79282206,0.9482915,0.82632333,0.6624809,0.6539944,0.9996747,0.6749358],\"xaxis\":\"x4\",\"yaxis\":\"y4\",\"type\":\"histogram\",\"xbins\":{\"size\":0.1}},{\"alignmentgroup\":\"True\",\"bingroup\":\"x\",\"hovertemplate\":\"model=sapiens\\u003cbr\\u003emean_unmutated_probs=%{x}\\u003cbr\\u003ecount=%{y}\\u003cextra\\u003e\\u003c\\u002fextra\\u003e\",\"legendgroup\":\"\",\"marker\":{\"color\":\"#636efa\",\"pattern\":{\"shape\":\"\"}},\"name\":\"\",\"offsetgroup\":\"\",\"orientation\":\"v\",\"showlegend\":false,\"x\":[0.6596759,0.5047828,0.6582851,0.49576712,0.49767652,0.7638252,0.7078544,0.6078888,0.6505152,0.82898116,0.90288335,0.6123244,0.5938645,0.9015557,0.89513654,0.89438987,0.8676458,0.6069335,0.577517,0.587875,0.46972984,0.635999,0.6369787,0.717529,0.46139327,0.84590024,0.60991967,0.6632813,0.5870003,0.5351402,0.7871698,0.6091951,0.704122,0.7843995,0.7348965,0.90503114,0.6492397,0.8359896,0.6768263,0.68205404,0.60259175,0.61315113,0.67528176,0.6441339,0.8947001,0.5823218,0.90115386,0.71922684,0.64704627,0.73039746,0.6750042,0.64606977,0.8753958,0.6254663,0.90135765,0.6548727,0.85346556,0.65536964,0.6612177,0.58062494,0.81927145,0.6047131,0.7892042,0.5275768,0.64592344,0.6702698,0.7695721,0.9141099,0.7428432,0.5707065,0.8996635,0.5849723,0.6567592,0.7143684,0.8444419,0.5796292,0.7049637,0.6330388,0.60573757,0.560456,0.5721326,0.5110622,0.50258154,0.7185238,0.40311617,0.9036364,0.8863664,0.8662171,0.8936823,0.61478496,0.907735,0.68932766,0.6103259,0.86961293,0.89871025,0.8998791],\"xaxis\":\"x\",\"yaxis\":\"y\",\"type\":\"histogram\",\"xbins\":{\"size\":0.1}},{\"alignmentgroup\":\"True\",\"bingroup\":\"x\",\"hovertemplate\":\"model=ESM\\u003cbr\\u003emean_unmutated_probs=%{x}\\u003cbr\\u003ecount=%{y}\\u003cextra\\u003e\\u003c\\u002fextra\\u003e\",\"legendgroup\":\"\",\"marker\":{\"color\":\"#636efa\",\"pattern\":{\"shape\":\"\"}},\"name\":\"\",\"offsetgroup\":\"\",\"orientation\":\"v\",\"showlegend\":false,\"x\":[0.7682344,0.6944677,0.7134787,0.6446571,0.58399445,0.78680044,0.77848774,0.79098105,0.7298382,0.71134037,0.85370356,0.6653524,0.741539,0.6277835,0.9964551,0.8751349,0.8229094,0.76286644,0.65640104,0.6997594,0.7551644,0.6956434,0.6619069,0.7381784,0.5529391,0.8139541,0.6654527,0.851339,0.64649516,0.6535583,0.890807,0.6372145,0.7479097,0.7578862,0.96408045,0.9947515,0.7370666,0.8243071,0.9367542,0.67067796,0.7089607,0.73325384,0.7284966,0.7637058,0.9892453,0.59588456,0.99491715,0.74813795,0.7434144,0.9005081,0.6558073,0.74825406,0.9759152,0.7330354,0.94568217,0.7918592,0.9116454,0.74286026,0.77739793,0.76589906,0.93341774,0.6917409,0.94078964,0.5890675,0.6514273,0.7381534,0.76594895,0.8951277,0.8153633,0.6152667,0.9918506,0.6509423,0.70761734,0.8561817,0.8028534,0.6755054,0.7593788,0.7149501,0.7218547,0.62800187,0.6829877,0.6182391,0.6262197,0.7857731,0.6603689,0.8355725,0.8453956,0.8979439,0.98375225,0.7086566,0.8865898,0.9383583,0.6769021,0.72790265,0.99936527,0.116806835],\"xaxis\":\"x2\",\"yaxis\":\"y2\",\"type\":\"histogram\",\"xbins\":{\"size\":0.1}}],                        {\"template\":{\"data\":{\"histogram2dcontour\":[{\"type\":\"histogram2dcontour\",\"colorbar\":{\"outlinewidth\":0,\"ticks\":\"\"},\"colorscale\":[[0.0,\"#0d0887\"],[0.1111111111111111,\"#46039f\"],[0.2222222222222222,\"#7201a8\"],[0.3333333333333333,\"#9c179e\"],[0.4444444444444444,\"#bd3786\"],[0.5555555555555556,\"#d8576b\"],[0.6666666666666666,\"#ed7953\"],[0.7777777777777778,\"#fb9f3a\"],[0.8888888888888888,\"#fdca26\"],[1.0,\"#f0f921\"]]}],\"choropleth\":[{\"type\":\"choropleth\",\"colorbar\":{\"outlinewidth\":0,\"ticks\":\"\"}}],\"histogram2d\":[{\"type\":\"histogram2d\",\"colorbar\":{\"outlinewidth\":0,\"ticks\":\"\"},\"colorscale\":[[0.0,\"#0d0887\"],[0.1111111111111111,\"#46039f\"],[0.2222222222222222,\"#7201a8\"],[0.3333333333333333,\"#9c179e\"],[0.4444444444444444,\"#bd3786\"],[0.5555555555555556,\"#d8576b\"],[0.6666666666666666,\"#ed7953\"],[0.7777777777777778,\"#fb9f3a\"],[0.8888888888888888,\"#fdca26\"],[1.0,\"#f0f921\"]]}],\"heatmap\":[{\"type\":\"heatmap\",\"colorbar\":{\"outlinewidth\":0,\"ticks\":\"\"},\"colorscale\":[[0.0,\"#0d0887\"],[0.1111111111111111,\"#46039f\"],[0.2222222222222222,\"#7201a8\"],[0.3333333333333333,\"#9c179e\"],[0.4444444444444444,\"#bd3786\"],[0.5555555555555556,\"#d8576b\"],[0.6666666666666666,\"#ed7953\"],[0.7777777777777778,\"#fb9f3a\"],[0.8888888888888888,\"#fdca26\"],[1.0,\"#f0f921\"]]}],\"heatmapgl\":[{\"type\":\"heatmapgl\",\"colorbar\":{\"outlinewidth\":0,\"ticks\":\"\"},\"colorscale\":[[0.0,\"#0d0887\"],[0.1111111111111111,\"#46039f\"],[0.2222222222222222,\"#7201a8\"],[0.3333333333333333,\"#9c179e\"],[0.4444444444444444,\"#bd3786\"],[0.5555555555555556,\"#d8576b\"],[0.6666666666666666,\"#ed7953\"],[0.7777777777777778,\"#fb9f3a\"],[0.8888888888888888,\"#fdca26\"],[1.0,\"#f0f921\"]]}],\"contourcarpet\":[{\"type\":\"contourcarpet\",\"colorbar\":{\"outlinewidth\":0,\"ticks\":\"\"}}],\"contour\":[{\"type\":\"contour\",\"colorbar\":{\"outlinewidth\":0,\"ticks\":\"\"},\"colorscale\":[[0.0,\"#0d0887\"],[0.1111111111111111,\"#46039f\"],[0.2222222222222222,\"#7201a8\"],[0.3333333333333333,\"#9c179e\"],[0.4444444444444444,\"#bd3786\"],[0.5555555555555556,\"#d8576b\"],[0.6666666666666666,\"#ed7953\"],[0.7777777777777778,\"#fb9f3a\"],[0.8888888888888888,\"#fdca26\"],[1.0,\"#f0f921\"]]}],\"surface\":[{\"type\":\"surface\",\"colorbar\":{\"outlinewidth\":0,\"ticks\":\"\"},\"colorscale\":[[0.0,\"#0d0887\"],[0.1111111111111111,\"#46039f\"],[0.2222222222222222,\"#7201a8\"],[0.3333333333333333,\"#9c179e\"],[0.4444444444444444,\"#bd3786\"],[0.5555555555555556,\"#d8576b\"],[0.6666666666666666,\"#ed7953\"],[0.7777777777777778,\"#fb9f3a\"],[0.8888888888888888,\"#fdca26\"],[1.0,\"#f0f921\"]]}],\"mesh3d\":[{\"type\":\"mesh3d\",\"colorbar\":{\"outlinewidth\":0,\"ticks\":\"\"}}],\"scatter\":[{\"fillpattern\":{\"fillmode\":\"overlay\",\"size\":10,\"solidity\":0.2},\"type\":\"scatter\"}],\"parcoords\":[{\"type\":\"parcoords\",\"line\":{\"colorbar\":{\"outlinewidth\":0,\"ticks\":\"\"}}}],\"scatterpolargl\":[{\"type\":\"scatterpolargl\",\"marker\":{\"colorbar\":{\"outlinewidth\":0,\"ticks\":\"\"}}}],\"bar\":[{\"error_x\":{\"color\":\"#2a3f5f\"},\"error_y\":{\"color\":\"#2a3f5f\"},\"marker\":{\"line\":{\"color\":\"#E5ECF6\",\"width\":0.5},\"pattern\":{\"fillmode\":\"overlay\",\"size\":10,\"solidity\":0.2}},\"type\":\"bar\"}],\"scattergeo\":[{\"type\":\"scattergeo\",\"marker\":{\"colorbar\":{\"outlinewidth\":0,\"ticks\":\"\"}}}],\"scatterpolar\":[{\"type\":\"scatterpolar\",\"marker\":{\"colorbar\":{\"outlinewidth\":0,\"ticks\":\"\"}}}],\"histogram\":[{\"marker\":{\"pattern\":{\"fillmode\":\"overlay\",\"size\":10,\"solidity\":0.2}},\"type\":\"histogram\"}],\"scattergl\":[{\"type\":\"scattergl\",\"marker\":{\"colorbar\":{\"outlinewidth\":0,\"ticks\":\"\"}}}],\"scatter3d\":[{\"type\":\"scatter3d\",\"line\":{\"colorbar\":{\"outlinewidth\":0,\"ticks\":\"\"}},\"marker\":{\"colorbar\":{\"outlinewidth\":0,\"ticks\":\"\"}}}],\"scattermapbox\":[{\"type\":\"scattermapbox\",\"marker\":{\"colorbar\":{\"outlinewidth\":0,\"ticks\":\"\"}}}],\"scatterternary\":[{\"type\":\"scatterternary\",\"marker\":{\"colorbar\":{\"outlinewidth\":0,\"ticks\":\"\"}}}],\"scattercarpet\":[{\"type\":\"scattercarpet\",\"marker\":{\"colorbar\":{\"outlinewidth\":0,\"ticks\":\"\"}}}],\"carpet\":[{\"aaxis\":{\"endlinecolor\":\"#2a3f5f\",\"gridcolor\":\"white\",\"linecolor\":\"white\",\"minorgridcolor\":\"white\",\"startlinecolor\":\"#2a3f5f\"},\"baxis\":{\"endlinecolor\":\"#2a3f5f\",\"gridcolor\":\"white\",\"linecolor\":\"white\",\"minorgridcolor\":\"white\",\"startlinecolor\":\"#2a3f5f\"},\"type\":\"carpet\"}],\"table\":[{\"cells\":{\"fill\":{\"color\":\"#EBF0F8\"},\"line\":{\"color\":\"white\"}},\"header\":{\"fill\":{\"color\":\"#C8D4E3\"},\"line\":{\"color\":\"white\"}},\"type\":\"table\"}],\"barpolar\":[{\"marker\":{\"line\":{\"color\":\"#E5ECF6\",\"width\":0.5},\"pattern\":{\"fillmode\":\"overlay\",\"size\":10,\"solidity\":0.2}},\"type\":\"barpolar\"}],\"pie\":[{\"automargin\":true,\"type\":\"pie\"}]},\"layout\":{\"autotypenumbers\":\"strict\",\"colorway\":[\"#636efa\",\"#EF553B\",\"#00cc96\",\"#ab63fa\",\"#FFA15A\",\"#19d3f3\",\"#FF6692\",\"#B6E880\",\"#FF97FF\",\"#FECB52\"],\"font\":{\"color\":\"#2a3f5f\"},\"hovermode\":\"closest\",\"hoverlabel\":{\"align\":\"left\"},\"paper_bgcolor\":\"white\",\"plot_bgcolor\":\"#E5ECF6\",\"polar\":{\"bgcolor\":\"#E5ECF6\",\"angularaxis\":{\"gridcolor\":\"white\",\"linecolor\":\"white\",\"ticks\":\"\"},\"radialaxis\":{\"gridcolor\":\"white\",\"linecolor\":\"white\",\"ticks\":\"\"}},\"ternary\":{\"bgcolor\":\"#E5ECF6\",\"aaxis\":{\"gridcolor\":\"white\",\"linecolor\":\"white\",\"ticks\":\"\"},\"baxis\":{\"gridcolor\":\"white\",\"linecolor\":\"white\",\"ticks\":\"\"},\"caxis\":{\"gridcolor\":\"white\",\"linecolor\":\"white\",\"ticks\":\"\"}},\"coloraxis\":{\"colorbar\":{\"outlinewidth\":0,\"ticks\":\"\"}},\"colorscale\":{\"sequential\":[[0.0,\"#0d0887\"],[0.1111111111111111,\"#46039f\"],[0.2222222222222222,\"#7201a8\"],[0.3333333333333333,\"#9c179e\"],[0.4444444444444444,\"#bd3786\"],[0.5555555555555556,\"#d8576b\"],[0.6666666666666666,\"#ed7953\"],[0.7777777777777778,\"#fb9f3a\"],[0.8888888888888888,\"#fdca26\"],[1.0,\"#f0f921\"]],\"sequentialminus\":[[0.0,\"#0d0887\"],[0.1111111111111111,\"#46039f\"],[0.2222222222222222,\"#7201a8\"],[0.3333333333333333,\"#9c179e\"],[0.4444444444444444,\"#bd3786\"],[0.5555555555555556,\"#d8576b\"],[0.6666666666666666,\"#ed7953\"],[0.7777777777777778,\"#fb9f3a\"],[0.8888888888888888,\"#fdca26\"],[1.0,\"#f0f921\"]],\"diverging\":[[0,\"#8e0152\"],[0.1,\"#c51b7d\"],[0.2,\"#de77ae\"],[0.3,\"#f1b6da\"],[0.4,\"#fde0ef\"],[0.5,\"#f7f7f7\"],[0.6,\"#e6f5d0\"],[0.7,\"#b8e186\"],[0.8,\"#7fbc41\"],[0.9,\"#4d9221\"],[1,\"#276419\"]]},\"xaxis\":{\"gridcolor\":\"white\",\"linecolor\":\"white\",\"ticks\":\"\",\"title\":{\"standoff\":15},\"zerolinecolor\":\"white\",\"automargin\":true,\"zerolinewidth\":2},\"yaxis\":{\"gridcolor\":\"white\",\"linecolor\":\"white\",\"ticks\":\"\",\"title\":{\"standoff\":15},\"zerolinecolor\":\"white\",\"automargin\":true,\"zerolinewidth\":2},\"scene\":{\"xaxis\":{\"backgroundcolor\":\"#E5ECF6\",\"gridcolor\":\"white\",\"linecolor\":\"white\",\"showbackground\":true,\"ticks\":\"\",\"zerolinecolor\":\"white\",\"gridwidth\":2},\"yaxis\":{\"backgroundcolor\":\"#E5ECF6\",\"gridcolor\":\"white\",\"linecolor\":\"white\",\"showbackground\":true,\"ticks\":\"\",\"zerolinecolor\":\"white\",\"gridwidth\":2},\"zaxis\":{\"backgroundcolor\":\"#E5ECF6\",\"gridcolor\":\"white\",\"linecolor\":\"white\",\"showbackground\":true,\"ticks\":\"\",\"zerolinecolor\":\"white\",\"gridwidth\":2}},\"shapedefaults\":{\"line\":{\"color\":\"#2a3f5f\"}},\"annotationdefaults\":{\"arrowcolor\":\"#2a3f5f\",\"arrowhead\":0,\"arrowwidth\":1},\"geo\":{\"bgcolor\":\"white\",\"landcolor\":\"#E5ECF6\",\"subunitcolor\":\"white\",\"showland\":true,\"showlakes\":true,\"lakecolor\":\"white\"},\"title\":{\"x\":0.05},\"mapbox\":{\"style\":\"light\"}}},\"xaxis\":{\"anchor\":\"y\",\"domain\":[0.0,0.49],\"title\":{\"text\":\"mean_unmutated_probs\"},\"range\":[0,1]},\"yaxis\":{\"anchor\":\"x\",\"domain\":[0.0,0.46499999999999997],\"title\":{\"text\":\"count\"},\"range\":[0,100]},\"xaxis2\":{\"anchor\":\"y2\",\"domain\":[0.51,1.0],\"matches\":\"x\",\"title\":{\"text\":\"mean_unmutated_probs\"},\"range\":[0,1]},\"yaxis2\":{\"anchor\":\"x2\",\"domain\":[0.0,0.46499999999999997],\"matches\":\"y\",\"showticklabels\":false,\"range\":[0,100]},\"xaxis3\":{\"anchor\":\"y3\",\"domain\":[0.0,0.49],\"matches\":\"x\",\"showticklabels\":false,\"range\":[0,1]},\"yaxis3\":{\"anchor\":\"x3\",\"domain\":[0.5349999999999999,0.9999999999999999],\"matches\":\"y\",\"title\":{\"text\":\"count\"},\"range\":[0,100]},\"xaxis4\":{\"anchor\":\"y4\",\"domain\":[0.51,1.0],\"matches\":\"x\",\"showticklabels\":false,\"range\":[0,1]},\"yaxis4\":{\"anchor\":\"x4\",\"domain\":[0.5349999999999999,0.9999999999999999],\"matches\":\"y\",\"showticklabels\":false,\"range\":[0,100]},\"annotations\":[{\"font\":{},\"showarrow\":false,\"text\":\"model=sapiens\",\"x\":0.245,\"xanchor\":\"center\",\"xref\":\"paper\",\"y\":0.46499999999999997,\"yanchor\":\"bottom\",\"yref\":\"paper\"},{\"font\":{},\"showarrow\":false,\"text\":\"model=ESM\",\"x\":0.755,\"xanchor\":\"center\",\"xref\":\"paper\",\"y\":0.46499999999999997,\"yanchor\":\"bottom\",\"yref\":\"paper\"},{\"font\":{},\"showarrow\":false,\"text\":\"model=ablang\",\"x\":0.245,\"xanchor\":\"center\",\"xref\":\"paper\",\"y\":0.9999999999999999,\"yanchor\":\"bottom\",\"yref\":\"paper\"},{\"font\":{},\"showarrow\":false,\"text\":\"model=protbert\",\"x\":0.755,\"xanchor\":\"center\",\"xref\":\"paper\",\"y\":0.9999999999999999,\"yanchor\":\"bottom\",\"yref\":\"paper\"}],\"legend\":{\"tracegroupgap\":0},\"title\":{\"text\":\"Average evo-likelihood original residue probs (mutating positions)\"},\"barmode\":\"relative\",\"font\":{\"size\":22},\"height\":600},                        {\"responsive\": true}                    ).then(function(){\n",
       "                            \n",
       "var gd = document.getElementById('f5b88096-5079-4c68-bbd9-71d061037d3d');\n",
       "var x = new MutationObserver(function (mutations, observer) {{\n",
       "        var display = window.getComputedStyle(gd).display;\n",
       "        if (!display || display === 'none') {{\n",
       "            console.log([gd, 'removed!']);\n",
       "            Plotly.purge(gd);\n",
       "            observer.disconnect();\n",
       "        }}\n",
       "}});\n",
       "\n",
       "// Listen for the removal of the full notebook cells\n",
       "var notebookContainer = gd.closest('#notebook-container');\n",
       "if (notebookContainer) {{\n",
       "    x.observe(notebookContainer, {childList: true});\n",
       "}}\n",
       "\n",
       "// Listen for the clearing of the current output cell\n",
       "var outputEl = gd.closest('.output');\n",
       "if (outputEl) {{\n",
       "    x.observe(outputEl, {childList: true});\n",
       "}}\n",
       "\n",
       "                        })                };                });            </script>        </div>"
      ]
     },
     "metadata": {},
     "output_type": "display_data"
    }
   ],
   "source": [
    "fig = px.histogram(\n",
    "    data_frame = output_table_subset,\n",
    "    x = \"mean_unmutated_probs\",\n",
    "    facet_col = \"model\",\n",
    "    facet_col_wrap=2,\n",
    "    orientation = \"v\",\n",
    "    title=f'Average evo-likelihood original residue probs (mutating positions)',\n",
    ")\n",
    "\n",
    "fig.update_traces(xbins_size=0.1)\n",
    "fig.update_layout(height = 600, font_size = 22)\n",
    "fig.update_xaxes(range=[0, 1])\n",
    "fig.update_yaxes(range=[0, 100])\n",
    "\n",
    "fig.show()"
   ]
  },
  {
   "cell_type": "markdown",
   "id": "9b02a8de-bb8f-4ed6-962a-efaaf5a072ef",
   "metadata": {},
   "source": [
    "#### Unmutated residues in conserved positions"
   ]
  },
  {
   "cell_type": "code",
   "execution_count": 42,
   "id": "e991be6c-fd7c-4cc7-8cbe-d1979461e4e8",
   "metadata": {
    "scrolled": true
   },
   "outputs": [
    {
     "data": {
      "application/vnd.plotly.v1+json": {
       "config": {
        "plotlyServerURL": "https://plot.ly"
       },
       "data": [
        {
         "alignmentgroup": "True",
         "bingroup": "x",
         "hovertemplate": "model=ablang<br>mean_unmutated_pos_rank=%{x}<br>count=%{y}<extra></extra>",
         "legendgroup": "",
         "marker": {
          "color": "#636efa",
          "pattern": {
           "shape": ""
          }
         },
         "name": "",
         "offsetgroup": "",
         "orientation": "v",
         "showlegend": false,
         "type": "histogram",
         "x": [
          1.0212765957446808,
          1.02,
          1.1041666666666667,
          1.925619834710744,
          1.925619834710744,
          1.9827586206896552,
          1.528301886792453,
          1.5779816513761469,
          1.351351351351351,
          1.3428571428571427,
          1.3611111111111112,
          1.25,
          1.2241379310344829,
          1.8429752066115703,
          1.829268292682927,
          1.4672897196261685,
          1.4257425742574257,
          1.509433962264151,
          1.8484848484848484,
          1.3454545454545457,
          1.5213675213675213,
          1.4684684684684686,
          1.125,
          1.4690265486725664,
          1.391304347826087,
          1.5137614678899085,
          1.2372881355932204,
          1.6440677966101696,
          1.4655172413793105,
          1.353448275862069,
          1.8504672897196264,
          1.2857142857142858,
          1.6528925619834711,
          1.4672131147540983,
          1.504201680672269,
          1.5,
          1.2173913043478262,
          1.4,
          1.2743362831858407,
          1.4649122807017545,
          1.30188679245283,
          1.4018691588785046,
          1.3652173913043475,
          1.7522935779816513,
          1.1694915254237288,
          1.1964285714285714,
          1.694915254237288,
          1.9646017699115044,
          1.1637931034482758,
          1.588235294117647,
          1.2820512820512822,
          1.376068376068376,
          1.6721311475409837,
          1.851851851851852,
          1.191304347826087,
          1.2685185185185186,
          1.2436974789915969,
          1.2307692307692308,
          1.3300970873786409,
          1.4727272727272729,
          1.601851851851852,
          1.2884615384615383,
          1.2882882882882882,
          1.3211009174311927,
          1.339622641509434,
          1.7767857142857142,
          1.1415929203539823,
          1.152542372881356,
          1.5809523809523809,
          1.4736842105263157,
          1.7777777777777777,
          1.4956521739130435,
          1.575,
          1.1428571428571428,
          1.4369747899159664,
          1.5462962962962965,
          1.6869565217391305,
          1.137931034482759,
          1.8363636363636364,
          1.5,
          1.2894736842105263,
          1.5,
          1.6581196581196582,
          1.859504132231405,
          1.504201680672269,
          1.15748031496063,
          1.0344827586206895,
          1,
          1.592920353982301,
          1.5172413793103448,
          1.375,
          1.728813559322034,
          1.1794871794871795,
          1.4166666666666667,
          1.5081967213114753,
          1.2
         ],
         "xaxis": "x3",
         "xbins": {
          "size": 1
         },
         "yaxis": "y3"
        },
        {
         "alignmentgroup": "True",
         "bingroup": "x",
         "hovertemplate": "model=protbert<br>mean_unmutated_pos_rank=%{x}<br>count=%{y}<extra></extra>",
         "legendgroup": "",
         "marker": {
          "color": "#636efa",
          "pattern": {
           "shape": ""
          }
         },
         "name": "",
         "offsetgroup": "",
         "orientation": "v",
         "showlegend": false,
         "type": "histogram",
         "x": [
          1.0106382978723405,
          1,
          1.0208333333333333,
          1.4049586776859504,
          1.4049586776859504,
          1.4396551724137931,
          1.018867924528302,
          1.018348623853211,
          1.009009009009009,
          1.0095238095238095,
          1.0185185185185186,
          1.0089285714285714,
          1.0172413793103448,
          1.0578512396694215,
          1.0731707317073171,
          1.0467289719626167,
          1.0495049504950495,
          1.0660377358490567,
          1,
          1.0545454545454545,
          1.0598290598290598,
          1.045045045045045,
          1.0384615384615383,
          1.0973451327433628,
          1.0347826086956522,
          1.018348623853211,
          1.0508474576271187,
          1.0254237288135593,
          1.0172413793103448,
          1.0258620689655171,
          1.102803738317757,
          1.3529411764705883,
          1.3801652892561984,
          1.040983606557377,
          1.100840336134454,
          1.1,
          1.3565217391304347,
          1.3833333333333333,
          1.0530973451327434,
          1.0701754385964912,
          1.0471698113207548,
          1.1214953271028036,
          1.0434782608695652,
          1.0458715596330277,
          1.0508474576271187,
          1.0178571428571428,
          1.0593220338983051,
          1.1504424778761062,
          1.0172413793103448,
          1.0084033613445378,
          1.017094017094017,
          1.3333333333333333,
          1.3688524590163935,
          1.1759259259259258,
          1,
          1.0277777777777777,
          1.0168067226890756,
          1.3504273504273503,
          1.029126213592233,
          1.0454545454545454,
          1.037037037037037,
          1.0288461538461535,
          1.054054054054054,
          1.036697247706422,
          1.0377358490566038,
          1.1071428571428572,
          1.0176991150442478,
          1.0423728813559323,
          1.1142857142857143,
          1,
          1.0598290598290598,
          1.173913043478261,
          1.05,
          1,
          1.2016806722689075,
          1.1111111111111112,
          1.0608695652173914,
          1.0172413793103448,
          1.0909090909090908,
          1.018867924528302,
          1.0263157894736843,
          1.0948275862068966,
          1.051282051282051,
          1.181818181818182,
          1.0672268907563025,
          1.2913385826771653,
          1,
          1,
          1.0442477876106195,
          1.103448275862069,
          1.0446428571428572,
          1.076271186440678,
          1,
          1.0333333333333334,
          1.0573770491803278,
          1.0083333333333333
         ],
         "xaxis": "x4",
         "xbins": {
          "size": 1
         },
         "yaxis": "y4"
        },
        {
         "alignmentgroup": "True",
         "bingroup": "x",
         "hovertemplate": "model=sapiens<br>mean_unmutated_pos_rank=%{x}<br>count=%{y}<extra></extra>",
         "legendgroup": "",
         "marker": {
          "color": "#636efa",
          "pattern": {
           "shape": ""
          }
         },
         "name": "",
         "offsetgroup": "",
         "orientation": "v",
         "showlegend": false,
         "type": "histogram",
         "x": [
          1.0106382978723405,
          1.01,
          1.0208333333333333,
          1.1322314049586777,
          1.1322314049586777,
          1.137931034482759,
          1.0471698113207548,
          1.036697247706422,
          1.018018018018018,
          1.0285714285714285,
          1.037037037037037,
          1.0089285714285714,
          1.0086206896551724,
          1.0991735537190082,
          1.0975609756097562,
          1.0373831775700937,
          1.2277227722772277,
          1.0754716981132075,
          1.2121212121212122,
          1.0818181818181818,
          1.0598290598290598,
          1.027027027027027,
          1.0288461538461535,
          1.0884955752212389,
          1.017391304347826,
          1.073394495412844,
          1.0593220338983051,
          1.1016949152542372,
          1.0517241379310345,
          1.0517241379310345,
          1.102803738317757,
          1.0756302521008403,
          1.0826446280991735,
          1.0573770491803278,
          1.1428571428571428,
          1.1416666666666666,
          1.0260869565217392,
          1.025,
          1.0353982300884956,
          1.0263157894736843,
          1.0566037735849056,
          1.1121495327102804,
          1.0434782608695652,
          1.073394495412844,
          1.0508474576271187,
          1.0178571428571428,
          1.1016949152542372,
          1.1946902654867255,
          1.0344827586206895,
          1.0252100840336134,
          1.0256410256410255,
          1.0854700854700854,
          1.0737704918032789,
          1.037037037037037,
          1,
          1.037037037037037,
          1.0336134453781514,
          1.0256410256410255,
          1.029126213592233,
          1.0818181818181818,
          1.0462962962962965,
          1.0673076923076923,
          1.072072072072072,
          1.0275229357798166,
          1.0566037735849056,
          1.0625,
          1.0530973451327434,
          1.0254237288135593,
          1.0952380952380951,
          1.0263157894736843,
          1.0769230769230769,
          1.0782608695652174,
          1.075,
          1.0089285714285714,
          1.0588235294117647,
          1.1111111111111112,
          1.1652173913043478,
          1.0344827586206895,
          1.181818181818182,
          1.0377358490566038,
          1.0175438596491229,
          1.1206896551724137,
          1.0769230769230769,
          1.0495867768595042,
          1.0588235294117647,
          1.0393700787401574,
          1,
          1,
          1.0442477876106195,
          1.137931034482759,
          1.0535714285714286,
          1.1101694915254237,
          1,
          1.075,
          1.0819672131147542,
          1.0333333333333334
         ],
         "xaxis": "x",
         "xbins": {
          "size": 1
         },
         "yaxis": "y"
        },
        {
         "alignmentgroup": "True",
         "bingroup": "x",
         "hovertemplate": "model=ESM<br>mean_unmutated_pos_rank=%{x}<br>count=%{y}<extra></extra>",
         "legendgroup": "",
         "marker": {
          "color": "#636efa",
          "pattern": {
           "shape": ""
          }
         },
         "name": "",
         "offsetgroup": "",
         "orientation": "v",
         "showlegend": false,
         "type": "histogram",
         "x": [
          1.0425531914893618,
          1.03,
          1.0520833333333333,
          1.0826446280991735,
          1.0826446280991735,
          1.0775862068965518,
          1.0754716981132075,
          1.073394495412844,
          1.018018018018018,
          1.161904761904762,
          1.212962962962963,
          1.0089285714285714,
          1.0172413793103448,
          1.0578512396694215,
          1.08130081300813,
          1.0560747663551402,
          1.1287128712871286,
          1.150943396226415,
          1.0303030303030305,
          1.0727272727272728,
          1.1111111111111112,
          1.117117117117117,
          1.0288461538461535,
          1.0707964601769913,
          1.0521739130434782,
          1.0825688073394495,
          1.0338983050847457,
          1.076271186440678,
          1.0689655172413792,
          1.0172413793103448,
          1.1401869158878504,
          1.050420168067227,
          1.1735537190082646,
          1.278688524590164,
          1.1176470588235294,
          1.1166666666666667,
          1.017391304347826,
          1.0333333333333334,
          1.0884955752212389,
          1.0789473684210529,
          1.0566037735849056,
          1.1308411214953271,
          1.0695652173913044,
          1.0458715596330277,
          1.0593220338983051,
          1.0267857142857142,
          1.0508474576271187,
          1.1504424778761062,
          1.0517241379310345,
          1.0672268907563025,
          1.0598290598290598,
          1.0427350427350428,
          1.0819672131147542,
          1.0185185185185186,
          1.0347826086956522,
          1.0092592592592593,
          1.0084033613445378,
          1.017094017094017,
          1.077669902912621,
          1.1636363636363636,
          1.0833333333333333,
          1.0480769230769231,
          1.072072072072072,
          1.0275229357798166,
          1.0566037735849056,
          1.1160714285714286,
          1.0265486725663715,
          1.0932203389830508,
          1.0666666666666669,
          1.0350877192982455,
          1.051282051282051,
          1.0782608695652174,
          1.0833333333333333,
          1.0089285714285714,
          1.100840336134454,
          1.1944444444444444,
          1.0695652173913044,
          1.0862068965517242,
          1.181818181818182,
          1.0377358490566038,
          1.0175438596491229,
          1.2155172413793105,
          1.0769230769230769,
          1.024793388429752,
          1.0588235294117647,
          1.062992125984252,
          1,
          1,
          1.0619469026548674,
          1.1206896551724137,
          1.0803571428571428,
          1.271186440677966,
          1.0341880341880345,
          1.05,
          1.1721311475409837,
          1.0333333333333334
         ],
         "xaxis": "x2",
         "xbins": {
          "size": 1
         },
         "yaxis": "y2"
        }
       ],
       "layout": {
        "annotations": [
         {
          "font": {},
          "showarrow": false,
          "text": "model=sapiens",
          "x": 0.245,
          "xanchor": "center",
          "xref": "paper",
          "y": 0.46499999999999997,
          "yanchor": "bottom",
          "yref": "paper"
         },
         {
          "font": {},
          "showarrow": false,
          "text": "model=ESM",
          "x": 0.755,
          "xanchor": "center",
          "xref": "paper",
          "y": 0.46499999999999997,
          "yanchor": "bottom",
          "yref": "paper"
         },
         {
          "font": {},
          "showarrow": false,
          "text": "model=ablang",
          "x": 0.245,
          "xanchor": "center",
          "xref": "paper",
          "y": 0.9999999999999999,
          "yanchor": "bottom",
          "yref": "paper"
         },
         {
          "font": {},
          "showarrow": false,
          "text": "model=protbert",
          "x": 0.755,
          "xanchor": "center",
          "xref": "paper",
          "y": 0.9999999999999999,
          "yanchor": "bottom",
          "yref": "paper"
         }
        ],
        "autosize": true,
        "barmode": "relative",
        "font": {
         "size": 21
        },
        "legend": {
         "tracegroupgap": 0
        },
        "template": {
         "data": {
          "bar": [
           {
            "error_x": {
             "color": "#2a3f5f"
            },
            "error_y": {
             "color": "#2a3f5f"
            },
            "marker": {
             "line": {
              "color": "#E5ECF6",
              "width": 0.5
             },
             "pattern": {
              "fillmode": "overlay",
              "size": 10,
              "solidity": 0.2
             }
            },
            "type": "bar"
           }
          ],
          "barpolar": [
           {
            "marker": {
             "line": {
              "color": "#E5ECF6",
              "width": 0.5
             },
             "pattern": {
              "fillmode": "overlay",
              "size": 10,
              "solidity": 0.2
             }
            },
            "type": "barpolar"
           }
          ],
          "carpet": [
           {
            "aaxis": {
             "endlinecolor": "#2a3f5f",
             "gridcolor": "white",
             "linecolor": "white",
             "minorgridcolor": "white",
             "startlinecolor": "#2a3f5f"
            },
            "baxis": {
             "endlinecolor": "#2a3f5f",
             "gridcolor": "white",
             "linecolor": "white",
             "minorgridcolor": "white",
             "startlinecolor": "#2a3f5f"
            },
            "type": "carpet"
           }
          ],
          "choropleth": [
           {
            "colorbar": {
             "outlinewidth": 0,
             "ticks": ""
            },
            "type": "choropleth"
           }
          ],
          "contour": [
           {
            "colorbar": {
             "outlinewidth": 0,
             "ticks": ""
            },
            "colorscale": [
             [
              0,
              "#0d0887"
             ],
             [
              0.1111111111111111,
              "#46039f"
             ],
             [
              0.2222222222222222,
              "#7201a8"
             ],
             [
              0.3333333333333333,
              "#9c179e"
             ],
             [
              0.4444444444444444,
              "#bd3786"
             ],
             [
              0.5555555555555556,
              "#d8576b"
             ],
             [
              0.6666666666666666,
              "#ed7953"
             ],
             [
              0.7777777777777778,
              "#fb9f3a"
             ],
             [
              0.8888888888888888,
              "#fdca26"
             ],
             [
              1,
              "#f0f921"
             ]
            ],
            "type": "contour"
           }
          ],
          "contourcarpet": [
           {
            "colorbar": {
             "outlinewidth": 0,
             "ticks": ""
            },
            "type": "contourcarpet"
           }
          ],
          "heatmap": [
           {
            "colorbar": {
             "outlinewidth": 0,
             "ticks": ""
            },
            "colorscale": [
             [
              0,
              "#0d0887"
             ],
             [
              0.1111111111111111,
              "#46039f"
             ],
             [
              0.2222222222222222,
              "#7201a8"
             ],
             [
              0.3333333333333333,
              "#9c179e"
             ],
             [
              0.4444444444444444,
              "#bd3786"
             ],
             [
              0.5555555555555556,
              "#d8576b"
             ],
             [
              0.6666666666666666,
              "#ed7953"
             ],
             [
              0.7777777777777778,
              "#fb9f3a"
             ],
             [
              0.8888888888888888,
              "#fdca26"
             ],
             [
              1,
              "#f0f921"
             ]
            ],
            "type": "heatmap"
           }
          ],
          "heatmapgl": [
           {
            "colorbar": {
             "outlinewidth": 0,
             "ticks": ""
            },
            "colorscale": [
             [
              0,
              "#0d0887"
             ],
             [
              0.1111111111111111,
              "#46039f"
             ],
             [
              0.2222222222222222,
              "#7201a8"
             ],
             [
              0.3333333333333333,
              "#9c179e"
             ],
             [
              0.4444444444444444,
              "#bd3786"
             ],
             [
              0.5555555555555556,
              "#d8576b"
             ],
             [
              0.6666666666666666,
              "#ed7953"
             ],
             [
              0.7777777777777778,
              "#fb9f3a"
             ],
             [
              0.8888888888888888,
              "#fdca26"
             ],
             [
              1,
              "#f0f921"
             ]
            ],
            "type": "heatmapgl"
           }
          ],
          "histogram": [
           {
            "marker": {
             "pattern": {
              "fillmode": "overlay",
              "size": 10,
              "solidity": 0.2
             }
            },
            "type": "histogram"
           }
          ],
          "histogram2d": [
           {
            "colorbar": {
             "outlinewidth": 0,
             "ticks": ""
            },
            "colorscale": [
             [
              0,
              "#0d0887"
             ],
             [
              0.1111111111111111,
              "#46039f"
             ],
             [
              0.2222222222222222,
              "#7201a8"
             ],
             [
              0.3333333333333333,
              "#9c179e"
             ],
             [
              0.4444444444444444,
              "#bd3786"
             ],
             [
              0.5555555555555556,
              "#d8576b"
             ],
             [
              0.6666666666666666,
              "#ed7953"
             ],
             [
              0.7777777777777778,
              "#fb9f3a"
             ],
             [
              0.8888888888888888,
              "#fdca26"
             ],
             [
              1,
              "#f0f921"
             ]
            ],
            "type": "histogram2d"
           }
          ],
          "histogram2dcontour": [
           {
            "colorbar": {
             "outlinewidth": 0,
             "ticks": ""
            },
            "colorscale": [
             [
              0,
              "#0d0887"
             ],
             [
              0.1111111111111111,
              "#46039f"
             ],
             [
              0.2222222222222222,
              "#7201a8"
             ],
             [
              0.3333333333333333,
              "#9c179e"
             ],
             [
              0.4444444444444444,
              "#bd3786"
             ],
             [
              0.5555555555555556,
              "#d8576b"
             ],
             [
              0.6666666666666666,
              "#ed7953"
             ],
             [
              0.7777777777777778,
              "#fb9f3a"
             ],
             [
              0.8888888888888888,
              "#fdca26"
             ],
             [
              1,
              "#f0f921"
             ]
            ],
            "type": "histogram2dcontour"
           }
          ],
          "mesh3d": [
           {
            "colorbar": {
             "outlinewidth": 0,
             "ticks": ""
            },
            "type": "mesh3d"
           }
          ],
          "parcoords": [
           {
            "line": {
             "colorbar": {
              "outlinewidth": 0,
              "ticks": ""
             }
            },
            "type": "parcoords"
           }
          ],
          "pie": [
           {
            "automargin": true,
            "type": "pie"
           }
          ],
          "scatter": [
           {
            "fillpattern": {
             "fillmode": "overlay",
             "size": 10,
             "solidity": 0.2
            },
            "type": "scatter"
           }
          ],
          "scatter3d": [
           {
            "line": {
             "colorbar": {
              "outlinewidth": 0,
              "ticks": ""
             }
            },
            "marker": {
             "colorbar": {
              "outlinewidth": 0,
              "ticks": ""
             }
            },
            "type": "scatter3d"
           }
          ],
          "scattercarpet": [
           {
            "marker": {
             "colorbar": {
              "outlinewidth": 0,
              "ticks": ""
             }
            },
            "type": "scattercarpet"
           }
          ],
          "scattergeo": [
           {
            "marker": {
             "colorbar": {
              "outlinewidth": 0,
              "ticks": ""
             }
            },
            "type": "scattergeo"
           }
          ],
          "scattergl": [
           {
            "marker": {
             "colorbar": {
              "outlinewidth": 0,
              "ticks": ""
             }
            },
            "type": "scattergl"
           }
          ],
          "scattermapbox": [
           {
            "marker": {
             "colorbar": {
              "outlinewidth": 0,
              "ticks": ""
             }
            },
            "type": "scattermapbox"
           }
          ],
          "scatterpolar": [
           {
            "marker": {
             "colorbar": {
              "outlinewidth": 0,
              "ticks": ""
             }
            },
            "type": "scatterpolar"
           }
          ],
          "scatterpolargl": [
           {
            "marker": {
             "colorbar": {
              "outlinewidth": 0,
              "ticks": ""
             }
            },
            "type": "scatterpolargl"
           }
          ],
          "scatterternary": [
           {
            "marker": {
             "colorbar": {
              "outlinewidth": 0,
              "ticks": ""
             }
            },
            "type": "scatterternary"
           }
          ],
          "surface": [
           {
            "colorbar": {
             "outlinewidth": 0,
             "ticks": ""
            },
            "colorscale": [
             [
              0,
              "#0d0887"
             ],
             [
              0.1111111111111111,
              "#46039f"
             ],
             [
              0.2222222222222222,
              "#7201a8"
             ],
             [
              0.3333333333333333,
              "#9c179e"
             ],
             [
              0.4444444444444444,
              "#bd3786"
             ],
             [
              0.5555555555555556,
              "#d8576b"
             ],
             [
              0.6666666666666666,
              "#ed7953"
             ],
             [
              0.7777777777777778,
              "#fb9f3a"
             ],
             [
              0.8888888888888888,
              "#fdca26"
             ],
             [
              1,
              "#f0f921"
             ]
            ],
            "type": "surface"
           }
          ],
          "table": [
           {
            "cells": {
             "fill": {
              "color": "#EBF0F8"
             },
             "line": {
              "color": "white"
             }
            },
            "header": {
             "fill": {
              "color": "#C8D4E3"
             },
             "line": {
              "color": "white"
             }
            },
            "type": "table"
           }
          ]
         },
         "layout": {
          "annotationdefaults": {
           "arrowcolor": "#2a3f5f",
           "arrowhead": 0,
           "arrowwidth": 1
          },
          "autotypenumbers": "strict",
          "coloraxis": {
           "colorbar": {
            "outlinewidth": 0,
            "ticks": ""
           }
          },
          "colorscale": {
           "diverging": [
            [
             0,
             "#8e0152"
            ],
            [
             0.1,
             "#c51b7d"
            ],
            [
             0.2,
             "#de77ae"
            ],
            [
             0.3,
             "#f1b6da"
            ],
            [
             0.4,
             "#fde0ef"
            ],
            [
             0.5,
             "#f7f7f7"
            ],
            [
             0.6,
             "#e6f5d0"
            ],
            [
             0.7,
             "#b8e186"
            ],
            [
             0.8,
             "#7fbc41"
            ],
            [
             0.9,
             "#4d9221"
            ],
            [
             1,
             "#276419"
            ]
           ],
           "sequential": [
            [
             0,
             "#0d0887"
            ],
            [
             0.1111111111111111,
             "#46039f"
            ],
            [
             0.2222222222222222,
             "#7201a8"
            ],
            [
             0.3333333333333333,
             "#9c179e"
            ],
            [
             0.4444444444444444,
             "#bd3786"
            ],
            [
             0.5555555555555556,
             "#d8576b"
            ],
            [
             0.6666666666666666,
             "#ed7953"
            ],
            [
             0.7777777777777778,
             "#fb9f3a"
            ],
            [
             0.8888888888888888,
             "#fdca26"
            ],
            [
             1,
             "#f0f921"
            ]
           ],
           "sequentialminus": [
            [
             0,
             "#0d0887"
            ],
            [
             0.1111111111111111,
             "#46039f"
            ],
            [
             0.2222222222222222,
             "#7201a8"
            ],
            [
             0.3333333333333333,
             "#9c179e"
            ],
            [
             0.4444444444444444,
             "#bd3786"
            ],
            [
             0.5555555555555556,
             "#d8576b"
            ],
            [
             0.6666666666666666,
             "#ed7953"
            ],
            [
             0.7777777777777778,
             "#fb9f3a"
            ],
            [
             0.8888888888888888,
             "#fdca26"
            ],
            [
             1,
             "#f0f921"
            ]
           ]
          },
          "colorway": [
           "#636efa",
           "#EF553B",
           "#00cc96",
           "#ab63fa",
           "#FFA15A",
           "#19d3f3",
           "#FF6692",
           "#B6E880",
           "#FF97FF",
           "#FECB52"
          ],
          "font": {
           "color": "#2a3f5f"
          },
          "geo": {
           "bgcolor": "white",
           "lakecolor": "white",
           "landcolor": "#E5ECF6",
           "showlakes": true,
           "showland": true,
           "subunitcolor": "white"
          },
          "hoverlabel": {
           "align": "left"
          },
          "hovermode": "closest",
          "mapbox": {
           "style": "light"
          },
          "paper_bgcolor": "white",
          "plot_bgcolor": "#E5ECF6",
          "polar": {
           "angularaxis": {
            "gridcolor": "white",
            "linecolor": "white",
            "ticks": ""
           },
           "bgcolor": "#E5ECF6",
           "radialaxis": {
            "gridcolor": "white",
            "linecolor": "white",
            "ticks": ""
           }
          },
          "scene": {
           "xaxis": {
            "backgroundcolor": "#E5ECF6",
            "gridcolor": "white",
            "gridwidth": 2,
            "linecolor": "white",
            "showbackground": true,
            "ticks": "",
            "zerolinecolor": "white"
           },
           "yaxis": {
            "backgroundcolor": "#E5ECF6",
            "gridcolor": "white",
            "gridwidth": 2,
            "linecolor": "white",
            "showbackground": true,
            "ticks": "",
            "zerolinecolor": "white"
           },
           "zaxis": {
            "backgroundcolor": "#E5ECF6",
            "gridcolor": "white",
            "gridwidth": 2,
            "linecolor": "white",
            "showbackground": true,
            "ticks": "",
            "zerolinecolor": "white"
           }
          },
          "shapedefaults": {
           "line": {
            "color": "#2a3f5f"
           }
          },
          "ternary": {
           "aaxis": {
            "gridcolor": "white",
            "linecolor": "white",
            "ticks": ""
           },
           "baxis": {
            "gridcolor": "white",
            "linecolor": "white",
            "ticks": ""
           },
           "bgcolor": "#E5ECF6",
           "caxis": {
            "gridcolor": "white",
            "linecolor": "white",
            "ticks": ""
           }
          },
          "title": {
           "x": 0.05
          },
          "xaxis": {
           "automargin": true,
           "gridcolor": "white",
           "linecolor": "white",
           "ticks": "",
           "title": {
            "standoff": 15
           },
           "zerolinecolor": "white",
           "zerolinewidth": 2
          },
          "yaxis": {
           "automargin": true,
           "gridcolor": "white",
           "linecolor": "white",
           "ticks": "",
           "title": {
            "standoff": 15
           },
           "zerolinecolor": "white",
           "zerolinewidth": 2
          }
         }
        },
        "title": {
         "text": "Average evo-likelihood original residue ranks (conserved positions)"
        },
        "xaxis": {
         "anchor": "y",
         "domain": [
          0,
          0.49
         ],
         "range": [
          0,
          20
         ],
         "title": {
          "text": "mean_unmutated_pos_rank"
         },
         "type": "linear"
        },
        "xaxis2": {
         "anchor": "y2",
         "domain": [
          0.51,
          1
         ],
         "matches": "x",
         "range": [
          0,
          20
         ],
         "title": {
          "text": "mean_unmutated_pos_rank"
         },
         "type": "linear"
        },
        "xaxis3": {
         "anchor": "y3",
         "domain": [
          0,
          0.49
         ],
         "matches": "x",
         "range": [
          0,
          20
         ],
         "showticklabels": false,
         "type": "linear"
        },
        "xaxis4": {
         "anchor": "y4",
         "domain": [
          0.51,
          1
         ],
         "matches": "x",
         "range": [
          0,
          20
         ],
         "showticklabels": false,
         "type": "linear"
        },
        "yaxis": {
         "anchor": "x",
         "domain": [
          0,
          0.46499999999999997
         ],
         "range": [
          0,
          110
         ],
         "title": {
          "text": "count"
         }
        },
        "yaxis2": {
         "anchor": "x2",
         "domain": [
          0,
          0.46499999999999997
         ],
         "matches": "y",
         "range": [
          0,
          110
         ],
         "showticklabels": false
        },
        "yaxis3": {
         "anchor": "x3",
         "domain": [
          0.5349999999999999,
          0.9999999999999999
         ],
         "matches": "y",
         "range": [
          0,
          110
         ],
         "title": {
          "text": "count"
         }
        },
        "yaxis4": {
         "anchor": "x4",
         "domain": [
          0.5349999999999999,
          0.9999999999999999
         ],
         "matches": "y",
         "range": [
          0,
          110
         ],
         "showticklabels": false
        }
       }
      },
      "image/png": "[encoded data removed]",
      "text/html": [
       "<div>                            <div id=\"bc3d408b-c4f1-4054-8daf-2e807cd8826d\" class=\"plotly-graph-div\" style=\"height:600px; width:100%;\"></div>            <script type=\"text/javascript\">                require([\"plotly\"], function(Plotly) {                    window.PLOTLYENV=window.PLOTLYENV || {};                                    if (document.getElementById(\"bc3d408b-c4f1-4054-8daf-2e807cd8826d\")) {                    Plotly.newPlot(                        \"bc3d408b-c4f1-4054-8daf-2e807cd8826d\",                        [{\"alignmentgroup\":\"True\",\"bingroup\":\"x\",\"hovertemplate\":\"model=ablang\\u003cbr\\u003emean_unmutated_pos_rank=%{x}\\u003cbr\\u003ecount=%{y}\\u003cextra\\u003e\\u003c\\u002fextra\\u003e\",\"legendgroup\":\"\",\"marker\":{\"color\":\"#636efa\",\"pattern\":{\"shape\":\"\"}},\"name\":\"\",\"offsetgroup\":\"\",\"orientation\":\"v\",\"showlegend\":false,\"x\":[1.0212765957446808,1.02,1.1041666666666667,1.925619834710744,1.925619834710744,1.9827586206896552,1.528301886792453,1.5779816513761469,1.351351351351351,1.3428571428571427,1.3611111111111112,1.25,1.2241379310344829,1.8429752066115703,1.829268292682927,1.4672897196261685,1.4257425742574257,1.509433962264151,1.8484848484848484,1.3454545454545457,1.5213675213675213,1.4684684684684686,1.125,1.4690265486725664,1.391304347826087,1.5137614678899085,1.2372881355932204,1.6440677966101696,1.4655172413793105,1.353448275862069,1.8504672897196264,1.2857142857142858,1.6528925619834711,1.4672131147540983,1.504201680672269,1.5,1.2173913043478262,1.4,1.2743362831858407,1.4649122807017545,1.30188679245283,1.4018691588785046,1.3652173913043475,1.7522935779816513,1.1694915254237288,1.1964285714285714,1.694915254237288,1.9646017699115044,1.1637931034482758,1.588235294117647,1.2820512820512822,1.376068376068376,1.6721311475409837,1.851851851851852,1.191304347826087,1.2685185185185186,1.2436974789915969,1.2307692307692308,1.3300970873786409,1.4727272727272729,1.601851851851852,1.2884615384615383,1.2882882882882882,1.3211009174311927,1.339622641509434,1.7767857142857142,1.1415929203539823,1.152542372881356,1.5809523809523809,1.4736842105263157,1.7777777777777777,1.4956521739130435,1.575,1.1428571428571428,1.4369747899159664,1.5462962962962965,1.6869565217391305,1.137931034482759,1.8363636363636364,1.5,1.2894736842105263,1.5,1.6581196581196582,1.859504132231405,1.504201680672269,1.15748031496063,1.0344827586206895,1.0,1.592920353982301,1.5172413793103448,1.375,1.728813559322034,1.1794871794871795,1.4166666666666667,1.5081967213114753,1.2],\"xaxis\":\"x3\",\"yaxis\":\"y3\",\"type\":\"histogram\",\"xbins\":{\"size\":1}},{\"alignmentgroup\":\"True\",\"bingroup\":\"x\",\"hovertemplate\":\"model=protbert\\u003cbr\\u003emean_unmutated_pos_rank=%{x}\\u003cbr\\u003ecount=%{y}\\u003cextra\\u003e\\u003c\\u002fextra\\u003e\",\"legendgroup\":\"\",\"marker\":{\"color\":\"#636efa\",\"pattern\":{\"shape\":\"\"}},\"name\":\"\",\"offsetgroup\":\"\",\"orientation\":\"v\",\"showlegend\":false,\"x\":[1.0106382978723405,1.0,1.0208333333333333,1.4049586776859504,1.4049586776859504,1.4396551724137931,1.018867924528302,1.018348623853211,1.009009009009009,1.0095238095238095,1.0185185185185186,1.0089285714285714,1.0172413793103448,1.0578512396694215,1.0731707317073171,1.0467289719626167,1.0495049504950495,1.0660377358490567,1.0,1.0545454545454545,1.0598290598290598,1.045045045045045,1.0384615384615383,1.0973451327433628,1.0347826086956522,1.018348623853211,1.0508474576271187,1.0254237288135593,1.0172413793103448,1.0258620689655171,1.102803738317757,1.3529411764705883,1.3801652892561984,1.040983606557377,1.100840336134454,1.1,1.3565217391304347,1.3833333333333333,1.0530973451327434,1.0701754385964912,1.0471698113207548,1.1214953271028036,1.0434782608695652,1.0458715596330277,1.0508474576271187,1.0178571428571428,1.0593220338983051,1.1504424778761062,1.0172413793103448,1.0084033613445378,1.017094017094017,1.3333333333333333,1.3688524590163935,1.1759259259259258,1.0,1.0277777777777777,1.0168067226890756,1.3504273504273503,1.029126213592233,1.0454545454545454,1.037037037037037,1.0288461538461535,1.054054054054054,1.036697247706422,1.0377358490566038,1.1071428571428572,1.0176991150442478,1.0423728813559323,1.1142857142857143,1.0,1.0598290598290598,1.173913043478261,1.05,1.0,1.2016806722689075,1.1111111111111112,1.0608695652173914,1.0172413793103448,1.0909090909090908,1.018867924528302,1.0263157894736843,1.0948275862068966,1.051282051282051,1.181818181818182,1.0672268907563025,1.2913385826771653,1.0,1.0,1.0442477876106195,1.103448275862069,1.0446428571428572,1.076271186440678,1.0,1.0333333333333334,1.0573770491803278,1.0083333333333333],\"xaxis\":\"x4\",\"yaxis\":\"y4\",\"type\":\"histogram\",\"xbins\":{\"size\":1}},{\"alignmentgroup\":\"True\",\"bingroup\":\"x\",\"hovertemplate\":\"model=sapiens\\u003cbr\\u003emean_unmutated_pos_rank=%{x}\\u003cbr\\u003ecount=%{y}\\u003cextra\\u003e\\u003c\\u002fextra\\u003e\",\"legendgroup\":\"\",\"marker\":{\"color\":\"#636efa\",\"pattern\":{\"shape\":\"\"}},\"name\":\"\",\"offsetgroup\":\"\",\"orientation\":\"v\",\"showlegend\":false,\"x\":[1.0106382978723405,1.01,1.0208333333333333,1.1322314049586777,1.1322314049586777,1.137931034482759,1.0471698113207548,1.036697247706422,1.018018018018018,1.0285714285714285,1.037037037037037,1.0089285714285714,1.0086206896551724,1.0991735537190082,1.0975609756097562,1.0373831775700937,1.2277227722772277,1.0754716981132075,1.2121212121212122,1.0818181818181818,1.0598290598290598,1.027027027027027,1.0288461538461535,1.0884955752212389,1.017391304347826,1.073394495412844,1.0593220338983051,1.1016949152542372,1.0517241379310345,1.0517241379310345,1.102803738317757,1.0756302521008403,1.0826446280991735,1.0573770491803278,1.1428571428571428,1.1416666666666666,1.0260869565217392,1.025,1.0353982300884956,1.0263157894736843,1.0566037735849056,1.1121495327102804,1.0434782608695652,1.073394495412844,1.0508474576271187,1.0178571428571428,1.1016949152542372,1.1946902654867255,1.0344827586206895,1.0252100840336134,1.0256410256410255,1.0854700854700854,1.0737704918032789,1.037037037037037,1.0,1.037037037037037,1.0336134453781514,1.0256410256410255,1.029126213592233,1.0818181818181818,1.0462962962962965,1.0673076923076923,1.072072072072072,1.0275229357798166,1.0566037735849056,1.0625,1.0530973451327434,1.0254237288135593,1.0952380952380951,1.0263157894736843,1.0769230769230769,1.0782608695652174,1.075,1.0089285714285714,1.0588235294117647,1.1111111111111112,1.1652173913043478,1.0344827586206895,1.181818181818182,1.0377358490566038,1.0175438596491229,1.1206896551724137,1.0769230769230769,1.0495867768595042,1.0588235294117647,1.0393700787401574,1.0,1.0,1.0442477876106195,1.137931034482759,1.0535714285714286,1.1101694915254237,1.0,1.075,1.0819672131147542,1.0333333333333334],\"xaxis\":\"x\",\"yaxis\":\"y\",\"type\":\"histogram\",\"xbins\":{\"size\":1}},{\"alignmentgroup\":\"True\",\"bingroup\":\"x\",\"hovertemplate\":\"model=ESM\\u003cbr\\u003emean_unmutated_pos_rank=%{x}\\u003cbr\\u003ecount=%{y}\\u003cextra\\u003e\\u003c\\u002fextra\\u003e\",\"legendgroup\":\"\",\"marker\":{\"color\":\"#636efa\",\"pattern\":{\"shape\":\"\"}},\"name\":\"\",\"offsetgroup\":\"\",\"orientation\":\"v\",\"showlegend\":false,\"x\":[1.0425531914893618,1.03,1.0520833333333333,1.0826446280991735,1.0826446280991735,1.0775862068965518,1.0754716981132075,1.073394495412844,1.018018018018018,1.161904761904762,1.212962962962963,1.0089285714285714,1.0172413793103448,1.0578512396694215,1.08130081300813,1.0560747663551402,1.1287128712871286,1.150943396226415,1.0303030303030305,1.0727272727272728,1.1111111111111112,1.117117117117117,1.0288461538461535,1.0707964601769913,1.0521739130434782,1.0825688073394495,1.0338983050847457,1.076271186440678,1.0689655172413792,1.0172413793103448,1.1401869158878504,1.050420168067227,1.1735537190082646,1.278688524590164,1.1176470588235294,1.1166666666666667,1.017391304347826,1.0333333333333334,1.0884955752212389,1.0789473684210529,1.0566037735849056,1.1308411214953271,1.0695652173913044,1.0458715596330277,1.0593220338983051,1.0267857142857142,1.0508474576271187,1.1504424778761062,1.0517241379310345,1.0672268907563025,1.0598290598290598,1.0427350427350428,1.0819672131147542,1.0185185185185186,1.0347826086956522,1.0092592592592593,1.0084033613445378,1.017094017094017,1.077669902912621,1.1636363636363636,1.0833333333333333,1.0480769230769231,1.072072072072072,1.0275229357798166,1.0566037735849056,1.1160714285714286,1.0265486725663715,1.0932203389830508,1.0666666666666669,1.0350877192982455,1.051282051282051,1.0782608695652174,1.0833333333333333,1.0089285714285714,1.100840336134454,1.1944444444444444,1.0695652173913044,1.0862068965517242,1.181818181818182,1.0377358490566038,1.0175438596491229,1.2155172413793105,1.0769230769230769,1.024793388429752,1.0588235294117647,1.062992125984252,1.0,1.0,1.0619469026548674,1.1206896551724137,1.0803571428571428,1.271186440677966,1.0341880341880345,1.05,1.1721311475409837,1.0333333333333334],\"xaxis\":\"x2\",\"yaxis\":\"y2\",\"type\":\"histogram\",\"xbins\":{\"size\":1}}],                        {\"template\":{\"data\":{\"histogram2dcontour\":[{\"type\":\"histogram2dcontour\",\"colorbar\":{\"outlinewidth\":0,\"ticks\":\"\"},\"colorscale\":[[0.0,\"#0d0887\"],[0.1111111111111111,\"#46039f\"],[0.2222222222222222,\"#7201a8\"],[0.3333333333333333,\"#9c179e\"],[0.4444444444444444,\"#bd3786\"],[0.5555555555555556,\"#d8576b\"],[0.6666666666666666,\"#ed7953\"],[0.7777777777777778,\"#fb9f3a\"],[0.8888888888888888,\"#fdca26\"],[1.0,\"#f0f921\"]]}],\"choropleth\":[{\"type\":\"choropleth\",\"colorbar\":{\"outlinewidth\":0,\"ticks\":\"\"}}],\"histogram2d\":[{\"type\":\"histogram2d\",\"colorbar\":{\"outlinewidth\":0,\"ticks\":\"\"},\"colorscale\":[[0.0,\"#0d0887\"],[0.1111111111111111,\"#46039f\"],[0.2222222222222222,\"#7201a8\"],[0.3333333333333333,\"#9c179e\"],[0.4444444444444444,\"#bd3786\"],[0.5555555555555556,\"#d8576b\"],[0.6666666666666666,\"#ed7953\"],[0.7777777777777778,\"#fb9f3a\"],[0.8888888888888888,\"#fdca26\"],[1.0,\"#f0f921\"]]}],\"heatmap\":[{\"type\":\"heatmap\",\"colorbar\":{\"outlinewidth\":0,\"ticks\":\"\"},\"colorscale\":[[0.0,\"#0d0887\"],[0.1111111111111111,\"#46039f\"],[0.2222222222222222,\"#7201a8\"],[0.3333333333333333,\"#9c179e\"],[0.4444444444444444,\"#bd3786\"],[0.5555555555555556,\"#d8576b\"],[0.6666666666666666,\"#ed7953\"],[0.7777777777777778,\"#fb9f3a\"],[0.8888888888888888,\"#fdca26\"],[1.0,\"#f0f921\"]]}],\"heatmapgl\":[{\"type\":\"heatmapgl\",\"colorbar\":{\"outlinewidth\":0,\"ticks\":\"\"},\"colorscale\":[[0.0,\"#0d0887\"],[0.1111111111111111,\"#46039f\"],[0.2222222222222222,\"#7201a8\"],[0.3333333333333333,\"#9c179e\"],[0.4444444444444444,\"#bd3786\"],[0.5555555555555556,\"#d8576b\"],[0.6666666666666666,\"#ed7953\"],[0.7777777777777778,\"#fb9f3a\"],[0.8888888888888888,\"#fdca26\"],[1.0,\"#f0f921\"]]}],\"contourcarpet\":[{\"type\":\"contourcarpet\",\"colorbar\":{\"outlinewidth\":0,\"ticks\":\"\"}}],\"contour\":[{\"type\":\"contour\",\"colorbar\":{\"outlinewidth\":0,\"ticks\":\"\"},\"colorscale\":[[0.0,\"#0d0887\"],[0.1111111111111111,\"#46039f\"],[0.2222222222222222,\"#7201a8\"],[0.3333333333333333,\"#9c179e\"],[0.4444444444444444,\"#bd3786\"],[0.5555555555555556,\"#d8576b\"],[0.6666666666666666,\"#ed7953\"],[0.7777777777777778,\"#fb9f3a\"],[0.8888888888888888,\"#fdca26\"],[1.0,\"#f0f921\"]]}],\"surface\":[{\"type\":\"surface\",\"colorbar\":{\"outlinewidth\":0,\"ticks\":\"\"},\"colorscale\":[[0.0,\"#0d0887\"],[0.1111111111111111,\"#46039f\"],[0.2222222222222222,\"#7201a8\"],[0.3333333333333333,\"#9c179e\"],[0.4444444444444444,\"#bd3786\"],[0.5555555555555556,\"#d8576b\"],[0.6666666666666666,\"#ed7953\"],[0.7777777777777778,\"#fb9f3a\"],[0.8888888888888888,\"#fdca26\"],[1.0,\"#f0f921\"]]}],\"mesh3d\":[{\"type\":\"mesh3d\",\"colorbar\":{\"outlinewidth\":0,\"ticks\":\"\"}}],\"scatter\":[{\"fillpattern\":{\"fillmode\":\"overlay\",\"size\":10,\"solidity\":0.2},\"type\":\"scatter\"}],\"parcoords\":[{\"type\":\"parcoords\",\"line\":{\"colorbar\":{\"outlinewidth\":0,\"ticks\":\"\"}}}],\"scatterpolargl\":[{\"type\":\"scatterpolargl\",\"marker\":{\"colorbar\":{\"outlinewidth\":0,\"ticks\":\"\"}}}],\"bar\":[{\"error_x\":{\"color\":\"#2a3f5f\"},\"error_y\":{\"color\":\"#2a3f5f\"},\"marker\":{\"line\":{\"color\":\"#E5ECF6\",\"width\":0.5},\"pattern\":{\"fillmode\":\"overlay\",\"size\":10,\"solidity\":0.2}},\"type\":\"bar\"}],\"scattergeo\":[{\"type\":\"scattergeo\",\"marker\":{\"colorbar\":{\"outlinewidth\":0,\"ticks\":\"\"}}}],\"scatterpolar\":[{\"type\":\"scatterpolar\",\"marker\":{\"colorbar\":{\"outlinewidth\":0,\"ticks\":\"\"}}}],\"histogram\":[{\"marker\":{\"pattern\":{\"fillmode\":\"overlay\",\"size\":10,\"solidity\":0.2}},\"type\":\"histogram\"}],\"scattergl\":[{\"type\":\"scattergl\",\"marker\":{\"colorbar\":{\"outlinewidth\":0,\"ticks\":\"\"}}}],\"scatter3d\":[{\"type\":\"scatter3d\",\"line\":{\"colorbar\":{\"outlinewidth\":0,\"ticks\":\"\"}},\"marker\":{\"colorbar\":{\"outlinewidth\":0,\"ticks\":\"\"}}}],\"scattermapbox\":[{\"type\":\"scattermapbox\",\"marker\":{\"colorbar\":{\"outlinewidth\":0,\"ticks\":\"\"}}}],\"scatterternary\":[{\"type\":\"scatterternary\",\"marker\":{\"colorbar\":{\"outlinewidth\":0,\"ticks\":\"\"}}}],\"scattercarpet\":[{\"type\":\"scattercarpet\",\"marker\":{\"colorbar\":{\"outlinewidth\":0,\"ticks\":\"\"}}}],\"carpet\":[{\"aaxis\":{\"endlinecolor\":\"#2a3f5f\",\"gridcolor\":\"white\",\"linecolor\":\"white\",\"minorgridcolor\":\"white\",\"startlinecolor\":\"#2a3f5f\"},\"baxis\":{\"endlinecolor\":\"#2a3f5f\",\"gridcolor\":\"white\",\"linecolor\":\"white\",\"minorgridcolor\":\"white\",\"startlinecolor\":\"#2a3f5f\"},\"type\":\"carpet\"}],\"table\":[{\"cells\":{\"fill\":{\"color\":\"#EBF0F8\"},\"line\":{\"color\":\"white\"}},\"header\":{\"fill\":{\"color\":\"#C8D4E3\"},\"line\":{\"color\":\"white\"}},\"type\":\"table\"}],\"barpolar\":[{\"marker\":{\"line\":{\"color\":\"#E5ECF6\",\"width\":0.5},\"pattern\":{\"fillmode\":\"overlay\",\"size\":10,\"solidity\":0.2}},\"type\":\"barpolar\"}],\"pie\":[{\"automargin\":true,\"type\":\"pie\"}]},\"layout\":{\"autotypenumbers\":\"strict\",\"colorway\":[\"#636efa\",\"#EF553B\",\"#00cc96\",\"#ab63fa\",\"#FFA15A\",\"#19d3f3\",\"#FF6692\",\"#B6E880\",\"#FF97FF\",\"#FECB52\"],\"font\":{\"color\":\"#2a3f5f\"},\"hovermode\":\"closest\",\"hoverlabel\":{\"align\":\"left\"},\"paper_bgcolor\":\"white\",\"plot_bgcolor\":\"#E5ECF6\",\"polar\":{\"bgcolor\":\"#E5ECF6\",\"angularaxis\":{\"gridcolor\":\"white\",\"linecolor\":\"white\",\"ticks\":\"\"},\"radialaxis\":{\"gridcolor\":\"white\",\"linecolor\":\"white\",\"ticks\":\"\"}},\"ternary\":{\"bgcolor\":\"#E5ECF6\",\"aaxis\":{\"gridcolor\":\"white\",\"linecolor\":\"white\",\"ticks\":\"\"},\"baxis\":{\"gridcolor\":\"white\",\"linecolor\":\"white\",\"ticks\":\"\"},\"caxis\":{\"gridcolor\":\"white\",\"linecolor\":\"white\",\"ticks\":\"\"}},\"coloraxis\":{\"colorbar\":{\"outlinewidth\":0,\"ticks\":\"\"}},\"colorscale\":{\"sequential\":[[0.0,\"#0d0887\"],[0.1111111111111111,\"#46039f\"],[0.2222222222222222,\"#7201a8\"],[0.3333333333333333,\"#9c179e\"],[0.4444444444444444,\"#bd3786\"],[0.5555555555555556,\"#d8576b\"],[0.6666666666666666,\"#ed7953\"],[0.7777777777777778,\"#fb9f3a\"],[0.8888888888888888,\"#fdca26\"],[1.0,\"#f0f921\"]],\"sequentialminus\":[[0.0,\"#0d0887\"],[0.1111111111111111,\"#46039f\"],[0.2222222222222222,\"#7201a8\"],[0.3333333333333333,\"#9c179e\"],[0.4444444444444444,\"#bd3786\"],[0.5555555555555556,\"#d8576b\"],[0.6666666666666666,\"#ed7953\"],[0.7777777777777778,\"#fb9f3a\"],[0.8888888888888888,\"#fdca26\"],[1.0,\"#f0f921\"]],\"diverging\":[[0,\"#8e0152\"],[0.1,\"#c51b7d\"],[0.2,\"#de77ae\"],[0.3,\"#f1b6da\"],[0.4,\"#fde0ef\"],[0.5,\"#f7f7f7\"],[0.6,\"#e6f5d0\"],[0.7,\"#b8e186\"],[0.8,\"#7fbc41\"],[0.9,\"#4d9221\"],[1,\"#276419\"]]},\"xaxis\":{\"gridcolor\":\"white\",\"linecolor\":\"white\",\"ticks\":\"\",\"title\":{\"standoff\":15},\"zerolinecolor\":\"white\",\"automargin\":true,\"zerolinewidth\":2},\"yaxis\":{\"gridcolor\":\"white\",\"linecolor\":\"white\",\"ticks\":\"\",\"title\":{\"standoff\":15},\"zerolinecolor\":\"white\",\"automargin\":true,\"zerolinewidth\":2},\"scene\":{\"xaxis\":{\"backgroundcolor\":\"#E5ECF6\",\"gridcolor\":\"white\",\"linecolor\":\"white\",\"showbackground\":true,\"ticks\":\"\",\"zerolinecolor\":\"white\",\"gridwidth\":2},\"yaxis\":{\"backgroundcolor\":\"#E5ECF6\",\"gridcolor\":\"white\",\"linecolor\":\"white\",\"showbackground\":true,\"ticks\":\"\",\"zerolinecolor\":\"white\",\"gridwidth\":2},\"zaxis\":{\"backgroundcolor\":\"#E5ECF6\",\"gridcolor\":\"white\",\"linecolor\":\"white\",\"showbackground\":true,\"ticks\":\"\",\"zerolinecolor\":\"white\",\"gridwidth\":2}},\"shapedefaults\":{\"line\":{\"color\":\"#2a3f5f\"}},\"annotationdefaults\":{\"arrowcolor\":\"#2a3f5f\",\"arrowhead\":0,\"arrowwidth\":1},\"geo\":{\"bgcolor\":\"white\",\"landcolor\":\"#E5ECF6\",\"subunitcolor\":\"white\",\"showland\":true,\"showlakes\":true,\"lakecolor\":\"white\"},\"title\":{\"x\":0.05},\"mapbox\":{\"style\":\"light\"}}},\"xaxis\":{\"anchor\":\"y\",\"domain\":[0.0,0.49],\"title\":{\"text\":\"mean_unmutated_pos_rank\"},\"range\":[0,20]},\"yaxis\":{\"anchor\":\"x\",\"domain\":[0.0,0.46499999999999997],\"title\":{\"text\":\"count\"},\"range\":[0,110]},\"xaxis2\":{\"anchor\":\"y2\",\"domain\":[0.51,1.0],\"matches\":\"x\",\"title\":{\"text\":\"mean_unmutated_pos_rank\"},\"range\":[0,20]},\"yaxis2\":{\"anchor\":\"x2\",\"domain\":[0.0,0.46499999999999997],\"matches\":\"y\",\"showticklabels\":false,\"range\":[0,110]},\"xaxis3\":{\"anchor\":\"y3\",\"domain\":[0.0,0.49],\"matches\":\"x\",\"showticklabels\":false,\"range\":[0,20]},\"yaxis3\":{\"anchor\":\"x3\",\"domain\":[0.5349999999999999,0.9999999999999999],\"matches\":\"y\",\"title\":{\"text\":\"count\"},\"range\":[0,110]},\"xaxis4\":{\"anchor\":\"y4\",\"domain\":[0.51,1.0],\"matches\":\"x\",\"showticklabels\":false,\"range\":[0,20]},\"yaxis4\":{\"anchor\":\"x4\",\"domain\":[0.5349999999999999,0.9999999999999999],\"matches\":\"y\",\"showticklabels\":false,\"range\":[0,110]},\"annotations\":[{\"font\":{},\"showarrow\":false,\"text\":\"model=sapiens\",\"x\":0.245,\"xanchor\":\"center\",\"xref\":\"paper\",\"y\":0.46499999999999997,\"yanchor\":\"bottom\",\"yref\":\"paper\"},{\"font\":{},\"showarrow\":false,\"text\":\"model=ESM\",\"x\":0.755,\"xanchor\":\"center\",\"xref\":\"paper\",\"y\":0.46499999999999997,\"yanchor\":\"bottom\",\"yref\":\"paper\"},{\"font\":{},\"showarrow\":false,\"text\":\"model=ablang\",\"x\":0.245,\"xanchor\":\"center\",\"xref\":\"paper\",\"y\":0.9999999999999999,\"yanchor\":\"bottom\",\"yref\":\"paper\"},{\"font\":{},\"showarrow\":false,\"text\":\"model=protbert\",\"x\":0.755,\"xanchor\":\"center\",\"xref\":\"paper\",\"y\":0.9999999999999999,\"yanchor\":\"bottom\",\"yref\":\"paper\"}],\"legend\":{\"tracegroupgap\":0},\"title\":{\"text\":\"Average evo-likelihood original residue ranks (conserved positions)\"},\"barmode\":\"relative\",\"font\":{\"size\":21},\"height\":600},                        {\"responsive\": true}                    ).then(function(){\n",
       "                            \n",
       "var gd = document.getElementById('bc3d408b-c4f1-4054-8daf-2e807cd8826d');\n",
       "var x = new MutationObserver(function (mutations, observer) {{\n",
       "        var display = window.getComputedStyle(gd).display;\n",
       "        if (!display || display === 'none') {{\n",
       "            console.log([gd, 'removed!']);\n",
       "            Plotly.purge(gd);\n",
       "            observer.disconnect();\n",
       "        }}\n",
       "}});\n",
       "\n",
       "// Listen for the removal of the full notebook cells\n",
       "var notebookContainer = gd.closest('#notebook-container');\n",
       "if (notebookContainer) {{\n",
       "    x.observe(notebookContainer, {childList: true});\n",
       "}}\n",
       "\n",
       "// Listen for the clearing of the current output cell\n",
       "var outputEl = gd.closest('.output');\n",
       "if (outputEl) {{\n",
       "    x.observe(outputEl, {childList: true});\n",
       "}}\n",
       "\n",
       "                        })                };                });            </script>        </div>"
      ]
     },
     "metadata": {},
     "output_type": "display_data"
    }
   ],
   "source": [
    "output_table_subset = output_table#.loc[(output_table[\"n_subs\"] == 1),:]\n",
    "\n",
    "fig = px.histogram(\n",
    "    data_frame = output_table_subset,\n",
    "    x = \"mean_unmutated_pos_rank\",\n",
    "    facet_col = \"model\",\n",
    "    facet_col_wrap=2,\n",
    "    orientation = \"v\",\n",
    "    title=f'Average evo-likelihood original residue ranks (conserved positions)',\n",
    ")\n",
    "\n",
    "fig.update_traces(xbins_size=1)\n",
    "fig.update_layout(height = 600, font_size = 21)\n",
    "fig.update_xaxes(range=[0, 20])\n",
    "fig.update_yaxes(range=[0, 110])\n",
    "\n",
    "fig.show()"
   ]
  },
  {
   "cell_type": "code",
   "execution_count": 41,
   "id": "f40115ac-5480-4ac7-8307-7baf7f65087b",
   "metadata": {},
   "outputs": [
    {
     "data": {
      "application/vnd.plotly.v1+json": {
       "config": {
        "plotlyServerURL": "https://plot.ly"
       },
       "data": [
        {
         "alignmentgroup": "True",
         "bingroup": "x",
         "hovertemplate": "model=ablang<br>mean_unmutated_pos_probs=%{x}<br>count=%{y}<extra></extra>",
         "legendgroup": "",
         "marker": {
          "color": "#636efa",
          "pattern": {
           "shape": ""
          }
         },
         "name": "",
         "offsetgroup": "",
         "orientation": "v",
         "showlegend": false,
         "type": "histogram",
         "x": [
          0.9266573,
          0.9214785,
          0.89415336,
          0.8035846,
          0.8048091,
          0.79213077,
          0.8638852,
          0.86922693,
          0.883006,
          0.918542,
          0.9108808,
          0.8827432,
          0.89659315,
          0.8550111,
          0.85427254,
          0.868641,
          0.8248453,
          0.7549525,
          0.8506015,
          0.8013773,
          0.85829914,
          0.8333014,
          0.8615878,
          0.7942358,
          0.86983484,
          0.87378985,
          0.8772617,
          0.79265386,
          0.85085887,
          0.88336617,
          0.80948836,
          0.7995677,
          0.8010809,
          0.8560216,
          0.8263471,
          0.8217905,
          0.8764693,
          0.82663995,
          0.85305357,
          0.84488916,
          0.86673987,
          0.8297879,
          0.83455473,
          0.7666143,
          0.8743345,
          0.8621306,
          0.78175116,
          0.66029364,
          0.8637842,
          0.81941456,
          0.89127123,
          0.8150214,
          0.81467456,
          0.810369,
          0.9272704,
          0.87873113,
          0.86683345,
          0.8687767,
          0.824586,
          0.78985554,
          0.86805254,
          0.84771156,
          0.8149144,
          0.86905867,
          0.8451729,
          0.76843613,
          0.85512424,
          0.9079368,
          0.8193248,
          0.8519526,
          0.7538624,
          0.8010448,
          0.79068714,
          0.8970284,
          0.8035793,
          0.79492384,
          0.7674982,
          0.85922664,
          0.77607983,
          0.79243404,
          0.8346575,
          0.8042444,
          0.7533902,
          0.7514249,
          0.76111627,
          0.8866831,
          0.9603943,
          0.99591905,
          0.86236906,
          0.8259984,
          0.8552533,
          0.68913656,
          0.9203212,
          0.81008184,
          0.8006721,
          0.89066994
         ],
         "xaxis": "x3",
         "xbins": {
          "size": 0.1
         },
         "yaxis": "y3"
        },
        {
         "alignmentgroup": "True",
         "bingroup": "x",
         "hovertemplate": "model=protbert<br>mean_unmutated_pos_probs=%{x}<br>count=%{y}<extra></extra>",
         "legendgroup": "",
         "marker": {
          "color": "#636efa",
          "pattern": {
           "shape": ""
          }
         },
         "name": "",
         "offsetgroup": "",
         "orientation": "v",
         "showlegend": false,
         "type": "histogram",
         "x": [
          0.9717578,
          0.97451174,
          0.963336,
          0.89313895,
          0.89318985,
          0.88121104,
          0.94296014,
          0.93812525,
          0.95828396,
          0.97497123,
          0.96647567,
          0.9453033,
          0.9435019,
          0.8480543,
          0.8424888,
          0.93898004,
          0.9125923,
          0.91180444,
          0.9398911,
          0.9099757,
          0.92605174,
          0.9132888,
          0.9291637,
          0.91315377,
          0.92503977,
          0.9338268,
          0.94424576,
          0.90942705,
          0.940727,
          0.9218865,
          0.91562253,
          0.8991064,
          0.8834346,
          0.94050467,
          0.90752983,
          0.9076317,
          0.9316532,
          0.9097664,
          0.9310909,
          0.9295109,
          0.93478537,
          0.92216575,
          0.9246249,
          0.9161295,
          0.9382327,
          0.9457334,
          0.91884005,
          0.8336722,
          0.9342015,
          0.9315043,
          0.94950217,
          0.89255244,
          0.8970707,
          0.9297999,
          0.97202665,
          0.9482018,
          0.9439214,
          0.9292855,
          0.92641747,
          0.903567,
          0.9466329,
          0.91990083,
          0.93355453,
          0.93640435,
          0.9265521,
          0.89066464,
          0.94239795,
          0.91244286,
          0.9318254,
          0.93592745,
          0.90074104,
          0.9247929,
          0.9108227,
          0.9691936,
          0.91211957,
          0.89986724,
          0.90357995,
          0.94045895,
          0.8984401,
          0.92976683,
          0.91643965,
          0.9196515,
          0.90522647,
          0.90194726,
          0.90876734,
          0.9416363,
          0.98156554,
          0.9842036,
          0.94654816,
          0.90913546,
          0.91496223,
          0.86760104,
          0.9721549,
          0.9226217,
          0.9248419,
          0.9472519
         ],
         "xaxis": "x4",
         "xbins": {
          "size": 0.1
         },
         "yaxis": "y4"
        },
        {
         "alignmentgroup": "True",
         "bingroup": "x",
         "hovertemplate": "model=sapiens<br>mean_unmutated_pos_probs=%{x}<br>count=%{y}<extra></extra>",
         "legendgroup": "",
         "marker": {
          "color": "#636efa",
          "pattern": {
           "shape": ""
          }
         },
         "name": "",
         "offsetgroup": "",
         "orientation": "v",
         "showlegend": false,
         "type": "histogram",
         "x": [
          0.8828974,
          0.88809127,
          0.87231046,
          0.81160414,
          0.8115568,
          0.80363977,
          0.84778035,
          0.8540175,
          0.8593341,
          0.86877495,
          0.8621953,
          0.86045825,
          0.8703705,
          0.8262093,
          0.8274867,
          0.8517183,
          0.8238066,
          0.810991,
          0.83194524,
          0.82761544,
          0.83575875,
          0.844591,
          0.86748725,
          0.8277952,
          0.8631598,
          0.8373567,
          0.85588133,
          0.8058219,
          0.84226424,
          0.85882527,
          0.81464046,
          0.83851415,
          0.82490826,
          0.84317553,
          0.76436526,
          0.76270187,
          0.87097365,
          0.84662217,
          0.85209394,
          0.85016406,
          0.8509924,
          0.83662206,
          0.83832985,
          0.8210369,
          0.8486443,
          0.8565141,
          0.81237197,
          0.76420575,
          0.85409105,
          0.84508824,
          0.86375475,
          0.8361047,
          0.82155764,
          0.83577055,
          0.87663907,
          0.8623857,
          0.85179853,
          0.86681664,
          0.83278656,
          0.8170915,
          0.84692085,
          0.8390089,
          0.8416197,
          0.8538235,
          0.8387781,
          0.8238822,
          0.8439332,
          0.86385435,
          0.84358335,
          0.8518006,
          0.80458194,
          0.8330406,
          0.8162219,
          0.8792449,
          0.8385653,
          0.8284753,
          0.81626105,
          0.86052114,
          0.80321705,
          0.84243834,
          0.8590057,
          0.8341876,
          0.81623226,
          0.8159335,
          0.81473356,
          0.8570589,
          0.8929438,
          0.9012479,
          0.8450816,
          0.76443595,
          0.8478101,
          0.7885602,
          0.877127,
          0.83528084,
          0.8324737,
          0.8587161
         ],
         "xaxis": "x",
         "xbins": {
          "size": 0.1
         },
         "yaxis": "y"
        },
        {
         "alignmentgroup": "True",
         "bingroup": "x",
         "hovertemplate": "model=ESM<br>mean_unmutated_pos_probs=%{x}<br>count=%{y}<extra></extra>",
         "legendgroup": "",
         "marker": {
          "color": "#636efa",
          "pattern": {
           "shape": ""
          }
         },
         "name": "",
         "offsetgroup": "",
         "orientation": "v",
         "showlegend": false,
         "type": "histogram",
         "x": [
          0.90462095,
          0.90528977,
          0.8855124,
          0.8907794,
          0.89228344,
          0.8882716,
          0.8882755,
          0.8839931,
          0.92925614,
          0.89355505,
          0.877948,
          0.90179855,
          0.91023916,
          0.82524884,
          0.8190407,
          0.8850374,
          0.8796392,
          0.8605498,
          0.9187304,
          0.89596784,
          0.8741041,
          0.8834722,
          0.8774408,
          0.8771493,
          0.8921166,
          0.9112709,
          0.9258678,
          0.85246515,
          0.8895008,
          0.8726325,
          0.88819736,
          0.8839693,
          0.8505662,
          0.84841835,
          0.8810656,
          0.8815018,
          0.9209421,
          0.89576024,
          0.8984737,
          0.89511794,
          0.91690004,
          0.9133364,
          0.8840978,
          0.8701987,
          0.9190222,
          0.92964226,
          0.9084902,
          0.81098783,
          0.9122776,
          0.8835563,
          0.91578317,
          0.874919,
          0.8861499,
          0.88760734,
          0.93617326,
          0.9345834,
          0.9309746,
          0.9174523,
          0.89111537,
          0.85827416,
          0.9240727,
          0.90297616,
          0.90531147,
          0.92415506,
          0.9108718,
          0.8737479,
          0.9221277,
          0.8730426,
          0.9194734,
          0.8983204,
          0.88891184,
          0.91134864,
          0.88797444,
          0.9315155,
          0.8881911,
          0.8589825,
          0.87305146,
          0.8823873,
          0.85150355,
          0.90705466,
          0.8780947,
          0.8877434,
          0.8664664,
          0.8816831,
          0.8616817,
          0.9070096,
          0.9602413,
          0.9449266,
          0.9186266,
          0.88061,
          0.87384576,
          0.8298728,
          0.93466944,
          0.90977794,
          0.8936064,
          0.909461
         ],
         "xaxis": "x2",
         "xbins": {
          "size": 0.1
         },
         "yaxis": "y2"
        }
       ],
       "layout": {
        "annotations": [
         {
          "font": {},
          "showarrow": false,
          "text": "model=sapiens",
          "x": 0.245,
          "xanchor": "center",
          "xref": "paper",
          "y": 0.46499999999999997,
          "yanchor": "bottom",
          "yref": "paper"
         },
         {
          "font": {},
          "showarrow": false,
          "text": "model=ESM",
          "x": 0.755,
          "xanchor": "center",
          "xref": "paper",
          "y": 0.46499999999999997,
          "yanchor": "bottom",
          "yref": "paper"
         },
         {
          "font": {},
          "showarrow": false,
          "text": "model=ablang",
          "x": 0.245,
          "xanchor": "center",
          "xref": "paper",
          "y": 0.9999999999999999,
          "yanchor": "bottom",
          "yref": "paper"
         },
         {
          "font": {},
          "showarrow": false,
          "text": "model=protbert",
          "x": 0.755,
          "xanchor": "center",
          "xref": "paper",
          "y": 0.9999999999999999,
          "yanchor": "bottom",
          "yref": "paper"
         }
        ],
        "autosize": true,
        "barmode": "relative",
        "font": {
         "size": 21
        },
        "legend": {
         "tracegroupgap": 0
        },
        "template": {
         "data": {
          "bar": [
           {
            "error_x": {
             "color": "#2a3f5f"
            },
            "error_y": {
             "color": "#2a3f5f"
            },
            "marker": {
             "line": {
              "color": "#E5ECF6",
              "width": 0.5
             },
             "pattern": {
              "fillmode": "overlay",
              "size": 10,
              "solidity": 0.2
             }
            },
            "type": "bar"
           }
          ],
          "barpolar": [
           {
            "marker": {
             "line": {
              "color": "#E5ECF6",
              "width": 0.5
             },
             "pattern": {
              "fillmode": "overlay",
              "size": 10,
              "solidity": 0.2
             }
            },
            "type": "barpolar"
           }
          ],
          "carpet": [
           {
            "aaxis": {
             "endlinecolor": "#2a3f5f",
             "gridcolor": "white",
             "linecolor": "white",
             "minorgridcolor": "white",
             "startlinecolor": "#2a3f5f"
            },
            "baxis": {
             "endlinecolor": "#2a3f5f",
             "gridcolor": "white",
             "linecolor": "white",
             "minorgridcolor": "white",
             "startlinecolor": "#2a3f5f"
            },
            "type": "carpet"
           }
          ],
          "choropleth": [
           {
            "colorbar": {
             "outlinewidth": 0,
             "ticks": ""
            },
            "type": "choropleth"
           }
          ],
          "contour": [
           {
            "colorbar": {
             "outlinewidth": 0,
             "ticks": ""
            },
            "colorscale": [
             [
              0,
              "#0d0887"
             ],
             [
              0.1111111111111111,
              "#46039f"
             ],
             [
              0.2222222222222222,
              "#7201a8"
             ],
             [
              0.3333333333333333,
              "#9c179e"
             ],
             [
              0.4444444444444444,
              "#bd3786"
             ],
             [
              0.5555555555555556,
              "#d8576b"
             ],
             [
              0.6666666666666666,
              "#ed7953"
             ],
             [
              0.7777777777777778,
              "#fb9f3a"
             ],
             [
              0.8888888888888888,
              "#fdca26"
             ],
             [
              1,
              "#f0f921"
             ]
            ],
            "type": "contour"
           }
          ],
          "contourcarpet": [
           {
            "colorbar": {
             "outlinewidth": 0,
             "ticks": ""
            },
            "type": "contourcarpet"
           }
          ],
          "heatmap": [
           {
            "colorbar": {
             "outlinewidth": 0,
             "ticks": ""
            },
            "colorscale": [
             [
              0,
              "#0d0887"
             ],
             [
              0.1111111111111111,
              "#46039f"
             ],
             [
              0.2222222222222222,
              "#7201a8"
             ],
             [
              0.3333333333333333,
              "#9c179e"
             ],
             [
              0.4444444444444444,
              "#bd3786"
             ],
             [
              0.5555555555555556,
              "#d8576b"
             ],
             [
              0.6666666666666666,
              "#ed7953"
             ],
             [
              0.7777777777777778,
              "#fb9f3a"
             ],
             [
              0.8888888888888888,
              "#fdca26"
             ],
             [
              1,
              "#f0f921"
             ]
            ],
            "type": "heatmap"
           }
          ],
          "heatmapgl": [
           {
            "colorbar": {
             "outlinewidth": 0,
             "ticks": ""
            },
            "colorscale": [
             [
              0,
              "#0d0887"
             ],
             [
              0.1111111111111111,
              "#46039f"
             ],
             [
              0.2222222222222222,
              "#7201a8"
             ],
             [
              0.3333333333333333,
              "#9c179e"
             ],
             [
              0.4444444444444444,
              "#bd3786"
             ],
             [
              0.5555555555555556,
              "#d8576b"
             ],
             [
              0.6666666666666666,
              "#ed7953"
             ],
             [
              0.7777777777777778,
              "#fb9f3a"
             ],
             [
              0.8888888888888888,
              "#fdca26"
             ],
             [
              1,
              "#f0f921"
             ]
            ],
            "type": "heatmapgl"
           }
          ],
          "histogram": [
           {
            "marker": {
             "pattern": {
              "fillmode": "overlay",
              "size": 10,
              "solidity": 0.2
             }
            },
            "type": "histogram"
           }
          ],
          "histogram2d": [
           {
            "colorbar": {
             "outlinewidth": 0,
             "ticks": ""
            },
            "colorscale": [
             [
              0,
              "#0d0887"
             ],
             [
              0.1111111111111111,
              "#46039f"
             ],
             [
              0.2222222222222222,
              "#7201a8"
             ],
             [
              0.3333333333333333,
              "#9c179e"
             ],
             [
              0.4444444444444444,
              "#bd3786"
             ],
             [
              0.5555555555555556,
              "#d8576b"
             ],
             [
              0.6666666666666666,
              "#ed7953"
             ],
             [
              0.7777777777777778,
              "#fb9f3a"
             ],
             [
              0.8888888888888888,
              "#fdca26"
             ],
             [
              1,
              "#f0f921"
             ]
            ],
            "type": "histogram2d"
           }
          ],
          "histogram2dcontour": [
           {
            "colorbar": {
             "outlinewidth": 0,
             "ticks": ""
            },
            "colorscale": [
             [
              0,
              "#0d0887"
             ],
             [
              0.1111111111111111,
              "#46039f"
             ],
             [
              0.2222222222222222,
              "#7201a8"
             ],
             [
              0.3333333333333333,
              "#9c179e"
             ],
             [
              0.4444444444444444,
              "#bd3786"
             ],
             [
              0.5555555555555556,
              "#d8576b"
             ],
             [
              0.6666666666666666,
              "#ed7953"
             ],
             [
              0.7777777777777778,
              "#fb9f3a"
             ],
             [
              0.8888888888888888,
              "#fdca26"
             ],
             [
              1,
              "#f0f921"
             ]
            ],
            "type": "histogram2dcontour"
           }
          ],
          "mesh3d": [
           {
            "colorbar": {
             "outlinewidth": 0,
             "ticks": ""
            },
            "type": "mesh3d"
           }
          ],
          "parcoords": [
           {
            "line": {
             "colorbar": {
              "outlinewidth": 0,
              "ticks": ""
             }
            },
            "type": "parcoords"
           }
          ],
          "pie": [
           {
            "automargin": true,
            "type": "pie"
           }
          ],
          "scatter": [
           {
            "fillpattern": {
             "fillmode": "overlay",
             "size": 10,
             "solidity": 0.2
            },
            "type": "scatter"
           }
          ],
          "scatter3d": [
           {
            "line": {
             "colorbar": {
              "outlinewidth": 0,
              "ticks": ""
             }
            },
            "marker": {
             "colorbar": {
              "outlinewidth": 0,
              "ticks": ""
             }
            },
            "type": "scatter3d"
           }
          ],
          "scattercarpet": [
           {
            "marker": {
             "colorbar": {
              "outlinewidth": 0,
              "ticks": ""
             }
            },
            "type": "scattercarpet"
           }
          ],
          "scattergeo": [
           {
            "marker": {
             "colorbar": {
              "outlinewidth": 0,
              "ticks": ""
             }
            },
            "type": "scattergeo"
           }
          ],
          "scattergl": [
           {
            "marker": {
             "colorbar": {
              "outlinewidth": 0,
              "ticks": ""
             }
            },
            "type": "scattergl"
           }
          ],
          "scattermapbox": [
           {
            "marker": {
             "colorbar": {
              "outlinewidth": 0,
              "ticks": ""
             }
            },
            "type": "scattermapbox"
           }
          ],
          "scatterpolar": [
           {
            "marker": {
             "colorbar": {
              "outlinewidth": 0,
              "ticks": ""
             }
            },
            "type": "scatterpolar"
           }
          ],
          "scatterpolargl": [
           {
            "marker": {
             "colorbar": {
              "outlinewidth": 0,
              "ticks": ""
             }
            },
            "type": "scatterpolargl"
           }
          ],
          "scatterternary": [
           {
            "marker": {
             "colorbar": {
              "outlinewidth": 0,
              "ticks": ""
             }
            },
            "type": "scatterternary"
           }
          ],
          "surface": [
           {
            "colorbar": {
             "outlinewidth": 0,
             "ticks": ""
            },
            "colorscale": [
             [
              0,
              "#0d0887"
             ],
             [
              0.1111111111111111,
              "#46039f"
             ],
             [
              0.2222222222222222,
              "#7201a8"
             ],
             [
              0.3333333333333333,
              "#9c179e"
             ],
             [
              0.4444444444444444,
              "#bd3786"
             ],
             [
              0.5555555555555556,
              "#d8576b"
             ],
             [
              0.6666666666666666,
              "#ed7953"
             ],
             [
              0.7777777777777778,
              "#fb9f3a"
             ],
             [
              0.8888888888888888,
              "#fdca26"
             ],
             [
              1,
              "#f0f921"
             ]
            ],
            "type": "surface"
           }
          ],
          "table": [
           {
            "cells": {
             "fill": {
              "color": "#EBF0F8"
             },
             "line": {
              "color": "white"
             }
            },
            "header": {
             "fill": {
              "color": "#C8D4E3"
             },
             "line": {
              "color": "white"
             }
            },
            "type": "table"
           }
          ]
         },
         "layout": {
          "annotationdefaults": {
           "arrowcolor": "#2a3f5f",
           "arrowhead": 0,
           "arrowwidth": 1
          },
          "autotypenumbers": "strict",
          "coloraxis": {
           "colorbar": {
            "outlinewidth": 0,
            "ticks": ""
           }
          },
          "colorscale": {
           "diverging": [
            [
             0,
             "#8e0152"
            ],
            [
             0.1,
             "#c51b7d"
            ],
            [
             0.2,
             "#de77ae"
            ],
            [
             0.3,
             "#f1b6da"
            ],
            [
             0.4,
             "#fde0ef"
            ],
            [
             0.5,
             "#f7f7f7"
            ],
            [
             0.6,
             "#e6f5d0"
            ],
            [
             0.7,
             "#b8e186"
            ],
            [
             0.8,
             "#7fbc41"
            ],
            [
             0.9,
             "#4d9221"
            ],
            [
             1,
             "#276419"
            ]
           ],
           "sequential": [
            [
             0,
             "#0d0887"
            ],
            [
             0.1111111111111111,
             "#46039f"
            ],
            [
             0.2222222222222222,
             "#7201a8"
            ],
            [
             0.3333333333333333,
             "#9c179e"
            ],
            [
             0.4444444444444444,
             "#bd3786"
            ],
            [
             0.5555555555555556,
             "#d8576b"
            ],
            [
             0.6666666666666666,
             "#ed7953"
            ],
            [
             0.7777777777777778,
             "#fb9f3a"
            ],
            [
             0.8888888888888888,
             "#fdca26"
            ],
            [
             1,
             "#f0f921"
            ]
           ],
           "sequentialminus": [
            [
             0,
             "#0d0887"
            ],
            [
             0.1111111111111111,
             "#46039f"
            ],
            [
             0.2222222222222222,
             "#7201a8"
            ],
            [
             0.3333333333333333,
             "#9c179e"
            ],
            [
             0.4444444444444444,
             "#bd3786"
            ],
            [
             0.5555555555555556,
             "#d8576b"
            ],
            [
             0.6666666666666666,
             "#ed7953"
            ],
            [
             0.7777777777777778,
             "#fb9f3a"
            ],
            [
             0.8888888888888888,
             "#fdca26"
            ],
            [
             1,
             "#f0f921"
            ]
           ]
          },
          "colorway": [
           "#636efa",
           "#EF553B",
           "#00cc96",
           "#ab63fa",
           "#FFA15A",
           "#19d3f3",
           "#FF6692",
           "#B6E880",
           "#FF97FF",
           "#FECB52"
          ],
          "font": {
           "color": "#2a3f5f"
          },
          "geo": {
           "bgcolor": "white",
           "lakecolor": "white",
           "landcolor": "#E5ECF6",
           "showlakes": true,
           "showland": true,
           "subunitcolor": "white"
          },
          "hoverlabel": {
           "align": "left"
          },
          "hovermode": "closest",
          "mapbox": {
           "style": "light"
          },
          "paper_bgcolor": "white",
          "plot_bgcolor": "#E5ECF6",
          "polar": {
           "angularaxis": {
            "gridcolor": "white",
            "linecolor": "white",
            "ticks": ""
           },
           "bgcolor": "#E5ECF6",
           "radialaxis": {
            "gridcolor": "white",
            "linecolor": "white",
            "ticks": ""
           }
          },
          "scene": {
           "xaxis": {
            "backgroundcolor": "#E5ECF6",
            "gridcolor": "white",
            "gridwidth": 2,
            "linecolor": "white",
            "showbackground": true,
            "ticks": "",
            "zerolinecolor": "white"
           },
           "yaxis": {
            "backgroundcolor": "#E5ECF6",
            "gridcolor": "white",
            "gridwidth": 2,
            "linecolor": "white",
            "showbackground": true,
            "ticks": "",
            "zerolinecolor": "white"
           },
           "zaxis": {
            "backgroundcolor": "#E5ECF6",
            "gridcolor": "white",
            "gridwidth": 2,
            "linecolor": "white",
            "showbackground": true,
            "ticks": "",
            "zerolinecolor": "white"
           }
          },
          "shapedefaults": {
           "line": {
            "color": "#2a3f5f"
           }
          },
          "ternary": {
           "aaxis": {
            "gridcolor": "white",
            "linecolor": "white",
            "ticks": ""
           },
           "baxis": {
            "gridcolor": "white",
            "linecolor": "white",
            "ticks": ""
           },
           "bgcolor": "#E5ECF6",
           "caxis": {
            "gridcolor": "white",
            "linecolor": "white",
            "ticks": ""
           }
          },
          "title": {
           "x": 0.05
          },
          "xaxis": {
           "automargin": true,
           "gridcolor": "white",
           "linecolor": "white",
           "ticks": "",
           "title": {
            "standoff": 15
           },
           "zerolinecolor": "white",
           "zerolinewidth": 2
          },
          "yaxis": {
           "automargin": true,
           "gridcolor": "white",
           "linecolor": "white",
           "ticks": "",
           "title": {
            "standoff": 15
           },
           "zerolinecolor": "white",
           "zerolinewidth": 2
          }
         }
        },
        "title": {
         "text": "Average evo-likelihood original residue probs (conserved positions)"
        },
        "xaxis": {
         "anchor": "y",
         "domain": [
          0,
          0.49
         ],
         "range": [
          0,
          1
         ],
         "title": {
          "text": "mean_unmutated_pos_probs"
         },
         "type": "linear"
        },
        "xaxis2": {
         "anchor": "y2",
         "domain": [
          0.51,
          1
         ],
         "matches": "x",
         "range": [
          0,
          1
         ],
         "title": {
          "text": "mean_unmutated_pos_probs"
         },
         "type": "linear"
        },
        "xaxis3": {
         "anchor": "y3",
         "domain": [
          0,
          0.49
         ],
         "matches": "x",
         "range": [
          0,
          1
         ],
         "showticklabels": false,
         "type": "linear"
        },
        "xaxis4": {
         "anchor": "y4",
         "domain": [
          0.51,
          1
         ],
         "matches": "x",
         "range": [
          0,
          1
         ],
         "showticklabels": false,
         "type": "linear"
        },
        "yaxis": {
         "anchor": "x",
         "domain": [
          0,
          0.46499999999999997
         ],
         "range": [
          0,
          100
         ],
         "title": {
          "text": "count"
         }
        },
        "yaxis2": {
         "anchor": "x2",
         "domain": [
          0,
          0.46499999999999997
         ],
         "matches": "y",
         "range": [
          0,
          100
         ],
         "showticklabels": false
        },
        "yaxis3": {
         "anchor": "x3",
         "domain": [
          0.5349999999999999,
          0.9999999999999999
         ],
         "matches": "y",
         "range": [
          0,
          100
         ],
         "title": {
          "text": "count"
         }
        },
        "yaxis4": {
         "anchor": "x4",
         "domain": [
          0.5349999999999999,
          0.9999999999999999
         ],
         "matches": "y",
         "range": [
          0,
          100
         ],
         "showticklabels": false
        }
       }
      },
      "image/png": "[encoded data removed]",
      "text/html": [
       "<div>                            <div id=\"7c2ed6fd-9ccd-4c0a-ac99-bec910191050\" class=\"plotly-graph-div\" style=\"height:600px; width:100%;\"></div>            <script type=\"text/javascript\">                require([\"plotly\"], function(Plotly) {                    window.PLOTLYENV=window.PLOTLYENV || {};                                    if (document.getElementById(\"7c2ed6fd-9ccd-4c0a-ac99-bec910191050\")) {                    Plotly.newPlot(                        \"7c2ed6fd-9ccd-4c0a-ac99-bec910191050\",                        [{\"alignmentgroup\":\"True\",\"bingroup\":\"x\",\"hovertemplate\":\"model=ablang\\u003cbr\\u003emean_unmutated_pos_probs=%{x}\\u003cbr\\u003ecount=%{y}\\u003cextra\\u003e\\u003c\\u002fextra\\u003e\",\"legendgroup\":\"\",\"marker\":{\"color\":\"#636efa\",\"pattern\":{\"shape\":\"\"}},\"name\":\"\",\"offsetgroup\":\"\",\"orientation\":\"v\",\"showlegend\":false,\"x\":[0.9266573,0.9214785,0.89415336,0.8035846,0.8048091,0.79213077,0.8638852,0.86922693,0.883006,0.918542,0.9108808,0.8827432,0.89659315,0.8550111,0.85427254,0.868641,0.8248453,0.7549525,0.8506015,0.8013773,0.85829914,0.8333014,0.8615878,0.7942358,0.86983484,0.87378985,0.8772617,0.79265386,0.85085887,0.88336617,0.80948836,0.7995677,0.8010809,0.8560216,0.8263471,0.8217905,0.8764693,0.82663995,0.85305357,0.84488916,0.86673987,0.8297879,0.83455473,0.7666143,0.8743345,0.8621306,0.78175116,0.66029364,0.8637842,0.81941456,0.89127123,0.8150214,0.81467456,0.810369,0.9272704,0.87873113,0.86683345,0.8687767,0.824586,0.78985554,0.86805254,0.84771156,0.8149144,0.86905867,0.8451729,0.76843613,0.85512424,0.9079368,0.8193248,0.8519526,0.7538624,0.8010448,0.79068714,0.8970284,0.8035793,0.79492384,0.7674982,0.85922664,0.77607983,0.79243404,0.8346575,0.8042444,0.7533902,0.7514249,0.76111627,0.8866831,0.9603943,0.99591905,0.86236906,0.8259984,0.8552533,0.68913656,0.9203212,0.81008184,0.8006721,0.89066994],\"xaxis\":\"x3\",\"yaxis\":\"y3\",\"type\":\"histogram\",\"xbins\":{\"size\":0.1}},{\"alignmentgroup\":\"True\",\"bingroup\":\"x\",\"hovertemplate\":\"model=protbert\\u003cbr\\u003emean_unmutated_pos_probs=%{x}\\u003cbr\\u003ecount=%{y}\\u003cextra\\u003e\\u003c\\u002fextra\\u003e\",\"legendgroup\":\"\",\"marker\":{\"color\":\"#636efa\",\"pattern\":{\"shape\":\"\"}},\"name\":\"\",\"offsetgroup\":\"\",\"orientation\":\"v\",\"showlegend\":false,\"x\":[0.9717578,0.97451174,0.963336,0.89313895,0.89318985,0.88121104,0.94296014,0.93812525,0.95828396,0.97497123,0.96647567,0.9453033,0.9435019,0.8480543,0.8424888,0.93898004,0.9125923,0.91180444,0.9398911,0.9099757,0.92605174,0.9132888,0.9291637,0.91315377,0.92503977,0.9338268,0.94424576,0.90942705,0.940727,0.9218865,0.91562253,0.8991064,0.8834346,0.94050467,0.90752983,0.9076317,0.9316532,0.9097664,0.9310909,0.9295109,0.93478537,0.92216575,0.9246249,0.9161295,0.9382327,0.9457334,0.91884005,0.8336722,0.9342015,0.9315043,0.94950217,0.89255244,0.8970707,0.9297999,0.97202665,0.9482018,0.9439214,0.9292855,0.92641747,0.903567,0.9466329,0.91990083,0.93355453,0.93640435,0.9265521,0.89066464,0.94239795,0.91244286,0.9318254,0.93592745,0.90074104,0.9247929,0.9108227,0.9691936,0.91211957,0.89986724,0.90357995,0.94045895,0.8984401,0.92976683,0.91643965,0.9196515,0.90522647,0.90194726,0.90876734,0.9416363,0.98156554,0.9842036,0.94654816,0.90913546,0.91496223,0.86760104,0.9721549,0.9226217,0.9248419,0.9472519],\"xaxis\":\"x4\",\"yaxis\":\"y4\",\"type\":\"histogram\",\"xbins\":{\"size\":0.1}},{\"alignmentgroup\":\"True\",\"bingroup\":\"x\",\"hovertemplate\":\"model=sapiens\\u003cbr\\u003emean_unmutated_pos_probs=%{x}\\u003cbr\\u003ecount=%{y}\\u003cextra\\u003e\\u003c\\u002fextra\\u003e\",\"legendgroup\":\"\",\"marker\":{\"color\":\"#636efa\",\"pattern\":{\"shape\":\"\"}},\"name\":\"\",\"offsetgroup\":\"\",\"orientation\":\"v\",\"showlegend\":false,\"x\":[0.8828974,0.88809127,0.87231046,0.81160414,0.8115568,0.80363977,0.84778035,0.8540175,0.8593341,0.86877495,0.8621953,0.86045825,0.8703705,0.8262093,0.8274867,0.8517183,0.8238066,0.810991,0.83194524,0.82761544,0.83575875,0.844591,0.86748725,0.8277952,0.8631598,0.8373567,0.85588133,0.8058219,0.84226424,0.85882527,0.81464046,0.83851415,0.82490826,0.84317553,0.76436526,0.76270187,0.87097365,0.84662217,0.85209394,0.85016406,0.8509924,0.83662206,0.83832985,0.8210369,0.8486443,0.8565141,0.81237197,0.76420575,0.85409105,0.84508824,0.86375475,0.8361047,0.82155764,0.83577055,0.87663907,0.8623857,0.85179853,0.86681664,0.83278656,0.8170915,0.84692085,0.8390089,0.8416197,0.8538235,0.8387781,0.8238822,0.8439332,0.86385435,0.84358335,0.8518006,0.80458194,0.8330406,0.8162219,0.8792449,0.8385653,0.8284753,0.81626105,0.86052114,0.80321705,0.84243834,0.8590057,0.8341876,0.81623226,0.8159335,0.81473356,0.8570589,0.8929438,0.9012479,0.8450816,0.76443595,0.8478101,0.7885602,0.877127,0.83528084,0.8324737,0.8587161],\"xaxis\":\"x\",\"yaxis\":\"y\",\"type\":\"histogram\",\"xbins\":{\"size\":0.1}},{\"alignmentgroup\":\"True\",\"bingroup\":\"x\",\"hovertemplate\":\"model=ESM\\u003cbr\\u003emean_unmutated_pos_probs=%{x}\\u003cbr\\u003ecount=%{y}\\u003cextra\\u003e\\u003c\\u002fextra\\u003e\",\"legendgroup\":\"\",\"marker\":{\"color\":\"#636efa\",\"pattern\":{\"shape\":\"\"}},\"name\":\"\",\"offsetgroup\":\"\",\"orientation\":\"v\",\"showlegend\":false,\"x\":[0.90462095,0.90528977,0.8855124,0.8907794,0.89228344,0.8882716,0.8882755,0.8839931,0.92925614,0.89355505,0.877948,0.90179855,0.91023916,0.82524884,0.8190407,0.8850374,0.8796392,0.8605498,0.9187304,0.89596784,0.8741041,0.8834722,0.8774408,0.8771493,0.8921166,0.9112709,0.9258678,0.85246515,0.8895008,0.8726325,0.88819736,0.8839693,0.8505662,0.84841835,0.8810656,0.8815018,0.9209421,0.89576024,0.8984737,0.89511794,0.91690004,0.9133364,0.8840978,0.8701987,0.9190222,0.92964226,0.9084902,0.81098783,0.9122776,0.8835563,0.91578317,0.874919,0.8861499,0.88760734,0.93617326,0.9345834,0.9309746,0.9174523,0.89111537,0.85827416,0.9240727,0.90297616,0.90531147,0.92415506,0.9108718,0.8737479,0.9221277,0.8730426,0.9194734,0.8983204,0.88891184,0.91134864,0.88797444,0.9315155,0.8881911,0.8589825,0.87305146,0.8823873,0.85150355,0.90705466,0.8780947,0.8877434,0.8664664,0.8816831,0.8616817,0.9070096,0.9602413,0.9449266,0.9186266,0.88061,0.87384576,0.8298728,0.93466944,0.90977794,0.8936064,0.909461],\"xaxis\":\"x2\",\"yaxis\":\"y2\",\"type\":\"histogram\",\"xbins\":{\"size\":0.1}}],                        {\"template\":{\"data\":{\"histogram2dcontour\":[{\"type\":\"histogram2dcontour\",\"colorbar\":{\"outlinewidth\":0,\"ticks\":\"\"},\"colorscale\":[[0.0,\"#0d0887\"],[0.1111111111111111,\"#46039f\"],[0.2222222222222222,\"#7201a8\"],[0.3333333333333333,\"#9c179e\"],[0.4444444444444444,\"#bd3786\"],[0.5555555555555556,\"#d8576b\"],[0.6666666666666666,\"#ed7953\"],[0.7777777777777778,\"#fb9f3a\"],[0.8888888888888888,\"#fdca26\"],[1.0,\"#f0f921\"]]}],\"choropleth\":[{\"type\":\"choropleth\",\"colorbar\":{\"outlinewidth\":0,\"ticks\":\"\"}}],\"histogram2d\":[{\"type\":\"histogram2d\",\"colorbar\":{\"outlinewidth\":0,\"ticks\":\"\"},\"colorscale\":[[0.0,\"#0d0887\"],[0.1111111111111111,\"#46039f\"],[0.2222222222222222,\"#7201a8\"],[0.3333333333333333,\"#9c179e\"],[0.4444444444444444,\"#bd3786\"],[0.5555555555555556,\"#d8576b\"],[0.6666666666666666,\"#ed7953\"],[0.7777777777777778,\"#fb9f3a\"],[0.8888888888888888,\"#fdca26\"],[1.0,\"#f0f921\"]]}],\"heatmap\":[{\"type\":\"heatmap\",\"colorbar\":{\"outlinewidth\":0,\"ticks\":\"\"},\"colorscale\":[[0.0,\"#0d0887\"],[0.1111111111111111,\"#46039f\"],[0.2222222222222222,\"#7201a8\"],[0.3333333333333333,\"#9c179e\"],[0.4444444444444444,\"#bd3786\"],[0.5555555555555556,\"#d8576b\"],[0.6666666666666666,\"#ed7953\"],[0.7777777777777778,\"#fb9f3a\"],[0.8888888888888888,\"#fdca26\"],[1.0,\"#f0f921\"]]}],\"heatmapgl\":[{\"type\":\"heatmapgl\",\"colorbar\":{\"outlinewidth\":0,\"ticks\":\"\"},\"colorscale\":[[0.0,\"#0d0887\"],[0.1111111111111111,\"#46039f\"],[0.2222222222222222,\"#7201a8\"],[0.3333333333333333,\"#9c179e\"],[0.4444444444444444,\"#bd3786\"],[0.5555555555555556,\"#d8576b\"],[0.6666666666666666,\"#ed7953\"],[0.7777777777777778,\"#fb9f3a\"],[0.8888888888888888,\"#fdca26\"],[1.0,\"#f0f921\"]]}],\"contourcarpet\":[{\"type\":\"contourcarpet\",\"colorbar\":{\"outlinewidth\":0,\"ticks\":\"\"}}],\"contour\":[{\"type\":\"contour\",\"colorbar\":{\"outlinewidth\":0,\"ticks\":\"\"},\"colorscale\":[[0.0,\"#0d0887\"],[0.1111111111111111,\"#46039f\"],[0.2222222222222222,\"#7201a8\"],[0.3333333333333333,\"#9c179e\"],[0.4444444444444444,\"#bd3786\"],[0.5555555555555556,\"#d8576b\"],[0.6666666666666666,\"#ed7953\"],[0.7777777777777778,\"#fb9f3a\"],[0.8888888888888888,\"#fdca26\"],[1.0,\"#f0f921\"]]}],\"surface\":[{\"type\":\"surface\",\"colorbar\":{\"outlinewidth\":0,\"ticks\":\"\"},\"colorscale\":[[0.0,\"#0d0887\"],[0.1111111111111111,\"#46039f\"],[0.2222222222222222,\"#7201a8\"],[0.3333333333333333,\"#9c179e\"],[0.4444444444444444,\"#bd3786\"],[0.5555555555555556,\"#d8576b\"],[0.6666666666666666,\"#ed7953\"],[0.7777777777777778,\"#fb9f3a\"],[0.8888888888888888,\"#fdca26\"],[1.0,\"#f0f921\"]]}],\"mesh3d\":[{\"type\":\"mesh3d\",\"colorbar\":{\"outlinewidth\":0,\"ticks\":\"\"}}],\"scatter\":[{\"fillpattern\":{\"fillmode\":\"overlay\",\"size\":10,\"solidity\":0.2},\"type\":\"scatter\"}],\"parcoords\":[{\"type\":\"parcoords\",\"line\":{\"colorbar\":{\"outlinewidth\":0,\"ticks\":\"\"}}}],\"scatterpolargl\":[{\"type\":\"scatterpolargl\",\"marker\":{\"colorbar\":{\"outlinewidth\":0,\"ticks\":\"\"}}}],\"bar\":[{\"error_x\":{\"color\":\"#2a3f5f\"},\"error_y\":{\"color\":\"#2a3f5f\"},\"marker\":{\"line\":{\"color\":\"#E5ECF6\",\"width\":0.5},\"pattern\":{\"fillmode\":\"overlay\",\"size\":10,\"solidity\":0.2}},\"type\":\"bar\"}],\"scattergeo\":[{\"type\":\"scattergeo\",\"marker\":{\"colorbar\":{\"outlinewidth\":0,\"ticks\":\"\"}}}],\"scatterpolar\":[{\"type\":\"scatterpolar\",\"marker\":{\"colorbar\":{\"outlinewidth\":0,\"ticks\":\"\"}}}],\"histogram\":[{\"marker\":{\"pattern\":{\"fillmode\":\"overlay\",\"size\":10,\"solidity\":0.2}},\"type\":\"histogram\"}],\"scattergl\":[{\"type\":\"scattergl\",\"marker\":{\"colorbar\":{\"outlinewidth\":0,\"ticks\":\"\"}}}],\"scatter3d\":[{\"type\":\"scatter3d\",\"line\":{\"colorbar\":{\"outlinewidth\":0,\"ticks\":\"\"}},\"marker\":{\"colorbar\":{\"outlinewidth\":0,\"ticks\":\"\"}}}],\"scattermapbox\":[{\"type\":\"scattermapbox\",\"marker\":{\"colorbar\":{\"outlinewidth\":0,\"ticks\":\"\"}}}],\"scatterternary\":[{\"type\":\"scatterternary\",\"marker\":{\"colorbar\":{\"outlinewidth\":0,\"ticks\":\"\"}}}],\"scattercarpet\":[{\"type\":\"scattercarpet\",\"marker\":{\"colorbar\":{\"outlinewidth\":0,\"ticks\":\"\"}}}],\"carpet\":[{\"aaxis\":{\"endlinecolor\":\"#2a3f5f\",\"gridcolor\":\"white\",\"linecolor\":\"white\",\"minorgridcolor\":\"white\",\"startlinecolor\":\"#2a3f5f\"},\"baxis\":{\"endlinecolor\":\"#2a3f5f\",\"gridcolor\":\"white\",\"linecolor\":\"white\",\"minorgridcolor\":\"white\",\"startlinecolor\":\"#2a3f5f\"},\"type\":\"carpet\"}],\"table\":[{\"cells\":{\"fill\":{\"color\":\"#EBF0F8\"},\"line\":{\"color\":\"white\"}},\"header\":{\"fill\":{\"color\":\"#C8D4E3\"},\"line\":{\"color\":\"white\"}},\"type\":\"table\"}],\"barpolar\":[{\"marker\":{\"line\":{\"color\":\"#E5ECF6\",\"width\":0.5},\"pattern\":{\"fillmode\":\"overlay\",\"size\":10,\"solidity\":0.2}},\"type\":\"barpolar\"}],\"pie\":[{\"automargin\":true,\"type\":\"pie\"}]},\"layout\":{\"autotypenumbers\":\"strict\",\"colorway\":[\"#636efa\",\"#EF553B\",\"#00cc96\",\"#ab63fa\",\"#FFA15A\",\"#19d3f3\",\"#FF6692\",\"#B6E880\",\"#FF97FF\",\"#FECB52\"],\"font\":{\"color\":\"#2a3f5f\"},\"hovermode\":\"closest\",\"hoverlabel\":{\"align\":\"left\"},\"paper_bgcolor\":\"white\",\"plot_bgcolor\":\"#E5ECF6\",\"polar\":{\"bgcolor\":\"#E5ECF6\",\"angularaxis\":{\"gridcolor\":\"white\",\"linecolor\":\"white\",\"ticks\":\"\"},\"radialaxis\":{\"gridcolor\":\"white\",\"linecolor\":\"white\",\"ticks\":\"\"}},\"ternary\":{\"bgcolor\":\"#E5ECF6\",\"aaxis\":{\"gridcolor\":\"white\",\"linecolor\":\"white\",\"ticks\":\"\"},\"baxis\":{\"gridcolor\":\"white\",\"linecolor\":\"white\",\"ticks\":\"\"},\"caxis\":{\"gridcolor\":\"white\",\"linecolor\":\"white\",\"ticks\":\"\"}},\"coloraxis\":{\"colorbar\":{\"outlinewidth\":0,\"ticks\":\"\"}},\"colorscale\":{\"sequential\":[[0.0,\"#0d0887\"],[0.1111111111111111,\"#46039f\"],[0.2222222222222222,\"#7201a8\"],[0.3333333333333333,\"#9c179e\"],[0.4444444444444444,\"#bd3786\"],[0.5555555555555556,\"#d8576b\"],[0.6666666666666666,\"#ed7953\"],[0.7777777777777778,\"#fb9f3a\"],[0.8888888888888888,\"#fdca26\"],[1.0,\"#f0f921\"]],\"sequentialminus\":[[0.0,\"#0d0887\"],[0.1111111111111111,\"#46039f\"],[0.2222222222222222,\"#7201a8\"],[0.3333333333333333,\"#9c179e\"],[0.4444444444444444,\"#bd3786\"],[0.5555555555555556,\"#d8576b\"],[0.6666666666666666,\"#ed7953\"],[0.7777777777777778,\"#fb9f3a\"],[0.8888888888888888,\"#fdca26\"],[1.0,\"#f0f921\"]],\"diverging\":[[0,\"#8e0152\"],[0.1,\"#c51b7d\"],[0.2,\"#de77ae\"],[0.3,\"#f1b6da\"],[0.4,\"#fde0ef\"],[0.5,\"#f7f7f7\"],[0.6,\"#e6f5d0\"],[0.7,\"#b8e186\"],[0.8,\"#7fbc41\"],[0.9,\"#4d9221\"],[1,\"#276419\"]]},\"xaxis\":{\"gridcolor\":\"white\",\"linecolor\":\"white\",\"ticks\":\"\",\"title\":{\"standoff\":15},\"zerolinecolor\":\"white\",\"automargin\":true,\"zerolinewidth\":2},\"yaxis\":{\"gridcolor\":\"white\",\"linecolor\":\"white\",\"ticks\":\"\",\"title\":{\"standoff\":15},\"zerolinecolor\":\"white\",\"automargin\":true,\"zerolinewidth\":2},\"scene\":{\"xaxis\":{\"backgroundcolor\":\"#E5ECF6\",\"gridcolor\":\"white\",\"linecolor\":\"white\",\"showbackground\":true,\"ticks\":\"\",\"zerolinecolor\":\"white\",\"gridwidth\":2},\"yaxis\":{\"backgroundcolor\":\"#E5ECF6\",\"gridcolor\":\"white\",\"linecolor\":\"white\",\"showbackground\":true,\"ticks\":\"\",\"zerolinecolor\":\"white\",\"gridwidth\":2},\"zaxis\":{\"backgroundcolor\":\"#E5ECF6\",\"gridcolor\":\"white\",\"linecolor\":\"white\",\"showbackground\":true,\"ticks\":\"\",\"zerolinecolor\":\"white\",\"gridwidth\":2}},\"shapedefaults\":{\"line\":{\"color\":\"#2a3f5f\"}},\"annotationdefaults\":{\"arrowcolor\":\"#2a3f5f\",\"arrowhead\":0,\"arrowwidth\":1},\"geo\":{\"bgcolor\":\"white\",\"landcolor\":\"#E5ECF6\",\"subunitcolor\":\"white\",\"showland\":true,\"showlakes\":true,\"lakecolor\":\"white\"},\"title\":{\"x\":0.05},\"mapbox\":{\"style\":\"light\"}}},\"xaxis\":{\"anchor\":\"y\",\"domain\":[0.0,0.49],\"title\":{\"text\":\"mean_unmutated_pos_probs\"},\"range\":[0,1]},\"yaxis\":{\"anchor\":\"x\",\"domain\":[0.0,0.46499999999999997],\"title\":{\"text\":\"count\"},\"range\":[0,100]},\"xaxis2\":{\"anchor\":\"y2\",\"domain\":[0.51,1.0],\"matches\":\"x\",\"title\":{\"text\":\"mean_unmutated_pos_probs\"},\"range\":[0,1]},\"yaxis2\":{\"anchor\":\"x2\",\"domain\":[0.0,0.46499999999999997],\"matches\":\"y\",\"showticklabels\":false,\"range\":[0,100]},\"xaxis3\":{\"anchor\":\"y3\",\"domain\":[0.0,0.49],\"matches\":\"x\",\"showticklabels\":false,\"range\":[0,1]},\"yaxis3\":{\"anchor\":\"x3\",\"domain\":[0.5349999999999999,0.9999999999999999],\"matches\":\"y\",\"title\":{\"text\":\"count\"},\"range\":[0,100]},\"xaxis4\":{\"anchor\":\"y4\",\"domain\":[0.51,1.0],\"matches\":\"x\",\"showticklabels\":false,\"range\":[0,1]},\"yaxis4\":{\"anchor\":\"x4\",\"domain\":[0.5349999999999999,0.9999999999999999],\"matches\":\"y\",\"showticklabels\":false,\"range\":[0,100]},\"annotations\":[{\"font\":{},\"showarrow\":false,\"text\":\"model=sapiens\",\"x\":0.245,\"xanchor\":\"center\",\"xref\":\"paper\",\"y\":0.46499999999999997,\"yanchor\":\"bottom\",\"yref\":\"paper\"},{\"font\":{},\"showarrow\":false,\"text\":\"model=ESM\",\"x\":0.755,\"xanchor\":\"center\",\"xref\":\"paper\",\"y\":0.46499999999999997,\"yanchor\":\"bottom\",\"yref\":\"paper\"},{\"font\":{},\"showarrow\":false,\"text\":\"model=ablang\",\"x\":0.245,\"xanchor\":\"center\",\"xref\":\"paper\",\"y\":0.9999999999999999,\"yanchor\":\"bottom\",\"yref\":\"paper\"},{\"font\":{},\"showarrow\":false,\"text\":\"model=protbert\",\"x\":0.755,\"xanchor\":\"center\",\"xref\":\"paper\",\"y\":0.9999999999999999,\"yanchor\":\"bottom\",\"yref\":\"paper\"}],\"legend\":{\"tracegroupgap\":0},\"title\":{\"text\":\"Average evo-likelihood original residue probs (conserved positions)\"},\"barmode\":\"relative\",\"font\":{\"size\":21},\"height\":600},                        {\"responsive\": true}                    ).then(function(){\n",
       "                            \n",
       "var gd = document.getElementById('7c2ed6fd-9ccd-4c0a-ac99-bec910191050');\n",
       "var x = new MutationObserver(function (mutations, observer) {{\n",
       "        var display = window.getComputedStyle(gd).display;\n",
       "        if (!display || display === 'none') {{\n",
       "            console.log([gd, 'removed!']);\n",
       "            Plotly.purge(gd);\n",
       "            observer.disconnect();\n",
       "        }}\n",
       "}});\n",
       "\n",
       "// Listen for the removal of the full notebook cells\n",
       "var notebookContainer = gd.closest('#notebook-container');\n",
       "if (notebookContainer) {{\n",
       "    x.observe(notebookContainer, {childList: true});\n",
       "}}\n",
       "\n",
       "// Listen for the clearing of the current output cell\n",
       "var outputEl = gd.closest('.output');\n",
       "if (outputEl) {{\n",
       "    x.observe(outputEl, {childList: true});\n",
       "}}\n",
       "\n",
       "                        })                };                });            </script>        </div>"
      ]
     },
     "metadata": {},
     "output_type": "display_data"
    }
   ],
   "source": [
    "output_table_subset = output_table#.loc[(output_table[\"n_subs\"] == 1),:]\n",
    "\n",
    "fig = px.histogram(\n",
    "    data_frame = output_table_subset,\n",
    "    x = \"mean_unmutated_pos_probs\",\n",
    "    facet_col = \"model\",\n",
    "    facet_col_wrap=2,\n",
    "    orientation = \"v\",\n",
    "    title=f'Average evo-likelihood original residue probs (conserved positions)',\n",
    ")\n",
    "\n",
    "fig.update_traces(xbins_size=0.1)\n",
    "fig.update_layout(height = 600, font_size = 21)\n",
    "fig.update_xaxes(range=[0, 1])\n",
    "fig.update_yaxes(range=[0, 100])\n",
    "\n",
    "fig.show()"
   ]
  }
 ],
 "metadata": {
  "kernelspec": {
   "display_name": "Python 3 (ipykernel)",
   "language": "python",
   "name": "python3"
  },
  "language_info": {
   "codemirror_mode": {
    "name": "ipython",
    "version": 3
   },
   "file_extension": ".py",
   "mimetype": "text/x-python",
   "name": "python",
   "nbconvert_exporter": "python",
   "pygments_lexer": "ipython3",
   "version": "3.8.18"
  }
 },
 "nbformat": 4,
 "nbformat_minor": 5
}
