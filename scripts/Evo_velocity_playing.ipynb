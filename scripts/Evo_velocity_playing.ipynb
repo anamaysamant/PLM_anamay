{
 "cells": [
  {
   "cell_type": "code",
   "execution_count": 1,
   "id": "9842f839-746f-4cdc-b81d-d8ebb64a4344",
   "metadata": {},
   "outputs": [],
   "source": [
    "import os \n",
    "import sys\n",
    "sys.path.append(\"../src\")"
   ]
  },
  {
   "cell_type": "code",
   "execution_count": 2,
   "id": "2b6c18ed-13ad-47e6-bff8-20430f9b23dc",
   "metadata": {},
   "outputs": [],
   "source": [
    "from antiberty_model import Antiberty\n",
    "from ablang_model import Ablang\n",
    "from ESM_model import ESM\n",
    "from sapiens_model import Sapiens\n",
    "from protbert import ProtBert"
   ]
  },
  {
   "cell_type": "code",
   "execution_count": 4,
   "id": "8d14d927-e918-461d-a825-9eb70e70750e",
   "metadata": {},
   "outputs": [],
   "source": [
    "import pandas as pd\n",
    "import numpy as np\n",
    "from Bio.Align import PairwiseAligner\n",
    "\n",
    "def compute_evo_velocity(sequence_1, sequence_2, model):\n",
    "\n",
    "    prob_mat_1 = model.calc_probability_matrix(sequence_1)\n",
    "    prob_mat_2 = model.calc_probability_matrix(sequence_2)\n",
    "\n",
    "    aligner = PairwiseAligner() \n",
    "    aligner.extend_gap_score = -0.1\n",
    "    aligner.match_score = 5\n",
    "    aligner.mismatch_score = -4\n",
    "    aligner.open_gap_score = -4\n",
    "\n",
    "    alignment = aligner.align(sequence_1,sequence_2)[0]\n",
    "    alignment_pos = alignment.aligned\n",
    "\n",
    "    ranges_1 = alignment_pos[0,:,:]\n",
    "    ranges_2 = alignment_pos[1,:,:]\n",
    "\n",
    "    count = 0\n",
    "    evo_velo = 0\n",
    "\n",
    "    for i in range(ranges_1.shape[0]):\n",
    "        start_1 = ranges_1[i,0]\n",
    "        start_2 = ranges_2[i,0]\n",
    "        subalign_len = ranges_1[i,1] - start_1\n",
    "\n",
    "        for j in range(subalign_len):\n",
    "\n",
    "            pos_1 = start_1 + j\n",
    "            pos_2 = start_2 + j   \n",
    "\n",
    "            amino_acid_1  = sequence_1[pos_1]\n",
    "            amino_acid_2  = sequence_2[pos_2]\n",
    "\n",
    "            if amino_acid_1 != amino_acid_2:\n",
    "\n",
    "                evo_velo += (prob_mat_1.loc[pos_1,amino_acid_2] - prob_mat_2.loc[pos_2,amino_acid_1])\n",
    "                count += 1\n",
    "\n",
    "    if count == 0:\n",
    "        return 0\n",
    "    else:\n",
    "        evo_velo /= count\n",
    "        return evo_velo \n",
    "\n"
   ]
  },
  {
   "cell_type": "code",
   "execution_count": 5,
   "id": "d96b826c-4f66-4814-9bd9-50fb7adb265d",
   "metadata": {},
   "outputs": [],
   "source": [
    "data = pd.read_csv(\"../../../data/OVA_mouse/vdj_evolike_combine.csv\")\n",
    "model = Ablang(chain=\"heavy\")   "
   ]
  },
  {
   "cell_type": "code",
   "execution_count": 6,
   "id": "4b19e1c6-93db-47e1-9b6d-d881e58f8ea5",
   "metadata": {
    "scrolled": true
   },
   "outputs": [
    {
     "name": "stderr",
     "output_type": "stream",
     "text": [
      "100%|███████████████████████████████████████████████████████████████████████████████████████████████████████████████████████████| 1378/1378 [04:41<00:00,  4.89it/s]\n",
      "100%|███████████████████████████████████████████████████████████████████████████████████████████████████████████████████████████| 1277/1277 [01:50<00:00, 11.52it/s]\n",
      "100%|█████████████████████████████████████████████████████████████████████████████████████████████████████████████████████████████| 607/607 [00:17<00:00, 35.71it/s]\n",
      "100%|█████████████████████████████████████████████████████████████████████████████████████████████████████████████████████████████| 832/832 [01:18<00:00, 10.66it/s]\n",
      "100%|███████████████████████████████████████████████████████████████████████████████████████████████████████████████████████████| 1301/1301 [01:22<00:00, 15.81it/s]\n"
     ]
    }
   ],
   "source": [
    "output_dict = {}\n",
    "from tqdm import tqdm\n",
    "def unique_id_gen(series):\n",
    "    return list(series)[0]\n",
    "\n",
    "for sample in pd.unique(data[\"sample_id\"]):\n",
    "    \n",
    "    data_sample = data.loc[data[\"sample_id\"] == sample,:]\n",
    "\n",
    "    for clonotype in tqdm(pd.unique(data_sample[\"clonotype_id_10x\"])):\n",
    "\n",
    "        data_sample_clonotype = data_sample.loc[data_sample[\"clonotype_id_10x\"] == clonotype, : ]\n",
    "        data_sample_clonotype = data_sample_clonotype.groupby(\"VDJ_sequence_aa\")[\"barcode\"].agg(lambda x: unique_id_gen(x)).reset_index()\n",
    "        \n",
    "        evo_velo_matrix = pd.DataFrame(0,index=data_sample_clonotype[\"barcode\"], columns=data_sample_clonotype[\"barcode\"])\n",
    "\n",
    "        for i in range(data_sample_clonotype.shape[0]):\n",
    "            for j in range(i+1,data_sample_clonotype.shape[0]):\n",
    "                evo_velo_matrix.iloc[i,j] = compute_evo_velocity(data_sample_clonotype[\"VDJ_sequence_aa\"][i],\n",
    "                                                            data_sample_clonotype[\"VDJ_sequence_aa\"][j], model=model)\n",
    "\n",
    "                evo_velo_matrix.iloc[j,i] = -evo_velo_matrix.iloc[i,j]\n",
    "\n",
    "\n",
    "        output_dict.update({f\"{sample}_{clonotype}\" : evo_velo_matrix})\n"
   ]
  },
  {
   "cell_type": "code",
   "execution_count": 6,
   "id": "ce310574-f9a1-46c7-be3a-2ab2569d845d",
   "metadata": {},
   "outputs": [],
   "source": [
    "x = [\"A\",\"B\",\"C\",\"D\"]"
   ]
  },
  {
   "cell_type": "code",
   "execution_count": 7,
   "id": "dcb30494-34f6-4f78-b55b-3ee8353bf865",
   "metadata": {},
   "outputs": [],
   "source": [
    "keys = list(output_dict.keys())"
   ]
  }
 ],
 "metadata": {
  "kernelspec": {
   "display_name": "Python 3 (ipykernel)",
   "language": "python",
   "name": "python3"
  },
  "language_info": {
   "codemirror_mode": {
    "name": "ipython",
    "version": 3
   },
   "file_extension": ".py",
   "mimetype": "text/x-python",
   "name": "python",
   "nbconvert_exporter": "python",
   "pygments_lexer": "ipython3",
   "version": "3.8.18"
  }
 },
 "nbformat": 4,
 "nbformat_minor": 5
}
