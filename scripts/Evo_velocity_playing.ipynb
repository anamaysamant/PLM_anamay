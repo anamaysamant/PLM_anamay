{
 "cells": [
  {
   "cell_type": "code",
   "execution_count": 2,
   "id": "055f581b-504a-4abd-9b7f-a4d513ff7b1b",
   "metadata": {},
   "outputs": [],
   "source": [
    "import os \n",
    "import sys\n",
    "import argparse\n",
    "import evolocity as evo\n",
    "import anndata\n",
    "import pandas as pd\n",
    "import numpy as np\n",
    "import torch\n",
    "import scanpy as sc\n"
   ]
  },
  {
   "cell_type": "markdown",
   "id": "130b0a61-59cc-4340-9e25-fa785cca7762",
   "metadata": {},
   "source": [
    "### HYPERPARAMETERS TO CHANGE"
   ]
  },
  {
   "cell_type": "code",
   "execution_count": 69,
   "id": "ab73d495-cb43-4707-aa96-b69851ca8a01",
   "metadata": {},
   "outputs": [],
   "source": [
    "dataset = \"OVA_mouse\"\n",
    "mode = \"full_VDJ\"\n",
    "group = \"v_gene\"\n",
    "include_germline = False\n",
    "no_IGM = False\n",
    "no_IGD = False\n",
    "only_IGM = False\n"
   ]
  },
  {
   "cell_type": "markdown",
   "id": "49f05b01-d8b7-4210-9ab7-14623db2160d",
   "metadata": {},
   "source": [
    "### EVO_VELOCITY W/O GROUPING"
   ]
  },
  {
   "cell_type": "code",
   "execution_count": null,
   "id": "0d3cf5e0-78ac-4ec1-a9cb-e99c1c45d8cd",
   "metadata": {},
   "outputs": [],
   "source": [
    "\n",
    "if __name__ == \"__main__\":\n",
    "\n",
    "    model_names = [\"ablang\",\"sapiens\",\"protbert\",\"ESM\"]\n",
    "    data = pd.read_csv(os.path.join(\"..\",\"..\",\"..\",\"data\",dataset,\"vdj_evolike_combine.csv\"))\n",
    "\n",
    "    data_folder_path = os.path.join(\"..\",\"..\",\"..\",\"data\",dataset,\"VDJ\")\n",
    "    germlines_path = os.path.join(\"..\",\"..\",\"..\",\"data\",dataset,\"all_germline_embeddings\")\n",
    "\n",
    "    IgG_subtypes = [\"IGHG1\",\"IGHG2B\",\"IGHG2C\",\"IGHG3\"]\n",
    "\n",
    "    model_dict = {}\n",
    "\n",
    "    for i, model in enumerate(model_names):\n",
    "\n",
    "        pooled_embeds = []\n",
    "        \n",
    "        for _,sample in (data[[\"original_sample_id\",\"sample_id\"]].drop_duplicates().iterrows()):\n",
    "            \n",
    "            cellranger_path = os.path.join(data_folder_path, sample[\"original_sample_id\"])   \n",
    "            embeddings_path = os.path.join(cellranger_path,\"embeddings\",mode,f\"embeddings_{model}.csv.gzip\")\n",
    "\n",
    "            embeddings_file = pd.read_csv(embeddings_path, compression=\"gzip\")\n",
    "            embeddings_file = embeddings_file.loc[embeddings_file[\"chain\"] == \"IGH\",:].reset_index(drop=True)\n",
    "            embeddings_file[\"c_gene\"] = embeddings_file[\"c_gene\"].replace(IgG_subtypes,\"IGHG\")\n",
    "            embeddings_file[\"v_gene_family\"] = embeddings_file[\"v_gene\"].apply(lambda x: x.split('-')[0])\n",
    "            embeddings_file[\"sample_id\"] = sample[\"sample_id\"]\n",
    "\n",
    "            embedding_cols = [col for col in list(embeddings_file.columns) if col.startswith(\"dim\")]\n",
    "            metadata_cols = list(set(embeddings_file.columns) - set(embedding_cols))\n",
    "\n",
    "            embeddings_file = embeddings_file.drop_duplicates(embedding_cols).reset_index(drop=True)\n",
    "            embeddings_file = embeddings_file.dropna(subset=embedding_cols)\n",
    "\n",
    "            pooled_embeds += embeddings_file.to_dict(orient=\"records\")\n",
    "\n",
    "        pooled_embeds = pd.DataFrame(pooled_embeds)\n",
    "        \n",
    "        pooled_embeds[\"barcode\"] = pooled_embeds[\"barcode\"].apply(lambda x: x.split(\"-\")[0])\n",
    "        pooled_embeds = pooled_embeds.merge(data, on=\"barcode\",suffixes=('', '_y'))\n",
    "\n",
    "        embedding_cols = [col for col in list(pooled_embeds.columns) if col.startswith(\"dim\")]\n",
    "        metadata_cols = list(set(pooled_embeds.columns) - set(embedding_cols))\n",
    "\n",
    "        if include_germline:\n",
    "            germline_embeddings = pd.read_csv(os.path.join(germlines_path,f\"all_germline_embeddings_{model}.csv.gzip\"), compression=\"gzip\")\n",
    "            germline_embeddings[\"full_VDJ_aa\"] = germline_embeddings[\"VDJ_ref.aa\"].apply(lambda x: x.replace(\"-\",\"\").replace(\"*\",\"\"))\n",
    "            # germline_embeddings[\"barcode\"] = germline_embeddings[\"barcode\"].apply(lambda x: x.split(\"_\")[1])\n",
    "            germline_embeddings = germline_embeddings.merge(data, on=\"barcode\",suffixes=('', '_y'))\n",
    "            germline_embeddings[\"barcode\"] = \"germline\"\n",
    "            germline_embeddings[\"c_gene\"] = germline_embeddings[\"c_gene\"].replace(IgG_subtypes,\"IGHG\")\n",
    "            germline_embeddings[\"v_gene_family\"] = germline_embeddings[\"v_gene\"].apply(lambda x: x.split('-')[0])\n",
    "            germline_embeddings = germline_embeddings.to_dict(orient=\"records\")\n",
    "         \n",
    "            pooled_embeds = pooled_embeds.to_dict(orient=\"records\")\n",
    "            pooled_embeds += germline_embeddings\n",
    "            pooled_embeds = pd.DataFrame(pooled_embeds)\n",
    "\n",
    "        only_embeddings = pooled_embeds[embedding_cols].copy()\n",
    "        metadata = pooled_embeds[metadata_cols].copy()\n",
    "        \n",
    "        try:\n",
    "            torch.cuda.empty_cache()\n",
    "                    \n",
    "            adata = anndata.AnnData(only_embeddings)\n",
    "            adata.obs[\"seq\"] = list(metadata[\"full_VDJ_aa\"])\n",
    "            adata.obs[\"barcode\"] = list(metadata[\"barcode\"])\n",
    "            \n",
    "            adata.obs[\"v_gene_family\"] = list(metadata[\"v_gene_family\"])\n",
    "            adata.obs[\"v_gene_family\"] = adata.obs[\"v_gene_family\"].astype(\"category\")\n",
    "               \n",
    "            adata.obs[\"sample_id\"] = list(metadata[\"sample_id\"]) \n",
    "            \n",
    "            adata.obs[\"sample_clonotype\"] = list(metadata.apply(lambda x: x[\"sample_id\"] + \"_\" + x[\"raw_clonotype_id\"], axis = 1))\n",
    "            adata.obs[\"sample_clonotype_encoded\"] = pd.factorize(adata.obs[\"sample_clonotype\"])[0]\n",
    "\n",
    "            if include_germline:\n",
    "                germline_indicator = list(metadata[\"barcode\"] == \"germline\")\n",
    "                adata.obs.loc[germline_indicator,\"v_gene_family\"] = \"germline\"\n",
    "                adata.obs.loc[germline_indicator,\"sample_id\"] = \"germline\"\n",
    "        \n",
    "            evo.pp.neighbors(adata)\n",
    "\n",
    "            if model == \"ESM\":\n",
    "                evo.tl.velocity_graph(adata)\n",
    "            else:\n",
    "                evo.tl.velocity_graph(adata, model_name=model)\n",
    "\n",
    "            del adata.uns['model']\n",
    "            \n",
    "            model_dict[model] = adata\n",
    "            \n",
    "            del(adata)\n",
    "            \n",
    "            \n",
    "        except:\n",
    "            continue\n"
   ]
  },
  {
   "cell_type": "markdown",
   "id": "a6cf2254-ae41-4ac2-bca1-93dccb28e723",
   "metadata": {},
   "source": [
    "### EVO-VELOCITY WITH GROUPING"
   ]
  },
  {
   "cell_type": "code",
   "execution_count": 34,
   "id": "978470c2-07a2-4b62-b5dd-8f90066055a1",
   "metadata": {
    "scrolled": true
   },
   "outputs": [
    {
     "name": "stdout",
     "output_type": "stream",
     "text": [
      "computing neighbors\n",
      "    finished (0:00:01) --> added \n",
      "    'distances' and 'connectivities', weighted adjacency matrices (adata.obsp)\n"
     ]
    },
    {
     "name": "stderr",
     "output_type": "stream",
     "text": [
      "100%|████████████████████████████████████████████████████████████████████████████████████████████████████████████████| 8227/8227 [00:51<00:00, 159.86it/s]\n"
     ]
    },
    {
     "name": "stdout",
     "output_type": "stream",
     "text": [
      "\n"
     ]
    },
    {
     "name": "stderr",
     "output_type": "stream",
     "text": [
      "100%|█████████████████████████████████████████████████████████████████████████████████████████████████████████████████| 8227/8227 [08:57<00:00, 15.32it/s]\n"
     ]
    },
    {
     "name": "stdout",
     "output_type": "stream",
     "text": [
      "\n",
      "computing neighbors\n",
      "    finished (0:00:02) --> added \n",
      "    'distances' and 'connectivities', weighted adjacency matrices (adata.obsp)\n"
     ]
    },
    {
     "name": "stderr",
     "output_type": "stream",
     "text": [
      "100%|█████████████████████████████████████████████████████████████████████████████████████████████████████████| 1017/1017 [00:06<00:00, 148.95it/s]\n"
     ]
    },
    {
     "name": "stdout",
     "output_type": "stream",
     "text": [
      "\n"
     ]
    },
    {
     "name": "stderr",
     "output_type": "stream",
     "text": [
      "100%|██████████████████████████████████████████████████████████████████████████████████████████████████████████| 1017/1017 [01:06<00:00, 15.24it/s]\n"
     ]
    },
    {
     "name": "stdout",
     "output_type": "stream",
     "text": [
      "\n",
      "computing neighbors\n",
      "    finished (0:00:02) --> added \n",
      "    'distances' and 'connectivities', weighted adjacency matrices (adata.obsp)\n"
     ]
    },
    {
     "name": "stderr",
     "output_type": "stream",
     "text": [
      "100%|███████████████████████████████████████████████████████████████████████████████████████████████████████| 13145/13145 [01:29<00:00, 146.91it/s]\n"
     ]
    },
    {
     "name": "stdout",
     "output_type": "stream",
     "text": [
      "\n"
     ]
    },
    {
     "name": "stderr",
     "output_type": "stream",
     "text": [
      "100%|████████████████████████████████████████████████████████████████████████████████████████████████████████| 13145/13145 [14:13<00:00, 15.41it/s]\n"
     ]
    },
    {
     "name": "stdout",
     "output_type": "stream",
     "text": [
      "\n",
      "computing neighbors\n",
      "    finished (0:00:01) --> added \n",
      "    'distances' and 'connectivities', weighted adjacency matrices (adata.obsp)\n"
     ]
    },
    {
     "name": "stderr",
     "output_type": "stream",
     "text": [
      "100%|█████████████████████████████████████████████████████████████████████████████████████████████████████████| 5540/5540 [00:37<00:00, 149.59it/s]\n"
     ]
    },
    {
     "name": "stdout",
     "output_type": "stream",
     "text": [
      "\n"
     ]
    },
    {
     "name": "stderr",
     "output_type": "stream",
     "text": [
      "100%|██████████████████████████████████████████████████████████████████████████████████████████████████████████| 5540/5540 [06:06<00:00, 15.13it/s]\n"
     ]
    },
    {
     "name": "stdout",
     "output_type": "stream",
     "text": [
      "\n",
      "computing neighbors\n",
      "    finished (0:00:00) --> added \n",
      "    'distances' and 'connectivities', weighted adjacency matrices (adata.obsp)\n"
     ]
    },
    {
     "name": "stderr",
     "output_type": "stream",
     "text": [
      "100%|█████████████████████████████████████████████████████████████████████████████████████████████████████████| 1549/1549 [00:10<00:00, 150.03it/s]\n"
     ]
    },
    {
     "name": "stdout",
     "output_type": "stream",
     "text": [
      "\n"
     ]
    },
    {
     "name": "stderr",
     "output_type": "stream",
     "text": [
      "100%|██████████████████████████████████████████████████████████████████████████████████████████████████████████| 1549/1549 [01:34<00:00, 16.34it/s]\n"
     ]
    },
    {
     "name": "stdout",
     "output_type": "stream",
     "text": [
      "\n",
      "computing neighbors\n",
      "    finished (0:00:00) --> added \n",
      "    'distances' and 'connectivities', weighted adjacency matrices (adata.obsp)\n"
     ]
    },
    {
     "name": "stderr",
     "output_type": "stream",
     "text": [
      "100%|███████████████████████████████████████████████████████████████████████████████████████████████████████████| 114/114 [00:00<00:00, 143.22it/s]\n"
     ]
    },
    {
     "name": "stdout",
     "output_type": "stream",
     "text": [
      "\n"
     ]
    },
    {
     "name": "stderr",
     "output_type": "stream",
     "text": [
      "100%|████████████████████████████████████████████████████████████████████████████████████████████████████████████| 114/114 [00:07<00:00, 15.42it/s]\n"
     ]
    },
    {
     "name": "stdout",
     "output_type": "stream",
     "text": [
      "\n",
      "computing neighbors\n",
      "    finished (0:00:00) --> added \n",
      "    'distances' and 'connectivities', weighted adjacency matrices (adata.obsp)\n"
     ]
    },
    {
     "name": "stderr",
     "output_type": "stream",
     "text": [
      "100%|███████████████████████████████████████████████████████████████████████████████████████████████████████████████| 8/8 [00:00<00:00, 108.11it/s]\n"
     ]
    },
    {
     "name": "stdout",
     "output_type": "stream",
     "text": [
      "\n"
     ]
    },
    {
     "name": "stderr",
     "output_type": "stream",
     "text": [
      "100%|████████████████████████████████████████████████████████████████████████████████████████████████████████████████| 8/8 [00:00<00:00, 72.34it/s]\n"
     ]
    },
    {
     "name": "stdout",
     "output_type": "stream",
     "text": [
      "\n",
      "computing neighbors\n",
      "    finished (0:00:00) --> added \n",
      "    'distances' and 'connectivities', weighted adjacency matrices (adata.obsp)\n"
     ]
    },
    {
     "name": "stderr",
     "output_type": "stream",
     "text": [
      "100%|█████████████████████████████████████████████████████████████████████████████████████████████████████████████| 11/11 [00:00<00:00, 103.77it/s]\n"
     ]
    },
    {
     "name": "stdout",
     "output_type": "stream",
     "text": [
      "\n"
     ]
    },
    {
     "name": "stderr",
     "output_type": "stream",
     "text": [
      "100%|██████████████████████████████████████████████████████████████████████████████████████████████████████████████| 11/11 [00:00<00:00, 66.27it/s]\n"
     ]
    },
    {
     "name": "stdout",
     "output_type": "stream",
     "text": [
      "\n"
     ]
    }
   ],
   "source": [
    "#### ALL SAMPLES PER V GENE FAMILY WITH GERMLINE ######\n",
    "model_names = [\"ablang\",\"sapiens\",\"ESM\",\"protbert\"]\n",
    "data = pd.read_csv(os.path.join(\"..\",\"..\",\"..\",\"data\",dataset,\"vdj_evolike_combine.csv\"))\n",
    "\n",
    "data_folder_path = os.path.join(\"..\",\"..\",\"..\",\"data\",dataset,\"VDJ\")\n",
    "germlines_path = os.path.join(\"..\",\"..\",\"..\",\"data\",dataset,\"all_germline_embeddings\")\n",
    "\n",
    "IgG_subtypes = [\"IGHG1\",\"IGHG2B\",\"IGHG2C\",\"IGHG3\"]\n",
    "\n",
    "model_dict = {}\n",
    "\n",
    "for i, model in enumerate(model_names):\n",
    "\n",
    "    pooled_embeds = []\n",
    "    group_dict = {}\n",
    "    \n",
    "    for _,sample in (data[[\"original_sample_id\",\"sample_id\"]].drop_duplicates().iterrows()):\n",
    "        \n",
    "        cellranger_path = os.path.join(data_folder_path, sample[\"original_sample_id\"])   \n",
    "        embeddings_path = os.path.join(cellranger_path,\"embeddings\",mode,f\"embeddings_{model}.csv.gzip\")\n",
    "\n",
    "        embeddings_file = pd.read_csv(embeddings_path, compression=\"gzip\")\n",
    "        embeddings_file = embeddings_file.loc[embeddings_file[\"chain\"] == \"IGH\",:].reset_index(drop=True)\n",
    "        embeddings_file[\"c_gene\"] = embeddings_file[\"c_gene\"].replace(IgG_subtypes,\"IGHG\")\n",
    "\n",
    "        ### no IGHM\n",
    "        if no_IGM:\n",
    "            embeddings_file = embeddings_file.loc[embeddings_file[\"c_gene\"] != \"IGHM\",:]\n",
    "\n",
    "        ###\n",
    "        \n",
    "        embeddings_file[\"v_gene_family\"] = embeddings_file[\"v_gene\"].apply(lambda x: x.split('-')[0])\n",
    "        embeddings_file[\"sample_id\"] = sample[\"sample_id\"]\n",
    "\n",
    "        embedding_cols = [col for col in list(embeddings_file.columns) if col.startswith(\"dim\")]\n",
    "        metadata_cols = list(set(embeddings_file.columns) - set(embedding_cols))\n",
    "\n",
    "        embeddings_file[\"barcode\"] = embeddings_file[\"barcode\"].apply(lambda x: x.split(\"-\")[0])\n",
    "        embeddings_file = embeddings_file.merge(data, on=\"barcode\",suffixes=('', '_y'))\n",
    "        embeddings_file = embeddings_file.drop_duplicates(\"full_VDJ_aa\").reset_index(drop=True)\n",
    "        embeddings_file = embeddings_file.dropna(subset=embedding_cols)\n",
    "\n",
    "        pooled_embeds += embeddings_file.to_dict(orient=\"records\")\n",
    "\n",
    "    pooled_embeds = pd.DataFrame(pooled_embeds)\n",
    "    \n",
    "    pooled_embeds[\"barcode\"] = pooled_embeds[\"barcode\"].apply(lambda x: x.split(\"-\")[0])\n",
    "    pooled_embeds = pooled_embeds.merge(data, on=\"barcode\",suffixes=('', '_y'))\n",
    "    pooled_embeds = pooled_embeds.drop_duplicates(\"full_VDJ_aa\").reset_index(drop=True)\n",
    "    pooled_embeds = pooled_embeds.dropna(subset=f\"evo_likelihood_{model}_full_VDJ\").reset_index(drop=True)\n",
    "    \n",
    "    if include_germline:\n",
    "        germline_embeddings = pd.read_csv(os.path.join(germlines_path,f\"all_germline_embeddings_{model}.csv.gzip\"), compression=\"gzip\")\n",
    "        germline_embeddings[\"full_VDJ_aa\"] = germline_embeddings[\"VDJ_ref.aa\"].apply(lambda x: x.replace(\"-\",\"\").replace(\"*\",\"\"))\n",
    "        germline_embeddings = germline_embeddings.drop_duplicates(\"full_VDJ_aa\").reset_index(drop=True)\n",
    "        germline_embeddings = germline_embeddings.merge(data, on=\"barcode\",suffixes=('', '_y'))\n",
    "        germline_embeddings[\"barcode\"] = \"germline\"\n",
    "        germline_embeddings[\"c_gene\"] = germline_embeddings[\"c_gene\"].replace(IgG_subtypes,\"IGHG\")\n",
    "        ### no IGHM\n",
    "        if no_IGM:\n",
    "            germline_embeddings = germline_embeddings.loc[germline_embeddings[\"c_gene\"] != \"IGHM\",:]\n",
    "\n",
    "        ###\n",
    "        germline_embeddings[\"v_gene_family\"] = germline_embeddings[\"v_gene\"].apply(lambda x: x.split('-')[0])\n",
    "        germline_embeddings = germline_embeddings.to_dict(orient=\"records\")\n",
    "     \n",
    "        pooled_embeds = pooled_embeds.to_dict(orient=\"records\")\n",
    "        pooled_embeds += germline_embeddings\n",
    "        pooled_embeds = pd.DataFrame(pooled_embeds)\n",
    "\n",
    "    embedding_cols = [col for col in list(pooled_embeds.columns) if col.startswith(\"dim\")]\n",
    "    metadata_cols = list(set(pooled_embeds.columns) - set(embedding_cols))\n",
    "    \n",
    "    only_embeddings = pooled_embeds[embedding_cols].copy()\n",
    "    metadata = pooled_embeds[metadata_cols].copy()\n",
    "    \n",
    "    for sub_group in pd.unique(pooled_embeds[group]):\n",
    "\n",
    "            # try:\n",
    "                torch.cuda.empty_cache()\n",
    "                \n",
    "                only_embeddings_sub_group = only_embeddings.loc[metadata[group] == sub_group, :].reset_index(drop=True)\n",
    "                metadata_sub_group = metadata.loc[metadata[group] == sub_group, :].reset_index(drop=True)\n",
    "\n",
    "                adata = anndata.AnnData(only_embeddings_sub_group)\n",
    "                adata.obs[\"seq\"] = list(metadata_sub_group[\"full_VDJ_aa\"])\n",
    "                adata.obs[\"barcode\"] = list(metadata_sub_group[\"barcode\"])\n",
    "                \n",
    "                adata.obs[\"v_gene_family\"] = list(metadata_sub_group[\"v_gene_family\"])     \n",
    "                \n",
    "                \n",
    "                adata.obs[\"sample_id\"] = list(metadata_sub_group[\"sample_id\"]) \n",
    "                                   \n",
    "                adata.obs[\"sample_clonotype\"] = list(metadata_sub_group.apply(lambda x: x[\"sample_id\"] + \"_\" + x[\"raw_clonotype_id\"], axis = 1))\n",
    "                adata.obs[\"sample_clonotype_encoded\"] = pd.factorize(adata.obs[\"sample_clonotype\"])[0]\n",
    "\n",
    "                if include_germline:\n",
    "                    germline_indicator = list(metadata_sub_group[\"barcode\"] == \"germline\")\n",
    "                    adata.obs.loc[germline_indicator,\"v_gene_family\"] = \"germline\"\n",
    "                    adata.obs.loc[germline_indicator,\"sample_id\"] = \"germline\"\n",
    "\n",
    "                adata.obs[\"v_gene_family\"] = adata.obs[\"v_gene_family\"].astype(\"category\")\n",
    "            \n",
    "                evo.pp.neighbors(adata)\n",
    "\n",
    "                if model == \"ESM\":\n",
    "                    evo.tl.velocity_graph(adata)\n",
    "                else:\n",
    "                    evo.tl.velocity_graph(adata, model_name=model)\n",
    "    \n",
    "                del adata.uns['model']\n",
    "                \n",
    "                group_dict[sub_group] = adata \n",
    "                del(adata, only_embeddings_sub_group, metadata_sub_group)\n",
    "                \n",
    "            # except:\n",
    "            #     continue\n",
    "\n",
    "    model_dict[model] = group_dict"
   ]
  },
  {
   "cell_type": "markdown",
   "id": "784768ff-318b-4a8e-a5af-7d3e46ee0daf",
   "metadata": {},
   "source": [
    "### LOAD EVO_VELO DICTIONARY"
   ]
  },
  {
   "cell_type": "code",
   "execution_count": 70,
   "id": "d52d9e87-8cdb-48d7-9427-2373614a6fe7",
   "metadata": {},
   "outputs": [],
   "source": [
    "import pickle as pkl\n",
    "\n",
    "save_file_name = \"evo_velo_\"\n",
    "\n",
    "if no_IGM:\n",
    "    save_file_name += \"no_IGM_\"\n",
    "elif only_IGM:\n",
    "    save_file_name += \"only_IGM_\"\n",
    "if no_IGD:\n",
    "    save_file_name += \"no_IGD_\"\n",
    "\n",
    "save_file_name += group\n",
    "\n",
    "if include_germline:\n",
    "    save_file_name += \"_germline.pkl\"\n",
    "else:\n",
    "    save_file_name += \".pkl\"\n",
    "\n",
    "file_path = f\"../../../data/{dataset}/{save_file_name}\"\n",
    "\n",
    "with open(file_path,\"rb\") as file:\n",
    "    model_dict = pkl.load(file)"
   ]
  },
  {
   "cell_type": "code",
   "execution_count": 71,
   "id": "12d72194-8a36-4395-a6c4-2ed46c0c71dc",
   "metadata": {},
   "outputs": [
    {
     "data": {
      "text/plain": [
       "'../../../data/OVA_mouse/evo_velo_v_gene.pkl'"
      ]
     },
     "execution_count": 71,
     "metadata": {},
     "output_type": "execute_result"
    }
   ],
   "source": [
    "file_path"
   ]
  },
  {
   "cell_type": "markdown",
   "id": "520b802d-1002-4116-baef-757986e82682",
   "metadata": {},
   "source": [
    "### ADD ADDITIONAL METADATA"
   ]
  },
  {
   "cell_type": "code",
   "execution_count": 63,
   "id": "a0f2d386-197e-45ac-aab0-535ba84971ae",
   "metadata": {
    "scrolled": true
   },
   "outputs": [
    {
     "name": "stdout",
     "output_type": "stream",
     "text": [
      "computing velocity embedding\n",
      "    finished (0:00:00) --> added\n",
      "    'velocity_umap', embedded velocity vectors (adata.obsm)\n",
      "computing velocity embedding\n",
      "    finished (0:00:00) --> added\n",
      "    'velocity_umap', embedded velocity vectors (adata.obsm)\n",
      "computing velocity embedding\n",
      "    finished (0:00:00) --> added\n",
      "    'velocity_umap', embedded velocity vectors (adata.obsm)\n",
      "computing velocity embedding\n",
      "    finished (0:00:00) --> added\n",
      "    'velocity_umap', embedded velocity vectors (adata.obsm)\n",
      "computing velocity embedding\n",
      "    finished (0:00:00) --> added\n",
      "    'velocity_umap', embedded velocity vectors (adata.obsm)\n",
      "computing velocity embedding\n",
      "    finished (0:00:00) --> added\n",
      "    'velocity_umap', embedded velocity vectors (adata.obsm)\n",
      "computing velocity embedding\n",
      "    finished (0:00:00) --> added\n",
      "    'velocity_umap', embedded velocity vectors (adata.obsm)\n",
      "computing velocity embedding\n",
      "    finished (0:00:00) --> added\n",
      "    'velocity_umap', embedded velocity vectors (adata.obsm)\n",
      "computing velocity embedding\n",
      "    finished (0:00:00) --> added\n",
      "    'velocity_umap', embedded velocity vectors (adata.obsm)\n",
      "computing velocity embedding\n",
      "    finished (0:00:00) --> added\n",
      "    'velocity_umap', embedded velocity vectors (adata.obsm)\n",
      "computing velocity embedding\n",
      "    finished (0:00:00) --> added\n",
      "    'velocity_umap', embedded velocity vectors (adata.obsm)\n",
      "computing velocity embedding\n",
      "    finished (0:00:00) --> added\n",
      "    'velocity_umap', embedded velocity vectors (adata.obsm)\n",
      "computing velocity embedding\n",
      "    finished (0:00:00) --> added\n",
      "    'velocity_umap', embedded velocity vectors (adata.obsm)\n",
      "computing velocity embedding\n",
      "    finished (0:00:00) --> added\n",
      "    'velocity_umap', embedded velocity vectors (adata.obsm)\n",
      "computing velocity embedding\n",
      "    finished (0:00:00) --> added\n",
      "    'velocity_umap', embedded velocity vectors (adata.obsm)\n",
      "computing velocity embedding\n",
      "    finished (0:00:00) --> added\n",
      "    'velocity_umap', embedded velocity vectors (adata.obsm)\n",
      "computing velocity embedding\n",
      "    finished (0:00:00) --> added\n",
      "    'velocity_umap', embedded velocity vectors (adata.obsm)\n",
      "computing velocity embedding\n",
      "    finished (0:00:00) --> added\n",
      "    'velocity_umap', embedded velocity vectors (adata.obsm)\n",
      "computing velocity embedding\n",
      "    finished (0:00:00) --> added\n",
      "    'velocity_umap', embedded velocity vectors (adata.obsm)\n",
      "computing velocity embedding\n",
      "    finished (0:00:00) --> added\n",
      "    'velocity_umap', embedded velocity vectors (adata.obsm)\n",
      "computing velocity embedding\n",
      "    finished (0:00:00) --> added\n",
      "    'velocity_umap', embedded velocity vectors (adata.obsm)\n",
      "computing velocity embedding\n",
      "    finished (0:00:00) --> added\n",
      "    'velocity_umap', embedded velocity vectors (adata.obsm)\n",
      "computing velocity embedding\n",
      "    finished (0:00:00) --> added\n",
      "    'velocity_umap', embedded velocity vectors (adata.obsm)\n",
      "computing velocity embedding\n",
      "    finished (0:00:00) --> added\n",
      "    'velocity_umap', embedded velocity vectors (adata.obsm)\n",
      "computing velocity embedding\n",
      "    finished (0:00:00) --> added\n",
      "    'velocity_umap', embedded velocity vectors (adata.obsm)\n",
      "computing velocity embedding\n",
      "    finished (0:00:00) --> added\n",
      "    'velocity_umap', embedded velocity vectors (adata.obsm)\n",
      "computing velocity embedding\n",
      "    finished (0:00:00) --> added\n",
      "    'velocity_umap', embedded velocity vectors (adata.obsm)\n",
      "computing velocity embedding\n",
      "    finished (0:00:00) --> added\n",
      "    'velocity_umap', embedded velocity vectors (adata.obsm)\n",
      "computing velocity embedding\n",
      "    finished (0:00:00) --> added\n",
      "    'velocity_umap', embedded velocity vectors (adata.obsm)\n",
      "computing velocity embedding\n",
      "    finished (0:00:00) --> added\n",
      "    'velocity_umap', embedded velocity vectors (adata.obsm)\n",
      "computing velocity embedding\n",
      "    finished (0:00:00) --> added\n",
      "    'velocity_umap', embedded velocity vectors (adata.obsm)\n",
      "computing velocity embedding\n",
      "    finished (0:00:00) --> added\n",
      "    'velocity_umap', embedded velocity vectors (adata.obsm)\n",
      "computing velocity embedding\n",
      "    finished (0:00:00) --> added\n",
      "    'velocity_umap', embedded velocity vectors (adata.obsm)\n",
      "computing velocity embedding\n",
      "    finished (0:00:00) --> added\n",
      "    'velocity_umap', embedded velocity vectors (adata.obsm)\n",
      "computing velocity embedding\n",
      "    finished (0:00:00) --> added\n",
      "    'velocity_umap', embedded velocity vectors (adata.obsm)\n",
      "computing velocity embedding\n",
      "    finished (0:00:00) --> added\n",
      "    'velocity_umap', embedded velocity vectors (adata.obsm)\n",
      "computing velocity embedding\n",
      "    finished (0:00:00) --> added\n",
      "    'velocity_umap', embedded velocity vectors (adata.obsm)\n",
      "computing velocity embedding\n",
      "    finished (0:00:00) --> added\n",
      "    'velocity_umap', embedded velocity vectors (adata.obsm)\n",
      "computing velocity embedding\n",
      "    finished (0:00:00) --> added\n",
      "    'velocity_umap', embedded velocity vectors (adata.obsm)\n",
      "computing velocity embedding\n",
      "    finished (0:00:00) --> added\n",
      "    'velocity_umap', embedded velocity vectors (adata.obsm)\n",
      "computing velocity embedding\n",
      "    finished (0:00:00) --> added\n",
      "    'velocity_umap', embedded velocity vectors (adata.obsm)\n",
      "computing velocity embedding\n",
      "    finished (0:00:00) --> added\n",
      "    'velocity_umap', embedded velocity vectors (adata.obsm)\n",
      "computing velocity embedding\n",
      "    finished (0:00:00) --> added\n",
      "    'velocity_umap', embedded velocity vectors (adata.obsm)\n",
      "computing velocity embedding\n",
      "    finished (0:00:00) --> added\n",
      "    'velocity_umap', embedded velocity vectors (adata.obsm)\n",
      "computing velocity embedding\n",
      "    finished (0:00:00) --> added\n",
      "    'velocity_umap', embedded velocity vectors (adata.obsm)\n",
      "computing velocity embedding\n",
      "    finished (0:00:00) --> added\n",
      "    'velocity_umap', embedded velocity vectors (adata.obsm)\n",
      "computing velocity embedding\n",
      "    finished (0:00:00) --> added\n",
      "    'velocity_umap', embedded velocity vectors (adata.obsm)\n",
      "computing velocity embedding\n",
      "    finished (0:00:00) --> added\n",
      "    'velocity_umap', embedded velocity vectors (adata.obsm)\n",
      "computing velocity embedding\n",
      "    finished (0:00:00) --> added\n",
      "    'velocity_umap', embedded velocity vectors (adata.obsm)\n",
      "computing velocity embedding\n",
      "    finished (0:00:00) --> added\n",
      "    'velocity_umap', embedded velocity vectors (adata.obsm)\n",
      "computing velocity embedding\n",
      "    finished (0:00:00) --> added\n",
      "    'velocity_umap', embedded velocity vectors (adata.obsm)\n",
      "computing velocity embedding\n",
      "    finished (0:00:00) --> added\n",
      "    'velocity_umap', embedded velocity vectors (adata.obsm)\n",
      "computing velocity embedding\n",
      "    finished (0:00:00) --> added\n",
      "    'velocity_umap', embedded velocity vectors (adata.obsm)\n",
      "computing velocity embedding\n",
      "    finished (0:00:00) --> added\n",
      "    'velocity_umap', embedded velocity vectors (adata.obsm)\n",
      "computing velocity embedding\n",
      "    finished (0:00:00) --> added\n",
      "    'velocity_umap', embedded velocity vectors (adata.obsm)\n",
      "computing velocity embedding\n",
      "    finished (0:00:00) --> added\n",
      "    'velocity_umap', embedded velocity vectors (adata.obsm)\n"
     ]
    }
   ],
   "source": [
    "def seq_counter(seq, sample_clonotype,df):\n",
    "    return ((df[\"full_VDJ_aa\"].values == seq) & (df[\"sample_clonotype\"] == sample_clonotype)).sum()\n",
    "\n",
    "model_names = [\"ablang\",\"sapiens\",\"protbert\",\"ESM\"]\n",
    "data = pd.read_csv(os.path.join(\"..\",\"..\",\"..\",\"data\",dataset,\"vdj_evolike_combine.csv\"))\n",
    "\n",
    "data[\"sample_clonotype\"] = list(data.apply(lambda x: x[\"sample_id\"] + \"_\" + x[\"raw_clonotype_id\"], axis = 1))\n",
    "\n",
    "data[\"seq_frequency\"] = list(data.apply(lambda x: seq_counter(x[\"full_VDJ_aa\"],x[\"sample_clonotype\"], data),axis = 1))\n",
    "unduplicated_data = data.drop_duplicates([\"full_VDJ_aa\",\"sample_clonotype\"]).reset_index(drop=True)\n",
    "clonal_value_counts = unduplicated_data[\"sample_clonotype\"].value_counts()\n",
    "\n",
    "data[\"unique_clonal_seqs\"] = list(data.apply(lambda x: clonal_value_counts[x[\"sample_clonotype\"]], axis=1))\n",
    "\n",
    "data_folder_path = os.path.join(\"..\",\"..\",\"..\",\"data\",dataset,\"VDJ\")\n",
    "germlines_path = os.path.join(\"..\",\"..\",\"..\",\"data\",dataset,\"all_germline_embeddings\")\n",
    "\n",
    "IgG_subtypes = [\"IGHG1\",\"IGHG2B\",\"IGHG2C\",\"IGHG3\",\"IGHG2\",\"IGHG4\"]\n",
    "IgA_subtypes = [\"IGHA1\",\"IGHA2\"]\n",
    "\n",
    "for i, model in enumerate(model_names):\n",
    "    \n",
    "    if include_germline:\n",
    "        germline_embeddings = pd.read_csv(os.path.join(germlines_path,f\"all_germline_embeddings_{model}.csv.gzip\"), compression=\"gzip\")\n",
    "        germline_embeddings[\"full_VDJ_aa\"] = germline_embeddings[\"VDJ_ref.aa\"].apply(lambda x: x.replace(\"-\",\"\").replace(\"*\",\"\"))\n",
    "        # germline_embeddings[\"barcode\"] = germline_embeddings[\"barcode\"].apply(lambda x: x.split(\"_\")[1])\n",
    "        germline_embeddings = germline_embeddings.merge(data, on=\"barcode\",suffixes=('', '_y'))\n",
    "        \n",
    "        germline_embeddings[\"barcode\"] = \"germline\"\n",
    "        germline_embeddings[\"c_gene\"] = germline_embeddings[\"c_gene\"].replace(IgG_subtypes,\"IGHG\")\n",
    "        germline_embeddings[\"v_gene_family\"] = germline_embeddings[\"v_gene\"].apply(lambda x: x.split('-')[0])\n",
    "\n",
    "        # germline_embeddings[\"c_gene\"] = \"germline\"\n",
    "        germline_embeddings[\"clonotype_frequency\"] = -10.0\n",
    "        germline_embeddings[\"seq_frequency\"] = -10.0\n",
    "        germline_embeddings[\"unique_clonal_seqs\"] = -10.0\n",
    "        germline_embeddings[\"SHM_count\"] = 0\n",
    "\n",
    "        germline_embeddings_metadata_cols = [col for col in list(set(germline_embeddings.columns)) if not col.startswith(\"dim\")]\n",
    "        germline_embeddings_metadata = germline_embeddings[germline_embeddings_metadata_cols]\n",
    "        \n",
    "        metadata = pd.concat([data,germline_embeddings_metadata]).drop_duplicates([\"barcode\",\"sample_clonotype\"]).reset_index(drop=True)\n",
    "    else:\n",
    "        metadata = data.copy()\n",
    "    \n",
    "    for sub_group in pd.unique(metadata[group]):\n",
    "\n",
    "        if sub_group in list(model_dict[model].keys()):\n",
    "            # metadata_sub_group = metadata.loc[metadata[group] == sub_group, :].drop_duplicates(\"full_VDJ_aa\").reset_index(drop=True)\n",
    "            fixed_columns = [\"seq\",\"barcode\",\"sample_clonotype\",\"velocity_self_transition\"]\n",
    "            model_dict[model][sub_group].obs = model_dict[model][sub_group].obs[fixed_columns]\n",
    "            extra = model_dict[model][sub_group].obs[fixed_columns].merge(metadata, on=[\"barcode\",\"sample_clonotype\"],suffixes=('', '_y'), how=\"left\")\n",
    "            extra = extra.loc[:,~extra.columns.duplicated()].copy()\n",
    "            extra[\"germline_status\"] = \"non_germline\"\n",
    "            extra.loc[extra[\"barcode\"] == \"germline\",\"germline_status\"] = \"germline\"\n",
    "                    \n",
    "            model_dict[model][sub_group].obs[\"sample_id\"] = list(extra[\"sample_id\"])\n",
    "            model_dict[model][sub_group].obs[\"germline_status\"] = list(extra[\"germline_status\"])\n",
    "            model_dict[model][sub_group].obs[\"isotype\"] = list(extra[\"c_gene\"])\n",
    "            model_dict[model][sub_group].obs[\"j_gene\"] = list(extra[\"j_gene\"])\n",
    "            model_dict[model][sub_group].obs[\"clonal_exp\"] = list(extra[\"clonotype_frequency\"].astype(float))\n",
    "            model_dict[model][sub_group].obs[\"seq_frequency\"] = list(extra[\"seq_frequency\"].astype(float))\n",
    "            model_dict[model][sub_group].obs[\"unique_clonal_seqs\"] = list(extra[\"unique_clonal_seqs\"].astype(float))\n",
    "            model_dict[model][sub_group].obs[\"SHM_count\"] = list(extra[\"SHM_count\"].astype(float))\n",
    "            model_dict[model][sub_group].obs[\"SHM_count_aa\"] = list(extra[\"SHM_count_aa\"].astype(float))\n",
    "\n",
    "\n",
    "            if model_dict[model][sub_group].obs.shape[0] > 2:\n",
    "                try:\n",
    "                    sc.tl.umap(model_dict[model][sub_group])\n",
    "                    evo.tl.velocity_embedding(model_dict[model][sub_group])\n",
    "                except:\n",
    "                    continue\n",
    "        else:\n",
    "            continue"
   ]
  },
  {
   "cell_type": "code",
   "execution_count": 73,
   "id": "ed3f51f2-e896-45df-959a-81f3b02302ea",
   "metadata": {
    "scrolled": true
   },
   "outputs": [],
   "source": [
    "x = model_dict[\"ablang\"][\"IGHV5-6\"].obs\n",
    "x.to_csv(\"dummy.csv\", index = False)"
   ]
  },
  {
   "cell_type": "code",
   "execution_count": 4,
   "id": "0798b21d-5ee3-464e-b4d4-5d591cd219fa",
   "metadata": {},
   "outputs": [
    {
     "data": {
      "text/plain": [
       "False"
      ]
     },
     "execution_count": 4,
     "metadata": {},
     "output_type": "execute_result"
    }
   ],
   "source": [
    "pd.api.types.is_categorical([1.0, 2.0, 3.0])"
   ]
  },
  {
   "cell_type": "markdown",
   "id": "9df34e52-337c-49f3-9a52-4610370e0de2",
   "metadata": {},
   "source": [
    "### SAVE EVO_VELO DICTIONARY"
   ]
  },
  {
   "cell_type": "code",
   "execution_count": 65,
   "id": "998c3204-be8b-41b9-83ef-768fc0f00893",
   "metadata": {},
   "outputs": [],
   "source": [
    "import pickle as pkl\n",
    "\n",
    "save_file_name = \"evo_velo_\"\n",
    "\n",
    "if no_IGM:\n",
    "    save_file_name += \"no_IGM_\"\n",
    "elif only_IGM:\n",
    "    save_file_name += \"only_IGM_\"\n",
    "if no_IGD:\n",
    "    save_file_name += \"no_IGD_\"\n",
    "\n",
    "save_file_name += group\n",
    "\n",
    "if include_germline:\n",
    "    save_file_name += \"_germline.pkl\"\n",
    "else:\n",
    "    save_file_name += \".pkl\"\n",
    "\n",
    "file_path = f\"../../../data/{dataset}/{save_file_name}\"\n",
    "\n",
    "with open(file_path ,\"wb\") as file:\n",
    "    pkl.dump(model_dict, file)"
   ]
  },
  {
   "cell_type": "code",
   "execution_count": 64,
   "id": "55a57696-8824-465c-ad28-8a92bcca96c6",
   "metadata": {},
   "outputs": [
    {
     "data": {
      "text/plain": [
       "'../../../data/OVA_mouse/evo_velo_only_IGM_v_gene_family.pkl'"
      ]
     },
     "execution_count": 64,
     "metadata": {},
     "output_type": "execute_result"
    }
   ],
   "source": [
    "file_path"
   ]
  },
  {
   "cell_type": "markdown",
   "id": "41bfa25f-5f50-4f74-9d36-9dae7f55d7b4",
   "metadata": {},
   "source": [
    "### SPECIFIC V_GENE SUB-FAMILY"
   ]
  },
  {
   "cell_type": "code",
   "execution_count": 28,
   "id": "21736734-7b31-42a6-bd95-e3851c0eb00b",
   "metadata": {},
   "outputs": [],
   "source": [
    "dataset_specific = \"OVA_mouse\"\n",
    "group_specific = \"v_gene\"\n",
    "mode_specific = \"v_gene_only\"\n",
    "include_germline_specific = True\n",
    "unrecombined = True"
   ]
  },
  {
   "cell_type": "code",
   "execution_count": 3,
   "id": "2c68ab5c-1818-4ea5-9e84-cf89bb00cbd4",
   "metadata": {},
   "outputs": [],
   "source": [
    "import pickle as pkl\n",
    "\n",
    "if include_germline_specific and unrecombined == False:\n",
    "    file_path = f\"../../../data/{dataset_specific}/evo_velo_{group_specific}_germline.pkl\"\n",
    "elif include_germline_specific and unrecombined == True:\n",
    "    file_path = f\"../../../data/{dataset_specific}/evo_velo_{group_specific}_unrecombined_germline.pkl\"\n",
    "else:\n",
    "    file_path = f\"../../../data/{dataset_specific}/evo_velo_{group_specific}.pkl\"\n",
    "\n",
    "with open(file_path,\"rb\") as file:\n",
    "    model_dict_specific = pkl.load(file)"
   ]
  },
  {
   "cell_type": "code",
   "execution_count": 23,
   "id": "94a7223d-b94a-4d43-9d98-de37a54ab265",
   "metadata": {},
   "outputs": [
    {
     "data": {
      "text/plain": [
       "{'ablang': {'IGHV1-4': AnnData object with n_obs × n_vars = 219 × 768\n",
       "      obs: 'seq', 'barcode', 'v_gene_family', 'sample_id', 'sample_clonotype', 'sample_clonotype_encoded', 'velocity_self_transition', 'isotype', 'j_gene', 'clonal_exp', 'seq_frequency', 'unique_clonal_seqs', 'SHM_count', 'germline_status', 'IMGT_SHM_count'\n",
       "      uns: 'neighbors', 'velocity_graph', 'velocity_graph_neg'\n",
       "      layers: 'velocity'\n",
       "      obsp: 'distances', 'connectivities',\n",
       "  'IGHV9-3': AnnData object with n_obs × n_vars = 180 × 768\n",
       "      obs: 'seq', 'barcode', 'v_gene_family', 'sample_id', 'sample_clonotype', 'sample_clonotype_encoded', 'velocity_self_transition', 'isotype', 'j_gene', 'clonal_exp', 'seq_frequency', 'unique_clonal_seqs', 'SHM_count', 'germline_status', 'IMGT_SHM_count'\n",
       "      uns: 'neighbors', 'velocity_graph', 'velocity_graph_neg'\n",
       "      layers: 'velocity'\n",
       "      obsp: 'distances', 'connectivities',\n",
       "  'IGHV1-18': AnnData object with n_obs × n_vars = 173 × 768\n",
       "      obs: 'seq', 'barcode', 'v_gene_family', 'sample_id', 'sample_clonotype', 'sample_clonotype_encoded', 'velocity_self_transition', 'isotype', 'j_gene', 'clonal_exp', 'seq_frequency', 'unique_clonal_seqs', 'SHM_count', 'germline_status', 'IMGT_SHM_count'\n",
       "      uns: 'neighbors', 'velocity_graph', 'velocity_graph_neg'\n",
       "      layers: 'velocity'\n",
       "      obsp: 'distances', 'connectivities',\n",
       "  'IGHV1-5': AnnData object with n_obs × n_vars = 171 × 768\n",
       "      obs: 'seq', 'barcode', 'v_gene_family', 'sample_id', 'sample_clonotype', 'sample_clonotype_encoded', 'velocity_self_transition', 'isotype', 'j_gene', 'clonal_exp', 'seq_frequency', 'unique_clonal_seqs', 'SHM_count', 'germline_status', 'IMGT_SHM_count'\n",
       "      uns: 'neighbors', 'velocity_graph', 'velocity_graph_neg'\n",
       "      layers: 'velocity'\n",
       "      obsp: 'distances', 'connectivities',\n",
       "  'IGHV5-6': AnnData object with n_obs × n_vars = 159 × 768\n",
       "      obs: 'seq', 'barcode', 'v_gene_family', 'sample_id', 'sample_clonotype', 'sample_clonotype_encoded', 'velocity_self_transition', 'isotype', 'j_gene', 'clonal_exp', 'seq_frequency', 'unique_clonal_seqs', 'SHM_count', 'germline_status', 'IMGT_SHM_count'\n",
       "      uns: 'neighbors', 'velocity_graph', 'velocity_graph_neg'\n",
       "      layers: 'velocity'\n",
       "      obsp: 'distances', 'connectivities',\n",
       "  'IGHV3-1': AnnData object with n_obs × n_vars = 129 × 768\n",
       "      obs: 'seq', 'barcode', 'v_gene_family', 'sample_id', 'sample_clonotype', 'sample_clonotype_encoded', 'velocity_self_transition', 'isotype', 'j_gene', 'clonal_exp', 'seq_frequency', 'unique_clonal_seqs', 'SHM_count', 'germline_status', 'IMGT_SHM_count'\n",
       "      uns: 'neighbors', 'velocity_graph', 'velocity_graph_neg'\n",
       "      layers: 'velocity'\n",
       "      obsp: 'distances', 'connectivities',\n",
       "  'IGHV1-53': AnnData object with n_obs × n_vars = 129 × 768\n",
       "      obs: 'seq', 'barcode', 'v_gene_family', 'sample_id', 'sample_clonotype', 'sample_clonotype_encoded', 'velocity_self_transition', 'isotype', 'j_gene', 'clonal_exp', 'seq_frequency', 'unique_clonal_seqs', 'SHM_count', 'germline_status', 'IMGT_SHM_count'\n",
       "      uns: 'neighbors', 'velocity_graph', 'velocity_graph_neg'\n",
       "      layers: 'velocity'\n",
       "      obsp: 'distances', 'connectivities',\n",
       "  'IGHV1-19': AnnData object with n_obs × n_vars = 121 × 768\n",
       "      obs: 'seq', 'barcode', 'v_gene_family', 'sample_id', 'sample_clonotype', 'sample_clonotype_encoded', 'velocity_self_transition', 'isotype', 'j_gene', 'clonal_exp', 'seq_frequency', 'unique_clonal_seqs', 'SHM_count', 'germline_status'\n",
       "      uns: 'neighbors', 'velocity_graph', 'velocity_graph_neg'\n",
       "      layers: 'velocity'\n",
       "      obsp: 'distances', 'connectivities',\n",
       "  'IGHV5-9-1': AnnData object with n_obs × n_vars = 117 × 768\n",
       "      obs: 'seq', 'barcode', 'v_gene_family', 'sample_id', 'sample_clonotype', 'sample_clonotype_encoded', 'velocity_self_transition', 'isotype', 'j_gene', 'clonal_exp', 'seq_frequency', 'unique_clonal_seqs', 'SHM_count', 'germline_status'\n",
       "      uns: 'neighbors', 'velocity_graph', 'velocity_graph_neg'\n",
       "      layers: 'velocity'\n",
       "      obsp: 'distances', 'connectivities',\n",
       "  'IGHV6-6': AnnData object with n_obs × n_vars = 115 × 768\n",
       "      obs: 'seq', 'barcode', 'v_gene_family', 'sample_id', 'sample_clonotype', 'sample_clonotype_encoded', 'velocity_self_transition', 'isotype', 'j_gene', 'clonal_exp', 'seq_frequency', 'unique_clonal_seqs', 'SHM_count', 'germline_status', 'IMGT_SHM_count'\n",
       "      uns: 'neighbors', 'velocity_graph', 'velocity_graph_neg'\n",
       "      layers: 'velocity'\n",
       "      obsp: 'distances', 'connectivities'},\n",
       " 'protbert': {'IGHV1-4': AnnData object with n_obs × n_vars = 219 × 1024\n",
       "      obs: 'seq', 'barcode', 'v_gene_family', 'sample_id', 'sample_clonotype', 'sample_clonotype_encoded', 'velocity_self_transition', 'isotype', 'j_gene', 'clonal_exp', 'seq_frequency', 'unique_clonal_seqs', 'SHM_count', 'germline_status', 'IMGT_SHM_count'\n",
       "      uns: 'neighbors', 'velocity_graph', 'velocity_graph_neg'\n",
       "      layers: 'velocity'\n",
       "      obsp: 'distances', 'connectivities',\n",
       "  'IGHV9-3': AnnData object with n_obs × n_vars = 179 × 1024\n",
       "      obs: 'seq', 'barcode', 'v_gene_family', 'sample_id', 'sample_clonotype', 'sample_clonotype_encoded', 'velocity_self_transition', 'isotype', 'j_gene', 'clonal_exp', 'seq_frequency', 'unique_clonal_seqs', 'SHM_count', 'germline_status', 'IMGT_SHM_count'\n",
       "      uns: 'neighbors', 'velocity_graph', 'velocity_graph_neg'\n",
       "      layers: 'velocity'\n",
       "      obsp: 'distances', 'connectivities',\n",
       "  'IGHV1-18': AnnData object with n_obs × n_vars = 173 × 1024\n",
       "      obs: 'seq', 'barcode', 'v_gene_family', 'sample_id', 'sample_clonotype', 'sample_clonotype_encoded', 'velocity_self_transition', 'isotype', 'j_gene', 'clonal_exp', 'seq_frequency', 'unique_clonal_seqs', 'SHM_count', 'germline_status', 'IMGT_SHM_count'\n",
       "      uns: 'neighbors', 'velocity_graph', 'velocity_graph_neg'\n",
       "      layers: 'velocity'\n",
       "      obsp: 'distances', 'connectivities',\n",
       "  'IGHV1-5': AnnData object with n_obs × n_vars = 170 × 1024\n",
       "      obs: 'seq', 'barcode', 'v_gene_family', 'sample_id', 'sample_clonotype', 'sample_clonotype_encoded', 'velocity_self_transition', 'isotype', 'j_gene', 'clonal_exp', 'seq_frequency', 'unique_clonal_seqs', 'SHM_count', 'germline_status', 'IMGT_SHM_count'\n",
       "      uns: 'neighbors', 'velocity_graph', 'velocity_graph_neg'\n",
       "      layers: 'velocity'\n",
       "      obsp: 'distances', 'connectivities',\n",
       "  'IGHV5-6': AnnData object with n_obs × n_vars = 157 × 1024\n",
       "      obs: 'seq', 'barcode', 'v_gene_family', 'sample_id', 'sample_clonotype', 'sample_clonotype_encoded', 'velocity_self_transition', 'isotype', 'j_gene', 'clonal_exp', 'seq_frequency', 'unique_clonal_seqs', 'SHM_count', 'germline_status', 'IMGT_SHM_count'\n",
       "      uns: 'neighbors', 'velocity_graph', 'velocity_graph_neg'\n",
       "      layers: 'velocity'\n",
       "      obsp: 'distances', 'connectivities',\n",
       "  'IGHV1-53': AnnData object with n_obs × n_vars = 128 × 1024\n",
       "      obs: 'seq', 'barcode', 'v_gene_family', 'sample_id', 'sample_clonotype', 'sample_clonotype_encoded', 'velocity_self_transition', 'isotype', 'j_gene', 'clonal_exp', 'seq_frequency', 'unique_clonal_seqs', 'SHM_count', 'germline_status', 'IMGT_SHM_count'\n",
       "      uns: 'neighbors', 'velocity_graph', 'velocity_graph_neg'\n",
       "      layers: 'velocity'\n",
       "      obsp: 'distances', 'connectivities',\n",
       "  'IGHV3-1': AnnData object with n_obs × n_vars = 127 × 1024\n",
       "      obs: 'seq', 'barcode', 'v_gene_family', 'sample_id', 'sample_clonotype', 'sample_clonotype_encoded', 'velocity_self_transition', 'isotype', 'j_gene', 'clonal_exp', 'seq_frequency', 'unique_clonal_seqs', 'SHM_count', 'germline_status', 'IMGT_SHM_count'\n",
       "      uns: 'neighbors', 'velocity_graph', 'velocity_graph_neg'\n",
       "      layers: 'velocity'\n",
       "      obsp: 'distances', 'connectivities',\n",
       "  'IGHV1-19': AnnData object with n_obs × n_vars = 119 × 1024\n",
       "      obs: 'seq', 'barcode', 'v_gene_family', 'sample_id', 'sample_clonotype', 'sample_clonotype_encoded', 'velocity_self_transition', 'isotype', 'j_gene', 'clonal_exp', 'seq_frequency', 'unique_clonal_seqs', 'SHM_count', 'germline_status'\n",
       "      uns: 'neighbors', 'velocity_graph', 'velocity_graph_neg'\n",
       "      layers: 'velocity'\n",
       "      obsp: 'distances', 'connectivities',\n",
       "  'IGHV5-9-1': AnnData object with n_obs × n_vars = 117 × 1024\n",
       "      obs: 'seq', 'barcode', 'v_gene_family', 'sample_id', 'sample_clonotype', 'sample_clonotype_encoded', 'velocity_self_transition', 'isotype', 'j_gene', 'clonal_exp', 'seq_frequency', 'unique_clonal_seqs', 'SHM_count', 'germline_status'\n",
       "      uns: 'neighbors', 'velocity_graph', 'velocity_graph_neg'\n",
       "      layers: 'velocity'\n",
       "      obsp: 'distances', 'connectivities',\n",
       "  'IGHV6-6': AnnData object with n_obs × n_vars = 115 × 1024\n",
       "      obs: 'seq', 'barcode', 'v_gene_family', 'sample_id', 'sample_clonotype', 'sample_clonotype_encoded', 'velocity_self_transition', 'isotype', 'j_gene', 'clonal_exp', 'seq_frequency', 'unique_clonal_seqs', 'SHM_count', 'germline_status', 'IMGT_SHM_count'\n",
       "      uns: 'neighbors', 'velocity_graph', 'velocity_graph_neg'\n",
       "      layers: 'velocity'\n",
       "      obsp: 'distances', 'connectivities'},\n",
       " 'sapiens': {'IGHV1-4': AnnData object with n_obs × n_vars = 219 × 128\n",
       "      obs: 'seq', 'barcode', 'v_gene_family', 'sample_id', 'sample_clonotype', 'sample_clonotype_encoded', 'velocity_self_transition', 'isotype', 'j_gene', 'clonal_exp', 'seq_frequency', 'unique_clonal_seqs', 'SHM_count', 'germline_status', 'IMGT_SHM_count'\n",
       "      uns: 'neighbors', 'velocity_graph', 'velocity_graph_neg'\n",
       "      layers: 'velocity'\n",
       "      obsp: 'distances', 'connectivities',\n",
       "  'IGHV9-3': AnnData object with n_obs × n_vars = 179 × 128\n",
       "      obs: 'seq', 'barcode', 'v_gene_family', 'sample_id', 'sample_clonotype', 'sample_clonotype_encoded', 'velocity_self_transition', 'isotype', 'j_gene', 'clonal_exp', 'seq_frequency', 'unique_clonal_seqs', 'SHM_count', 'germline_status', 'IMGT_SHM_count'\n",
       "      uns: 'neighbors', 'velocity_graph', 'velocity_graph_neg'\n",
       "      layers: 'velocity'\n",
       "      obsp: 'distances', 'connectivities',\n",
       "  'IGHV1-18': AnnData object with n_obs × n_vars = 173 × 128\n",
       "      obs: 'seq', 'barcode', 'v_gene_family', 'sample_id', 'sample_clonotype', 'sample_clonotype_encoded', 'velocity_self_transition', 'isotype', 'j_gene', 'clonal_exp', 'seq_frequency', 'unique_clonal_seqs', 'SHM_count', 'germline_status', 'IMGT_SHM_count'\n",
       "      uns: 'neighbors', 'velocity_graph', 'velocity_graph_neg'\n",
       "      layers: 'velocity'\n",
       "      obsp: 'distances', 'connectivities',\n",
       "  'IGHV1-5': AnnData object with n_obs × n_vars = 170 × 128\n",
       "      obs: 'seq', 'barcode', 'v_gene_family', 'sample_id', 'sample_clonotype', 'sample_clonotype_encoded', 'velocity_self_transition', 'isotype', 'j_gene', 'clonal_exp', 'seq_frequency', 'unique_clonal_seqs', 'SHM_count', 'germline_status', 'IMGT_SHM_count'\n",
       "      uns: 'neighbors', 'velocity_graph', 'velocity_graph_neg'\n",
       "      layers: 'velocity'\n",
       "      obsp: 'distances', 'connectivities',\n",
       "  'IGHV5-6': AnnData object with n_obs × n_vars = 157 × 128\n",
       "      obs: 'seq', 'barcode', 'v_gene_family', 'sample_id', 'sample_clonotype', 'sample_clonotype_encoded', 'velocity_self_transition', 'isotype', 'j_gene', 'clonal_exp', 'seq_frequency', 'unique_clonal_seqs', 'SHM_count', 'germline_status', 'IMGT_SHM_count'\n",
       "      uns: 'neighbors', 'velocity_graph', 'velocity_graph_neg'\n",
       "      layers: 'velocity'\n",
       "      obsp: 'distances', 'connectivities',\n",
       "  'IGHV1-53': AnnData object with n_obs × n_vars = 128 × 128\n",
       "      obs: 'seq', 'barcode', 'v_gene_family', 'sample_id', 'sample_clonotype', 'sample_clonotype_encoded', 'velocity_self_transition', 'isotype', 'j_gene', 'clonal_exp', 'seq_frequency', 'unique_clonal_seqs', 'SHM_count', 'germline_status', 'IMGT_SHM_count'\n",
       "      uns: 'neighbors', 'velocity_graph', 'velocity_graph_neg'\n",
       "      layers: 'velocity'\n",
       "      obsp: 'distances', 'connectivities',\n",
       "  'IGHV3-1': AnnData object with n_obs × n_vars = 127 × 128\n",
       "      obs: 'seq', 'barcode', 'v_gene_family', 'sample_id', 'sample_clonotype', 'sample_clonotype_encoded', 'velocity_self_transition', 'isotype', 'j_gene', 'clonal_exp', 'seq_frequency', 'unique_clonal_seqs', 'SHM_count', 'germline_status', 'IMGT_SHM_count'\n",
       "      uns: 'neighbors', 'velocity_graph', 'velocity_graph_neg'\n",
       "      layers: 'velocity'\n",
       "      obsp: 'distances', 'connectivities',\n",
       "  'IGHV1-19': AnnData object with n_obs × n_vars = 119 × 128\n",
       "      obs: 'seq', 'barcode', 'v_gene_family', 'sample_id', 'sample_clonotype', 'sample_clonotype_encoded', 'velocity_self_transition', 'isotype', 'j_gene', 'clonal_exp', 'seq_frequency', 'unique_clonal_seqs', 'SHM_count', 'germline_status'\n",
       "      uns: 'neighbors', 'velocity_graph', 'velocity_graph_neg'\n",
       "      layers: 'velocity'\n",
       "      obsp: 'distances', 'connectivities',\n",
       "  'IGHV5-9-1': AnnData object with n_obs × n_vars = 117 × 128\n",
       "      obs: 'seq', 'barcode', 'v_gene_family', 'sample_id', 'sample_clonotype', 'sample_clonotype_encoded', 'velocity_self_transition', 'isotype', 'j_gene', 'clonal_exp', 'seq_frequency', 'unique_clonal_seqs', 'SHM_count', 'germline_status'\n",
       "      uns: 'neighbors', 'velocity_graph', 'velocity_graph_neg'\n",
       "      layers: 'velocity'\n",
       "      obsp: 'distances', 'connectivities',\n",
       "  'IGHV6-6': AnnData object with n_obs × n_vars = 115 × 128\n",
       "      obs: 'seq', 'barcode', 'v_gene_family', 'sample_id', 'sample_clonotype', 'sample_clonotype_encoded', 'velocity_self_transition', 'isotype', 'j_gene', 'clonal_exp', 'seq_frequency', 'unique_clonal_seqs', 'SHM_count', 'germline_status', 'IMGT_SHM_count'\n",
       "      uns: 'neighbors', 'velocity_graph', 'velocity_graph_neg'\n",
       "      layers: 'velocity'\n",
       "      obsp: 'distances', 'connectivities'},\n",
       " 'ESM': {'IGHV1-4': AnnData object with n_obs × n_vars = 219 × 1280\n",
       "      obs: 'seq', 'barcode', 'v_gene_family', 'sample_id', 'sample_clonotype', 'sample_clonotype_encoded', 'velocity_self_transition', 'isotype', 'j_gene', 'clonal_exp', 'seq_frequency', 'unique_clonal_seqs', 'SHM_count', 'germline_status', 'IMGT_SHM_count'\n",
       "      uns: 'neighbors', 'velocity_graph', 'velocity_graph_neg'\n",
       "      layers: 'velocity'\n",
       "      obsp: 'distances', 'connectivities',\n",
       "  'IGHV9-3': AnnData object with n_obs × n_vars = 179 × 1280\n",
       "      obs: 'seq', 'barcode', 'v_gene_family', 'sample_id', 'sample_clonotype', 'sample_clonotype_encoded', 'velocity_self_transition', 'isotype', 'j_gene', 'clonal_exp', 'seq_frequency', 'unique_clonal_seqs', 'SHM_count', 'germline_status', 'IMGT_SHM_count'\n",
       "      uns: 'neighbors', 'velocity_graph', 'velocity_graph_neg'\n",
       "      layers: 'velocity'\n",
       "      obsp: 'distances', 'connectivities',\n",
       "  'IGHV1-18': AnnData object with n_obs × n_vars = 173 × 1280\n",
       "      obs: 'seq', 'barcode', 'v_gene_family', 'sample_id', 'sample_clonotype', 'sample_clonotype_encoded', 'velocity_self_transition', 'isotype', 'j_gene', 'clonal_exp', 'seq_frequency', 'unique_clonal_seqs', 'SHM_count', 'germline_status', 'IMGT_SHM_count'\n",
       "      uns: 'neighbors', 'velocity_graph', 'velocity_graph_neg'\n",
       "      layers: 'velocity'\n",
       "      obsp: 'distances', 'connectivities',\n",
       "  'IGHV1-5': AnnData object with n_obs × n_vars = 170 × 1280\n",
       "      obs: 'seq', 'barcode', 'v_gene_family', 'sample_id', 'sample_clonotype', 'sample_clonotype_encoded', 'velocity_self_transition', 'isotype', 'j_gene', 'clonal_exp', 'seq_frequency', 'unique_clonal_seqs', 'SHM_count', 'germline_status', 'IMGT_SHM_count'\n",
       "      uns: 'neighbors', 'velocity_graph', 'velocity_graph_neg'\n",
       "      layers: 'velocity'\n",
       "      obsp: 'distances', 'connectivities',\n",
       "  'IGHV5-6': AnnData object with n_obs × n_vars = 157 × 1280\n",
       "      obs: 'seq', 'barcode', 'v_gene_family', 'sample_id', 'sample_clonotype', 'sample_clonotype_encoded', 'velocity_self_transition', 'isotype', 'j_gene', 'clonal_exp', 'seq_frequency', 'unique_clonal_seqs', 'SHM_count', 'germline_status', 'IMGT_SHM_count'\n",
       "      uns: 'neighbors', 'velocity_graph', 'velocity_graph_neg'\n",
       "      layers: 'velocity'\n",
       "      obsp: 'distances', 'connectivities',\n",
       "  'IGHV1-53': AnnData object with n_obs × n_vars = 128 × 1280\n",
       "      obs: 'seq', 'barcode', 'v_gene_family', 'sample_id', 'sample_clonotype', 'sample_clonotype_encoded', 'velocity_self_transition', 'isotype', 'j_gene', 'clonal_exp', 'seq_frequency', 'unique_clonal_seqs', 'SHM_count', 'germline_status', 'IMGT_SHM_count'\n",
       "      uns: 'neighbors', 'velocity_graph', 'velocity_graph_neg'\n",
       "      layers: 'velocity'\n",
       "      obsp: 'distances', 'connectivities',\n",
       "  'IGHV3-1': AnnData object with n_obs × n_vars = 127 × 1280\n",
       "      obs: 'seq', 'barcode', 'v_gene_family', 'sample_id', 'sample_clonotype', 'sample_clonotype_encoded', 'velocity_self_transition', 'isotype', 'j_gene', 'clonal_exp', 'seq_frequency', 'unique_clonal_seqs', 'SHM_count', 'germline_status', 'IMGT_SHM_count'\n",
       "      uns: 'neighbors', 'velocity_graph', 'velocity_graph_neg'\n",
       "      layers: 'velocity'\n",
       "      obsp: 'distances', 'connectivities',\n",
       "  'IGHV1-19': AnnData object with n_obs × n_vars = 119 × 1280\n",
       "      obs: 'seq', 'barcode', 'v_gene_family', 'sample_id', 'sample_clonotype', 'sample_clonotype_encoded', 'velocity_self_transition', 'isotype', 'j_gene', 'clonal_exp', 'seq_frequency', 'unique_clonal_seqs', 'SHM_count', 'germline_status'\n",
       "      uns: 'neighbors', 'velocity_graph', 'velocity_graph_neg'\n",
       "      layers: 'velocity'\n",
       "      obsp: 'distances', 'connectivities',\n",
       "  'IGHV5-9-1': AnnData object with n_obs × n_vars = 117 × 1280\n",
       "      obs: 'seq', 'barcode', 'v_gene_family', 'sample_id', 'sample_clonotype', 'sample_clonotype_encoded', 'velocity_self_transition', 'isotype', 'j_gene', 'clonal_exp', 'seq_frequency', 'unique_clonal_seqs', 'SHM_count', 'germline_status'\n",
       "      uns: 'neighbors', 'velocity_graph', 'velocity_graph_neg'\n",
       "      layers: 'velocity'\n",
       "      obsp: 'distances', 'connectivities',\n",
       "  'IGHV6-6': AnnData object with n_obs × n_vars = 115 × 1280\n",
       "      obs: 'seq', 'barcode', 'v_gene_family', 'sample_id', 'sample_clonotype', 'sample_clonotype_encoded', 'velocity_self_transition', 'isotype', 'j_gene', 'clonal_exp', 'seq_frequency', 'unique_clonal_seqs', 'SHM_count', 'germline_status', 'IMGT_SHM_count'\n",
       "      uns: 'neighbors', 'velocity_graph', 'velocity_graph_neg'\n",
       "      layers: 'velocity'\n",
       "      obsp: 'distances', 'connectivities'}}"
      ]
     },
     "execution_count": 23,
     "metadata": {},
     "output_type": "execute_result"
    }
   ],
   "source": [
    "model_dict_specific"
   ]
  },
  {
   "cell_type": "code",
   "execution_count": 59,
   "id": "171f6e5d-0bba-4ee3-aca5-6f077defa01a",
   "metadata": {},
   "outputs": [
    {
     "name": "stdout",
     "output_type": "stream",
     "text": [
      "['IGHV1-4', 'IGHV9-3', 'IGHV1-18', 'IGHV1-5', 'IGHV5-6', 'IGHV1-53', 'IGHV3-1', 'IGHV1-19', 'IGHV5-9-1', 'IGHV6-6']\n",
      "computing neighbors\n",
      "    finished (0:00:00) --> added \n",
      "    'distances' and 'connectivities', weighted adjacency matrices (adata.obsp)\n"
     ]
    },
    {
     "name": "stderr",
     "output_type": "stream",
     "text": [
      "100%|███████████████████████████████████████████████████████████████████████████████████████████████████| 219/219 [00:02<00:00, 87.06it/s]\n"
     ]
    },
    {
     "name": "stdout",
     "output_type": "stream",
     "text": [
      "\n"
     ]
    },
    {
     "name": "stderr",
     "output_type": "stream",
     "text": [
      "100%|███████████████████████████████████████████████████████████████████████████████████████████████████| 219/219 [00:11<00:00, 18.61it/s]\n"
     ]
    },
    {
     "name": "stdout",
     "output_type": "stream",
     "text": [
      "\n",
      "computing neighbors\n",
      "    finished (0:00:00) --> added \n",
      "    'distances' and 'connectivities', weighted adjacency matrices (adata.obsp)\n"
     ]
    },
    {
     "name": "stderr",
     "output_type": "stream",
     "text": [
      "100%|███████████████████████████████████████████████████████████████████████████████████████████████████| 179/179 [00:02<00:00, 87.12it/s]\n"
     ]
    },
    {
     "name": "stdout",
     "output_type": "stream",
     "text": [
      "\n"
     ]
    },
    {
     "name": "stderr",
     "output_type": "stream",
     "text": [
      "100%|███████████████████████████████████████████████████████████████████████████████████████████████████| 179/179 [00:09<00:00, 19.03it/s]\n"
     ]
    },
    {
     "name": "stdout",
     "output_type": "stream",
     "text": [
      "\n",
      "computing neighbors\n",
      "    finished (0:00:00) --> added \n",
      "    'distances' and 'connectivities', weighted adjacency matrices (adata.obsp)\n"
     ]
    },
    {
     "name": "stderr",
     "output_type": "stream",
     "text": [
      "100%|███████████████████████████████████████████████████████████████████████████████████████████████████| 172/172 [00:02<00:00, 84.81it/s]\n"
     ]
    },
    {
     "name": "stdout",
     "output_type": "stream",
     "text": [
      "\n"
     ]
    },
    {
     "name": "stderr",
     "output_type": "stream",
     "text": [
      "100%|███████████████████████████████████████████████████████████████████████████████████████████████████| 172/172 [00:09<00:00, 18.86it/s]\n"
     ]
    },
    {
     "name": "stdout",
     "output_type": "stream",
     "text": [
      "\n",
      "computing neighbors\n",
      "    finished (0:00:00) --> added \n",
      "    'distances' and 'connectivities', weighted adjacency matrices (adata.obsp)\n"
     ]
    },
    {
     "name": "stderr",
     "output_type": "stream",
     "text": [
      "100%|███████████████████████████████████████████████████████████████████████████████████████████████████| 171/171 [00:01<00:00, 85.63it/s]\n"
     ]
    },
    {
     "name": "stdout",
     "output_type": "stream",
     "text": [
      "\n"
     ]
    },
    {
     "name": "stderr",
     "output_type": "stream",
     "text": [
      "100%|███████████████████████████████████████████████████████████████████████████████████████████████████| 171/171 [00:08<00:00, 19.89it/s]\n"
     ]
    },
    {
     "name": "stdout",
     "output_type": "stream",
     "text": [
      "\n",
      "computing neighbors\n",
      "    finished (0:00:00) --> added \n",
      "    'distances' and 'connectivities', weighted adjacency matrices (adata.obsp)\n"
     ]
    },
    {
     "name": "stderr",
     "output_type": "stream",
     "text": [
      "100%|███████████████████████████████████████████████████████████████████████████████████████████████████| 158/158 [00:01<00:00, 84.27it/s]\n"
     ]
    },
    {
     "name": "stdout",
     "output_type": "stream",
     "text": [
      "\n"
     ]
    },
    {
     "name": "stderr",
     "output_type": "stream",
     "text": [
      "100%|███████████████████████████████████████████████████████████████████████████████████████████████████| 158/158 [00:09<00:00, 17.15it/s]\n"
     ]
    },
    {
     "name": "stdout",
     "output_type": "stream",
     "text": [
      "\n",
      "computing neighbors\n",
      "    finished (0:00:00) --> added \n",
      "    'distances' and 'connectivities', weighted adjacency matrices (adata.obsp)\n"
     ]
    },
    {
     "name": "stderr",
     "output_type": "stream",
     "text": [
      "100%|███████████████████████████████████████████████████████████████████████████████████████████████████| 129/129 [00:01<00:00, 83.09it/s]\n"
     ]
    },
    {
     "name": "stdout",
     "output_type": "stream",
     "text": [
      "\n"
     ]
    },
    {
     "name": "stderr",
     "output_type": "stream",
     "text": [
      "100%|███████████████████████████████████████████████████████████████████████████████████████████████████| 129/129 [00:08<00:00, 16.10it/s]\n"
     ]
    },
    {
     "name": "stdout",
     "output_type": "stream",
     "text": [
      "\n",
      "computing neighbors\n",
      "    finished (0:00:00) --> added \n",
      "    'distances' and 'connectivities', weighted adjacency matrices (adata.obsp)\n"
     ]
    },
    {
     "name": "stderr",
     "output_type": "stream",
     "text": [
      "100%|███████████████████████████████████████████████████████████████████████████████████████████████████| 128/128 [00:01<00:00, 84.71it/s]\n"
     ]
    },
    {
     "name": "stdout",
     "output_type": "stream",
     "text": [
      "\n"
     ]
    },
    {
     "name": "stderr",
     "output_type": "stream",
     "text": [
      "100%|███████████████████████████████████████████████████████████████████████████████████████████████████| 128/128 [00:07<00:00, 17.28it/s]\n"
     ]
    },
    {
     "name": "stdout",
     "output_type": "stream",
     "text": [
      "\n",
      "computing neighbors\n",
      "    finished (0:00:00) --> added \n",
      "    'distances' and 'connectivities', weighted adjacency matrices (adata.obsp)\n"
     ]
    },
    {
     "name": "stderr",
     "output_type": "stream",
     "text": [
      "100%|███████████████████████████████████████████████████████████████████████████████████████████████████| 119/119 [00:01<00:00, 78.03it/s]\n"
     ]
    },
    {
     "name": "stdout",
     "output_type": "stream",
     "text": [
      "\n"
     ]
    },
    {
     "name": "stderr",
     "output_type": "stream",
     "text": [
      "100%|███████████████████████████████████████████████████████████████████████████████████████████████████| 119/119 [00:07<00:00, 16.50it/s]\n"
     ]
    },
    {
     "name": "stdout",
     "output_type": "stream",
     "text": [
      "\n",
      "computing neighbors\n",
      "    finished (0:00:00) --> added \n",
      "    'distances' and 'connectivities', weighted adjacency matrices (adata.obsp)\n"
     ]
    },
    {
     "name": "stderr",
     "output_type": "stream",
     "text": [
      "100%|███████████████████████████████████████████████████████████████████████████████████████████████████| 117/117 [00:01<00:00, 85.65it/s]\n"
     ]
    },
    {
     "name": "stdout",
     "output_type": "stream",
     "text": [
      "\n"
     ]
    },
    {
     "name": "stderr",
     "output_type": "stream",
     "text": [
      "100%|███████████████████████████████████████████████████████████████████████████████████████████████████| 117/117 [00:06<00:00, 16.98it/s]\n"
     ]
    },
    {
     "name": "stdout",
     "output_type": "stream",
     "text": [
      "\n",
      "computing neighbors\n",
      "    finished (0:00:00) --> added \n",
      "    'distances' and 'connectivities', weighted adjacency matrices (adata.obsp)\n"
     ]
    },
    {
     "name": "stderr",
     "output_type": "stream",
     "text": [
      "100%|███████████████████████████████████████████████████████████████████████████████████████████████████| 115/115 [00:01<00:00, 85.82it/s]\n"
     ]
    },
    {
     "name": "stdout",
     "output_type": "stream",
     "text": [
      "\n"
     ]
    },
    {
     "name": "stderr",
     "output_type": "stream",
     "text": [
      "100%|███████████████████████████████████████████████████████████████████████████████████████████████████| 115/115 [00:06<00:00, 17.20it/s]\n"
     ]
    },
    {
     "name": "stdout",
     "output_type": "stream",
     "text": [
      "\n",
      "['IGHV1-4', 'IGHV9-3', 'IGHV1-18', 'IGHV1-5', 'IGHV5-6', 'IGHV1-53', 'IGHV3-1', 'IGHV1-19', 'IGHV5-9-1', 'IGHV6-6']\n",
      "computing neighbors\n",
      "    finished (0:00:00) --> added \n",
      "    'distances' and 'connectivities', weighted adjacency matrices (adata.obsp)\n"
     ]
    },
    {
     "name": "stderr",
     "output_type": "stream",
     "text": [
      "Some weights of the model checkpoint at Rostlab/prot_bert were not used when initializing BertForMaskedLM: ['cls.seq_relationship.weight', 'bert.pooler.dense.weight', 'bert.pooler.dense.bias', 'cls.seq_relationship.bias']\n",
      "- This IS expected if you are initializing BertForMaskedLM from the checkpoint of a model trained on another task or with another architecture (e.g. initializing a BertForSequenceClassification model from a BertForPreTraining model).\n",
      "- This IS NOT expected if you are initializing BertForMaskedLM from the checkpoint of a model that you expect to be exactly identical (initializing a BertForSequenceClassification model from a BertForSequenceClassification model).\n",
      "100%|███████████████████████████████████████████████████████████████████████████████████████████████████| 219/219 [00:08<00:00, 25.70it/s]\n"
     ]
    },
    {
     "name": "stdout",
     "output_type": "stream",
     "text": [
      "\n"
     ]
    },
    {
     "name": "stderr",
     "output_type": "stream",
     "text": [
      "100%|███████████████████████████████████████████████████████████████████████████████████████████████████| 219/219 [00:13<00:00, 16.60it/s]\n"
     ]
    },
    {
     "name": "stdout",
     "output_type": "stream",
     "text": [
      "\n",
      "computing neighbors\n",
      "    finished (0:00:00) --> added \n",
      "    'distances' and 'connectivities', weighted adjacency matrices (adata.obsp)\n"
     ]
    },
    {
     "name": "stderr",
     "output_type": "stream",
     "text": [
      "Some weights of the model checkpoint at Rostlab/prot_bert were not used when initializing BertForMaskedLM: ['cls.seq_relationship.weight', 'bert.pooler.dense.weight', 'bert.pooler.dense.bias', 'cls.seq_relationship.bias']\n",
      "- This IS expected if you are initializing BertForMaskedLM from the checkpoint of a model trained on another task or with another architecture (e.g. initializing a BertForSequenceClassification model from a BertForPreTraining model).\n",
      "- This IS NOT expected if you are initializing BertForMaskedLM from the checkpoint of a model that you expect to be exactly identical (initializing a BertForSequenceClassification model from a BertForSequenceClassification model).\n",
      "100%|███████████████████████████████████████████████████████████████████████████████████████████████████| 179/179 [00:06<00:00, 26.15it/s]\n"
     ]
    },
    {
     "name": "stdout",
     "output_type": "stream",
     "text": [
      "\n"
     ]
    },
    {
     "name": "stderr",
     "output_type": "stream",
     "text": [
      "100%|███████████████████████████████████████████████████████████████████████████████████████████████████| 179/179 [00:11<00:00, 15.21it/s]\n"
     ]
    },
    {
     "name": "stdout",
     "output_type": "stream",
     "text": [
      "\n",
      "computing neighbors\n",
      "    finished (0:00:00) --> added \n",
      "    'distances' and 'connectivities', weighted adjacency matrices (adata.obsp)\n"
     ]
    },
    {
     "name": "stderr",
     "output_type": "stream",
     "text": [
      "Some weights of the model checkpoint at Rostlab/prot_bert were not used when initializing BertForMaskedLM: ['cls.seq_relationship.weight', 'bert.pooler.dense.weight', 'bert.pooler.dense.bias', 'cls.seq_relationship.bias']\n",
      "- This IS expected if you are initializing BertForMaskedLM from the checkpoint of a model trained on another task or with another architecture (e.g. initializing a BertForSequenceClassification model from a BertForPreTraining model).\n",
      "- This IS NOT expected if you are initializing BertForMaskedLM from the checkpoint of a model that you expect to be exactly identical (initializing a BertForSequenceClassification model from a BertForSequenceClassification model).\n",
      "100%|███████████████████████████████████████████████████████████████████████████████████████████████████| 172/172 [00:06<00:00, 26.05it/s]\n"
     ]
    },
    {
     "name": "stdout",
     "output_type": "stream",
     "text": [
      "\n"
     ]
    },
    {
     "name": "stderr",
     "output_type": "stream",
     "text": [
      "100%|███████████████████████████████████████████████████████████████████████████████████████████████████| 172/172 [00:09<00:00, 17.26it/s]\n"
     ]
    },
    {
     "name": "stdout",
     "output_type": "stream",
     "text": [
      "\n",
      "computing neighbors\n",
      "    finished (0:00:00) --> added \n",
      "    'distances' and 'connectivities', weighted adjacency matrices (adata.obsp)\n"
     ]
    },
    {
     "name": "stderr",
     "output_type": "stream",
     "text": [
      "Some weights of the model checkpoint at Rostlab/prot_bert were not used when initializing BertForMaskedLM: ['cls.seq_relationship.weight', 'bert.pooler.dense.weight', 'bert.pooler.dense.bias', 'cls.seq_relationship.bias']\n",
      "- This IS expected if you are initializing BertForMaskedLM from the checkpoint of a model trained on another task or with another architecture (e.g. initializing a BertForSequenceClassification model from a BertForPreTraining model).\n",
      "- This IS NOT expected if you are initializing BertForMaskedLM from the checkpoint of a model that you expect to be exactly identical (initializing a BertForSequenceClassification model from a BertForSequenceClassification model).\n",
      "100%|███████████████████████████████████████████████████████████████████████████████████████████████████| 170/170 [00:06<00:00, 25.83it/s]\n"
     ]
    },
    {
     "name": "stdout",
     "output_type": "stream",
     "text": [
      "\n"
     ]
    },
    {
     "name": "stderr",
     "output_type": "stream",
     "text": [
      "100%|███████████████████████████████████████████████████████████████████████████████████████████████████| 170/170 [00:09<00:00, 18.26it/s]\n"
     ]
    },
    {
     "name": "stdout",
     "output_type": "stream",
     "text": [
      "\n",
      "computing neighbors\n",
      "    finished (0:00:00) --> added \n",
      "    'distances' and 'connectivities', weighted adjacency matrices (adata.obsp)\n"
     ]
    },
    {
     "name": "stderr",
     "output_type": "stream",
     "text": [
      "Some weights of the model checkpoint at Rostlab/prot_bert were not used when initializing BertForMaskedLM: ['cls.seq_relationship.weight', 'bert.pooler.dense.weight', 'bert.pooler.dense.bias', 'cls.seq_relationship.bias']\n",
      "- This IS expected if you are initializing BertForMaskedLM from the checkpoint of a model trained on another task or with another architecture (e.g. initializing a BertForSequenceClassification model from a BertForPreTraining model).\n",
      "- This IS NOT expected if you are initializing BertForMaskedLM from the checkpoint of a model that you expect to be exactly identical (initializing a BertForSequenceClassification model from a BertForSequenceClassification model).\n",
      "100%|███████████████████████████████████████████████████████████████████████████████████████████████████| 157/157 [00:06<00:00, 25.86it/s]\n"
     ]
    },
    {
     "name": "stdout",
     "output_type": "stream",
     "text": [
      "\n"
     ]
    },
    {
     "name": "stderr",
     "output_type": "stream",
     "text": [
      "100%|███████████████████████████████████████████████████████████████████████████████████████████████████| 157/157 [00:09<00:00, 15.95it/s]\n"
     ]
    },
    {
     "name": "stdout",
     "output_type": "stream",
     "text": [
      "\n",
      "computing neighbors\n",
      "    finished (0:00:00) --> added \n",
      "    'distances' and 'connectivities', weighted adjacency matrices (adata.obsp)\n"
     ]
    },
    {
     "name": "stderr",
     "output_type": "stream",
     "text": [
      "Some weights of the model checkpoint at Rostlab/prot_bert were not used when initializing BertForMaskedLM: ['cls.seq_relationship.weight', 'bert.pooler.dense.weight', 'bert.pooler.dense.bias', 'cls.seq_relationship.bias']\n",
      "- This IS expected if you are initializing BertForMaskedLM from the checkpoint of a model trained on another task or with another architecture (e.g. initializing a BertForSequenceClassification model from a BertForPreTraining model).\n",
      "- This IS NOT expected if you are initializing BertForMaskedLM from the checkpoint of a model that you expect to be exactly identical (initializing a BertForSequenceClassification model from a BertForSequenceClassification model).\n",
      "100%|███████████████████████████████████████████████████████████████████████████████████████████████████| 128/128 [00:04<00:00, 25.67it/s]\n"
     ]
    },
    {
     "name": "stdout",
     "output_type": "stream",
     "text": [
      "\n"
     ]
    },
    {
     "name": "stderr",
     "output_type": "stream",
     "text": [
      "100%|███████████████████████████████████████████████████████████████████████████████████████████████████| 128/128 [00:08<00:00, 15.76it/s]\n"
     ]
    },
    {
     "name": "stdout",
     "output_type": "stream",
     "text": [
      "\n",
      "computing neighbors\n",
      "    finished (0:00:00) --> added \n",
      "    'distances' and 'connectivities', weighted adjacency matrices (adata.obsp)\n"
     ]
    },
    {
     "name": "stderr",
     "output_type": "stream",
     "text": [
      "Some weights of the model checkpoint at Rostlab/prot_bert were not used when initializing BertForMaskedLM: ['cls.seq_relationship.weight', 'bert.pooler.dense.weight', 'bert.pooler.dense.bias', 'cls.seq_relationship.bias']\n",
      "- This IS expected if you are initializing BertForMaskedLM from the checkpoint of a model trained on another task or with another architecture (e.g. initializing a BertForSequenceClassification model from a BertForPreTraining model).\n",
      "- This IS NOT expected if you are initializing BertForMaskedLM from the checkpoint of a model that you expect to be exactly identical (initializing a BertForSequenceClassification model from a BertForSequenceClassification model).\n",
      "100%|███████████████████████████████████████████████████████████████████████████████████████████████████| 127/127 [00:04<00:00, 25.68it/s]\n"
     ]
    },
    {
     "name": "stdout",
     "output_type": "stream",
     "text": [
      "\n"
     ]
    },
    {
     "name": "stderr",
     "output_type": "stream",
     "text": [
      "100%|███████████████████████████████████████████████████████████████████████████████████████████████████| 127/127 [00:07<00:00, 15.92it/s]\n"
     ]
    },
    {
     "name": "stdout",
     "output_type": "stream",
     "text": [
      "\n",
      "computing neighbors\n",
      "    finished (0:00:00) --> added \n",
      "    'distances' and 'connectivities', weighted adjacency matrices (adata.obsp)\n"
     ]
    },
    {
     "name": "stderr",
     "output_type": "stream",
     "text": [
      "Some weights of the model checkpoint at Rostlab/prot_bert were not used when initializing BertForMaskedLM: ['cls.seq_relationship.weight', 'bert.pooler.dense.weight', 'bert.pooler.dense.bias', 'cls.seq_relationship.bias']\n",
      "- This IS expected if you are initializing BertForMaskedLM from the checkpoint of a model trained on another task or with another architecture (e.g. initializing a BertForSequenceClassification model from a BertForPreTraining model).\n",
      "- This IS NOT expected if you are initializing BertForMaskedLM from the checkpoint of a model that you expect to be exactly identical (initializing a BertForSequenceClassification model from a BertForSequenceClassification model).\n",
      "100%|███████████████████████████████████████████████████████████████████████████████████████████████████| 119/119 [00:04<00:00, 25.41it/s]\n"
     ]
    },
    {
     "name": "stdout",
     "output_type": "stream",
     "text": [
      "\n"
     ]
    },
    {
     "name": "stderr",
     "output_type": "stream",
     "text": [
      "100%|███████████████████████████████████████████████████████████████████████████████████████████████████| 119/119 [00:07<00:00, 15.03it/s]\n"
     ]
    },
    {
     "name": "stdout",
     "output_type": "stream",
     "text": [
      "\n",
      "computing neighbors\n",
      "    finished (0:00:00) --> added \n",
      "    'distances' and 'connectivities', weighted adjacency matrices (adata.obsp)\n"
     ]
    },
    {
     "name": "stderr",
     "output_type": "stream",
     "text": [
      "Some weights of the model checkpoint at Rostlab/prot_bert were not used when initializing BertForMaskedLM: ['cls.seq_relationship.weight', 'bert.pooler.dense.weight', 'bert.pooler.dense.bias', 'cls.seq_relationship.bias']\n",
      "- This IS expected if you are initializing BertForMaskedLM from the checkpoint of a model trained on another task or with another architecture (e.g. initializing a BertForSequenceClassification model from a BertForPreTraining model).\n",
      "- This IS NOT expected if you are initializing BertForMaskedLM from the checkpoint of a model that you expect to be exactly identical (initializing a BertForSequenceClassification model from a BertForSequenceClassification model).\n",
      "100%|███████████████████████████████████████████████████████████████████████████████████████████████████| 117/117 [00:04<00:00, 25.16it/s]\n"
     ]
    },
    {
     "name": "stdout",
     "output_type": "stream",
     "text": [
      "\n"
     ]
    },
    {
     "name": "stderr",
     "output_type": "stream",
     "text": [
      "100%|███████████████████████████████████████████████████████████████████████████████████████████████████| 117/117 [00:07<00:00, 15.41it/s]\n"
     ]
    },
    {
     "name": "stdout",
     "output_type": "stream",
     "text": [
      "\n",
      "computing neighbors\n",
      "    finished (0:00:00) --> added \n",
      "    'distances' and 'connectivities', weighted adjacency matrices (adata.obsp)\n"
     ]
    },
    {
     "name": "stderr",
     "output_type": "stream",
     "text": [
      "Some weights of the model checkpoint at Rostlab/prot_bert were not used when initializing BertForMaskedLM: ['cls.seq_relationship.weight', 'bert.pooler.dense.weight', 'bert.pooler.dense.bias', 'cls.seq_relationship.bias']\n",
      "- This IS expected if you are initializing BertForMaskedLM from the checkpoint of a model trained on another task or with another architecture (e.g. initializing a BertForSequenceClassification model from a BertForPreTraining model).\n",
      "- This IS NOT expected if you are initializing BertForMaskedLM from the checkpoint of a model that you expect to be exactly identical (initializing a BertForSequenceClassification model from a BertForSequenceClassification model).\n",
      "100%|███████████████████████████████████████████████████████████████████████████████████████████████████| 115/115 [00:04<00:00, 24.82it/s]\n"
     ]
    },
    {
     "name": "stdout",
     "output_type": "stream",
     "text": [
      "\n"
     ]
    },
    {
     "name": "stderr",
     "output_type": "stream",
     "text": [
      "100%|███████████████████████████████████████████████████████████████████████████████████████████████████| 115/115 [00:07<00:00, 15.88it/s]\n"
     ]
    },
    {
     "name": "stdout",
     "output_type": "stream",
     "text": [
      "\n",
      "['IGHV1-4', 'IGHV9-3', 'IGHV1-18', 'IGHV1-5', 'IGHV5-6', 'IGHV1-53', 'IGHV3-1', 'IGHV1-19', 'IGHV5-9-1', 'IGHV6-6']\n",
      "computing neighbors\n",
      "    finished (0:00:00) --> added \n",
      "    'distances' and 'connectivities', weighted adjacency matrices (adata.obsp)\n"
     ]
    },
    {
     "name": "stderr",
     "output_type": "stream",
     "text": [
      "100%|██████████████████████████████████████████████████████████████████████████████████████████████████| 219/219 [00:01<00:00, 131.53it/s]\n"
     ]
    },
    {
     "name": "stdout",
     "output_type": "stream",
     "text": [
      "\n"
     ]
    },
    {
     "name": "stderr",
     "output_type": "stream",
     "text": [
      "100%|███████████████████████████████████████████████████████████████████████████████████████████████████| 219/219 [00:13<00:00, 16.21it/s]\n"
     ]
    },
    {
     "name": "stdout",
     "output_type": "stream",
     "text": [
      "\n",
      "computing neighbors\n",
      "    finished (0:00:00) --> added \n",
      "    'distances' and 'connectivities', weighted adjacency matrices (adata.obsp)\n"
     ]
    },
    {
     "name": "stderr",
     "output_type": "stream",
     "text": [
      "100%|██████████████████████████████████████████████████████████████████████████████████████████████████| 179/179 [00:01<00:00, 162.58it/s]\n"
     ]
    },
    {
     "name": "stdout",
     "output_type": "stream",
     "text": [
      "\n"
     ]
    },
    {
     "name": "stderr",
     "output_type": "stream",
     "text": [
      "100%|███████████████████████████████████████████████████████████████████████████████████████████████████| 179/179 [00:10<00:00, 16.89it/s]\n"
     ]
    },
    {
     "name": "stdout",
     "output_type": "stream",
     "text": [
      "\n",
      "computing neighbors\n",
      "    finished (0:00:00) --> added \n",
      "    'distances' and 'connectivities', weighted adjacency matrices (adata.obsp)\n"
     ]
    },
    {
     "name": "stderr",
     "output_type": "stream",
     "text": [
      "100%|██████████████████████████████████████████████████████████████████████████████████████████████████| 172/172 [00:01<00:00, 153.02it/s]\n"
     ]
    },
    {
     "name": "stdout",
     "output_type": "stream",
     "text": [
      "\n"
     ]
    },
    {
     "name": "stderr",
     "output_type": "stream",
     "text": [
      "100%|███████████████████████████████████████████████████████████████████████████████████████████████████| 172/172 [00:09<00:00, 18.19it/s]\n"
     ]
    },
    {
     "name": "stdout",
     "output_type": "stream",
     "text": [
      "\n",
      "computing neighbors\n",
      "    finished (0:00:00) --> added \n",
      "    'distances' and 'connectivities', weighted adjacency matrices (adata.obsp)\n"
     ]
    },
    {
     "name": "stderr",
     "output_type": "stream",
     "text": [
      "100%|██████████████████████████████████████████████████████████████████████████████████████████████████| 170/170 [00:01<00:00, 153.57it/s]\n"
     ]
    },
    {
     "name": "stdout",
     "output_type": "stream",
     "text": [
      "\n"
     ]
    },
    {
     "name": "stderr",
     "output_type": "stream",
     "text": [
      "100%|███████████████████████████████████████████████████████████████████████████████████████████████████| 170/170 [00:08<00:00, 19.53it/s]\n"
     ]
    },
    {
     "name": "stdout",
     "output_type": "stream",
     "text": [
      "\n",
      "computing neighbors\n",
      "    finished (0:00:00) --> added \n",
      "    'distances' and 'connectivities', weighted adjacency matrices (adata.obsp)\n"
     ]
    },
    {
     "name": "stderr",
     "output_type": "stream",
     "text": [
      "100%|██████████████████████████████████████████████████████████████████████████████████████████████████| 157/157 [00:01<00:00, 155.45it/s]\n"
     ]
    },
    {
     "name": "stdout",
     "output_type": "stream",
     "text": [
      "\n"
     ]
    },
    {
     "name": "stderr",
     "output_type": "stream",
     "text": [
      "100%|███████████████████████████████████████████████████████████████████████████████████████████████████| 157/157 [00:09<00:00, 17.15it/s]\n"
     ]
    },
    {
     "name": "stdout",
     "output_type": "stream",
     "text": [
      "\n",
      "computing neighbors\n",
      "    finished (0:00:00) --> added \n",
      "    'distances' and 'connectivities', weighted adjacency matrices (adata.obsp)\n"
     ]
    },
    {
     "name": "stderr",
     "output_type": "stream",
     "text": [
      "100%|██████████████████████████████████████████████████████████████████████████████████████████████████| 128/128 [00:00<00:00, 156.29it/s]\n"
     ]
    },
    {
     "name": "stdout",
     "output_type": "stream",
     "text": [
      "\n"
     ]
    },
    {
     "name": "stderr",
     "output_type": "stream",
     "text": [
      "100%|███████████████████████████████████████████████████████████████████████████████████████████████████| 128/128 [00:07<00:00, 17.21it/s]\n"
     ]
    },
    {
     "name": "stdout",
     "output_type": "stream",
     "text": [
      "\n",
      "computing neighbors\n",
      "    finished (0:00:00) --> added \n",
      "    'distances' and 'connectivities', weighted adjacency matrices (adata.obsp)\n"
     ]
    },
    {
     "name": "stderr",
     "output_type": "stream",
     "text": [
      "100%|██████████████████████████████████████████████████████████████████████████████████████████████████| 127/127 [00:00<00:00, 156.79it/s]\n"
     ]
    },
    {
     "name": "stdout",
     "output_type": "stream",
     "text": [
      "\n"
     ]
    },
    {
     "name": "stderr",
     "output_type": "stream",
     "text": [
      "100%|███████████████████████████████████████████████████████████████████████████████████████████████████| 127/127 [00:07<00:00, 17.71it/s]\n"
     ]
    },
    {
     "name": "stdout",
     "output_type": "stream",
     "text": [
      "\n",
      "computing neighbors\n",
      "    finished (0:00:00) --> added \n",
      "    'distances' and 'connectivities', weighted adjacency matrices (adata.obsp)\n"
     ]
    },
    {
     "name": "stderr",
     "output_type": "stream",
     "text": [
      "100%|██████████████████████████████████████████████████████████████████████████████████████████████████| 119/119 [00:00<00:00, 142.00it/s]\n"
     ]
    },
    {
     "name": "stdout",
     "output_type": "stream",
     "text": [
      "\n"
     ]
    },
    {
     "name": "stderr",
     "output_type": "stream",
     "text": [
      "100%|███████████████████████████████████████████████████████████████████████████████████████████████████| 119/119 [00:06<00:00, 17.05it/s]\n"
     ]
    },
    {
     "name": "stdout",
     "output_type": "stream",
     "text": [
      "\n",
      "computing neighbors\n",
      "    finished (0:00:00) --> added \n",
      "    'distances' and 'connectivities', weighted adjacency matrices (adata.obsp)\n"
     ]
    },
    {
     "name": "stderr",
     "output_type": "stream",
     "text": [
      "100%|██████████████████████████████████████████████████████████████████████████████████████████████████| 117/117 [00:00<00:00, 154.76it/s]\n"
     ]
    },
    {
     "name": "stdout",
     "output_type": "stream",
     "text": [
      "\n"
     ]
    },
    {
     "name": "stderr",
     "output_type": "stream",
     "text": [
      "100%|███████████████████████████████████████████████████████████████████████████████████████████████████| 117/117 [00:06<00:00, 17.29it/s]\n"
     ]
    },
    {
     "name": "stdout",
     "output_type": "stream",
     "text": [
      "\n",
      "computing neighbors\n",
      "    finished (0:00:00) --> added \n",
      "    'distances' and 'connectivities', weighted adjacency matrices (adata.obsp)\n"
     ]
    },
    {
     "name": "stderr",
     "output_type": "stream",
     "text": [
      "100%|██████████████████████████████████████████████████████████████████████████████████████████████████| 115/115 [00:00<00:00, 155.62it/s]\n"
     ]
    },
    {
     "name": "stdout",
     "output_type": "stream",
     "text": [
      "\n"
     ]
    },
    {
     "name": "stderr",
     "output_type": "stream",
     "text": [
      "100%|███████████████████████████████████████████████████████████████████████████████████████████████████| 115/115 [00:06<00:00, 18.04it/s]\n"
     ]
    },
    {
     "name": "stdout",
     "output_type": "stream",
     "text": [
      "\n",
      "['IGHV1-4', 'IGHV9-3', 'IGHV1-18', 'IGHV1-5', 'IGHV5-6', 'IGHV1-53', 'IGHV3-1', 'IGHV1-19', 'IGHV5-9-1', 'IGHV6-6']\n",
      "computing neighbors\n",
      "    finished (0:00:00) --> added \n",
      "    'distances' and 'connectivities', weighted adjacency matrices (adata.obsp)\n"
     ]
    },
    {
     "name": "stderr",
     "output_type": "stream",
     "text": [
      "100%|███████████████████████████████████████████████████████████████████████████████████████████████████| 219/219 [00:13<00:00, 15.90it/s]\n"
     ]
    },
    {
     "name": "stdout",
     "output_type": "stream",
     "text": [
      "\n"
     ]
    },
    {
     "name": "stderr",
     "output_type": "stream",
     "text": [
      "100%|███████████████████████████████████████████████████████████████████████████████████████████████████| 219/219 [00:12<00:00, 16.95it/s]\n"
     ]
    },
    {
     "name": "stdout",
     "output_type": "stream",
     "text": [
      "\n",
      "computing neighbors\n",
      "    finished (0:00:00) --> added \n",
      "    'distances' and 'connectivities', weighted adjacency matrices (adata.obsp)\n"
     ]
    },
    {
     "name": "stderr",
     "output_type": "stream",
     "text": [
      "100%|███████████████████████████████████████████████████████████████████████████████████████████████████| 179/179 [00:10<00:00, 16.30it/s]\n"
     ]
    },
    {
     "name": "stdout",
     "output_type": "stream",
     "text": [
      "\n"
     ]
    },
    {
     "name": "stderr",
     "output_type": "stream",
     "text": [
      "100%|███████████████████████████████████████████████████████████████████████████████████████████████████| 179/179 [00:10<00:00, 17.11it/s]\n"
     ]
    },
    {
     "name": "stdout",
     "output_type": "stream",
     "text": [
      "\n",
      "computing neighbors\n",
      "    finished (0:00:00) --> added \n",
      "    'distances' and 'connectivities', weighted adjacency matrices (adata.obsp)\n"
     ]
    },
    {
     "name": "stderr",
     "output_type": "stream",
     "text": [
      "100%|███████████████████████████████████████████████████████████████████████████████████████████████████| 172/172 [00:10<00:00, 16.23it/s]\n"
     ]
    },
    {
     "name": "stdout",
     "output_type": "stream",
     "text": [
      "\n"
     ]
    },
    {
     "name": "stderr",
     "output_type": "stream",
     "text": [
      "100%|███████████████████████████████████████████████████████████████████████████████████████████████████| 172/172 [00:10<00:00, 16.70it/s]\n"
     ]
    },
    {
     "name": "stdout",
     "output_type": "stream",
     "text": [
      "\n",
      "computing neighbors\n",
      "    finished (0:00:00) --> added \n",
      "    'distances' and 'connectivities', weighted adjacency matrices (adata.obsp)\n"
     ]
    },
    {
     "name": "stderr",
     "output_type": "stream",
     "text": [
      "100%|███████████████████████████████████████████████████████████████████████████████████████████████████| 170/170 [00:10<00:00, 15.70it/s]\n"
     ]
    },
    {
     "name": "stdout",
     "output_type": "stream",
     "text": [
      "\n"
     ]
    },
    {
     "name": "stderr",
     "output_type": "stream",
     "text": [
      "100%|███████████████████████████████████████████████████████████████████████████████████████████████████| 170/170 [00:09<00:00, 17.02it/s]\n"
     ]
    },
    {
     "name": "stdout",
     "output_type": "stream",
     "text": [
      "\n",
      "computing neighbors\n",
      "    finished (0:00:00) --> added \n",
      "    'distances' and 'connectivities', weighted adjacency matrices (adata.obsp)\n"
     ]
    },
    {
     "name": "stderr",
     "output_type": "stream",
     "text": [
      "100%|███████████████████████████████████████████████████████████████████████████████████████████████████| 157/157 [00:10<00:00, 15.47it/s]\n"
     ]
    },
    {
     "name": "stdout",
     "output_type": "stream",
     "text": [
      "\n"
     ]
    },
    {
     "name": "stderr",
     "output_type": "stream",
     "text": [
      "100%|███████████████████████████████████████████████████████████████████████████████████████████████████| 157/157 [00:10<00:00, 15.15it/s]\n"
     ]
    },
    {
     "name": "stdout",
     "output_type": "stream",
     "text": [
      "\n",
      "computing neighbors\n",
      "    finished (0:00:00) --> added \n",
      "    'distances' and 'connectivities', weighted adjacency matrices (adata.obsp)\n"
     ]
    },
    {
     "name": "stderr",
     "output_type": "stream",
     "text": [
      "100%|███████████████████████████████████████████████████████████████████████████████████████████████████| 128/128 [00:08<00:00, 15.61it/s]\n"
     ]
    },
    {
     "name": "stdout",
     "output_type": "stream",
     "text": [
      "\n"
     ]
    },
    {
     "name": "stderr",
     "output_type": "stream",
     "text": [
      "100%|███████████████████████████████████████████████████████████████████████████████████████████████████| 128/128 [00:08<00:00, 15.73it/s]\n"
     ]
    },
    {
     "name": "stdout",
     "output_type": "stream",
     "text": [
      "\n",
      "computing neighbors\n",
      "    finished (0:00:00) --> added \n",
      "    'distances' and 'connectivities', weighted adjacency matrices (adata.obsp)\n"
     ]
    },
    {
     "name": "stderr",
     "output_type": "stream",
     "text": [
      "100%|███████████████████████████████████████████████████████████████████████████████████████████████████| 127/127 [00:08<00:00, 15.13it/s]\n"
     ]
    },
    {
     "name": "stdout",
     "output_type": "stream",
     "text": [
      "\n"
     ]
    },
    {
     "name": "stderr",
     "output_type": "stream",
     "text": [
      "100%|███████████████████████████████████████████████████████████████████████████████████████████████████| 127/127 [00:08<00:00, 15.47it/s]\n"
     ]
    },
    {
     "name": "stdout",
     "output_type": "stream",
     "text": [
      "\n",
      "computing neighbors\n",
      "    finished (0:00:00) --> added \n",
      "    'distances' and 'connectivities', weighted adjacency matrices (adata.obsp)\n"
     ]
    },
    {
     "name": "stderr",
     "output_type": "stream",
     "text": [
      "100%|███████████████████████████████████████████████████████████████████████████████████████████████████| 119/119 [00:08<00:00, 14.48it/s]\n"
     ]
    },
    {
     "name": "stdout",
     "output_type": "stream",
     "text": [
      "\n"
     ]
    },
    {
     "name": "stderr",
     "output_type": "stream",
     "text": [
      "100%|███████████████████████████████████████████████████████████████████████████████████████████████████| 119/119 [00:07<00:00, 15.49it/s]\n"
     ]
    },
    {
     "name": "stdout",
     "output_type": "stream",
     "text": [
      "\n",
      "computing neighbors\n",
      "    finished (0:00:00) --> added \n",
      "    'distances' and 'connectivities', weighted adjacency matrices (adata.obsp)\n"
     ]
    },
    {
     "name": "stderr",
     "output_type": "stream",
     "text": [
      "100%|███████████████████████████████████████████████████████████████████████████████████████████████████| 117/117 [00:07<00:00, 15.41it/s]\n"
     ]
    },
    {
     "name": "stdout",
     "output_type": "stream",
     "text": [
      "\n"
     ]
    },
    {
     "name": "stderr",
     "output_type": "stream",
     "text": [
      "100%|███████████████████████████████████████████████████████████████████████████████████████████████████| 117/117 [00:07<00:00, 15.20it/s]\n"
     ]
    },
    {
     "name": "stdout",
     "output_type": "stream",
     "text": [
      "\n",
      "computing neighbors\n",
      "    finished (0:00:00) --> added \n",
      "    'distances' and 'connectivities', weighted adjacency matrices (adata.obsp)\n"
     ]
    },
    {
     "name": "stderr",
     "output_type": "stream",
     "text": [
      "100%|███████████████████████████████████████████████████████████████████████████████████████████████████| 115/115 [00:07<00:00, 16.14it/s]\n"
     ]
    },
    {
     "name": "stdout",
     "output_type": "stream",
     "text": [
      "\n"
     ]
    },
    {
     "name": "stderr",
     "output_type": "stream",
     "text": [
      "100%|███████████████████████████████████████████████████████████████████████████████████████████████████| 115/115 [00:07<00:00, 16.12it/s]\n"
     ]
    },
    {
     "name": "stdout",
     "output_type": "stream",
     "text": [
      "\n"
     ]
    }
   ],
   "source": [
    "model_names = [\"ablang\",\"protbert\",\"sapiens\",\"ESM\"]\n",
    "data = pd.read_csv(os.path.join(\"..\",\"..\",\"..\",\"data\",dataset_specific,\"vdj_evolike_combine.csv\"))\n",
    "\n",
    "data_folder_path = os.path.join(\"..\",\"..\",\"..\",\"data\",dataset_specific,\"VDJ\")\n",
    "if unrecombined:\n",
    "    germlines_path = os.path.join(\"..\",\"..\",\"..\",\"data\",dataset_specific,\"unrecombined_germline_embeddings\")\n",
    "else:\n",
    "    germlines_path = os.path.join(\"..\",\"..\",\"..\",\"data\",dataset_specific,\"all_germline_embeddings\")\n",
    "\n",
    "IgG_subtypes = [\"IGHG1\",\"IGHG2B\",\"IGHG2C\",\"IGHG3\"]\n",
    "\n",
    "model_dict_specific = {}\n",
    "\n",
    "for i, model in enumerate(model_names):\n",
    "\n",
    "    pooled_embeds = []\n",
    "    group_dict = {}\n",
    "    \n",
    "    for _,sample in (data[[\"original_sample_id\",\"sample_id\"]].drop_duplicates().iterrows()):\n",
    "        \n",
    "        cellranger_path = os.path.join(data_folder_path, sample[\"original_sample_id\"])   \n",
    "        embeddings_path = os.path.join(cellranger_path,\"embeddings\",mode_specific,f\"embeddings_{model}.csv.gzip\")\n",
    "\n",
    "        embeddings_file = pd.read_csv(embeddings_path, compression=\"gzip\")\n",
    "        embeddings_file = embeddings_file.loc[embeddings_file[\"chain\"] == \"IGH\",:].reset_index(drop=True)\n",
    "        embeddings_file[\"c_gene\"] = embeddings_file[\"c_gene\"].replace(IgG_subtypes,\"IGHG\")\n",
    "        embeddings_file[\"v_gene_family\"] = embeddings_file[\"v_gene\"].apply(lambda x: x.split('-')[0])\n",
    "        embeddings_file[\"sample_id\"] = sample[\"sample_id\"]\n",
    "\n",
    "        embedding_cols = [col for col in list(embeddings_file.columns) if col.startswith(\"dim\")]\n",
    "        metadata_cols = list(set(embeddings_file.columns) - set(embedding_cols))\n",
    "\n",
    "        # embeddings_file = embeddings_file.drop_duplicates(embedding_cols).reset_index(drop=True)\n",
    "        embeddings_file = embeddings_file.dropna(subset=embedding_cols)\n",
    "\n",
    "        pooled_embeds += embeddings_file.to_dict(orient=\"records\")\n",
    "\n",
    "    pooled_embeds = pd.DataFrame(pooled_embeds)\n",
    "    \n",
    "    pooled_embeds[\"barcode\"] = pooled_embeds[\"barcode\"].apply(lambda x: x.split(\"-\")[0])\n",
    "    pooled_embeds = pooled_embeds.merge(data, on=\"barcode\",suffixes=('', '_y'))\n",
    "    pooled_embeds = pooled_embeds.drop_duplicates(\"full_VDJ_aa\").reset_index(drop=True)\n",
    "    \n",
    "    if include_germline_specific and unrecombined == False:\n",
    "        germline_embeddings = pd.read_csv(os.path.join(germlines_path,f\"all_germline_embeddings_{model}.csv.gzip\"), compression=\"gzip\")\n",
    "        germline_embeddings[\"full_VDJ_aa\"] = germline_embeddings[\"VDJ_ref.aa\"].apply(lambda x: x.replace(\"-\",\"\").replace(\"*\",\"\"))\n",
    "        # germline_embeddings[\"barcode\"] = germline_embeddings[\"barcode\"].apply(lambda x: x.split(\"_\")[1])\n",
    "        germline_embeddings = germline_embeddings.drop_duplicates(\"full_VDJ_aa\").reset_index(drop=True)\n",
    "        germline_embeddings = germline_embeddings.merge(data, on=\"barcode\",suffixes=('', '_y'))\n",
    "        germline_embeddings[\"barcode\"] = \"germline\"\n",
    "        germline_embeddings[\"c_gene\"] = germline_embeddings[\"c_gene\"].replace(IgG_subtypes,\"IGHG\")\n",
    "        germline_embeddings[\"v_gene_family\"] = germline_embeddings[\"v_gene\"].apply(lambda x: x.split('-')[0])\n",
    "        germline_embeddings = germline_embeddings.to_dict(orient=\"records\")\n",
    "     \n",
    "        pooled_embeds = pooled_embeds.to_dict(orient=\"records\")\n",
    "        pooled_embeds += germline_embeddings\n",
    "        pooled_embeds = pd.DataFrame(pooled_embeds)\n",
    "\n",
    "    elif include_germline_specific and unrecombined == True:\n",
    "\n",
    "        germline_embeddings = pd.read_csv(os.path.join(germlines_path,f\"all_germline_embeddings_{model}.csv.gzip\"), compression=\"gzip\")\n",
    "        germline_embeddings[\"full_VDJ_aa\"] = germline_embeddings[\"VDJ_ref.aa\"].apply(lambda x: x.replace(\"-\",\"\").replace(\"*\",\"\"))\n",
    "        germline_embeddings = germline_embeddings.drop_duplicates(\"full_VDJ_aa\").reset_index(drop=True)\n",
    "        germline_embeddings = germline_embeddings.merge(data, on=\"barcode\",suffixes=('', '_y'), how=\"left\")\n",
    "        germline_embeddings[\"v_gene_family\"] = germline_embeddings[\"v_gene\"].apply(lambda x: x.split('-')[0])\n",
    "        germline_embeddings = germline_embeddings.to_dict(orient=\"records\")\n",
    "\n",
    "        pooled_embeds = pooled_embeds.to_dict(orient=\"records\")\n",
    "        pooled_embeds += germline_embeddings\n",
    "        pooled_embeds = pd.DataFrame(pooled_embeds)\n",
    "\n",
    "    embedding_cols = [col for col in list(pooled_embeds.columns) if col.startswith(\"dim\")]\n",
    "    metadata_cols = list(set(pooled_embeds.columns) - set(embedding_cols))\n",
    "    \n",
    "    only_embeddings = pooled_embeds[embedding_cols].copy()\n",
    "    metadata = pooled_embeds[metadata_cols].copy()\n",
    "\n",
    "    specific_v_gene = list(metadata[\"v_gene\"].value_counts().index)[:10]\n",
    "\n",
    "    print(specific_v_gene)\n",
    "    \n",
    "    for sub_group in specific_v_gene:\n",
    "\n",
    "            # try:\n",
    "                torch.cuda.empty_cache()\n",
    "                \n",
    "                only_embeddings_sub_group = only_embeddings.loc[metadata[group_specific] == sub_group, :].reset_index(drop=True)\n",
    "                metadata_sub_group = metadata.loc[metadata[group_specific] == sub_group, :].reset_index(drop=True)\n",
    "\n",
    "                adata = anndata.AnnData(only_embeddings_sub_group)\n",
    "                adata.obs[\"seq\"] = list(metadata_sub_group[\"full_VDJ_aa\"])\n",
    "                adata.obs[\"barcode\"] = list(metadata_sub_group[\"barcode\"])\n",
    "                \n",
    "                adata.obs[\"v_gene_family\"] = list(metadata_sub_group[\"v_gene_family\"])     \n",
    "                \n",
    "                \n",
    "                adata.obs[\"sample_id\"] = list(metadata_sub_group[\"sample_id\"]) \n",
    "                                   \n",
    "                adata.obs[\"sample_clonotype\"] = list(metadata_sub_group.apply(lambda x: x[\"sample_id\"] + \"_\" + x[\"raw_clonotype_id\"], axis = 1))\n",
    "                adata.obs[\"sample_clonotype_encoded\"] = pd.factorize(adata.obs[\"sample_clonotype\"])[0]\n",
    "\n",
    "                if include_germline_specific:\n",
    "                    germline_indicator = list(metadata_sub_group[\"barcode\"] == \"germline\")\n",
    "                    adata.obs.loc[germline_indicator,\"v_gene_family\"] = \"germline\"\n",
    "                    adata.obs.loc[germline_indicator,\"sample_id\"] = \"germline\"\n",
    "\n",
    "                adata.obs[\"v_gene_family\"] = adata.obs[\"v_gene_family\"].astype(\"category\")\n",
    "            \n",
    "                evo.pp.neighbors(adata)\n",
    "\n",
    "                if model == \"ESM\":\n",
    "                    evo.tl.velocity_graph(adata)\n",
    "                else:\n",
    "                    evo.tl.velocity_graph(adata, model_name=model)\n",
    "    \n",
    "                del adata.uns['model']\n",
    "                \n",
    "                group_dict[sub_group] = adata \n",
    "                del(adata, only_embeddings_sub_group, metadata_sub_group)\n",
    "                \n",
    "            # except:\n",
    "            #     continue\n",
    "\n",
    "    model_dict_specific[model] = group_dict"
   ]
  },
  {
   "cell_type": "code",
   "execution_count": 57,
   "id": "12861738-feb6-4229-93f8-950e66519cda",
   "metadata": {
    "scrolled": true
   },
   "outputs": [
    {
     "data": {
      "text/plain": [
       "4013"
      ]
     },
     "execution_count": 57,
     "metadata": {},
     "output_type": "execute_result"
    }
   ],
   "source": [
    "len(metadata[\"full_VDJ_aa\"].unique())"
   ]
  },
  {
   "cell_type": "code",
   "execution_count": 60,
   "id": "b78de671-05bf-4744-9f4a-7e444bb10d4b",
   "metadata": {},
   "outputs": [
    {
     "name": "stdout",
     "output_type": "stream",
     "text": [
      "computing velocity embedding\n",
      "    finished (0:00:00) --> added\n",
      "    'velocity_umap', embedded velocity vectors (adata.obsm)\n",
      "computing velocity embedding\n",
      "    finished (0:00:00) --> added\n",
      "    'velocity_umap', embedded velocity vectors (adata.obsm)\n",
      "computing velocity embedding\n",
      "    finished (0:00:00) --> added\n",
      "    'velocity_umap', embedded velocity vectors (adata.obsm)\n",
      "computing velocity embedding\n",
      "    finished (0:00:00) --> added\n",
      "    'velocity_umap', embedded velocity vectors (adata.obsm)\n",
      "computing velocity embedding\n",
      "    finished (0:00:00) --> added\n",
      "    'velocity_umap', embedded velocity vectors (adata.obsm)\n",
      "computing velocity embedding\n",
      "    finished (0:00:00) --> added\n",
      "    'velocity_umap', embedded velocity vectors (adata.obsm)\n",
      "computing velocity embedding\n",
      "    finished (0:00:00) --> added\n",
      "    'velocity_umap', embedded velocity vectors (adata.obsm)\n",
      "computing velocity embedding\n",
      "    finished (0:00:00) --> added\n",
      "    'velocity_umap', embedded velocity vectors (adata.obsm)\n",
      "computing velocity embedding\n",
      "    finished (0:00:00) --> added\n",
      "    'velocity_umap', embedded velocity vectors (adata.obsm)\n",
      "computing velocity embedding\n",
      "    finished (0:00:00) --> added\n",
      "    'velocity_umap', embedded velocity vectors (adata.obsm)\n",
      "computing velocity embedding\n",
      "    finished (0:00:00) --> added\n",
      "    'velocity_umap', embedded velocity vectors (adata.obsm)\n",
      "computing velocity embedding\n",
      "    finished (0:00:00) --> added\n",
      "    'velocity_umap', embedded velocity vectors (adata.obsm)\n",
      "computing velocity embedding\n",
      "    finished (0:00:00) --> added\n",
      "    'velocity_umap', embedded velocity vectors (adata.obsm)\n",
      "computing velocity embedding\n",
      "    finished (0:00:00) --> added\n",
      "    'velocity_umap', embedded velocity vectors (adata.obsm)\n",
      "computing velocity embedding\n",
      "    finished (0:00:00) --> added\n",
      "    'velocity_umap', embedded velocity vectors (adata.obsm)\n",
      "computing velocity embedding\n",
      "    finished (0:00:00) --> added\n",
      "    'velocity_umap', embedded velocity vectors (adata.obsm)\n",
      "computing velocity embedding\n",
      "    finished (0:00:00) --> added\n",
      "    'velocity_umap', embedded velocity vectors (adata.obsm)\n",
      "computing velocity embedding\n",
      "    finished (0:00:00) --> added\n",
      "    'velocity_umap', embedded velocity vectors (adata.obsm)\n",
      "computing velocity embedding\n",
      "    finished (0:00:00) --> added\n",
      "    'velocity_umap', embedded velocity vectors (adata.obsm)\n",
      "computing velocity embedding\n",
      "    finished (0:00:00) --> added\n",
      "    'velocity_umap', embedded velocity vectors (adata.obsm)\n",
      "computing velocity embedding\n",
      "    finished (0:00:00) --> added\n",
      "    'velocity_umap', embedded velocity vectors (adata.obsm)\n",
      "computing velocity embedding\n",
      "    finished (0:00:00) --> added\n",
      "    'velocity_umap', embedded velocity vectors (adata.obsm)\n",
      "computing velocity embedding\n",
      "    finished (0:00:00) --> added\n",
      "    'velocity_umap', embedded velocity vectors (adata.obsm)\n",
      "computing velocity embedding\n",
      "    finished (0:00:00) --> added\n",
      "    'velocity_umap', embedded velocity vectors (adata.obsm)\n",
      "computing velocity embedding\n",
      "    finished (0:00:00) --> added\n",
      "    'velocity_umap', embedded velocity vectors (adata.obsm)\n",
      "computing velocity embedding\n",
      "    finished (0:00:00) --> added\n",
      "    'velocity_umap', embedded velocity vectors (adata.obsm)\n",
      "computing velocity embedding\n",
      "    finished (0:00:00) --> added\n",
      "    'velocity_umap', embedded velocity vectors (adata.obsm)\n",
      "computing velocity embedding\n",
      "    finished (0:00:00) --> added\n",
      "    'velocity_umap', embedded velocity vectors (adata.obsm)\n",
      "computing velocity embedding\n",
      "    finished (0:00:00) --> added\n",
      "    'velocity_umap', embedded velocity vectors (adata.obsm)\n",
      "computing velocity embedding\n",
      "    finished (0:00:00) --> added\n",
      "    'velocity_umap', embedded velocity vectors (adata.obsm)\n",
      "computing velocity embedding\n",
      "    finished (0:00:00) --> added\n",
      "    'velocity_umap', embedded velocity vectors (adata.obsm)\n",
      "computing velocity embedding\n",
      "    finished (0:00:00) --> added\n",
      "    'velocity_umap', embedded velocity vectors (adata.obsm)\n",
      "computing velocity embedding\n",
      "    finished (0:00:00) --> added\n",
      "    'velocity_umap', embedded velocity vectors (adata.obsm)\n",
      "computing velocity embedding\n",
      "    finished (0:00:00) --> added\n",
      "    'velocity_umap', embedded velocity vectors (adata.obsm)\n",
      "computing velocity embedding\n",
      "    finished (0:00:00) --> added\n",
      "    'velocity_umap', embedded velocity vectors (adata.obsm)\n",
      "computing velocity embedding\n",
      "    finished (0:00:00) --> added\n",
      "    'velocity_umap', embedded velocity vectors (adata.obsm)\n",
      "computing velocity embedding\n",
      "    finished (0:00:00) --> added\n",
      "    'velocity_umap', embedded velocity vectors (adata.obsm)\n",
      "computing velocity embedding\n",
      "    finished (0:00:00) --> added\n",
      "    'velocity_umap', embedded velocity vectors (adata.obsm)\n",
      "computing velocity embedding\n",
      "    finished (0:00:00) --> added\n",
      "    'velocity_umap', embedded velocity vectors (adata.obsm)\n",
      "computing velocity embedding\n",
      "    finished (0:00:00) --> added\n",
      "    'velocity_umap', embedded velocity vectors (adata.obsm)\n"
     ]
    }
   ],
   "source": [
    "def seq_counter(seq, sample_clonotype,df):\n",
    "    return ((df[\"full_VDJ_aa\"].values == seq) & (df[\"sample_clonotype\"] == sample_clonotype)).sum()\n",
    "\n",
    "model_names = [\"ablang\",\"sapiens\",\"protbert\",\"ESM\"]\n",
    "data = pd.read_csv(os.path.join(\"..\",\"..\",\"..\",\"data\",dataset_specific,\"vdj_evolike_combine.csv\"))\n",
    "data[\"sample_clonotype\"] = list(data.apply(lambda x: x[\"sample_id\"] + \"_\" + x[\"raw_clonotype_id\"], axis = 1))\n",
    "\n",
    "data[\"seq_frequency\"] = list(data.apply(lambda x: seq_counter(x[\"full_VDJ_aa\"],x[\"sample_clonotype\"], data),axis = 1))\n",
    "unduplicated_data = data.drop_duplicates([\"full_VDJ_aa\",\"sample_clonotype\"]).reset_index(drop=True)\n",
    "clonal_value_counts = unduplicated_data[\"sample_clonotype\"].value_counts()\n",
    "\n",
    "data[\"unique_clonal_seqs\"] = list(data.apply(lambda x: clonal_value_counts[x[\"sample_clonotype\"]], axis=1))\n",
    "\n",
    "data_folder_path = os.path.join(\"..\",\"..\",\"..\",\"data\",dataset_specific,\"VDJ\")\n",
    "\n",
    "if unrecombined:\n",
    "    germlines_path = os.path.join(\"..\",\"..\",\"..\",\"data\",dataset_specific,\"unrecombined_germline_embeddings\")\n",
    "else:\n",
    "    germlines_path = os.path.join(\"..\",\"..\",\"..\",\"data\",dataset_specific,\"all_germline_embeddings\")\n",
    "IgG_subtypes = [\"IGHG1\",\"IGHG2B\",\"IGHG2C\",\"IGHG3\",\"IGHG2\",\"IGHG4\"]\n",
    "IgA_subtypes = [\"IGHA1\",\"IGHA2\"]\n",
    "\n",
    "for i, model in enumerate(model_names):\n",
    "\n",
    "    pooled_embeds = []\n",
    "    group_dict = {}\n",
    "    \n",
    "    for _,sample in (data[[\"original_sample_id\",\"sample_id\"]].drop_duplicates().iterrows()):\n",
    "        \n",
    "        cellranger_path = os.path.join(data_folder_path, sample[\"original_sample_id\"])   \n",
    "        embeddings_path = os.path.join(cellranger_path,\"embeddings\",mode_specific,f\"embeddings_{model}.csv.gzip\")\n",
    "\n",
    "        embeddings_file = pd.read_csv(embeddings_path, compression=\"gzip\")\n",
    "        embeddings_file = embeddings_file.loc[embeddings_file[\"chain\"] == \"IGH\",:].reset_index(drop=True)\n",
    "        embeddings_file[\"c_gene\"] = embeddings_file[\"c_gene\"].replace(IgG_subtypes,\"IGHG\").replace(IgA_subtypes,\"IGHA\")\n",
    "        embeddings_file[\"v_gene_family\"] = embeddings_file[\"v_gene\"].apply(lambda x: x.split('-')[0])\n",
    "        embeddings_file[\"sample_id\"] = sample[\"sample_id\"]\n",
    "\n",
    "        embedding_cols = [col for col in list(embeddings_file.columns) if col.startswith(\"dim\")]\n",
    "        metadata_cols = list(set(embeddings_file.columns) - set(embedding_cols))\n",
    "\n",
    "        embeddings_file = embeddings_file.drop_duplicates(embedding_cols).reset_index(drop=True)\n",
    "        embeddings_file = embeddings_file.dropna(subset=embedding_cols)\n",
    "\n",
    "        pooled_embeds += embeddings_file.to_dict(orient=\"records\")\n",
    "\n",
    "    pooled_embeds = pd.DataFrame(pooled_embeds)\n",
    "    \n",
    "    pooled_embeds[\"barcode\"] = pooled_embeds[\"barcode\"].apply(lambda x: x.split(\"-\")[0])\n",
    "    pooled_embeds = pooled_embeds.merge(data, on=\"barcode\",suffixes=('', '_y'))\n",
    "    \n",
    "    if include_germline_specific:\n",
    "        germline_embeddings = pd.read_csv(os.path.join(germlines_path,f\"all_germline_embeddings_{model}.csv.gzip\"), compression=\"gzip\")\n",
    "        germline_embeddings[\"full_VDJ_aa\"] = germline_embeddings[\"VDJ_ref.aa\"].apply(lambda x: x.replace(\"-\",\"\").replace(\"*\",\"\"))\n",
    "        germline_embeddings = germline_embeddings.merge(data, on=\"barcode\",suffixes=('', '_y'),how=\"left\")\n",
    "\n",
    "        germline_embeddings[\"barcode\"] = \"germline\"\n",
    "        germline_embeddings[\"sample_id\"] = germline_embeddings[\"sample_id_y\"]\n",
    "        germline_embeddings[\"c_gene\"] = germline_embeddings[\"c_gene\"].replace(IgG_subtypes,\"IGHG\")\n",
    "        germline_embeddings[\"v_gene_family\"] = germline_embeddings[\"v_gene\"].apply(lambda x: x.split('-')[0])\n",
    "\n",
    "        # germline_embeddings[\"c_gene\"] = \"germline\"\n",
    "        # germline_embeddings[\"clonotype_frequency\"] = -10.0\n",
    "        germline_embeddings[\"seq_frequency\"] = -10.0\n",
    "        # germline_embeddings[\"unique_clonal_seqs_2\"] = -10.0\n",
    "        germline_embeddings[\"SHM_count\"] = -10.0\n",
    "\n",
    "        germline_embeddings = germline_embeddings.to_dict(orient=\"records\")\n",
    "     \n",
    "        pooled_embeds = pooled_embeds.to_dict(orient=\"records\")\n",
    "        pooled_embeds += germline_embeddings\n",
    "        pooled_embeds = pd.DataFrame(pooled_embeds)\n",
    "\n",
    "    embedding_cols = [col for col in list(pooled_embeds.columns) if col.startswith(\"dim\")]\n",
    "    metadata_cols = list(set(pooled_embeds.columns) - set(embedding_cols))\n",
    "    \n",
    "    only_embeddings = pooled_embeds[embedding_cols].copy()\n",
    "    metadata = pooled_embeds[metadata_cols].copy()\n",
    "\n",
    "    specific_v_gene = list(metadata[\"v_gene\"].value_counts().index)[:10]\n",
    "    \n",
    "    for sub_group in specific_v_gene:\n",
    "\n",
    "        if sub_group in list(model_dict_specific[model].keys()):\n",
    "            metadata_sub_group = metadata.loc[metadata[group_specific] == sub_group, :].drop_duplicates(\"full_VDJ_aa\").reset_index(drop=True)\n",
    "            fixed_columns = [\"seq\",\"barcode\",\"sample_id\",\"sample_clonotype\",\"velocity_self_transition\"]\n",
    "            model_dict_specific[model][sub_group].obs = model_dict_specific[model][sub_group].obs[fixed_columns]\n",
    "            extra = model_dict_specific[model][sub_group].obs[fixed_columns].merge(metadata_sub_group, on=[\"barcode\",\"sample_clonotype\"],suffixes=('', '_y'), how=\"left\")\n",
    "            extra = extra.loc[:,~extra.columns.duplicated()].copy()\n",
    "            extra[\"germline_status\"] = \"non_germline\"\n",
    "            extra.loc[extra[\"barcode\"] == \"germline\",\"germline_status\"] = \"germline\"\n",
    "\n",
    "            sc.tl.umap(model_dict_specific[model][sub_group])\n",
    "            evo.tl.velocity_embedding(model_dict_specific[model][sub_group])\n",
    "\n",
    "            if unrecombined:\n",
    "                extra.loc[extra[\"barcode\"] == \"germline\",\"c_gene\"] = \"germline\"\n",
    "                extra.loc[extra[\"barcode\"] == \"germline\",\"sample_id\"] = \"germline\"\n",
    "                extra.loc[extra[\"barcode\"] == \"germline\",\"j_gene\"] = \"germline\"  \n",
    "                extra.loc[extra[\"barcode\"] == \"germline\",\"SHM_count\"] = 0\n",
    "                extra.loc[extra[\"barcode\"] == \"germline\",\"IMGT_SHM_count\"] = 0\n",
    "                \n",
    "            model_dict_specific[model][sub_group].obs[\"IMGT_SHM_count\"] = list(extra[\"IMGT_SHM_count\"])\n",
    "            model_dict_specific[model][sub_group].obs[\"sample_id\"] = list(extra[\"sample_id\"])\n",
    "            model_dict_specific[model][sub_group].obs[\"germline_status\"] = list(extra[\"germline_status\"])\n",
    "            model_dict_specific[model][sub_group].obs[\"isotype\"] = list(extra[\"c_gene\"])\n",
    "            model_dict_specific[model][sub_group].obs[\"j_gene\"] = list(extra[\"j_gene\"])\n",
    "            model_dict_specific[model][sub_group].obs[\"clonal_exp\"] = list(extra[\"clonotype_frequency\"].astype(float))\n",
    "            model_dict_specific[model][sub_group].obs[\"seq_frequency\"] = list(extra[\"seq_frequency\"].astype(float))\n",
    "            model_dict_specific[model][sub_group].obs[\"unique_clonal_seqs\"] = list(extra[\"unique_clonal_seqs\"].astype(float))\n",
    "            model_dict_specific[model][sub_group].obs[\"SHM_count\"] = list(extra[\"SHM_count\"].astype(float))\n",
    "        else:\n",
    "            continue"
   ]
  },
  {
   "cell_type": "code",
   "execution_count": 66,
   "id": "f5c78179-892e-4551-a5aa-f307bea53e08",
   "metadata": {
    "scrolled": true
   },
   "outputs": [
    {
     "data": {
      "text/html": [
       "<div>\n",
       "<style scoped>\n",
       "    .dataframe tbody tr th:only-of-type {\n",
       "        vertical-align: middle;\n",
       "    }\n",
       "\n",
       "    .dataframe tbody tr th {\n",
       "        vertical-align: top;\n",
       "    }\n",
       "\n",
       "    .dataframe thead th {\n",
       "        text-align: right;\n",
       "    }\n",
       "</style>\n",
       "<table border=\"1\" class=\"dataframe\">\n",
       "  <thead>\n",
       "    <tr style=\"text-align: right;\">\n",
       "      <th></th>\n",
       "      <th>seq</th>\n",
       "      <th>barcode</th>\n",
       "      <th>sample_id</th>\n",
       "      <th>sample_clonotype</th>\n",
       "      <th>velocity_self_transition</th>\n",
       "      <th>IMGT_SHM_count</th>\n",
       "      <th>germline_status</th>\n",
       "      <th>isotype</th>\n",
       "      <th>j_gene</th>\n",
       "      <th>clonal_exp</th>\n",
       "      <th>seq_frequency</th>\n",
       "      <th>unique_clonal_seqs</th>\n",
       "      <th>SHM_count</th>\n",
       "    </tr>\n",
       "  </thead>\n",
       "  <tbody>\n",
       "    <tr>\n",
       "      <th>0</th>\n",
       "      <td>EVQLQQSGTVLTRPGASVKMSCKASGYTFTSDWMHWVKQRPGQGLE...</td>\n",
       "      <td>AAAGCAACAGGTCCAC</td>\n",
       "      <td>s1</td>\n",
       "      <td>s1_clonotype7</td>\n",
       "      <td>0.337755</td>\n",
       "      <td>8.0</td>\n",
       "      <td>non_germline</td>\n",
       "      <td>IGHG</td>\n",
       "      <td>IGHJ2</td>\n",
       "      <td>59.0</td>\n",
       "      <td>7.0</td>\n",
       "      <td>17.0</td>\n",
       "      <td>13.0</td>\n",
       "    </tr>\n",
       "    <tr>\n",
       "      <th>1</th>\n",
       "      <td>EVQLQQSGTVLARPGASVKMSCKASGYTFTSYWMHWVKQRPGQGLE...</td>\n",
       "      <td>AAATGCCTCAGAGGTG</td>\n",
       "      <td>s1</td>\n",
       "      <td>s1_clonotype1791</td>\n",
       "      <td>0.422715</td>\n",
       "      <td>5.0</td>\n",
       "      <td>non_germline</td>\n",
       "      <td>IGHG</td>\n",
       "      <td>IGHJ2</td>\n",
       "      <td>1.0</td>\n",
       "      <td>1.0</td>\n",
       "      <td>1.0</td>\n",
       "      <td>11.0</td>\n",
       "    </tr>\n",
       "    <tr>\n",
       "      <th>2</th>\n",
       "      <td>EVQLQQSGTMLARPGASVKMSCKASGYTFTNYWIHWVKQRPGQGLE...</td>\n",
       "      <td>AACACGTAGGGTCGAT</td>\n",
       "      <td>s1</td>\n",
       "      <td>s1_clonotype4</td>\n",
       "      <td>0.401896</td>\n",
       "      <td>9.0</td>\n",
       "      <td>non_germline</td>\n",
       "      <td>IGHG</td>\n",
       "      <td>IGHJ3</td>\n",
       "      <td>127.0</td>\n",
       "      <td>1.0</td>\n",
       "      <td>42.0</td>\n",
       "      <td>13.0</td>\n",
       "    </tr>\n",
       "    <tr>\n",
       "      <th>3</th>\n",
       "      <td>EVQLQQSGTVLARPGASVKMSCKASGYTFTSYWMHWVKQRPGQGLE...</td>\n",
       "      <td>AACGTTGGTACACCGC</td>\n",
       "      <td>s1</td>\n",
       "      <td>s1_clonotype7</td>\n",
       "      <td>0.426069</td>\n",
       "      <td>3.0</td>\n",
       "      <td>non_germline</td>\n",
       "      <td>IGHG</td>\n",
       "      <td>IGHJ2</td>\n",
       "      <td>59.0</td>\n",
       "      <td>6.0</td>\n",
       "      <td>17.0</td>\n",
       "      <td>7.0</td>\n",
       "    </tr>\n",
       "    <tr>\n",
       "      <th>4</th>\n",
       "      <td>EVQLQQSGTAVARPGASVKMSCKTSGYTFTNYWMNWVKQRPGQGLE...</td>\n",
       "      <td>AACTCAGGTGGTTTCA</td>\n",
       "      <td>s1</td>\n",
       "      <td>s1_clonotype4</td>\n",
       "      <td>0.390247</td>\n",
       "      <td>8.0</td>\n",
       "      <td>non_germline</td>\n",
       "      <td>IGHG</td>\n",
       "      <td>IGHJ3</td>\n",
       "      <td>127.0</td>\n",
       "      <td>13.0</td>\n",
       "      <td>42.0</td>\n",
       "      <td>16.0</td>\n",
       "    </tr>\n",
       "    <tr>\n",
       "      <th>...</th>\n",
       "      <td>...</td>\n",
       "      <td>...</td>\n",
       "      <td>...</td>\n",
       "      <td>...</td>\n",
       "      <td>...</td>\n",
       "      <td>...</td>\n",
       "      <td>...</td>\n",
       "      <td>...</td>\n",
       "      <td>...</td>\n",
       "      <td>...</td>\n",
       "      <td>...</td>\n",
       "      <td>...</td>\n",
       "      <td>...</td>\n",
       "    </tr>\n",
       "    <tr>\n",
       "      <th>165</th>\n",
       "      <td>EVQLQQSGTVLARPGASVKLSCKASGYSFTTYWMHWVKQRPGQGLE...</td>\n",
       "      <td>GTCTCGTTCGCAGGCT</td>\n",
       "      <td>s5</td>\n",
       "      <td>s5_clonotype1662</td>\n",
       "      <td>0.647593</td>\n",
       "      <td>6.0</td>\n",
       "      <td>non_germline</td>\n",
       "      <td>IGHA</td>\n",
       "      <td>IGHJ2</td>\n",
       "      <td>1.0</td>\n",
       "      <td>1.0</td>\n",
       "      <td>1.0</td>\n",
       "      <td>12.0</td>\n",
       "    </tr>\n",
       "    <tr>\n",
       "      <th>166</th>\n",
       "      <td>QVQLQQSGAELARPGASVKLSCKASGYSFTSYWMQWVKQRPGQGLE...</td>\n",
       "      <td>TAGTTGGGTTCAGCGC</td>\n",
       "      <td>s5</td>\n",
       "      <td>s5_clonotype1968</td>\n",
       "      <td>0.299668</td>\n",
       "      <td>19.0</td>\n",
       "      <td>non_germline</td>\n",
       "      <td>IGHG</td>\n",
       "      <td>IGHJ4</td>\n",
       "      <td>1.0</td>\n",
       "      <td>1.0</td>\n",
       "      <td>1.0</td>\n",
       "      <td>35.0</td>\n",
       "    </tr>\n",
       "    <tr>\n",
       "      <th>167</th>\n",
       "      <td>EVQLQQSGTVLARPGASVKMSCKASGYTFTSYWMHWVKQRPGQGLE...</td>\n",
       "      <td>TCGTAGAGTGTCTGAT</td>\n",
       "      <td>s5</td>\n",
       "      <td>s5_clonotype1542</td>\n",
       "      <td>0.391347</td>\n",
       "      <td>3.0</td>\n",
       "      <td>non_germline</td>\n",
       "      <td>IGHM</td>\n",
       "      <td>IGHJ3</td>\n",
       "      <td>1.0</td>\n",
       "      <td>1.0</td>\n",
       "      <td>1.0</td>\n",
       "      <td>11.0</td>\n",
       "    </tr>\n",
       "    <tr>\n",
       "      <th>168</th>\n",
       "      <td>EVQLQQSGTVLARPGASVKMSCKASGYSFTGYWIHWIKQRPGQGLE...</td>\n",
       "      <td>TCTGGAAGTTTCGCTC</td>\n",
       "      <td>s5</td>\n",
       "      <td>s5_clonotype256</td>\n",
       "      <td>0.442479</td>\n",
       "      <td>8.0</td>\n",
       "      <td>non_germline</td>\n",
       "      <td>IGHM</td>\n",
       "      <td>IGHJ3</td>\n",
       "      <td>5.0</td>\n",
       "      <td>2.0</td>\n",
       "      <td>2.0</td>\n",
       "      <td>14.0</td>\n",
       "    </tr>\n",
       "    <tr>\n",
       "      <th>169</th>\n",
       "      <td>EVQLQQSGTVLARPGASVKMSCKTSGYTFTSYWMHWVKQRPGQGLE...</td>\n",
       "      <td>germline</td>\n",
       "      <td>germline</td>\n",
       "      <td>germline_germline</td>\n",
       "      <td>0.519843</td>\n",
       "      <td>0.0</td>\n",
       "      <td>germline</td>\n",
       "      <td>germline</td>\n",
       "      <td>germline</td>\n",
       "      <td>NaN</td>\n",
       "      <td>NaN</td>\n",
       "      <td>NaN</td>\n",
       "      <td>0.0</td>\n",
       "    </tr>\n",
       "  </tbody>\n",
       "</table>\n",
       "<p>170 rows × 13 columns</p>\n",
       "</div>"
      ],
      "text/plain": [
       "                                                   seq           barcode  \\\n",
       "0    EVQLQQSGTVLTRPGASVKMSCKASGYTFTSDWMHWVKQRPGQGLE...  AAAGCAACAGGTCCAC   \n",
       "1    EVQLQQSGTVLARPGASVKMSCKASGYTFTSYWMHWVKQRPGQGLE...  AAATGCCTCAGAGGTG   \n",
       "2    EVQLQQSGTMLARPGASVKMSCKASGYTFTNYWIHWVKQRPGQGLE...  AACACGTAGGGTCGAT   \n",
       "3    EVQLQQSGTVLARPGASVKMSCKASGYTFTSYWMHWVKQRPGQGLE...  AACGTTGGTACACCGC   \n",
       "4    EVQLQQSGTAVARPGASVKMSCKTSGYTFTNYWMNWVKQRPGQGLE...  AACTCAGGTGGTTTCA   \n",
       "..                                                 ...               ...   \n",
       "165  EVQLQQSGTVLARPGASVKLSCKASGYSFTTYWMHWVKQRPGQGLE...  GTCTCGTTCGCAGGCT   \n",
       "166  QVQLQQSGAELARPGASVKLSCKASGYSFTSYWMQWVKQRPGQGLE...  TAGTTGGGTTCAGCGC   \n",
       "167  EVQLQQSGTVLARPGASVKMSCKASGYTFTSYWMHWVKQRPGQGLE...  TCGTAGAGTGTCTGAT   \n",
       "168  EVQLQQSGTVLARPGASVKMSCKASGYSFTGYWIHWIKQRPGQGLE...  TCTGGAAGTTTCGCTC   \n",
       "169  EVQLQQSGTVLARPGASVKMSCKTSGYTFTSYWMHWVKQRPGQGLE...          germline   \n",
       "\n",
       "    sample_id   sample_clonotype  velocity_self_transition  IMGT_SHM_count  \\\n",
       "0          s1      s1_clonotype7                  0.337755             8.0   \n",
       "1          s1   s1_clonotype1791                  0.422715             5.0   \n",
       "2          s1      s1_clonotype4                  0.401896             9.0   \n",
       "3          s1      s1_clonotype7                  0.426069             3.0   \n",
       "4          s1      s1_clonotype4                  0.390247             8.0   \n",
       "..        ...                ...                       ...             ...   \n",
       "165        s5   s5_clonotype1662                  0.647593             6.0   \n",
       "166        s5   s5_clonotype1968                  0.299668            19.0   \n",
       "167        s5   s5_clonotype1542                  0.391347             3.0   \n",
       "168        s5    s5_clonotype256                  0.442479             8.0   \n",
       "169  germline  germline_germline                  0.519843             0.0   \n",
       "\n",
       "    germline_status   isotype    j_gene  clonal_exp  seq_frequency  \\\n",
       "0      non_germline      IGHG     IGHJ2        59.0            7.0   \n",
       "1      non_germline      IGHG     IGHJ2         1.0            1.0   \n",
       "2      non_germline      IGHG     IGHJ3       127.0            1.0   \n",
       "3      non_germline      IGHG     IGHJ2        59.0            6.0   \n",
       "4      non_germline      IGHG     IGHJ3       127.0           13.0   \n",
       "..              ...       ...       ...         ...            ...   \n",
       "165    non_germline      IGHA     IGHJ2         1.0            1.0   \n",
       "166    non_germline      IGHG     IGHJ4         1.0            1.0   \n",
       "167    non_germline      IGHM     IGHJ3         1.0            1.0   \n",
       "168    non_germline      IGHM     IGHJ3         5.0            2.0   \n",
       "169        germline  germline  germline         NaN            NaN   \n",
       "\n",
       "     unique_clonal_seqs  SHM_count  \n",
       "0                  17.0       13.0  \n",
       "1                   1.0       11.0  \n",
       "2                  42.0       13.0  \n",
       "3                  17.0        7.0  \n",
       "4                  42.0       16.0  \n",
       "..                  ...        ...  \n",
       "165                 1.0       12.0  \n",
       "166                 1.0       35.0  \n",
       "167                 1.0       11.0  \n",
       "168                 2.0       14.0  \n",
       "169                 NaN        0.0  \n",
       "\n",
       "[170 rows x 13 columns]"
      ]
     },
     "execution_count": 66,
     "metadata": {},
     "output_type": "execute_result"
    }
   ],
   "source": [
    "model_dict_specific[\"sapiens\"][\"IGHV1-5\"].obs"
   ]
  },
  {
   "cell_type": "code",
   "execution_count": 67,
   "id": "c8d1d85f-fc09-4e6a-a10f-83e72b6d1f68",
   "metadata": {},
   "outputs": [],
   "source": [
    "import pickle as pkl\n",
    "\n",
    "if include_germline_specific and unrecombined == False:\n",
    "    file_path = f\"evo_velo_{group_specific}_germline.pkl\"\n",
    "elif include_germline_specific and unrecombined == True:\n",
    "    file_path = f\"evo_velo_{group_specific}_unrecombined_germline.pkl\"\n",
    "else:\n",
    "    file_path = f\"evo_velo_{group_specific}.pkl\"\n",
    "with open(file_path ,\"wb\") as file:\n",
    "    pkl.dump(model_dict_specific, file)"
   ]
  },
  {
   "cell_type": "markdown",
   "id": "1f75df95-02e5-41d0-b104-184aa2c4a45f",
   "metadata": {},
   "source": [
    "### VISUALIZE EVO_VELO PLOTS"
   ]
  },
  {
   "cell_type": "code",
   "execution_count": 98,
   "id": "8af09456-99dd-4ac9-ae84-f5f10718e8d2",
   "metadata": {
    "scrolled": true
   },
   "outputs": [
    {
     "name": "stdout",
     "output_type": "stream",
     "text": [
      "computing velocity embedding\n",
      "    finished (0:00:00) --> added\n",
      "    'velocity_umap', embedded velocity vectors (adata.obsm)\n"
     ]
    },
    {
     "data": {
      "image/png": "[encoded data removed]",
      "text/plain": [
       "<Figure size 640x480 with 2 Axes>"
      ]
     },
     "metadata": {},
     "output_type": "display_data"
    },
    {
     "data": {
      "image/png": "[encoded data removed]",
      "text/plain": [
       "<Figure size 640x480 with 2 Axes>"
      ]
     },
     "metadata": {},
     "output_type": "display_data"
    }
   ],
   "source": [
    "model = \"sapiens\"\n",
    "sub_group = \"IGHV1-4\"\n",
    "color = \"seq_frequency\"\n",
    "\n",
    "# additional_cdn = model_dict[model][sub_group].obs[\"sample_id\"] == \"s2\"\n",
    "\n",
    "sc.tl.umap(model_dict_specific[model][sub_group])\n",
    "evo.tl.velocity_embedding(model_dict_specific[model][sub_group])\n",
    "evo.pl.velocity_embedding_grid(model_dict_specific[model][sub_group], color=color, legend_loc=\"right margin\")\n",
    "evo.pl.velocity_embedding_stream(model_dict_specific[model][sub_group],color =color, legend_loc=\"right margin\")"
   ]
  },
  {
   "cell_type": "code",
   "execution_count": 7,
   "id": "ae089db4-4f51-4922-aa99-b2c360679098",
   "metadata": {},
   "outputs": [],
   "source": [
    "data_folder_path = os.path.join(\"..\",\"..\",\"..\",\"data\",dataset,\"VDJ\")\n",
    "cellranger_path = os.path.join(data_folder_path, \"Influenza.vac.11.12.human.S4\")   \n",
    "embeddings_path = os.path.join(cellranger_path,\"embeddings\",mode,f\"embeddings_ESM.csv.gzip\")\n",
    "\n",
    "embeddings_file = pd.read_csv(embeddings_path, compression=\"gzip\")"
   ]
  },
  {
   "cell_type": "code",
   "execution_count": 9,
   "id": "4ad0cd81-d1bb-4174-a38e-c6798610df54",
   "metadata": {},
   "outputs": [
    {
     "data": {
      "text/plain": [
       "0       -0.032617\n",
       "1        0.023019\n",
       "2        0.023512\n",
       "3        0.002515\n",
       "4        0.029496\n",
       "           ...   \n",
       "18598    0.005165\n",
       "18599    0.023289\n",
       "18600    0.007719\n",
       "18601   -0.002924\n",
       "18602   -0.039763\n",
       "Name: dim_0, Length: 18603, dtype: float64"
      ]
     },
     "execution_count": 9,
     "metadata": {},
     "output_type": "execute_result"
    }
   ],
   "source": [
    "embeddings_file[\"dim_0\"]"
   ]
  }
 ],
 "metadata": {
  "kernelspec": {
   "display_name": "Python 3 (ipykernel)",
   "language": "python",
   "name": "python3"
  },
  "language_info": {
   "codemirror_mode": {
    "name": "ipython",
    "version": 3
   },
   "file_extension": ".py",
   "mimetype": "text/x-python",
   "name": "python",
   "nbconvert_exporter": "python",
   "pygments_lexer": "ipython3",
   "version": "3.8.18"
  }
 },
 "nbformat": 4,
 "nbformat_minor": 5
}
