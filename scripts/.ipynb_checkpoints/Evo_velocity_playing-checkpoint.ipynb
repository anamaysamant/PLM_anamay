{
 "cells": [
  {
   "cell_type": "code",
   "execution_count": 1,
   "id": "055f581b-504a-4abd-9b7f-a4d513ff7b1b",
   "metadata": {},
   "outputs": [],
   "source": [
    "import os \n",
    "import sys\n",
    "import argparse\n",
    "import evolocity as evo\n",
    "import anndata\n",
    "import pandas as pd\n",
    "import numpy as np\n",
    "import torch\n",
    "import scanpy as sc\n"
   ]
  },
  {
   "cell_type": "markdown",
   "id": "130b0a61-59cc-4340-9e25-fa785cca7762",
   "metadata": {},
   "source": [
    "### HYPERPARAMETERS TO CHANGE"
   ]
  },
  {
   "cell_type": "code",
   "execution_count": 50,
   "id": "ab73d495-cb43-4707-aa96-b69851ca8a01",
   "metadata": {},
   "outputs": [],
   "source": [
    "dataset = \"OVA_mouse\"\n",
    "mode = \"full_VDJ\"\n",
    "group = \"v_gene_family\"\n",
    "include_germline = True"
   ]
  },
  {
   "cell_type": "markdown",
   "id": "49f05b01-d8b7-4210-9ab7-14623db2160d",
   "metadata": {},
   "source": [
    "### EVO_VELOCITY W/O GROUPING"
   ]
  },
  {
   "cell_type": "code",
   "execution_count": null,
   "id": "0d3cf5e0-78ac-4ec1-a9cb-e99c1c45d8cd",
   "metadata": {},
   "outputs": [],
   "source": [
    "\n",
    "if __name__ == \"__main__\":\n",
    "\n",
    "    model_names = [\"ablang\",\"sapiens\",\"protbert\",\"ESM\"]\n",
    "    data = pd.read_csv(os.path.join(\"..\",\"..\",\"..\",\"data\",dataset,\"vdj_evolike_combine.csv\"))\n",
    "\n",
    "    data_folder_path = os.path.join(\"..\",\"..\",\"..\",\"data\",dataset,\"VDJ\")\n",
    "    germlines_path = os.path.join(\"..\",\"..\",\"..\",\"data\",dataset,\"all_germline_embeddings\")\n",
    "\n",
    "    IgG_subtypes = [\"IGHG1\",\"IGHG2B\",\"IGHG2C\",\"IGHG3\"]\n",
    "\n",
    "    model_dict = {}\n",
    "\n",
    "    for i, model in enumerate(model_names):\n",
    "\n",
    "        pooled_embeds = []\n",
    "        \n",
    "        for _,sample in (data[[\"original_sample_id\",\"sample_id\"]].drop_duplicates().iterrows()):\n",
    "            \n",
    "            cellranger_path = os.path.join(data_folder_path, sample[\"original_sample_id\"])   \n",
    "            embeddings_path = os.path.join(cellranger_path,\"embeddings\",mode,f\"embeddings_{model}.csv.gzip\")\n",
    "\n",
    "            embeddings_file = pd.read_csv(embeddings_path, compression=\"gzip\")\n",
    "            embeddings_file = embeddings_file.loc[embeddings_file[\"chain\"] == \"IGH\",:].reset_index(drop=True)\n",
    "            embeddings_file[\"c_gene\"] = embeddings_file[\"c_gene\"].replace(IgG_subtypes,\"IGHG\")\n",
    "            embeddings_file[\"v_gene_family\"] = embeddings_file[\"v_gene\"].apply(lambda x: x.split('-')[0])\n",
    "            embeddings_file[\"sample_id\"] = sample[\"sample_id\"]\n",
    "\n",
    "            embedding_cols = [col for col in list(embeddings_file.columns) if col.startswith(\"dim\")]\n",
    "            metadata_cols = list(set(embeddings_file.columns) - set(embedding_cols))\n",
    "\n",
    "            embeddings_file = embeddings_file.drop_duplicates(embedding_cols).reset_index(drop=True)\n",
    "            embeddings_file = embeddings_file.dropna(subset=embedding_cols)\n",
    "\n",
    "            pooled_embeds += embeddings_file.to_dict(orient=\"records\")\n",
    "\n",
    "        pooled_embeds = pd.DataFrame(pooled_embeds)\n",
    "        \n",
    "        pooled_embeds[\"barcode\"] = pooled_embeds[\"barcode\"].apply(lambda x: x.split(\"-\")[0])\n",
    "        pooled_embeds = pooled_embeds.merge(data, on=\"barcode\",suffixes=('', '_y'))\n",
    "\n",
    "        embedding_cols = [col for col in list(pooled_embeds.columns) if col.startswith(\"dim\")]\n",
    "        metadata_cols = list(set(pooled_embeds.columns) - set(embedding_cols))\n",
    "\n",
    "        if include_germline:\n",
    "            germline_embeddings = pd.read_csv(os.path.join(germlines_path,f\"all_germline_embeddings_{model}.csv.gzip\"), compression=\"gzip\")\n",
    "            germline_embeddings[\"full_VDJ_aa\"] = germline_embeddings[\"VDJ_ref.aa\"].apply(lambda x: x.replace(\"-\",\"\").replace(\"*\",\"\"))\n",
    "            # germline_embeddings[\"barcode\"] = germline_embeddings[\"barcode\"].apply(lambda x: x.split(\"_\")[1])\n",
    "            germline_embeddings = germline_embeddings.merge(data, on=\"barcode\",suffixes=('', '_y'))\n",
    "            germline_embeddings[\"barcode\"] = \"germline\"\n",
    "            germline_embeddings[\"c_gene\"] = germline_embeddings[\"c_gene\"].replace(IgG_subtypes,\"IGHG\")\n",
    "            germline_embeddings[\"v_gene_family\"] = germline_embeddings[\"v_gene\"].apply(lambda x: x.split('-')[0])\n",
    "            germline_embeddings = germline_embeddings.to_dict(orient=\"records\")\n",
    "         \n",
    "            pooled_embeds = pooled_embeds.to_dict(orient=\"records\")\n",
    "            pooled_embeds += germline_embeddings\n",
    "            pooled_embeds = pd.DataFrame(pooled_embeds)\n",
    "\n",
    "        only_embeddings = pooled_embeds[embedding_cols].copy()\n",
    "        metadata = pooled_embeds[metadata_cols].copy()\n",
    "        \n",
    "        try:\n",
    "            torch.cuda.empty_cache()\n",
    "                    \n",
    "            adata = anndata.AnnData(only_embeddings)\n",
    "            adata.obs[\"seq\"] = list(metadata[\"full_VDJ_aa\"])\n",
    "            adata.obs[\"barcode\"] = list(metadata[\"barcode\"])\n",
    "            \n",
    "            adata.obs[\"v_gene_family\"] = list(metadata[\"v_gene_family\"])\n",
    "            adata.obs[\"v_gene_family\"] = adata.obs[\"v_gene_family\"].astype(\"category\")\n",
    "               \n",
    "            adata.obs[\"sample_id\"] = list(metadata[\"sample_id\"]) \n",
    "            \n",
    "            adata.obs[\"sample_clonotype\"] = list(metadata.apply(lambda x: x[\"sample_id\"] + \"_\" + x[\"raw_clonotype_id\"], axis = 1))\n",
    "            adata.obs[\"sample_clonotype_encoded\"] = pd.factorize(adata.obs[\"sample_clonotype\"])[0]\n",
    "\n",
    "            if include_germline:\n",
    "                germline_indicator = list(metadata[\"barcode\"] == \"germline\")\n",
    "                adata.obs.loc[germline_indicator,\"v_gene_family\"] = \"germline\"\n",
    "                adata.obs.loc[germline_indicator,\"sample_id\"] = \"germline\"\n",
    "        \n",
    "            evo.pp.neighbors(adata)\n",
    "\n",
    "            if model == \"ESM\":\n",
    "                evo.tl.velocity_graph(adata)\n",
    "            else:\n",
    "                evo.tl.velocity_graph(adata, model_name=model)\n",
    "\n",
    "            del adata.uns['model']\n",
    "            \n",
    "            model_dict[model] = adata\n",
    "            \n",
    "            del(adata)\n",
    "            \n",
    "            \n",
    "        except:\n",
    "            continue\n"
   ]
  },
  {
   "cell_type": "markdown",
   "id": "a6cf2254-ae41-4ac2-bca1-93dccb28e723",
   "metadata": {},
   "source": [
    "### EVO-VELOCITY WITH GROUPING"
   ]
  },
  {
   "cell_type": "code",
   "execution_count": 53,
   "id": "978470c2-07a2-4b62-b5dd-8f90066055a1",
   "metadata": {
    "scrolled": true
   },
   "outputs": [
    {
     "name": "stdout",
     "output_type": "stream",
     "text": [
      "computing neighbors\n",
      "    finished (0:00:00) --> added \n",
      "    'distances' and 'connectivities', weighted adjacency matrices (adata.obsp)\n"
     ]
    },
    {
     "name": "stderr",
     "output_type": "stream",
     "text": [
      "100%|█████████████████████████████████████████████████████████████████████████████████████████████████| 3547/3547 [00:40<00:00, 86.58it/s]\n"
     ]
    },
    {
     "name": "stdout",
     "output_type": "stream",
     "text": [
      "\n"
     ]
    },
    {
     "name": "stderr",
     "output_type": "stream",
     "text": [
      "100%|█████████████████████████████████████████████████████████████████████████████████████████████████| 3547/3547 [03:16<00:00, 18.04it/s]\n"
     ]
    },
    {
     "name": "stdout",
     "output_type": "stream",
     "text": [
      "\n",
      "computing neighbors\n",
      "    finished (0:00:00) --> added \n",
      "    'distances' and 'connectivities', weighted adjacency matrices (adata.obsp)\n"
     ]
    },
    {
     "name": "stderr",
     "output_type": "stream",
     "text": [
      "100%|███████████████████████████████████████████████████████████████████████████████████████████████████| 839/839 [00:09<00:00, 86.64it/s]\n"
     ]
    },
    {
     "name": "stdout",
     "output_type": "stream",
     "text": [
      "\n"
     ]
    },
    {
     "name": "stderr",
     "output_type": "stream",
     "text": [
      "100%|███████████████████████████████████████████████████████████████████████████████████████████████████| 839/839 [00:45<00:00, 18.52it/s]\n"
     ]
    },
    {
     "name": "stdout",
     "output_type": "stream",
     "text": [
      "\n",
      "computing neighbors\n",
      "    finished (0:00:00) --> added \n",
      "    'distances' and 'connectivities', weighted adjacency matrices (adata.obsp)\n"
     ]
    },
    {
     "name": "stderr",
     "output_type": "stream",
     "text": [
      "100%|███████████████████████████████████████████████████████████████████████████████████████████████████| 964/964 [00:11<00:00, 86.35it/s]\n"
     ]
    },
    {
     "name": "stdout",
     "output_type": "stream",
     "text": [
      "\n"
     ]
    },
    {
     "name": "stderr",
     "output_type": "stream",
     "text": [
      "100%|███████████████████████████████████████████████████████████████████████████████████████████████████| 964/964 [00:50<00:00, 19.00it/s]\n"
     ]
    },
    {
     "name": "stdout",
     "output_type": "stream",
     "text": [
      "\n",
      "computing neighbors\n",
      "    finished (0:00:00) --> added \n",
      "    'distances' and 'connectivities', weighted adjacency matrices (adata.obsp)\n"
     ]
    },
    {
     "name": "stderr",
     "output_type": "stream",
     "text": [
      "100%|█████████████████████████████████████████████████████████████████████████████████████████████████████| 65/65 [00:00<00:00, 86.90it/s]\n"
     ]
    },
    {
     "name": "stdout",
     "output_type": "stream",
     "text": [
      "\n"
     ]
    },
    {
     "name": "stderr",
     "output_type": "stream",
     "text": [
      "100%|█████████████████████████████████████████████████████████████████████████████████████████████████████| 65/65 [00:02<00:00, 22.94it/s]\n"
     ]
    },
    {
     "name": "stdout",
     "output_type": "stream",
     "text": [
      "\n",
      "computing neighbors\n",
      "    finished (0:00:00) --> added \n",
      "    'distances' and 'connectivities', weighted adjacency matrices (adata.obsp)\n"
     ]
    },
    {
     "name": "stderr",
     "output_type": "stream",
     "text": [
      "100%|███████████████████████████████████████████████████████████████████████████████████████████████████| 381/381 [00:04<00:00, 84.63it/s]\n"
     ]
    },
    {
     "name": "stdout",
     "output_type": "stream",
     "text": [
      "\n"
     ]
    },
    {
     "name": "stderr",
     "output_type": "stream",
     "text": [
      "100%|███████████████████████████████████████████████████████████████████████████████████████████████████| 381/381 [00:20<00:00, 18.29it/s]\n"
     ]
    },
    {
     "name": "stdout",
     "output_type": "stream",
     "text": [
      "\n",
      "computing neighbors\n",
      "    finished (0:00:00) --> added \n",
      "    'distances' and 'connectivities', weighted adjacency matrices (adata.obsp)\n"
     ]
    },
    {
     "name": "stderr",
     "output_type": "stream",
     "text": [
      "100%|███████████████████████████████████████████████████████████████████████████████████████████████████| 549/549 [00:06<00:00, 87.02it/s]\n"
     ]
    },
    {
     "name": "stdout",
     "output_type": "stream",
     "text": [
      "\n"
     ]
    },
    {
     "name": "stderr",
     "output_type": "stream",
     "text": [
      "100%|███████████████████████████████████████████████████████████████████████████████████████████████████| 549/549 [00:30<00:00, 17.87it/s]\n"
     ]
    },
    {
     "name": "stdout",
     "output_type": "stream",
     "text": [
      "\n",
      "computing neighbors\n",
      "    finished (0:00:00) --> added \n",
      "    'distances' and 'connectivities', weighted adjacency matrices (adata.obsp)\n"
     ]
    },
    {
     "name": "stderr",
     "output_type": "stream",
     "text": [
      "100%|███████████████████████████████████████████████████████████████████████████████████████████████████| 356/356 [00:04<00:00, 86.74it/s]\n"
     ]
    },
    {
     "name": "stdout",
     "output_type": "stream",
     "text": [
      "\n"
     ]
    },
    {
     "name": "stderr",
     "output_type": "stream",
     "text": [
      "100%|███████████████████████████████████████████████████████████████████████████████████████████████████| 356/356 [00:19<00:00, 18.64it/s]\n"
     ]
    },
    {
     "name": "stdout",
     "output_type": "stream",
     "text": [
      "\n",
      "computing neighbors\n",
      "    finished (0:00:00) --> added \n",
      "    'distances' and 'connectivities', weighted adjacency matrices (adata.obsp)\n"
     ]
    },
    {
     "name": "stderr",
     "output_type": "stream",
     "text": [
      "100%|███████████████████████████████████████████████████████████████████████████████████████████████████| 365/365 [00:04<00:00, 80.95it/s]\n"
     ]
    },
    {
     "name": "stdout",
     "output_type": "stream",
     "text": [
      "\n"
     ]
    },
    {
     "name": "stderr",
     "output_type": "stream",
     "text": [
      "100%|███████████████████████████████████████████████████████████████████████████████████████████████████| 365/365 [00:19<00:00, 18.62it/s]\n"
     ]
    },
    {
     "name": "stdout",
     "output_type": "stream",
     "text": [
      "\n",
      "computing neighbors\n",
      "    finished (0:00:00) --> added \n",
      "    'distances' and 'connectivities', weighted adjacency matrices (adata.obsp)\n"
     ]
    },
    {
     "name": "stderr",
     "output_type": "stream",
     "text": [
      "100%|███████████████████████████████████████████████████████████████████████████████████████████████████| 336/336 [00:03<00:00, 86.31it/s]\n"
     ]
    },
    {
     "name": "stdout",
     "output_type": "stream",
     "text": [
      "\n"
     ]
    },
    {
     "name": "stderr",
     "output_type": "stream",
     "text": [
      "100%|███████████████████████████████████████████████████████████████████████████████████████████████████| 336/336 [00:18<00:00, 17.95it/s]\n"
     ]
    },
    {
     "name": "stdout",
     "output_type": "stream",
     "text": [
      "\n",
      "computing neighbors\n",
      "    finished (0:00:00) --> added \n",
      "    'distances' and 'connectivities', weighted adjacency matrices (adata.obsp)\n"
     ]
    },
    {
     "name": "stderr",
     "output_type": "stream",
     "text": [
      "100%|███████████████████████████████████████████████████████████████████████████████████████████████████| 290/290 [00:03<00:00, 86.83it/s]\n"
     ]
    },
    {
     "name": "stdout",
     "output_type": "stream",
     "text": [
      "\n"
     ]
    },
    {
     "name": "stderr",
     "output_type": "stream",
     "text": [
      "100%|███████████████████████████████████████████████████████████████████████████████████████████████████| 290/290 [00:16<00:00, 17.27it/s]\n"
     ]
    },
    {
     "name": "stdout",
     "output_type": "stream",
     "text": [
      "\n",
      "computing neighbors\n",
      "    finished (0:00:00) --> added \n",
      "    'distances' and 'connectivities', weighted adjacency matrices (adata.obsp)\n"
     ]
    },
    {
     "name": "stderr",
     "output_type": "stream",
     "text": [
      "100%|███████████████████████████████████████████████████████████████████████████████████████████████████| 315/315 [00:03<00:00, 84.41it/s]\n"
     ]
    },
    {
     "name": "stdout",
     "output_type": "stream",
     "text": [
      "\n"
     ]
    },
    {
     "name": "stderr",
     "output_type": "stream",
     "text": [
      "100%|███████████████████████████████████████████████████████████████████████████████████████████████████| 315/315 [00:18<00:00, 17.12it/s]\n"
     ]
    },
    {
     "name": "stdout",
     "output_type": "stream",
     "text": [
      "\n",
      "computing neighbors\n",
      "    finished (0:00:00) --> added \n",
      "    'distances' and 'connectivities', weighted adjacency matrices (adata.obsp)\n"
     ]
    },
    {
     "name": "stderr",
     "output_type": "stream",
     "text": [
      "100%|█████████████████████████████████████████████████████████████████████████████████████████████████████| 46/46 [00:00<00:00, 87.29it/s]\n"
     ]
    },
    {
     "name": "stdout",
     "output_type": "stream",
     "text": [
      "\n"
     ]
    },
    {
     "name": "stderr",
     "output_type": "stream",
     "text": [
      "100%|█████████████████████████████████████████████████████████████████████████████████████████████████████| 46/46 [00:01<00:00, 37.19it/s]\n"
     ]
    },
    {
     "name": "stdout",
     "output_type": "stream",
     "text": [
      "\n",
      "computing neighbors\n",
      "    finished (0:00:00) --> added \n",
      "    'distances' and 'connectivities', weighted adjacency matrices (adata.obsp)\n"
     ]
    },
    {
     "name": "stderr",
     "output_type": "stream",
     "text": [
      "100%|███████████████████████████████████████████████████████████████████████████████████████████████████| 173/173 [00:02<00:00, 77.61it/s]\n"
     ]
    },
    {
     "name": "stdout",
     "output_type": "stream",
     "text": [
      "\n"
     ]
    },
    {
     "name": "stderr",
     "output_type": "stream",
     "text": [
      "100%|███████████████████████████████████████████████████████████████████████████████████████████████████| 173/173 [00:09<00:00, 17.96it/s]\n"
     ]
    },
    {
     "name": "stdout",
     "output_type": "stream",
     "text": [
      "\n",
      "computing neighbors\n",
      "    finished (0:00:00) --> added \n",
      "    'distances' and 'connectivities', weighted adjacency matrices (adata.obsp)\n"
     ]
    },
    {
     "name": "stderr",
     "output_type": "stream",
     "text": [
      "100%|█████████████████████████████████████████████████████████████████████████████████████████████████████| 16/16 [00:00<00:00, 84.21it/s]\n"
     ]
    },
    {
     "name": "stdout",
     "output_type": "stream",
     "text": [
      "\n"
     ]
    },
    {
     "name": "stderr",
     "output_type": "stream",
     "text": [
      "100%|█████████████████████████████████████████████████████████████████████████████████████████████████████| 16/16 [00:00<00:00, 88.40it/s]\n"
     ]
    },
    {
     "name": "stdout",
     "output_type": "stream",
     "text": [
      "\n",
      "computing neighbors\n",
      "    finished (0:00:00) --> added \n",
      "    'distances' and 'connectivities', weighted adjacency matrices (adata.obsp)\n"
     ]
    },
    {
     "name": "stderr",
     "output_type": "stream",
     "text": [
      "100%|███████████████████████████████████████████████████████████████████████████████████████████████████████| 2/2 [00:00<00:00, 90.92it/s]\n"
     ]
    },
    {
     "name": "stdout",
     "output_type": "stream",
     "text": [
      "\n"
     ]
    },
    {
     "name": "stderr",
     "output_type": "stream",
     "text": [
      "100%|██████████████████████████████████████████████████████████████████████████████████████████████████████| 2/2 [00:00<00:00, 399.97it/s]\n"
     ]
    },
    {
     "name": "stdout",
     "output_type": "stream",
     "text": [
      "\n",
      "computing neighbors\n",
      "    finished (0:00:00) --> added \n",
      "    'distances' and 'connectivities', weighted adjacency matrices (adata.obsp)\n"
     ]
    },
    {
     "name": "stderr",
     "output_type": "stream",
     "text": [
      "Some weights of the model checkpoint at Rostlab/prot_bert were not used when initializing BertForMaskedLM: ['cls.seq_relationship.bias', 'bert.pooler.dense.weight', 'bert.pooler.dense.bias', 'cls.seq_relationship.weight']\n",
      "- This IS expected if you are initializing BertForMaskedLM from the checkpoint of a model trained on another task or with another architecture (e.g. initializing a BertForSequenceClassification model from a BertForPreTraining model).\n",
      "- This IS NOT expected if you are initializing BertForMaskedLM from the checkpoint of a model that you expect to be exactly identical (initializing a BertForSequenceClassification model from a BertForSequenceClassification model).\n",
      "100%|█████████████████████████████████████████████████████████████████████████████████████████████████| 3537/3537 [02:30<00:00, 23.51it/s]\n"
     ]
    },
    {
     "name": "stdout",
     "output_type": "stream",
     "text": [
      "\n"
     ]
    },
    {
     "name": "stderr",
     "output_type": "stream",
     "text": [
      "100%|█████████████████████████████████████████████████████████████████████████████████████████████████| 3537/3537 [03:16<00:00, 18.00it/s]\n"
     ]
    },
    {
     "name": "stdout",
     "output_type": "stream",
     "text": [
      "\n",
      "computing neighbors\n",
      "    finished (0:00:00) --> added \n",
      "    'distances' and 'connectivities', weighted adjacency matrices (adata.obsp)\n"
     ]
    },
    {
     "name": "stderr",
     "output_type": "stream",
     "text": [
      "Some weights of the model checkpoint at Rostlab/prot_bert were not used when initializing BertForMaskedLM: ['cls.seq_relationship.bias', 'bert.pooler.dense.weight', 'bert.pooler.dense.bias', 'cls.seq_relationship.weight']\n",
      "- This IS expected if you are initializing BertForMaskedLM from the checkpoint of a model trained on another task or with another architecture (e.g. initializing a BertForSequenceClassification model from a BertForPreTraining model).\n",
      "- This IS NOT expected if you are initializing BertForMaskedLM from the checkpoint of a model that you expect to be exactly identical (initializing a BertForSequenceClassification model from a BertForSequenceClassification model).\n",
      "100%|███████████████████████████████████████████████████████████████████████████████████████████████████| 833/833 [00:30<00:00, 26.90it/s]\n"
     ]
    },
    {
     "name": "stdout",
     "output_type": "stream",
     "text": [
      "\n"
     ]
    },
    {
     "name": "stderr",
     "output_type": "stream",
     "text": [
      "100%|███████████████████████████████████████████████████████████████████████████████████████████████████| 833/833 [00:45<00:00, 18.29it/s]\n"
     ]
    },
    {
     "name": "stdout",
     "output_type": "stream",
     "text": [
      "\n",
      "computing neighbors\n",
      "    finished (0:00:00) --> added \n",
      "    'distances' and 'connectivities', weighted adjacency matrices (adata.obsp)\n"
     ]
    },
    {
     "name": "stderr",
     "output_type": "stream",
     "text": [
      "Some weights of the model checkpoint at Rostlab/prot_bert were not used when initializing BertForMaskedLM: ['cls.seq_relationship.bias', 'bert.pooler.dense.weight', 'bert.pooler.dense.bias', 'cls.seq_relationship.weight']\n",
      "- This IS expected if you are initializing BertForMaskedLM from the checkpoint of a model trained on another task or with another architecture (e.g. initializing a BertForSequenceClassification model from a BertForPreTraining model).\n",
      "- This IS NOT expected if you are initializing BertForMaskedLM from the checkpoint of a model that you expect to be exactly identical (initializing a BertForSequenceClassification model from a BertForSequenceClassification model).\n",
      "100%|███████████████████████████████████████████████████████████████████████████████████████████████████| 963/963 [00:36<00:00, 26.67it/s]\n"
     ]
    },
    {
     "name": "stdout",
     "output_type": "stream",
     "text": [
      "\n"
     ]
    },
    {
     "name": "stderr",
     "output_type": "stream",
     "text": [
      "100%|███████████████████████████████████████████████████████████████████████████████████████████████████| 963/963 [00:51<00:00, 18.65it/s]\n"
     ]
    },
    {
     "name": "stdout",
     "output_type": "stream",
     "text": [
      "\n",
      "computing neighbors\n",
      "    finished (0:00:00) --> added \n",
      "    'distances' and 'connectivities', weighted adjacency matrices (adata.obsp)\n"
     ]
    },
    {
     "name": "stderr",
     "output_type": "stream",
     "text": [
      "Some weights of the model checkpoint at Rostlab/prot_bert were not used when initializing BertForMaskedLM: ['cls.seq_relationship.bias', 'bert.pooler.dense.weight', 'bert.pooler.dense.bias', 'cls.seq_relationship.weight']\n",
      "- This IS expected if you are initializing BertForMaskedLM from the checkpoint of a model trained on another task or with another architecture (e.g. initializing a BertForSequenceClassification model from a BertForPreTraining model).\n",
      "- This IS NOT expected if you are initializing BertForMaskedLM from the checkpoint of a model that you expect to be exactly identical (initializing a BertForSequenceClassification model from a BertForSequenceClassification model).\n",
      "100%|█████████████████████████████████████████████████████████████████████████████████████████████████████| 62/62 [00:02<00:00, 27.04it/s]\n"
     ]
    },
    {
     "name": "stdout",
     "output_type": "stream",
     "text": [
      "\n"
     ]
    },
    {
     "name": "stderr",
     "output_type": "stream",
     "text": [
      "100%|█████████████████████████████████████████████████████████████████████████████████████████████████████| 62/62 [00:02<00:00, 22.16it/s]\n"
     ]
    },
    {
     "name": "stdout",
     "output_type": "stream",
     "text": [
      "\n",
      "computing neighbors\n",
      "    finished (0:00:00) --> added \n",
      "    'distances' and 'connectivities', weighted adjacency matrices (adata.obsp)\n"
     ]
    },
    {
     "name": "stderr",
     "output_type": "stream",
     "text": [
      "Some weights of the model checkpoint at Rostlab/prot_bert were not used when initializing BertForMaskedLM: ['cls.seq_relationship.bias', 'bert.pooler.dense.weight', 'bert.pooler.dense.bias', 'cls.seq_relationship.weight']\n",
      "- This IS expected if you are initializing BertForMaskedLM from the checkpoint of a model trained on another task or with another architecture (e.g. initializing a BertForSequenceClassification model from a BertForPreTraining model).\n",
      "- This IS NOT expected if you are initializing BertForMaskedLM from the checkpoint of a model that you expect to be exactly identical (initializing a BertForSequenceClassification model from a BertForSequenceClassification model).\n",
      "100%|███████████████████████████████████████████████████████████████████████████████████████████████████| 379/379 [00:14<00:00, 26.78it/s]\n"
     ]
    },
    {
     "name": "stdout",
     "output_type": "stream",
     "text": [
      "\n"
     ]
    },
    {
     "name": "stderr",
     "output_type": "stream",
     "text": [
      "100%|███████████████████████████████████████████████████████████████████████████████████████████████████| 379/379 [00:21<00:00, 17.87it/s]\n"
     ]
    },
    {
     "name": "stdout",
     "output_type": "stream",
     "text": [
      "\n",
      "computing neighbors\n",
      "    finished (0:00:00) --> added \n",
      "    'distances' and 'connectivities', weighted adjacency matrices (adata.obsp)\n"
     ]
    },
    {
     "name": "stderr",
     "output_type": "stream",
     "text": [
      "Some weights of the model checkpoint at Rostlab/prot_bert were not used when initializing BertForMaskedLM: ['cls.seq_relationship.bias', 'bert.pooler.dense.weight', 'bert.pooler.dense.bias', 'cls.seq_relationship.weight']\n",
      "- This IS expected if you are initializing BertForMaskedLM from the checkpoint of a model trained on another task or with another architecture (e.g. initializing a BertForSequenceClassification model from a BertForPreTraining model).\n",
      "- This IS NOT expected if you are initializing BertForMaskedLM from the checkpoint of a model that you expect to be exactly identical (initializing a BertForSequenceClassification model from a BertForSequenceClassification model).\n",
      "100%|███████████████████████████████████████████████████████████████████████████████████████████████████| 548/548 [00:20<00:00, 26.71it/s]\n"
     ]
    },
    {
     "name": "stdout",
     "output_type": "stream",
     "text": [
      "\n"
     ]
    },
    {
     "name": "stderr",
     "output_type": "stream",
     "text": [
      "100%|███████████████████████████████████████████████████████████████████████████████████████████████████| 548/548 [00:31<00:00, 17.65it/s]\n"
     ]
    },
    {
     "name": "stdout",
     "output_type": "stream",
     "text": [
      "\n",
      "computing neighbors\n",
      "    finished (0:00:00) --> added \n",
      "    'distances' and 'connectivities', weighted adjacency matrices (adata.obsp)\n"
     ]
    },
    {
     "name": "stderr",
     "output_type": "stream",
     "text": [
      "Some weights of the model checkpoint at Rostlab/prot_bert were not used when initializing BertForMaskedLM: ['cls.seq_relationship.bias', 'bert.pooler.dense.weight', 'bert.pooler.dense.bias', 'cls.seq_relationship.weight']\n",
      "- This IS expected if you are initializing BertForMaskedLM from the checkpoint of a model trained on another task or with another architecture (e.g. initializing a BertForSequenceClassification model from a BertForPreTraining model).\n",
      "- This IS NOT expected if you are initializing BertForMaskedLM from the checkpoint of a model that you expect to be exactly identical (initializing a BertForSequenceClassification model from a BertForSequenceClassification model).\n",
      "100%|███████████████████████████████████████████████████████████████████████████████████████████████████| 356/356 [00:13<00:00, 26.75it/s]\n"
     ]
    },
    {
     "name": "stdout",
     "output_type": "stream",
     "text": [
      "\n"
     ]
    },
    {
     "name": "stderr",
     "output_type": "stream",
     "text": [
      "100%|███████████████████████████████████████████████████████████████████████████████████████████████████| 356/356 [00:19<00:00, 18.03it/s]\n"
     ]
    },
    {
     "name": "stdout",
     "output_type": "stream",
     "text": [
      "\n",
      "computing neighbors\n",
      "    finished (0:00:00) --> added \n",
      "    'distances' and 'connectivities', weighted adjacency matrices (adata.obsp)\n"
     ]
    },
    {
     "name": "stderr",
     "output_type": "stream",
     "text": [
      "Some weights of the model checkpoint at Rostlab/prot_bert were not used when initializing BertForMaskedLM: ['cls.seq_relationship.bias', 'bert.pooler.dense.weight', 'bert.pooler.dense.bias', 'cls.seq_relationship.weight']\n",
      "- This IS expected if you are initializing BertForMaskedLM from the checkpoint of a model trained on another task or with another architecture (e.g. initializing a BertForSequenceClassification model from a BertForPreTraining model).\n",
      "- This IS NOT expected if you are initializing BertForMaskedLM from the checkpoint of a model that you expect to be exactly identical (initializing a BertForSequenceClassification model from a BertForSequenceClassification model).\n",
      "100%|███████████████████████████████████████████████████████████████████████████████████████████████████| 363/363 [00:13<00:00, 26.50it/s]\n"
     ]
    },
    {
     "name": "stdout",
     "output_type": "stream",
     "text": [
      "\n"
     ]
    },
    {
     "name": "stderr",
     "output_type": "stream",
     "text": [
      "100%|███████████████████████████████████████████████████████████████████████████████████████████████████| 363/363 [00:19<00:00, 18.69it/s]\n"
     ]
    },
    {
     "name": "stdout",
     "output_type": "stream",
     "text": [
      "\n",
      "computing neighbors\n",
      "    finished (0:00:00) --> added \n",
      "    'distances' and 'connectivities', weighted adjacency matrices (adata.obsp)\n"
     ]
    },
    {
     "name": "stderr",
     "output_type": "stream",
     "text": [
      "Some weights of the model checkpoint at Rostlab/prot_bert were not used when initializing BertForMaskedLM: ['cls.seq_relationship.bias', 'bert.pooler.dense.weight', 'bert.pooler.dense.bias', 'cls.seq_relationship.weight']\n",
      "- This IS expected if you are initializing BertForMaskedLM from the checkpoint of a model trained on another task or with another architecture (e.g. initializing a BertForSequenceClassification model from a BertForPreTraining model).\n",
      "- This IS NOT expected if you are initializing BertForMaskedLM from the checkpoint of a model that you expect to be exactly identical (initializing a BertForSequenceClassification model from a BertForSequenceClassification model).\n",
      "100%|███████████████████████████████████████████████████████████████████████████████████████████████████| 334/334 [00:12<00:00, 26.51it/s]\n"
     ]
    },
    {
     "name": "stdout",
     "output_type": "stream",
     "text": [
      "\n"
     ]
    },
    {
     "name": "stderr",
     "output_type": "stream",
     "text": [
      "100%|███████████████████████████████████████████████████████████████████████████████████████████████████| 334/334 [00:19<00:00, 17.50it/s]\n"
     ]
    },
    {
     "name": "stdout",
     "output_type": "stream",
     "text": [
      "\n",
      "computing neighbors\n",
      "    finished (0:00:00) --> added \n",
      "    'distances' and 'connectivities', weighted adjacency matrices (adata.obsp)\n"
     ]
    },
    {
     "name": "stderr",
     "output_type": "stream",
     "text": [
      "Some weights of the model checkpoint at Rostlab/prot_bert were not used when initializing BertForMaskedLM: ['cls.seq_relationship.bias', 'bert.pooler.dense.weight', 'bert.pooler.dense.bias', 'cls.seq_relationship.weight']\n",
      "- This IS expected if you are initializing BertForMaskedLM from the checkpoint of a model trained on another task or with another architecture (e.g. initializing a BertForSequenceClassification model from a BertForPreTraining model).\n",
      "- This IS NOT expected if you are initializing BertForMaskedLM from the checkpoint of a model that you expect to be exactly identical (initializing a BertForSequenceClassification model from a BertForSequenceClassification model).\n",
      "100%|███████████████████████████████████████████████████████████████████████████████████████████████████| 289/289 [00:10<00:00, 26.71it/s]\n"
     ]
    },
    {
     "name": "stdout",
     "output_type": "stream",
     "text": [
      "\n"
     ]
    },
    {
     "name": "stderr",
     "output_type": "stream",
     "text": [
      "100%|███████████████████████████████████████████████████████████████████████████████████████████████████| 289/289 [00:17<00:00, 16.41it/s]\n"
     ]
    },
    {
     "name": "stdout",
     "output_type": "stream",
     "text": [
      "\n",
      "computing neighbors\n",
      "    finished (0:00:00) --> added \n",
      "    'distances' and 'connectivities', weighted adjacency matrices (adata.obsp)\n"
     ]
    },
    {
     "name": "stderr",
     "output_type": "stream",
     "text": [
      "Some weights of the model checkpoint at Rostlab/prot_bert were not used when initializing BertForMaskedLM: ['cls.seq_relationship.bias', 'bert.pooler.dense.weight', 'bert.pooler.dense.bias', 'cls.seq_relationship.weight']\n",
      "- This IS expected if you are initializing BertForMaskedLM from the checkpoint of a model trained on another task or with another architecture (e.g. initializing a BertForSequenceClassification model from a BertForPreTraining model).\n",
      "- This IS NOT expected if you are initializing BertForMaskedLM from the checkpoint of a model that you expect to be exactly identical (initializing a BertForSequenceClassification model from a BertForSequenceClassification model).\n",
      "100%|███████████████████████████████████████████████████████████████████████████████████████████████████| 315/315 [00:11<00:00, 26.54it/s]\n"
     ]
    },
    {
     "name": "stdout",
     "output_type": "stream",
     "text": [
      "\n"
     ]
    },
    {
     "name": "stderr",
     "output_type": "stream",
     "text": [
      "100%|███████████████████████████████████████████████████████████████████████████████████████████████████| 315/315 [00:19<00:00, 16.29it/s]\n"
     ]
    },
    {
     "name": "stdout",
     "output_type": "stream",
     "text": [
      "\n",
      "computing neighbors\n",
      "    finished (0:00:00) --> added \n",
      "    'distances' and 'connectivities', weighted adjacency matrices (adata.obsp)\n"
     ]
    },
    {
     "name": "stderr",
     "output_type": "stream",
     "text": [
      "Some weights of the model checkpoint at Rostlab/prot_bert were not used when initializing BertForMaskedLM: ['cls.seq_relationship.bias', 'bert.pooler.dense.weight', 'bert.pooler.dense.bias', 'cls.seq_relationship.weight']\n",
      "- This IS expected if you are initializing BertForMaskedLM from the checkpoint of a model trained on another task or with another architecture (e.g. initializing a BertForSequenceClassification model from a BertForPreTraining model).\n",
      "- This IS NOT expected if you are initializing BertForMaskedLM from the checkpoint of a model that you expect to be exactly identical (initializing a BertForSequenceClassification model from a BertForSequenceClassification model).\n",
      "100%|█████████████████████████████████████████████████████████████████████████████████████████████████████| 46/46 [00:01<00:00, 26.44it/s]\n"
     ]
    },
    {
     "name": "stdout",
     "output_type": "stream",
     "text": [
      "\n"
     ]
    },
    {
     "name": "stderr",
     "output_type": "stream",
     "text": [
      "100%|█████████████████████████████████████████████████████████████████████████████████████████████████████| 46/46 [00:01<00:00, 35.30it/s]\n"
     ]
    },
    {
     "name": "stdout",
     "output_type": "stream",
     "text": [
      "\n",
      "computing neighbors\n",
      "    finished (0:00:00) --> added \n",
      "    'distances' and 'connectivities', weighted adjacency matrices (adata.obsp)\n"
     ]
    },
    {
     "name": "stderr",
     "output_type": "stream",
     "text": [
      "Some weights of the model checkpoint at Rostlab/prot_bert were not used when initializing BertForMaskedLM: ['cls.seq_relationship.bias', 'bert.pooler.dense.weight', 'bert.pooler.dense.bias', 'cls.seq_relationship.weight']\n",
      "- This IS expected if you are initializing BertForMaskedLM from the checkpoint of a model trained on another task or with another architecture (e.g. initializing a BertForSequenceClassification model from a BertForPreTraining model).\n",
      "- This IS NOT expected if you are initializing BertForMaskedLM from the checkpoint of a model that you expect to be exactly identical (initializing a BertForSequenceClassification model from a BertForSequenceClassification model).\n",
      "100%|███████████████████████████████████████████████████████████████████████████████████████████████████| 173/173 [00:06<00:00, 26.56it/s]\n"
     ]
    },
    {
     "name": "stdout",
     "output_type": "stream",
     "text": [
      "\n"
     ]
    },
    {
     "name": "stderr",
     "output_type": "stream",
     "text": [
      "100%|███████████████████████████████████████████████████████████████████████████████████████████████████| 173/173 [00:09<00:00, 17.31it/s]\n"
     ]
    },
    {
     "name": "stdout",
     "output_type": "stream",
     "text": [
      "\n",
      "computing neighbors\n",
      "    finished (0:00:00) --> added \n",
      "    'distances' and 'connectivities', weighted adjacency matrices (adata.obsp)\n"
     ]
    },
    {
     "name": "stderr",
     "output_type": "stream",
     "text": [
      "Some weights of the model checkpoint at Rostlab/prot_bert were not used when initializing BertForMaskedLM: ['cls.seq_relationship.bias', 'bert.pooler.dense.weight', 'bert.pooler.dense.bias', 'cls.seq_relationship.weight']\n",
      "- This IS expected if you are initializing BertForMaskedLM from the checkpoint of a model trained on another task or with another architecture (e.g. initializing a BertForSequenceClassification model from a BertForPreTraining model).\n",
      "- This IS NOT expected if you are initializing BertForMaskedLM from the checkpoint of a model that you expect to be exactly identical (initializing a BertForSequenceClassification model from a BertForSequenceClassification model).\n",
      "100%|█████████████████████████████████████████████████████████████████████████████████████████████████████| 16/16 [00:00<00:00, 27.03it/s]\n"
     ]
    },
    {
     "name": "stdout",
     "output_type": "stream",
     "text": [
      "\n"
     ]
    },
    {
     "name": "stderr",
     "output_type": "stream",
     "text": [
      "100%|█████████████████████████████████████████████████████████████████████████████████████████████████████| 16/16 [00:00<00:00, 78.82it/s]\n"
     ]
    },
    {
     "name": "stdout",
     "output_type": "stream",
     "text": [
      "\n",
      "computing neighbors\n",
      "    finished (0:00:00) --> added \n",
      "    'distances' and 'connectivities', weighted adjacency matrices (adata.obsp)\n"
     ]
    },
    {
     "name": "stderr",
     "output_type": "stream",
     "text": [
      "Some weights of the model checkpoint at Rostlab/prot_bert were not used when initializing BertForMaskedLM: ['cls.seq_relationship.bias', 'bert.pooler.dense.weight', 'bert.pooler.dense.bias', 'cls.seq_relationship.weight']\n",
      "- This IS expected if you are initializing BertForMaskedLM from the checkpoint of a model trained on another task or with another architecture (e.g. initializing a BertForSequenceClassification model from a BertForPreTraining model).\n",
      "- This IS NOT expected if you are initializing BertForMaskedLM from the checkpoint of a model that you expect to be exactly identical (initializing a BertForSequenceClassification model from a BertForSequenceClassification model).\n",
      "100%|███████████████████████████████████████████████████████████████████████████████████████████████████████| 2/2 [00:00<00:00, 28.99it/s]\n"
     ]
    },
    {
     "name": "stdout",
     "output_type": "stream",
     "text": [
      "\n"
     ]
    },
    {
     "name": "stderr",
     "output_type": "stream",
     "text": [
      "100%|██████████████████████████████████████████████████████████████████████████████████████████████████████| 2/2 [00:00<00:00, 400.12it/s]\n"
     ]
    },
    {
     "name": "stdout",
     "output_type": "stream",
     "text": [
      "\n",
      "computing neighbors\n",
      "    finished (0:00:00) --> added \n",
      "    'distances' and 'connectivities', weighted adjacency matrices (adata.obsp)\n"
     ]
    },
    {
     "name": "stderr",
     "output_type": "stream",
     "text": [
      "100%|████████████████████████████████████████████████████████████████████████████████████████████████| 3537/3537 [00:23<00:00, 151.44it/s]\n"
     ]
    },
    {
     "name": "stdout",
     "output_type": "stream",
     "text": [
      "\n"
     ]
    },
    {
     "name": "stderr",
     "output_type": "stream",
     "text": [
      "100%|█████████████████████████████████████████████████████████████████████████████████████████████████| 3537/3537 [03:12<00:00, 18.40it/s]\n"
     ]
    },
    {
     "name": "stdout",
     "output_type": "stream",
     "text": [
      "\n",
      "computing neighbors\n",
      "    finished (0:00:00) --> added \n",
      "    'distances' and 'connectivities', weighted adjacency matrices (adata.obsp)\n"
     ]
    },
    {
     "name": "stderr",
     "output_type": "stream",
     "text": [
      "100%|██████████████████████████████████████████████████████████████████████████████████████████████████| 833/833 [00:04<00:00, 177.99it/s]\n"
     ]
    },
    {
     "name": "stdout",
     "output_type": "stream",
     "text": [
      "\n"
     ]
    },
    {
     "name": "stderr",
     "output_type": "stream",
     "text": [
      "100%|███████████████████████████████████████████████████████████████████████████████████████████████████| 833/833 [00:43<00:00, 18.95it/s]\n"
     ]
    },
    {
     "name": "stdout",
     "output_type": "stream",
     "text": [
      "\n",
      "computing neighbors\n",
      "    finished (0:00:00) --> added \n",
      "    'distances' and 'connectivities', weighted adjacency matrices (adata.obsp)\n"
     ]
    },
    {
     "name": "stderr",
     "output_type": "stream",
     "text": [
      "100%|██████████████████████████████████████████████████████████████████████████████████████████████████| 963/963 [00:06<00:00, 160.50it/s]\n"
     ]
    },
    {
     "name": "stdout",
     "output_type": "stream",
     "text": [
      "\n"
     ]
    },
    {
     "name": "stderr",
     "output_type": "stream",
     "text": [
      "100%|███████████████████████████████████████████████████████████████████████████████████████████████████| 963/963 [00:48<00:00, 19.96it/s]\n"
     ]
    },
    {
     "name": "stdout",
     "output_type": "stream",
     "text": [
      "\n",
      "computing neighbors\n",
      "    finished (0:00:00) --> added \n",
      "    'distances' and 'connectivities', weighted adjacency matrices (adata.obsp)\n"
     ]
    },
    {
     "name": "stderr",
     "output_type": "stream",
     "text": [
      "100%|████████████████████████████████████████████████████████████████████████████████████████████████████| 62/62 [00:00<00:00, 167.12it/s]\n"
     ]
    },
    {
     "name": "stdout",
     "output_type": "stream",
     "text": [
      "\n"
     ]
    },
    {
     "name": "stderr",
     "output_type": "stream",
     "text": [
      "100%|█████████████████████████████████████████████████████████████████████████████████████████████████████| 62/62 [00:02<00:00, 23.28it/s]\n"
     ]
    },
    {
     "name": "stdout",
     "output_type": "stream",
     "text": [
      "\n",
      "computing neighbors\n",
      "    finished (0:00:00) --> added \n",
      "    'distances' and 'connectivities', weighted adjacency matrices (adata.obsp)\n"
     ]
    },
    {
     "name": "stderr",
     "output_type": "stream",
     "text": [
      "100%|██████████████████████████████████████████████████████████████████████████████████████████████████| 379/379 [00:02<00:00, 175.95it/s]\n"
     ]
    },
    {
     "name": "stdout",
     "output_type": "stream",
     "text": [
      "\n"
     ]
    },
    {
     "name": "stderr",
     "output_type": "stream",
     "text": [
      "100%|███████████████████████████████████████████████████████████████████████████████████████████████████| 379/379 [00:20<00:00, 18.93it/s]\n"
     ]
    },
    {
     "name": "stdout",
     "output_type": "stream",
     "text": [
      "\n",
      "computing neighbors\n",
      "    finished (0:00:00) --> added \n",
      "    'distances' and 'connectivities', weighted adjacency matrices (adata.obsp)\n"
     ]
    },
    {
     "name": "stderr",
     "output_type": "stream",
     "text": [
      "100%|██████████████████████████████████████████████████████████████████████████████████████████████████| 548/548 [00:03<00:00, 167.12it/s]\n"
     ]
    },
    {
     "name": "stdout",
     "output_type": "stream",
     "text": [
      "\n"
     ]
    },
    {
     "name": "stderr",
     "output_type": "stream",
     "text": [
      "100%|███████████████████████████████████████████████████████████████████████████████████████████████████| 548/548 [00:28<00:00, 18.97it/s]\n"
     ]
    },
    {
     "name": "stdout",
     "output_type": "stream",
     "text": [
      "\n",
      "computing neighbors\n",
      "    finished (0:00:00) --> added \n",
      "    'distances' and 'connectivities', weighted adjacency matrices (adata.obsp)\n"
     ]
    },
    {
     "name": "stderr",
     "output_type": "stream",
     "text": [
      "100%|██████████████████████████████████████████████████████████████████████████████████████████████████| 356/356 [00:02<00:00, 163.30it/s]\n"
     ]
    },
    {
     "name": "stdout",
     "output_type": "stream",
     "text": [
      "\n"
     ]
    },
    {
     "name": "stderr",
     "output_type": "stream",
     "text": [
      "100%|███████████████████████████████████████████████████████████████████████████████████████████████████| 356/356 [00:17<00:00, 19.84it/s]\n"
     ]
    },
    {
     "name": "stdout",
     "output_type": "stream",
     "text": [
      "\n",
      "computing neighbors\n",
      "    finished (0:00:00) --> added \n",
      "    'distances' and 'connectivities', weighted adjacency matrices (adata.obsp)\n"
     ]
    },
    {
     "name": "stderr",
     "output_type": "stream",
     "text": [
      "100%|██████████████████████████████████████████████████████████████████████████████████████████████████| 363/363 [00:02<00:00, 144.28it/s]\n"
     ]
    },
    {
     "name": "stdout",
     "output_type": "stream",
     "text": [
      "\n"
     ]
    },
    {
     "name": "stderr",
     "output_type": "stream",
     "text": [
      "100%|███████████████████████████████████████████████████████████████████████████████████████████████████| 363/363 [00:17<00:00, 20.21it/s]\n"
     ]
    },
    {
     "name": "stdout",
     "output_type": "stream",
     "text": [
      "\n",
      "computing neighbors\n",
      "    finished (0:00:00) --> added \n",
      "    'distances' and 'connectivities', weighted adjacency matrices (adata.obsp)\n"
     ]
    },
    {
     "name": "stderr",
     "output_type": "stream",
     "text": [
      "100%|██████████████████████████████████████████████████████████████████████████████████████████████████| 334/334 [00:01<00:00, 177.19it/s]\n"
     ]
    },
    {
     "name": "stdout",
     "output_type": "stream",
     "text": [
      "\n"
     ]
    },
    {
     "name": "stderr",
     "output_type": "stream",
     "text": [
      "100%|███████████████████████████████████████████████████████████████████████████████████████████████████| 334/334 [00:17<00:00, 19.61it/s]\n"
     ]
    },
    {
     "name": "stdout",
     "output_type": "stream",
     "text": [
      "\n",
      "computing neighbors\n",
      "    finished (0:00:00) --> added \n",
      "    'distances' and 'connectivities', weighted adjacency matrices (adata.obsp)\n"
     ]
    },
    {
     "name": "stderr",
     "output_type": "stream",
     "text": [
      "100%|██████████████████████████████████████████████████████████████████████████████████████████████████| 289/289 [00:01<00:00, 150.60it/s]\n"
     ]
    },
    {
     "name": "stdout",
     "output_type": "stream",
     "text": [
      "\n"
     ]
    },
    {
     "name": "stderr",
     "output_type": "stream",
     "text": [
      "100%|███████████████████████████████████████████████████████████████████████████████████████████████████| 289/289 [00:15<00:00, 18.15it/s]\n"
     ]
    },
    {
     "name": "stdout",
     "output_type": "stream",
     "text": [
      "\n",
      "computing neighbors\n",
      "    finished (0:00:00) --> added \n",
      "    'distances' and 'connectivities', weighted adjacency matrices (adata.obsp)\n"
     ]
    },
    {
     "name": "stderr",
     "output_type": "stream",
     "text": [
      "100%|██████████████████████████████████████████████████████████████████████████████████████████████████| 315/315 [00:01<00:00, 158.45it/s]\n"
     ]
    },
    {
     "name": "stdout",
     "output_type": "stream",
     "text": [
      "\n"
     ]
    },
    {
     "name": "stderr",
     "output_type": "stream",
     "text": [
      "100%|███████████████████████████████████████████████████████████████████████████████████████████████████| 315/315 [00:17<00:00, 18.07it/s]\n"
     ]
    },
    {
     "name": "stdout",
     "output_type": "stream",
     "text": [
      "\n",
      "computing neighbors\n",
      "    finished (0:00:00) --> added \n",
      "    'distances' and 'connectivities', weighted adjacency matrices (adata.obsp)\n"
     ]
    },
    {
     "name": "stderr",
     "output_type": "stream",
     "text": [
      "100%|████████████████████████████████████████████████████████████████████████████████████████████████████| 46/46 [00:00<00:00, 146.96it/s]\n"
     ]
    },
    {
     "name": "stdout",
     "output_type": "stream",
     "text": [
      "\n"
     ]
    },
    {
     "name": "stderr",
     "output_type": "stream",
     "text": [
      "100%|█████████████████████████████████████████████████████████████████████████████████████████████████████| 46/46 [00:01<00:00, 38.49it/s]\n"
     ]
    },
    {
     "name": "stdout",
     "output_type": "stream",
     "text": [
      "\n",
      "computing neighbors\n",
      "    finished (0:00:00) --> added \n",
      "    'distances' and 'connectivities', weighted adjacency matrices (adata.obsp)\n"
     ]
    },
    {
     "name": "stderr",
     "output_type": "stream",
     "text": [
      "100%|██████████████████████████████████████████████████████████████████████████████████████████████████| 173/173 [00:01<00:00, 160.48it/s]\n"
     ]
    },
    {
     "name": "stdout",
     "output_type": "stream",
     "text": [
      "\n"
     ]
    },
    {
     "name": "stderr",
     "output_type": "stream",
     "text": [
      "100%|███████████████████████████████████████████████████████████████████████████████████████████████████| 173/173 [00:09<00:00, 18.66it/s]\n"
     ]
    },
    {
     "name": "stdout",
     "output_type": "stream",
     "text": [
      "\n",
      "computing neighbors\n",
      "    finished (0:00:00) --> added \n",
      "    'distances' and 'connectivities', weighted adjacency matrices (adata.obsp)\n"
     ]
    },
    {
     "name": "stderr",
     "output_type": "stream",
     "text": [
      "100%|████████████████████████████████████████████████████████████████████████████████████████████████████| 16/16 [00:00<00:00, 134.45it/s]\n"
     ]
    },
    {
     "name": "stdout",
     "output_type": "stream",
     "text": [
      "\n"
     ]
    },
    {
     "name": "stderr",
     "output_type": "stream",
     "text": [
      "100%|█████████████████████████████████████████████████████████████████████████████████████████████████████| 16/16 [00:00<00:00, 90.40it/s]\n"
     ]
    },
    {
     "name": "stdout",
     "output_type": "stream",
     "text": [
      "\n",
      "computing neighbors\n",
      "    finished (0:00:00) --> added \n",
      "    'distances' and 'connectivities', weighted adjacency matrices (adata.obsp)\n"
     ]
    },
    {
     "name": "stderr",
     "output_type": "stream",
     "text": [
      "100%|██████████████████████████████████████████████████████████████████████████████████████████████████████| 2/2 [00:00<00:00, 117.62it/s]\n"
     ]
    },
    {
     "name": "stdout",
     "output_type": "stream",
     "text": [
      "\n"
     ]
    },
    {
     "name": "stderr",
     "output_type": "stream",
     "text": [
      "100%|██████████████████████████████████████████████████████████████████████████████████████████████████████| 2/2 [00:00<00:00, 333.36it/s]\n"
     ]
    },
    {
     "name": "stdout",
     "output_type": "stream",
     "text": [
      "\n",
      "computing neighbors\n",
      "    finished (0:00:00) --> added \n",
      "    'distances' and 'connectivities', weighted adjacency matrices (adata.obsp)\n"
     ]
    },
    {
     "name": "stderr",
     "output_type": "stream",
     "text": [
      "100%|█████████████████████████████████████████████████████████████████████████████████████████████████| 3537/3537 [03:46<00:00, 15.60it/s]\n"
     ]
    },
    {
     "name": "stdout",
     "output_type": "stream",
     "text": [
      "\n"
     ]
    },
    {
     "name": "stderr",
     "output_type": "stream",
     "text": [
      "100%|█████████████████████████████████████████████████████████████████████████████████████████████████| 3537/3537 [03:14<00:00, 18.21it/s]\n"
     ]
    },
    {
     "name": "stdout",
     "output_type": "stream",
     "text": [
      "\n",
      "computing neighbors\n",
      "    finished (0:00:00) --> added \n",
      "    'distances' and 'connectivities', weighted adjacency matrices (adata.obsp)\n"
     ]
    },
    {
     "name": "stderr",
     "output_type": "stream",
     "text": [
      "100%|███████████████████████████████████████████████████████████████████████████████████████████████████| 833/833 [00:49<00:00, 16.69it/s]\n"
     ]
    },
    {
     "name": "stdout",
     "output_type": "stream",
     "text": [
      "\n"
     ]
    },
    {
     "name": "stderr",
     "output_type": "stream",
     "text": [
      "100%|███████████████████████████████████████████████████████████████████████████████████████████████████| 833/833 [00:46<00:00, 17.95it/s]\n"
     ]
    },
    {
     "name": "stdout",
     "output_type": "stream",
     "text": [
      "\n",
      "computing neighbors\n",
      "    finished (0:00:00) --> added \n",
      "    'distances' and 'connectivities', weighted adjacency matrices (adata.obsp)\n"
     ]
    },
    {
     "name": "stderr",
     "output_type": "stream",
     "text": [
      "100%|███████████████████████████████████████████████████████████████████████████████████████████████████| 963/963 [00:57<00:00, 16.65it/s]\n"
     ]
    },
    {
     "name": "stdout",
     "output_type": "stream",
     "text": [
      "\n"
     ]
    },
    {
     "name": "stderr",
     "output_type": "stream",
     "text": [
      "100%|███████████████████████████████████████████████████████████████████████████████████████████████████| 963/963 [00:53<00:00, 17.93it/s]\n"
     ]
    },
    {
     "name": "stdout",
     "output_type": "stream",
     "text": [
      "\n",
      "computing neighbors\n",
      "    finished (0:00:00) --> added \n",
      "    'distances' and 'connectivities', weighted adjacency matrices (adata.obsp)\n"
     ]
    },
    {
     "name": "stderr",
     "output_type": "stream",
     "text": [
      "100%|█████████████████████████████████████████████████████████████████████████████████████████████████████| 62/62 [00:03<00:00, 15.78it/s]\n"
     ]
    },
    {
     "name": "stdout",
     "output_type": "stream",
     "text": [
      "\n"
     ]
    },
    {
     "name": "stderr",
     "output_type": "stream",
     "text": [
      "100%|█████████████████████████████████████████████████████████████████████████████████████████████████████| 62/62 [00:03<00:00, 20.61it/s]\n"
     ]
    },
    {
     "name": "stdout",
     "output_type": "stream",
     "text": [
      "\n",
      "computing neighbors\n",
      "    finished (0:00:00) --> added \n",
      "    'distances' and 'connectivities', weighted adjacency matrices (adata.obsp)\n"
     ]
    },
    {
     "name": "stderr",
     "output_type": "stream",
     "text": [
      "100%|███████████████████████████████████████████████████████████████████████████████████████████████████| 379/379 [00:22<00:00, 16.70it/s]\n"
     ]
    },
    {
     "name": "stdout",
     "output_type": "stream",
     "text": [
      "\n"
     ]
    },
    {
     "name": "stderr",
     "output_type": "stream",
     "text": [
      "100%|███████████████████████████████████████████████████████████████████████████████████████████████████| 379/379 [00:21<00:00, 17.26it/s]\n"
     ]
    },
    {
     "name": "stdout",
     "output_type": "stream",
     "text": [
      "\n",
      "computing neighbors\n",
      "    finished (0:00:00) --> added \n",
      "    'distances' and 'connectivities', weighted adjacency matrices (adata.obsp)\n"
     ]
    },
    {
     "name": "stderr",
     "output_type": "stream",
     "text": [
      "100%|███████████████████████████████████████████████████████████████████████████████████████████████████| 548/548 [00:33<00:00, 16.58it/s]\n"
     ]
    },
    {
     "name": "stdout",
     "output_type": "stream",
     "text": [
      "\n"
     ]
    },
    {
     "name": "stderr",
     "output_type": "stream",
     "text": [
      "100%|███████████████████████████████████████████████████████████████████████████████████████████████████| 548/548 [00:32<00:00, 16.89it/s]\n"
     ]
    },
    {
     "name": "stdout",
     "output_type": "stream",
     "text": [
      "\n",
      "computing neighbors\n",
      "    finished (0:00:00) --> added \n",
      "    'distances' and 'connectivities', weighted adjacency matrices (adata.obsp)\n"
     ]
    },
    {
     "name": "stderr",
     "output_type": "stream",
     "text": [
      "100%|███████████████████████████████████████████████████████████████████████████████████████████████████| 356/356 [00:21<00:00, 16.57it/s]\n"
     ]
    },
    {
     "name": "stdout",
     "output_type": "stream",
     "text": [
      "\n"
     ]
    },
    {
     "name": "stderr",
     "output_type": "stream",
     "text": [
      "100%|███████████████████████████████████████████████████████████████████████████████████████████████████| 356/356 [00:21<00:00, 16.74it/s]\n"
     ]
    },
    {
     "name": "stdout",
     "output_type": "stream",
     "text": [
      "\n",
      "computing neighbors\n",
      "    finished (0:00:00) --> added \n",
      "    'distances' and 'connectivities', weighted adjacency matrices (adata.obsp)\n"
     ]
    },
    {
     "name": "stderr",
     "output_type": "stream",
     "text": [
      "100%|███████████████████████████████████████████████████████████████████████████████████████████████████| 363/363 [00:21<00:00, 16.52it/s]\n"
     ]
    },
    {
     "name": "stdout",
     "output_type": "stream",
     "text": [
      "\n"
     ]
    },
    {
     "name": "stderr",
     "output_type": "stream",
     "text": [
      "100%|███████████████████████████████████████████████████████████████████████████████████████████████████| 363/363 [00:19<00:00, 18.45it/s]\n"
     ]
    },
    {
     "name": "stdout",
     "output_type": "stream",
     "text": [
      "\n",
      "computing neighbors\n",
      "    finished (0:00:00) --> added \n",
      "    'distances' and 'connectivities', weighted adjacency matrices (adata.obsp)\n"
     ]
    },
    {
     "name": "stderr",
     "output_type": "stream",
     "text": [
      "100%|███████████████████████████████████████████████████████████████████████████████████████████████████| 334/334 [00:20<00:00, 16.53it/s]\n"
     ]
    },
    {
     "name": "stdout",
     "output_type": "stream",
     "text": [
      "\n"
     ]
    },
    {
     "name": "stderr",
     "output_type": "stream",
     "text": [
      "100%|███████████████████████████████████████████████████████████████████████████████████████████████████| 334/334 [00:19<00:00, 17.20it/s]\n"
     ]
    },
    {
     "name": "stdout",
     "output_type": "stream",
     "text": [
      "\n",
      "computing neighbors\n",
      "    finished (0:00:00) --> added \n",
      "    'distances' and 'connectivities', weighted adjacency matrices (adata.obsp)\n"
     ]
    },
    {
     "name": "stderr",
     "output_type": "stream",
     "text": [
      "100%|███████████████████████████████████████████████████████████████████████████████████████████████████| 289/289 [00:17<00:00, 16.50it/s]\n"
     ]
    },
    {
     "name": "stdout",
     "output_type": "stream",
     "text": [
      "\n"
     ]
    },
    {
     "name": "stderr",
     "output_type": "stream",
     "text": [
      "100%|███████████████████████████████████████████████████████████████████████████████████████████████████| 289/289 [00:17<00:00, 16.29it/s]\n"
     ]
    },
    {
     "name": "stdout",
     "output_type": "stream",
     "text": [
      "\n",
      "computing neighbors\n",
      "    finished (0:00:00) --> added \n",
      "    'distances' and 'connectivities', weighted adjacency matrices (adata.obsp)\n"
     ]
    },
    {
     "name": "stderr",
     "output_type": "stream",
     "text": [
      "100%|███████████████████████████████████████████████████████████████████████████████████████████████████| 315/315 [00:18<00:00, 16.61it/s]\n"
     ]
    },
    {
     "name": "stdout",
     "output_type": "stream",
     "text": [
      "\n"
     ]
    },
    {
     "name": "stderr",
     "output_type": "stream",
     "text": [
      "100%|███████████████████████████████████████████████████████████████████████████████████████████████████| 315/315 [00:19<00:00, 16.39it/s]\n"
     ]
    },
    {
     "name": "stdout",
     "output_type": "stream",
     "text": [
      "\n",
      "computing neighbors\n",
      "    finished (0:00:00) --> added \n",
      "    'distances' and 'connectivities', weighted adjacency matrices (adata.obsp)\n"
     ]
    },
    {
     "name": "stderr",
     "output_type": "stream",
     "text": [
      "100%|█████████████████████████████████████████████████████████████████████████████████████████████████████| 46/46 [00:02<00:00, 16.60it/s]\n"
     ]
    },
    {
     "name": "stdout",
     "output_type": "stream",
     "text": [
      "\n"
     ]
    },
    {
     "name": "stderr",
     "output_type": "stream",
     "text": [
      "100%|█████████████████████████████████████████████████████████████████████████████████████████████████████| 46/46 [00:01<00:00, 35.09it/s]\n"
     ]
    },
    {
     "name": "stdout",
     "output_type": "stream",
     "text": [
      "\n",
      "computing neighbors\n",
      "    finished (0:00:00) --> added \n",
      "    'distances' and 'connectivities', weighted adjacency matrices (adata.obsp)\n"
     ]
    },
    {
     "name": "stderr",
     "output_type": "stream",
     "text": [
      "100%|███████████████████████████████████████████████████████████████████████████████████████████████████| 173/173 [00:10<00:00, 16.67it/s]\n"
     ]
    },
    {
     "name": "stdout",
     "output_type": "stream",
     "text": [
      "\n"
     ]
    },
    {
     "name": "stderr",
     "output_type": "stream",
     "text": [
      "100%|███████████████████████████████████████████████████████████████████████████████████████████████████| 173/173 [00:09<00:00, 17.46it/s]\n"
     ]
    },
    {
     "name": "stdout",
     "output_type": "stream",
     "text": [
      "\n",
      "computing neighbors\n",
      "    finished (0:00:00) --> added \n",
      "    'distances' and 'connectivities', weighted adjacency matrices (adata.obsp)\n"
     ]
    },
    {
     "name": "stderr",
     "output_type": "stream",
     "text": [
      "100%|█████████████████████████████████████████████████████████████████████████████████████████████████████| 16/16 [00:00<00:00, 16.84it/s]\n"
     ]
    },
    {
     "name": "stdout",
     "output_type": "stream",
     "text": [
      "\n"
     ]
    },
    {
     "name": "stderr",
     "output_type": "stream",
     "text": [
      "100%|█████████████████████████████████████████████████████████████████████████████████████████████████████| 16/16 [00:01<00:00,  8.81it/s]\n"
     ]
    },
    {
     "name": "stdout",
     "output_type": "stream",
     "text": [
      "\n",
      "computing neighbors\n",
      "    finished (0:00:00) --> added \n",
      "    'distances' and 'connectivities', weighted adjacency matrices (adata.obsp)\n"
     ]
    },
    {
     "name": "stderr",
     "output_type": "stream",
     "text": [
      "100%|███████████████████████████████████████████████████████████████████████████████████████████████████████| 2/2 [00:00<00:00, 17.70it/s]\n"
     ]
    },
    {
     "name": "stdout",
     "output_type": "stream",
     "text": [
      "\n"
     ]
    },
    {
     "name": "stderr",
     "output_type": "stream",
     "text": [
      "100%|██████████████████████████████████████████████████████████████████████████████████████████████████████| 2/2 [00:00<00:00, 399.80it/s]"
     ]
    },
    {
     "name": "stdout",
     "output_type": "stream",
     "text": [
      "\n"
     ]
    },
    {
     "name": "stderr",
     "output_type": "stream",
     "text": [
      "\n"
     ]
    }
   ],
   "source": [
    "#### ALL SAMPLES PER V GENE FAMILY WITH GERMLINE ######\n",
    "model_names = [\"ablang\",\"protbert\",\"sapiens\",\"ESM\"]\n",
    "data = pd.read_csv(os.path.join(\"..\",\"..\",\"..\",\"data\",dataset,\"vdj_evolike_combine.csv\"))\n",
    "\n",
    "data_folder_path = os.path.join(\"..\",\"..\",\"..\",\"data\",dataset,\"VDJ\")\n",
    "germlines_path = os.path.join(\"..\",\"..\",\"..\",\"data\",dataset,\"all_germline_embeddings\")\n",
    "\n",
    "IgG_subtypes = [\"IGHG1\",\"IGHG2B\",\"IGHG2C\",\"IGHG3\"]\n",
    "\n",
    "model_dict = {}\n",
    "\n",
    "for i, model in enumerate(model_names):\n",
    "\n",
    "    pooled_embeds = []\n",
    "    group_dict = {}\n",
    "    \n",
    "    for _,sample in (data[[\"original_sample_id\",\"sample_id\"]].drop_duplicates().iterrows()):\n",
    "        \n",
    "        cellranger_path = os.path.join(data_folder_path, sample[\"original_sample_id\"])   \n",
    "        embeddings_path = os.path.join(cellranger_path,\"embeddings\",mode,f\"embeddings_{model}.csv.gzip\")\n",
    "\n",
    "        embeddings_file = pd.read_csv(embeddings_path, compression=\"gzip\")\n",
    "        embeddings_file = embeddings_file.loc[embeddings_file[\"chain\"] == \"IGH\",:].reset_index(drop=True)\n",
    "        embeddings_file[\"c_gene\"] = embeddings_file[\"c_gene\"].replace(IgG_subtypes,\"IGHG\")\n",
    "        embeddings_file[\"v_gene_family\"] = embeddings_file[\"v_gene\"].apply(lambda x: x.split('-')[0])\n",
    "        embeddings_file[\"sample_id\"] = sample[\"sample_id\"]\n",
    "\n",
    "        embedding_cols = [col for col in list(embeddings_file.columns) if col.startswith(\"dim\")]\n",
    "        metadata_cols = list(set(embeddings_file.columns) - set(embedding_cols))\n",
    "\n",
    "        embeddings_file = embeddings_file.drop_duplicates(embedding_cols).reset_index(drop=True)\n",
    "        embeddings_file = embeddings_file.dropna(subset=embedding_cols)\n",
    "\n",
    "        pooled_embeds += embeddings_file.to_dict(orient=\"records\")\n",
    "\n",
    "    pooled_embeds = pd.DataFrame(pooled_embeds)\n",
    "    \n",
    "    pooled_embeds[\"barcode\"] = pooled_embeds[\"barcode\"].apply(lambda x: x.split(\"-\")[0])\n",
    "    pooled_embeds = pooled_embeds.merge(data, on=\"barcode\",suffixes=('', '_y'))\n",
    "    \n",
    "    if include_germline:\n",
    "        germline_embeddings = pd.read_csv(os.path.join(germlines_path,f\"all_germline_embeddings_{model}.csv.gzip\"), compression=\"gzip\")\n",
    "        germline_embeddings[\"full_VDJ_aa\"] = germline_embeddings[\"VDJ_ref.aa\"].apply(lambda x: x.replace(\"-\",\"\").replace(\"*\",\"\"))\n",
    "        # germline_embeddings[\"barcode\"] = germline_embeddings[\"barcode\"].apply(lambda x: x.split(\"_\")[1])\n",
    "        germline_embeddings = germline_embeddings.drop_duplicates(\"full_VDJ_aa\").reset_index(drop=True)\n",
    "        germline_embeddings = germline_embeddings.merge(data, on=\"barcode\",suffixes=('', '_y'))\n",
    "        germline_embeddings[\"barcode\"] = \"germline\"\n",
    "        germline_embeddings[\"c_gene\"] = germline_embeddings[\"c_gene\"].replace(IgG_subtypes,\"IGHG\")\n",
    "        germline_embeddings[\"v_gene_family\"] = germline_embeddings[\"v_gene\"].apply(lambda x: x.split('-')[0])\n",
    "        germline_embeddings = germline_embeddings.to_dict(orient=\"records\")\n",
    "     \n",
    "        pooled_embeds = pooled_embeds.to_dict(orient=\"records\")\n",
    "        pooled_embeds += germline_embeddings\n",
    "        pooled_embeds = pd.DataFrame(pooled_embeds)\n",
    "\n",
    "    embedding_cols = [col for col in list(pooled_embeds.columns) if col.startswith(\"dim\")]\n",
    "    metadata_cols = list(set(pooled_embeds.columns) - set(embedding_cols))\n",
    "    \n",
    "    only_embeddings = pooled_embeds[embedding_cols].copy()\n",
    "    metadata = pooled_embeds[metadata_cols].copy()\n",
    "    \n",
    "    for sub_group in pd.unique(pooled_embeds[group]):\n",
    "\n",
    "            try:\n",
    "                torch.cuda.empty_cache()\n",
    "                \n",
    "                only_embeddings_sub_group = only_embeddings.loc[metadata[group] == sub_group, :].reset_index(drop=True)\n",
    "                metadata_sub_group = metadata.loc[metadata[group] == sub_group, :].reset_index(drop=True)\n",
    "\n",
    "                adata = anndata.AnnData(only_embeddings_sub_group)\n",
    "                adata.obs[\"seq\"] = list(metadata_sub_group[\"full_VDJ_aa\"])\n",
    "                adata.obs[\"barcode\"] = list(metadata_sub_group[\"barcode\"])\n",
    "                \n",
    "                adata.obs[\"v_gene_family\"] = list(metadata_sub_group[\"v_gene_family\"])     \n",
    "                \n",
    "                \n",
    "                adata.obs[\"sample_id\"] = list(metadata_sub_group[\"sample_id\"]) \n",
    "                                   \n",
    "                adata.obs[\"sample_clonotype\"] = list(metadata_sub_group.apply(lambda x: x[\"sample_id\"] + \"_\" + x[\"raw_clonotype_id\"], axis = 1))\n",
    "                adata.obs[\"sample_clonotype_encoded\"] = pd.factorize(adata.obs[\"sample_clonotype\"])[0]\n",
    "\n",
    "                if include_germline:\n",
    "                    germline_indicator = list(metadata_sub_group[\"barcode\"] == \"germline\")\n",
    "                    adata.obs.loc[germline_indicator,\"v_gene_family\"] = \"germline\"\n",
    "                    adata.obs.loc[germline_indicator,\"sample_id\"] = \"germline\"\n",
    "\n",
    "                adata.obs[\"v_gene_family\"] = adata.obs[\"v_gene_family\"].astype(\"category\")\n",
    "            \n",
    "                evo.pp.neighbors(adata)\n",
    "\n",
    "                if model == \"ESM\":\n",
    "                    evo.tl.velocity_graph(adata)\n",
    "                else:\n",
    "                    evo.tl.velocity_graph(adata, model_name=model)\n",
    "    \n",
    "                del adata.uns['model']\n",
    "                \n",
    "                group_dict[sub_group] = adata \n",
    "                del(adata, only_embeddings_sub_group, metadata_sub_group)\n",
    "                \n",
    "            except:\n",
    "                continue\n",
    "\n",
    "    model_dict[model] = group_dict"
   ]
  },
  {
   "cell_type": "markdown",
   "id": "784768ff-318b-4a8e-a5af-7d3e46ee0daf",
   "metadata": {},
   "source": [
    "### LOAD EVO_VELO DICTIONARY"
   ]
  },
  {
   "cell_type": "code",
   "execution_count": 40,
   "id": "d52d9e87-8cdb-48d7-9427-2373614a6fe7",
   "metadata": {},
   "outputs": [],
   "source": [
    "import pickle as pkl\n",
    "\n",
    "if include_germline:\n",
    "    file_path = f\"../../../data/{dataset}/evo_velo_{group}_germline.pkl\"\n",
    "else:\n",
    "    file_path = f\"../../../data/{dataset}/evo_velo_{group}.pkl\"\n",
    "\n",
    "with open(file_path,\"rb\") as file:\n",
    "    model_dict = pkl.load(file)"
   ]
  },
  {
   "cell_type": "code",
   "execution_count": 54,
   "id": "554c1fed-63b7-45dc-83fa-d80ec45a085a",
   "metadata": {},
   "outputs": [
    {
     "data": {
      "text/plain": [
       "{'ablang': {'IGHV1': AnnData object with n_obs × n_vars = 3547 × 768\n",
       "      obs: 'seq', 'barcode', 'v_gene_family', 'sample_id', 'sample_clonotype', 'sample_clonotype_encoded', 'velocity_self_transition'\n",
       "      uns: 'neighbors', 'velocity_graph', 'velocity_graph_neg'\n",
       "      layers: 'velocity'\n",
       "      obsp: 'distances', 'connectivities',\n",
       "  'IGHV5': AnnData object with n_obs × n_vars = 839 × 768\n",
       "      obs: 'seq', 'barcode', 'v_gene_family', 'sample_id', 'sample_clonotype', 'sample_clonotype_encoded', 'velocity_self_transition'\n",
       "      uns: 'neighbors', 'velocity_graph', 'velocity_graph_neg'\n",
       "      layers: 'velocity'\n",
       "      obsp: 'distances', 'connectivities',\n",
       "  'IGHV2': AnnData object with n_obs × n_vars = 964 × 768\n",
       "      obs: 'seq', 'barcode', 'v_gene_family', 'sample_id', 'sample_clonotype', 'sample_clonotype_encoded', 'velocity_self_transition'\n",
       "      uns: 'neighbors', 'velocity_graph', 'velocity_graph_neg'\n",
       "      layers: 'velocity'\n",
       "      obsp: 'distances', 'connectivities',\n",
       "  'IGHV11': AnnData object with n_obs × n_vars = 65 × 768\n",
       "      obs: 'seq', 'barcode', 'v_gene_family', 'sample_id', 'sample_clonotype', 'sample_clonotype_encoded', 'velocity_self_transition'\n",
       "      uns: 'neighbors', 'velocity_graph', 'velocity_graph_neg'\n",
       "      layers: 'velocity'\n",
       "      obsp: 'distances', 'connectivities',\n",
       "  'IGHV3': AnnData object with n_obs × n_vars = 381 × 768\n",
       "      obs: 'seq', 'barcode', 'v_gene_family', 'sample_id', 'sample_clonotype', 'sample_clonotype_encoded', 'velocity_self_transition'\n",
       "      uns: 'neighbors', 'velocity_graph', 'velocity_graph_neg'\n",
       "      layers: 'velocity'\n",
       "      obsp: 'distances', 'connectivities',\n",
       "  'IGHV9': AnnData object with n_obs × n_vars = 549 × 768\n",
       "      obs: 'seq', 'barcode', 'v_gene_family', 'sample_id', 'sample_clonotype', 'sample_clonotype_encoded', 'velocity_self_transition'\n",
       "      uns: 'neighbors', 'velocity_graph', 'velocity_graph_neg'\n",
       "      layers: 'velocity'\n",
       "      obsp: 'distances', 'connectivities',\n",
       "  'IGHV6': AnnData object with n_obs × n_vars = 356 × 768\n",
       "      obs: 'seq', 'barcode', 'v_gene_family', 'sample_id', 'sample_clonotype', 'sample_clonotype_encoded', 'velocity_self_transition'\n",
       "      uns: 'neighbors', 'velocity_graph', 'velocity_graph_neg'\n",
       "      layers: 'velocity'\n",
       "      obsp: 'distances', 'connectivities',\n",
       "  'IGHV7': AnnData object with n_obs × n_vars = 365 × 768\n",
       "      obs: 'seq', 'barcode', 'v_gene_family', 'sample_id', 'sample_clonotype', 'sample_clonotype_encoded', 'velocity_self_transition'\n",
       "      uns: 'neighbors', 'velocity_graph', 'velocity_graph_neg'\n",
       "      layers: 'velocity'\n",
       "      obsp: 'distances', 'connectivities',\n",
       "  'IGHV4': AnnData object with n_obs × n_vars = 336 × 768\n",
       "      obs: 'seq', 'barcode', 'v_gene_family', 'sample_id', 'sample_clonotype', 'sample_clonotype_encoded', 'velocity_self_transition'\n",
       "      uns: 'neighbors', 'velocity_graph', 'velocity_graph_neg'\n",
       "      layers: 'velocity'\n",
       "      obsp: 'distances', 'connectivities',\n",
       "  'IGHV14': AnnData object with n_obs × n_vars = 290 × 768\n",
       "      obs: 'seq', 'barcode', 'v_gene_family', 'sample_id', 'sample_clonotype', 'sample_clonotype_encoded', 'velocity_self_transition'\n",
       "      uns: 'neighbors', 'velocity_graph', 'velocity_graph_neg'\n",
       "      layers: 'velocity'\n",
       "      obsp: 'distances', 'connectivities',\n",
       "  'IGHV8': AnnData object with n_obs × n_vars = 315 × 768\n",
       "      obs: 'seq', 'barcode', 'v_gene_family', 'sample_id', 'sample_clonotype', 'sample_clonotype_encoded', 'velocity_self_transition'\n",
       "      uns: 'neighbors', 'velocity_graph', 'velocity_graph_neg'\n",
       "      layers: 'velocity'\n",
       "      obsp: 'distances', 'connectivities',\n",
       "  'IGHV13': AnnData object with n_obs × n_vars = 46 × 768\n",
       "      obs: 'seq', 'barcode', 'v_gene_family', 'sample_id', 'sample_clonotype', 'sample_clonotype_encoded', 'velocity_self_transition'\n",
       "      uns: 'neighbors', 'velocity_graph', 'velocity_graph_neg'\n",
       "      layers: 'velocity'\n",
       "      obsp: 'distances', 'connectivities',\n",
       "  'IGHV10': AnnData object with n_obs × n_vars = 173 × 768\n",
       "      obs: 'seq', 'barcode', 'v_gene_family', 'sample_id', 'sample_clonotype', 'sample_clonotype_encoded', 'velocity_self_transition'\n",
       "      uns: 'neighbors', 'velocity_graph', 'velocity_graph_neg'\n",
       "      layers: 'velocity'\n",
       "      obsp: 'distances', 'connectivities',\n",
       "  'IGHV12': AnnData object with n_obs × n_vars = 16 × 768\n",
       "      obs: 'seq', 'barcode', 'v_gene_family', 'sample_id', 'sample_clonotype', 'sample_clonotype_encoded', 'velocity_self_transition'\n",
       "      uns: 'neighbors', 'velocity_graph', 'velocity_graph_neg'\n",
       "      layers: 'velocity'\n",
       "      obsp: 'distances', 'connectivities',\n",
       "  'IGHV15': AnnData object with n_obs × n_vars = 2 × 768\n",
       "      obs: 'seq', 'barcode', 'v_gene_family', 'sample_id', 'sample_clonotype', 'sample_clonotype_encoded', 'velocity_self_transition'\n",
       "      uns: 'neighbors', 'velocity_graph', 'velocity_graph_neg'\n",
       "      layers: 'velocity'\n",
       "      obsp: 'distances', 'connectivities'},\n",
       " 'protbert': {'IGHV1': AnnData object with n_obs × n_vars = 3537 × 1024\n",
       "      obs: 'seq', 'barcode', 'v_gene_family', 'sample_id', 'sample_clonotype', 'sample_clonotype_encoded', 'velocity_self_transition'\n",
       "      uns: 'neighbors', 'velocity_graph', 'velocity_graph_neg'\n",
       "      layers: 'velocity'\n",
       "      obsp: 'distances', 'connectivities',\n",
       "  'IGHV5': AnnData object with n_obs × n_vars = 833 × 1024\n",
       "      obs: 'seq', 'barcode', 'v_gene_family', 'sample_id', 'sample_clonotype', 'sample_clonotype_encoded', 'velocity_self_transition'\n",
       "      uns: 'neighbors', 'velocity_graph', 'velocity_graph_neg'\n",
       "      layers: 'velocity'\n",
       "      obsp: 'distances', 'connectivities',\n",
       "  'IGHV2': AnnData object with n_obs × n_vars = 963 × 1024\n",
       "      obs: 'seq', 'barcode', 'v_gene_family', 'sample_id', 'sample_clonotype', 'sample_clonotype_encoded', 'velocity_self_transition'\n",
       "      uns: 'neighbors', 'velocity_graph', 'velocity_graph_neg'\n",
       "      layers: 'velocity'\n",
       "      obsp: 'distances', 'connectivities',\n",
       "  'IGHV11': AnnData object with n_obs × n_vars = 62 × 1024\n",
       "      obs: 'seq', 'barcode', 'v_gene_family', 'sample_id', 'sample_clonotype', 'sample_clonotype_encoded', 'velocity_self_transition'\n",
       "      uns: 'neighbors', 'velocity_graph', 'velocity_graph_neg'\n",
       "      layers: 'velocity'\n",
       "      obsp: 'distances', 'connectivities',\n",
       "  'IGHV3': AnnData object with n_obs × n_vars = 379 × 1024\n",
       "      obs: 'seq', 'barcode', 'v_gene_family', 'sample_id', 'sample_clonotype', 'sample_clonotype_encoded', 'velocity_self_transition'\n",
       "      uns: 'neighbors', 'velocity_graph', 'velocity_graph_neg'\n",
       "      layers: 'velocity'\n",
       "      obsp: 'distances', 'connectivities',\n",
       "  'IGHV9': AnnData object with n_obs × n_vars = 548 × 1024\n",
       "      obs: 'seq', 'barcode', 'v_gene_family', 'sample_id', 'sample_clonotype', 'sample_clonotype_encoded', 'velocity_self_transition'\n",
       "      uns: 'neighbors', 'velocity_graph', 'velocity_graph_neg'\n",
       "      layers: 'velocity'\n",
       "      obsp: 'distances', 'connectivities',\n",
       "  'IGHV6': AnnData object with n_obs × n_vars = 356 × 1024\n",
       "      obs: 'seq', 'barcode', 'v_gene_family', 'sample_id', 'sample_clonotype', 'sample_clonotype_encoded', 'velocity_self_transition'\n",
       "      uns: 'neighbors', 'velocity_graph', 'velocity_graph_neg'\n",
       "      layers: 'velocity'\n",
       "      obsp: 'distances', 'connectivities',\n",
       "  'IGHV7': AnnData object with n_obs × n_vars = 363 × 1024\n",
       "      obs: 'seq', 'barcode', 'v_gene_family', 'sample_id', 'sample_clonotype', 'sample_clonotype_encoded', 'velocity_self_transition'\n",
       "      uns: 'neighbors', 'velocity_graph', 'velocity_graph_neg'\n",
       "      layers: 'velocity'\n",
       "      obsp: 'distances', 'connectivities',\n",
       "  'IGHV4': AnnData object with n_obs × n_vars = 334 × 1024\n",
       "      obs: 'seq', 'barcode', 'v_gene_family', 'sample_id', 'sample_clonotype', 'sample_clonotype_encoded', 'velocity_self_transition'\n",
       "      uns: 'neighbors', 'velocity_graph', 'velocity_graph_neg'\n",
       "      layers: 'velocity'\n",
       "      obsp: 'distances', 'connectivities',\n",
       "  'IGHV14': AnnData object with n_obs × n_vars = 289 × 1024\n",
       "      obs: 'seq', 'barcode', 'v_gene_family', 'sample_id', 'sample_clonotype', 'sample_clonotype_encoded', 'velocity_self_transition'\n",
       "      uns: 'neighbors', 'velocity_graph', 'velocity_graph_neg'\n",
       "      layers: 'velocity'\n",
       "      obsp: 'distances', 'connectivities',\n",
       "  'IGHV8': AnnData object with n_obs × n_vars = 315 × 1024\n",
       "      obs: 'seq', 'barcode', 'v_gene_family', 'sample_id', 'sample_clonotype', 'sample_clonotype_encoded', 'velocity_self_transition'\n",
       "      uns: 'neighbors', 'velocity_graph', 'velocity_graph_neg'\n",
       "      layers: 'velocity'\n",
       "      obsp: 'distances', 'connectivities',\n",
       "  'IGHV13': AnnData object with n_obs × n_vars = 46 × 1024\n",
       "      obs: 'seq', 'barcode', 'v_gene_family', 'sample_id', 'sample_clonotype', 'sample_clonotype_encoded', 'velocity_self_transition'\n",
       "      uns: 'neighbors', 'velocity_graph', 'velocity_graph_neg'\n",
       "      layers: 'velocity'\n",
       "      obsp: 'distances', 'connectivities',\n",
       "  'IGHV10': AnnData object with n_obs × n_vars = 173 × 1024\n",
       "      obs: 'seq', 'barcode', 'v_gene_family', 'sample_id', 'sample_clonotype', 'sample_clonotype_encoded', 'velocity_self_transition'\n",
       "      uns: 'neighbors', 'velocity_graph', 'velocity_graph_neg'\n",
       "      layers: 'velocity'\n",
       "      obsp: 'distances', 'connectivities',\n",
       "  'IGHV12': AnnData object with n_obs × n_vars = 16 × 1024\n",
       "      obs: 'seq', 'barcode', 'v_gene_family', 'sample_id', 'sample_clonotype', 'sample_clonotype_encoded', 'velocity_self_transition'\n",
       "      uns: 'neighbors', 'velocity_graph', 'velocity_graph_neg'\n",
       "      layers: 'velocity'\n",
       "      obsp: 'distances', 'connectivities',\n",
       "  'IGHV15': AnnData object with n_obs × n_vars = 2 × 1024\n",
       "      obs: 'seq', 'barcode', 'v_gene_family', 'sample_id', 'sample_clonotype', 'sample_clonotype_encoded', 'velocity_self_transition'\n",
       "      uns: 'neighbors', 'velocity_graph', 'velocity_graph_neg'\n",
       "      layers: 'velocity'\n",
       "      obsp: 'distances', 'connectivities'},\n",
       " 'sapiens': {'IGHV1': AnnData object with n_obs × n_vars = 3537 × 128\n",
       "      obs: 'seq', 'barcode', 'v_gene_family', 'sample_id', 'sample_clonotype', 'sample_clonotype_encoded', 'velocity_self_transition'\n",
       "      uns: 'neighbors', 'velocity_graph', 'velocity_graph_neg'\n",
       "      layers: 'velocity'\n",
       "      obsp: 'distances', 'connectivities',\n",
       "  'IGHV5': AnnData object with n_obs × n_vars = 833 × 128\n",
       "      obs: 'seq', 'barcode', 'v_gene_family', 'sample_id', 'sample_clonotype', 'sample_clonotype_encoded', 'velocity_self_transition'\n",
       "      uns: 'neighbors', 'velocity_graph', 'velocity_graph_neg'\n",
       "      layers: 'velocity'\n",
       "      obsp: 'distances', 'connectivities',\n",
       "  'IGHV2': AnnData object with n_obs × n_vars = 963 × 128\n",
       "      obs: 'seq', 'barcode', 'v_gene_family', 'sample_id', 'sample_clonotype', 'sample_clonotype_encoded', 'velocity_self_transition'\n",
       "      uns: 'neighbors', 'velocity_graph', 'velocity_graph_neg'\n",
       "      layers: 'velocity'\n",
       "      obsp: 'distances', 'connectivities',\n",
       "  'IGHV11': AnnData object with n_obs × n_vars = 62 × 128\n",
       "      obs: 'seq', 'barcode', 'v_gene_family', 'sample_id', 'sample_clonotype', 'sample_clonotype_encoded', 'velocity_self_transition'\n",
       "      uns: 'neighbors', 'velocity_graph', 'velocity_graph_neg'\n",
       "      layers: 'velocity'\n",
       "      obsp: 'distances', 'connectivities',\n",
       "  'IGHV3': AnnData object with n_obs × n_vars = 379 × 128\n",
       "      obs: 'seq', 'barcode', 'v_gene_family', 'sample_id', 'sample_clonotype', 'sample_clonotype_encoded', 'velocity_self_transition'\n",
       "      uns: 'neighbors', 'velocity_graph', 'velocity_graph_neg'\n",
       "      layers: 'velocity'\n",
       "      obsp: 'distances', 'connectivities',\n",
       "  'IGHV9': AnnData object with n_obs × n_vars = 548 × 128\n",
       "      obs: 'seq', 'barcode', 'v_gene_family', 'sample_id', 'sample_clonotype', 'sample_clonotype_encoded', 'velocity_self_transition'\n",
       "      uns: 'neighbors', 'velocity_graph', 'velocity_graph_neg'\n",
       "      layers: 'velocity'\n",
       "      obsp: 'distances', 'connectivities',\n",
       "  'IGHV6': AnnData object with n_obs × n_vars = 356 × 128\n",
       "      obs: 'seq', 'barcode', 'v_gene_family', 'sample_id', 'sample_clonotype', 'sample_clonotype_encoded', 'velocity_self_transition'\n",
       "      uns: 'neighbors', 'velocity_graph', 'velocity_graph_neg'\n",
       "      layers: 'velocity'\n",
       "      obsp: 'distances', 'connectivities',\n",
       "  'IGHV7': AnnData object with n_obs × n_vars = 363 × 128\n",
       "      obs: 'seq', 'barcode', 'v_gene_family', 'sample_id', 'sample_clonotype', 'sample_clonotype_encoded', 'velocity_self_transition'\n",
       "      uns: 'neighbors', 'velocity_graph', 'velocity_graph_neg'\n",
       "      layers: 'velocity'\n",
       "      obsp: 'distances', 'connectivities',\n",
       "  'IGHV4': AnnData object with n_obs × n_vars = 334 × 128\n",
       "      obs: 'seq', 'barcode', 'v_gene_family', 'sample_id', 'sample_clonotype', 'sample_clonotype_encoded', 'velocity_self_transition'\n",
       "      uns: 'neighbors', 'velocity_graph', 'velocity_graph_neg'\n",
       "      layers: 'velocity'\n",
       "      obsp: 'distances', 'connectivities',\n",
       "  'IGHV14': AnnData object with n_obs × n_vars = 289 × 128\n",
       "      obs: 'seq', 'barcode', 'v_gene_family', 'sample_id', 'sample_clonotype', 'sample_clonotype_encoded', 'velocity_self_transition'\n",
       "      uns: 'neighbors', 'velocity_graph', 'velocity_graph_neg'\n",
       "      layers: 'velocity'\n",
       "      obsp: 'distances', 'connectivities',\n",
       "  'IGHV8': AnnData object with n_obs × n_vars = 315 × 128\n",
       "      obs: 'seq', 'barcode', 'v_gene_family', 'sample_id', 'sample_clonotype', 'sample_clonotype_encoded', 'velocity_self_transition'\n",
       "      uns: 'neighbors', 'velocity_graph', 'velocity_graph_neg'\n",
       "      layers: 'velocity'\n",
       "      obsp: 'distances', 'connectivities',\n",
       "  'IGHV13': AnnData object with n_obs × n_vars = 46 × 128\n",
       "      obs: 'seq', 'barcode', 'v_gene_family', 'sample_id', 'sample_clonotype', 'sample_clonotype_encoded', 'velocity_self_transition'\n",
       "      uns: 'neighbors', 'velocity_graph', 'velocity_graph_neg'\n",
       "      layers: 'velocity'\n",
       "      obsp: 'distances', 'connectivities',\n",
       "  'IGHV10': AnnData object with n_obs × n_vars = 173 × 128\n",
       "      obs: 'seq', 'barcode', 'v_gene_family', 'sample_id', 'sample_clonotype', 'sample_clonotype_encoded', 'velocity_self_transition'\n",
       "      uns: 'neighbors', 'velocity_graph', 'velocity_graph_neg'\n",
       "      layers: 'velocity'\n",
       "      obsp: 'distances', 'connectivities',\n",
       "  'IGHV12': AnnData object with n_obs × n_vars = 16 × 128\n",
       "      obs: 'seq', 'barcode', 'v_gene_family', 'sample_id', 'sample_clonotype', 'sample_clonotype_encoded', 'velocity_self_transition'\n",
       "      uns: 'neighbors', 'velocity_graph', 'velocity_graph_neg'\n",
       "      layers: 'velocity'\n",
       "      obsp: 'distances', 'connectivities',\n",
       "  'IGHV15': AnnData object with n_obs × n_vars = 2 × 128\n",
       "      obs: 'seq', 'barcode', 'v_gene_family', 'sample_id', 'sample_clonotype', 'sample_clonotype_encoded', 'velocity_self_transition'\n",
       "      uns: 'neighbors', 'velocity_graph', 'velocity_graph_neg'\n",
       "      layers: 'velocity'\n",
       "      obsp: 'distances', 'connectivities'},\n",
       " 'ESM': {'IGHV1': AnnData object with n_obs × n_vars = 3537 × 1280\n",
       "      obs: 'seq', 'barcode', 'v_gene_family', 'sample_id', 'sample_clonotype', 'sample_clonotype_encoded', 'velocity_self_transition'\n",
       "      uns: 'neighbors', 'velocity_graph', 'velocity_graph_neg'\n",
       "      layers: 'velocity'\n",
       "      obsp: 'distances', 'connectivities',\n",
       "  'IGHV5': AnnData object with n_obs × n_vars = 833 × 1280\n",
       "      obs: 'seq', 'barcode', 'v_gene_family', 'sample_id', 'sample_clonotype', 'sample_clonotype_encoded', 'velocity_self_transition'\n",
       "      uns: 'neighbors', 'velocity_graph', 'velocity_graph_neg'\n",
       "      layers: 'velocity'\n",
       "      obsp: 'distances', 'connectivities',\n",
       "  'IGHV2': AnnData object with n_obs × n_vars = 963 × 1280\n",
       "      obs: 'seq', 'barcode', 'v_gene_family', 'sample_id', 'sample_clonotype', 'sample_clonotype_encoded', 'velocity_self_transition'\n",
       "      uns: 'neighbors', 'velocity_graph', 'velocity_graph_neg'\n",
       "      layers: 'velocity'\n",
       "      obsp: 'distances', 'connectivities',\n",
       "  'IGHV11': AnnData object with n_obs × n_vars = 62 × 1280\n",
       "      obs: 'seq', 'barcode', 'v_gene_family', 'sample_id', 'sample_clonotype', 'sample_clonotype_encoded', 'velocity_self_transition'\n",
       "      uns: 'neighbors', 'velocity_graph', 'velocity_graph_neg'\n",
       "      layers: 'velocity'\n",
       "      obsp: 'distances', 'connectivities',\n",
       "  'IGHV3': AnnData object with n_obs × n_vars = 379 × 1280\n",
       "      obs: 'seq', 'barcode', 'v_gene_family', 'sample_id', 'sample_clonotype', 'sample_clonotype_encoded', 'velocity_self_transition'\n",
       "      uns: 'neighbors', 'velocity_graph', 'velocity_graph_neg'\n",
       "      layers: 'velocity'\n",
       "      obsp: 'distances', 'connectivities',\n",
       "  'IGHV9': AnnData object with n_obs × n_vars = 548 × 1280\n",
       "      obs: 'seq', 'barcode', 'v_gene_family', 'sample_id', 'sample_clonotype', 'sample_clonotype_encoded', 'velocity_self_transition'\n",
       "      uns: 'neighbors', 'velocity_graph', 'velocity_graph_neg'\n",
       "      layers: 'velocity'\n",
       "      obsp: 'distances', 'connectivities',\n",
       "  'IGHV6': AnnData object with n_obs × n_vars = 356 × 1280\n",
       "      obs: 'seq', 'barcode', 'v_gene_family', 'sample_id', 'sample_clonotype', 'sample_clonotype_encoded', 'velocity_self_transition'\n",
       "      uns: 'neighbors', 'velocity_graph', 'velocity_graph_neg'\n",
       "      layers: 'velocity'\n",
       "      obsp: 'distances', 'connectivities',\n",
       "  'IGHV7': AnnData object with n_obs × n_vars = 363 × 1280\n",
       "      obs: 'seq', 'barcode', 'v_gene_family', 'sample_id', 'sample_clonotype', 'sample_clonotype_encoded', 'velocity_self_transition'\n",
       "      uns: 'neighbors', 'velocity_graph', 'velocity_graph_neg'\n",
       "      layers: 'velocity'\n",
       "      obsp: 'distances', 'connectivities',\n",
       "  'IGHV4': AnnData object with n_obs × n_vars = 334 × 1280\n",
       "      obs: 'seq', 'barcode', 'v_gene_family', 'sample_id', 'sample_clonotype', 'sample_clonotype_encoded', 'velocity_self_transition'\n",
       "      uns: 'neighbors', 'velocity_graph', 'velocity_graph_neg'\n",
       "      layers: 'velocity'\n",
       "      obsp: 'distances', 'connectivities',\n",
       "  'IGHV14': AnnData object with n_obs × n_vars = 289 × 1280\n",
       "      obs: 'seq', 'barcode', 'v_gene_family', 'sample_id', 'sample_clonotype', 'sample_clonotype_encoded', 'velocity_self_transition'\n",
       "      uns: 'neighbors', 'velocity_graph', 'velocity_graph_neg'\n",
       "      layers: 'velocity'\n",
       "      obsp: 'distances', 'connectivities',\n",
       "  'IGHV8': AnnData object with n_obs × n_vars = 315 × 1280\n",
       "      obs: 'seq', 'barcode', 'v_gene_family', 'sample_id', 'sample_clonotype', 'sample_clonotype_encoded', 'velocity_self_transition'\n",
       "      uns: 'neighbors', 'velocity_graph', 'velocity_graph_neg'\n",
       "      layers: 'velocity'\n",
       "      obsp: 'distances', 'connectivities',\n",
       "  'IGHV13': AnnData object with n_obs × n_vars = 46 × 1280\n",
       "      obs: 'seq', 'barcode', 'v_gene_family', 'sample_id', 'sample_clonotype', 'sample_clonotype_encoded', 'velocity_self_transition'\n",
       "      uns: 'neighbors', 'velocity_graph', 'velocity_graph_neg'\n",
       "      layers: 'velocity'\n",
       "      obsp: 'distances', 'connectivities',\n",
       "  'IGHV10': AnnData object with n_obs × n_vars = 173 × 1280\n",
       "      obs: 'seq', 'barcode', 'v_gene_family', 'sample_id', 'sample_clonotype', 'sample_clonotype_encoded', 'velocity_self_transition'\n",
       "      uns: 'neighbors', 'velocity_graph', 'velocity_graph_neg'\n",
       "      layers: 'velocity'\n",
       "      obsp: 'distances', 'connectivities',\n",
       "  'IGHV12': AnnData object with n_obs × n_vars = 16 × 1280\n",
       "      obs: 'seq', 'barcode', 'v_gene_family', 'sample_id', 'sample_clonotype', 'sample_clonotype_encoded', 'velocity_self_transition'\n",
       "      uns: 'neighbors', 'velocity_graph', 'velocity_graph_neg'\n",
       "      layers: 'velocity'\n",
       "      obsp: 'distances', 'connectivities',\n",
       "  'IGHV15': AnnData object with n_obs × n_vars = 2 × 1280\n",
       "      obs: 'seq', 'barcode', 'v_gene_family', 'sample_id', 'sample_clonotype', 'sample_clonotype_encoded', 'velocity_self_transition'\n",
       "      uns: 'neighbors', 'velocity_graph', 'velocity_graph_neg'\n",
       "      layers: 'velocity'\n",
       "      obsp: 'distances', 'connectivities'}}"
      ]
     },
     "execution_count": 54,
     "metadata": {},
     "output_type": "execute_result"
    }
   ],
   "source": [
    "model_dict"
   ]
  },
  {
   "cell_type": "markdown",
   "id": "520b802d-1002-4116-baef-757986e82682",
   "metadata": {},
   "source": [
    "### ADD ADDITIONAL METADATA"
   ]
  },
  {
   "cell_type": "code",
   "execution_count": 55,
   "id": "a0f2d386-197e-45ac-aab0-535ba84971ae",
   "metadata": {
    "scrolled": true
   },
   "outputs": [],
   "source": [
    "def seq_counter(seq, df):\n",
    "    return (df[\"full_VDJ_aa\"].values == seq).sum()\n",
    "\n",
    "model_names = [\"ablang\",\"sapiens\",\"protbert\",\"ESM\"]\n",
    "data = pd.read_csv(os.path.join(\"..\",\"..\",\"..\",\"data\",dataset,\"vdj_evolike_combine.csv\"))\n",
    "data[\"sample_clonotype\"] = list(data.apply(lambda x: x[\"sample_id\"] + \"_\" + x[\"raw_clonotype_id\"], axis = 1))\n",
    "\n",
    "data[\"seq_frequency\"] = data[\"full_VDJ_aa\"].apply(lambda x: seq_counter(x, data))\n",
    "unduplicated_data = data.drop_duplicates([\"full_VDJ_aa\",\"sample_clonotype\"]).reset_index(drop=True)\n",
    "clonal_value_counts = unduplicated_data[\"sample_clonotype\"].value_counts()\n",
    "\n",
    "data[\"unique_clonal_seqs\"] = list(data.apply(lambda x: clonal_value_counts[x[\"sample_clonotype\"]], axis=1))\n",
    "\n",
    "data_folder_path = os.path.join(\"..\",\"..\",\"..\",\"data\",dataset,\"VDJ\")\n",
    "germlines_path = os.path.join(\"..\",\"..\",\"..\",\"data\",dataset,\"all_germline_embeddings\")\n",
    "\n",
    "IgG_subtypes = [\"IGHG1\",\"IGHG2B\",\"IGHG2C\",\"IGHG3\",\"IGHG2\",\"IGHG4\"]\n",
    "IgA_subtypes = [\"IGHA1\",\"IGHA2\"]\n",
    "\n",
    "for i, model in enumerate(model_names):\n",
    "\n",
    "    pooled_embeds = []\n",
    "    group_dict = {}\n",
    "    \n",
    "    for _,sample in (data[[\"original_sample_id\",\"sample_id\"]].drop_duplicates().iterrows()):\n",
    "        \n",
    "        cellranger_path = os.path.join(data_folder_path, sample[\"original_sample_id\"])   \n",
    "        embeddings_path = os.path.join(cellranger_path,\"embeddings\",mode,f\"embeddings_{model}.csv.gzip\")\n",
    "\n",
    "        embeddings_file = pd.read_csv(embeddings_path, compression=\"gzip\")\n",
    "        embeddings_file = embeddings_file.loc[embeddings_file[\"chain\"] == \"IGH\",:].reset_index(drop=True)\n",
    "        embeddings_file[\"c_gene\"] = embeddings_file[\"c_gene\"].replace(IgG_subtypes,\"IGHG\").replace(IgA_subtypes,\"IGHA\")\n",
    "        embeddings_file[\"v_gene_family\"] = embeddings_file[\"v_gene\"].apply(lambda x: x.split('-')[0])\n",
    "        embeddings_file[\"sample_id\"] = sample[\"sample_id\"]\n",
    "\n",
    "        embedding_cols = [col for col in list(embeddings_file.columns) if col.startswith(\"dim\")]\n",
    "        metadata_cols = list(set(embeddings_file.columns) - set(embedding_cols))\n",
    "\n",
    "        embeddings_file = embeddings_file.drop_duplicates(embedding_cols).reset_index(drop=True)\n",
    "        embeddings_file = embeddings_file.dropna(subset=embedding_cols)\n",
    "\n",
    "        pooled_embeds += embeddings_file.to_dict(orient=\"records\")\n",
    "\n",
    "    pooled_embeds = pd.DataFrame(pooled_embeds)\n",
    "    \n",
    "    pooled_embeds[\"barcode\"] = pooled_embeds[\"barcode\"].apply(lambda x: x.split(\"-\")[0])\n",
    "    pooled_embeds = pooled_embeds.merge(data, on=\"barcode\",suffixes=('', '_y'))\n",
    "    \n",
    "    if include_germline:\n",
    "        germline_embeddings = pd.read_csv(os.path.join(germlines_path,f\"all_germline_embeddings_{model}.csv.gzip\"), compression=\"gzip\")\n",
    "        germline_embeddings[\"full_VDJ_aa\"] = germline_embeddings[\"VDJ_ref.aa\"].apply(lambda x: x.replace(\"-\",\"\").replace(\"*\",\"\"))\n",
    "        # germline_embeddings[\"barcode\"] = germline_embeddings[\"barcode\"].apply(lambda x: x.split(\"_\")[1])\n",
    "        germline_embeddings = germline_embeddings.merge(data, on=\"barcode\",suffixes=('', '_y'))\n",
    "        \n",
    "        germline_embeddings[\"barcode\"] = \"germline\"\n",
    "        germline_embeddings[\"c_gene\"] = germline_embeddings[\"c_gene\"].replace(IgG_subtypes,\"IGHG\")\n",
    "        germline_embeddings[\"v_gene_family\"] = germline_embeddings[\"v_gene\"].apply(lambda x: x.split('-')[0])\n",
    "\n",
    "        germline_embeddings[\"c_gene\"] = \"germline\"\n",
    "        germline_embeddings[\"clonal_exp\"] = -10.0\n",
    "        germline_embeddings[\"seq_frequency\"] = -10.0\n",
    "        germline_embeddings[\"unique_clonal_seqs\"] = -10.0\n",
    "        germline_embeddings[\"SHM_count\"] = -10.0\n",
    "\n",
    "        germline_embeddings = germline_embeddings.to_dict(orient=\"records\")\n",
    "     \n",
    "        pooled_embeds = pooled_embeds.to_dict(orient=\"records\")\n",
    "        pooled_embeds += germline_embeddings\n",
    "        pooled_embeds = pd.DataFrame(pooled_embeds)\n",
    "\n",
    "    embedding_cols = [col for col in list(pooled_embeds.columns) if col.startswith(\"dim\")]\n",
    "    metadata_cols = list(set(pooled_embeds.columns) - set(embedding_cols))\n",
    "    \n",
    "    only_embeddings = pooled_embeds[embedding_cols].copy()\n",
    "    metadata = pooled_embeds[metadata_cols].copy()\n",
    "    \n",
    "    for sub_group in pd.unique(pooled_embeds[group]):\n",
    "\n",
    "        if sub_group in list(model_dict[model].keys()):\n",
    "            metadata_sub_group = metadata.loc[metadata[group] == sub_group, :].drop_duplicates(\"full_VDJ_aa\").reset_index(drop=True)\n",
    "            # uniq_inds = list(model_dict[model][sub_group].obs.drop_duplicates(\"seq\").index)\n",
    "            # model_dict[model][sub_group] = model_dict[model][sub_group][uniq_inds,:]\n",
    "            # model_dict[model][sub_group].obs = model_dict[model][sub_group].obs.reset_index(drop=True)\n",
    "            extra = model_dict[model][sub_group].obs.merge(metadata_sub_group, on=[\"barcode\",\"sample_clonotype\"],suffixes=('', '_y'), how=\"left\") \n",
    "            model_dict[model][sub_group].obs[\"isotype\"] = list(extra[\"c_gene\"])\n",
    "            model_dict[model][sub_group].obs[\"clonal_exp\"] = list(extra[\"clonotype_frequency\"].astype(float))\n",
    "            model_dict[model][sub_group].obs[\"seq_frequency\"] = list(extra[\"seq_frequency\"].astype(float))\n",
    "            model_dict[model][sub_group].obs[\"unique_clonal_seqs\"] = list(extra[\"unique_clonal_seqs\"].astype(float))\n",
    "            model_dict[model][sub_group].obs[\"SHM_count\"] = list(extra[\"SHM_count\"].astype(float))\n",
    "        else:\n",
    "            continue"
   ]
  },
  {
   "cell_type": "code",
   "execution_count": 56,
   "id": "cd7dc066-1f84-4301-a094-04f81cfd998e",
   "metadata": {},
   "outputs": [
    {
     "data": {
      "text/html": [
       "<div>\n",
       "<style scoped>\n",
       "    .dataframe tbody tr th:only-of-type {\n",
       "        vertical-align: middle;\n",
       "    }\n",
       "\n",
       "    .dataframe tbody tr th {\n",
       "        vertical-align: top;\n",
       "    }\n",
       "\n",
       "    .dataframe thead th {\n",
       "        text-align: right;\n",
       "    }\n",
       "</style>\n",
       "<table border=\"1\" class=\"dataframe\">\n",
       "  <thead>\n",
       "    <tr style=\"text-align: right;\">\n",
       "      <th></th>\n",
       "      <th>seq</th>\n",
       "      <th>barcode</th>\n",
       "      <th>v_gene_family</th>\n",
       "      <th>sample_id</th>\n",
       "      <th>sample_clonotype</th>\n",
       "      <th>sample_clonotype_encoded</th>\n",
       "      <th>velocity_self_transition</th>\n",
       "      <th>isotype</th>\n",
       "      <th>clonal_exp</th>\n",
       "      <th>seq_frequency</th>\n",
       "      <th>unique_clonal_seqs</th>\n",
       "      <th>SHM_count</th>\n",
       "    </tr>\n",
       "  </thead>\n",
       "  <tbody>\n",
       "    <tr>\n",
       "      <th>0</th>\n",
       "      <td>QVQLQQSGAELVRPGTSVKISCKASGYTFTNYWLGWVKQRPGHGLE...</td>\n",
       "      <td>AAACCTGAGAAACCAT</td>\n",
       "      <td>IGHV1</td>\n",
       "      <td>s1</td>\n",
       "      <td>s1_clonotype559</td>\n",
       "      <td>0</td>\n",
       "      <td>0.000000</td>\n",
       "      <td>IGHA</td>\n",
       "      <td>2.0</td>\n",
       "      <td>9.0</td>\n",
       "      <td>1.0</td>\n",
       "      <td>17.0</td>\n",
       "    </tr>\n",
       "    <tr>\n",
       "      <th>1</th>\n",
       "      <td>QVQLQQSGAELVRPGVSVKISCLVSGYTFTDYAMHWVKQSHAKSLE...</td>\n",
       "      <td>AAACCTGAGCTGATAA</td>\n",
       "      <td>IGHV1</td>\n",
       "      <td>s1</td>\n",
       "      <td>s1_clonotype137</td>\n",
       "      <td>1</td>\n",
       "      <td>0.000000</td>\n",
       "      <td>IGHG</td>\n",
       "      <td>7.0</td>\n",
       "      <td>5.0</td>\n",
       "      <td>2.0</td>\n",
       "      <td>60.0</td>\n",
       "    </tr>\n",
       "    <tr>\n",
       "      <th>2</th>\n",
       "      <td>EVQLQQSGPELVKPGASVKISCKTSGYTFTEYSMHWVKQSHGKSLE...</td>\n",
       "      <td>AAACCTGAGTGAAGTT</td>\n",
       "      <td>IGHV1</td>\n",
       "      <td>s1</td>\n",
       "      <td>s1_clonotype245</td>\n",
       "      <td>2</td>\n",
       "      <td>0.469341</td>\n",
       "      <td>IGHM</td>\n",
       "      <td>4.0</td>\n",
       "      <td>3.0</td>\n",
       "      <td>1.0</td>\n",
       "      <td>11.0</td>\n",
       "    </tr>\n",
       "    <tr>\n",
       "      <th>3</th>\n",
       "      <td>QVQLQQPGAELVRPGASVKLSCKASGYSFSSYWMNWVKQRPGQGLE...</td>\n",
       "      <td>AAACCTGCACGTCTCT</td>\n",
       "      <td>IGHV1</td>\n",
       "      <td>s1</td>\n",
       "      <td>s1_clonotype102</td>\n",
       "      <td>3</td>\n",
       "      <td>0.000000</td>\n",
       "      <td>IGHG</td>\n",
       "      <td>9.0</td>\n",
       "      <td>4.0</td>\n",
       "      <td>4.0</td>\n",
       "      <td>31.0</td>\n",
       "    </tr>\n",
       "    <tr>\n",
       "      <th>4</th>\n",
       "      <td>EVQLQQSGPELVKPGASMKISCKASGYSFTDYTMNWVKQSHGKNLE...</td>\n",
       "      <td>AAACCTGGTATAGGTA</td>\n",
       "      <td>IGHV1</td>\n",
       "      <td>s1</td>\n",
       "      <td>s1_clonotype119</td>\n",
       "      <td>4</td>\n",
       "      <td>0.000000</td>\n",
       "      <td>IGHG</td>\n",
       "      <td>8.0</td>\n",
       "      <td>3.0</td>\n",
       "      <td>4.0</td>\n",
       "      <td>24.0</td>\n",
       "    </tr>\n",
       "    <tr>\n",
       "      <th>...</th>\n",
       "      <td>...</td>\n",
       "      <td>...</td>\n",
       "      <td>...</td>\n",
       "      <td>...</td>\n",
       "      <td>...</td>\n",
       "      <td>...</td>\n",
       "      <td>...</td>\n",
       "      <td>...</td>\n",
       "      <td>...</td>\n",
       "      <td>...</td>\n",
       "      <td>...</td>\n",
       "      <td>...</td>\n",
       "    </tr>\n",
       "    <tr>\n",
       "      <th>3542</th>\n",
       "      <td>QVQLQQPGTELVKPGASVKLSCKASGYTFTSYWMHWVKQRPGQGLE...</td>\n",
       "      <td>germline</td>\n",
       "      <td>germline</td>\n",
       "      <td>germline</td>\n",
       "      <td>s5_clonotype1492</td>\n",
       "      <td>1945</td>\n",
       "      <td>0.055844</td>\n",
       "      <td>IGHA</td>\n",
       "      <td>1.0</td>\n",
       "      <td>-10.0</td>\n",
       "      <td>-10.0</td>\n",
       "      <td>-10.0</td>\n",
       "    </tr>\n",
       "    <tr>\n",
       "      <th>3543</th>\n",
       "      <td>EVQLQQSGAELVRPGSSVKMSCKTSGYTFTSYGINWVKQRPGQGLE...</td>\n",
       "      <td>germline</td>\n",
       "      <td>germline</td>\n",
       "      <td>germline</td>\n",
       "      <td>s5_clonotype1859</td>\n",
       "      <td>1947</td>\n",
       "      <td>0.869029</td>\n",
       "      <td>NaN</td>\n",
       "      <td>1.0</td>\n",
       "      <td>-10.0</td>\n",
       "      <td>-10.0</td>\n",
       "      <td>-10.0</td>\n",
       "    </tr>\n",
       "    <tr>\n",
       "      <th>3544</th>\n",
       "      <td>QVQLQQPGAELVRPGSSVKLSCKASGYTFTSYWMDWVKQRPGQGLE...</td>\n",
       "      <td>germline</td>\n",
       "      <td>germline</td>\n",
       "      <td>germline</td>\n",
       "      <td>s5_clonotype1537</td>\n",
       "      <td>1948</td>\n",
       "      <td>0.635994</td>\n",
       "      <td>IGHG</td>\n",
       "      <td>1.0</td>\n",
       "      <td>-10.0</td>\n",
       "      <td>-10.0</td>\n",
       "      <td>-10.0</td>\n",
       "    </tr>\n",
       "    <tr>\n",
       "      <th>3545</th>\n",
       "      <td>QVQLQQSGAELVRPGTSVKMSCKASGYTFTNYWIGWAKQRPGHGLE...</td>\n",
       "      <td>germline</td>\n",
       "      <td>germline</td>\n",
       "      <td>germline</td>\n",
       "      <td>s5_clonotype659</td>\n",
       "      <td>1970</td>\n",
       "      <td>0.326267</td>\n",
       "      <td>IGHM</td>\n",
       "      <td>2.0</td>\n",
       "      <td>-10.0</td>\n",
       "      <td>-10.0</td>\n",
       "      <td>-10.0</td>\n",
       "    </tr>\n",
       "    <tr>\n",
       "      <th>3546</th>\n",
       "      <td>QVQLQQPGAELVRPGSSVKLSCKASGYTFTSYWMDWVKQRPGQGLE...</td>\n",
       "      <td>germline</td>\n",
       "      <td>germline</td>\n",
       "      <td>germline</td>\n",
       "      <td>s5_clonotype456</td>\n",
       "      <td>1971</td>\n",
       "      <td>0.000000</td>\n",
       "      <td>IGHA</td>\n",
       "      <td>3.0</td>\n",
       "      <td>-10.0</td>\n",
       "      <td>-10.0</td>\n",
       "      <td>-10.0</td>\n",
       "    </tr>\n",
       "  </tbody>\n",
       "</table>\n",
       "<p>3547 rows × 12 columns</p>\n",
       "</div>"
      ],
      "text/plain": [
       "                                                    seq           barcode  \\\n",
       "0     QVQLQQSGAELVRPGTSVKISCKASGYTFTNYWLGWVKQRPGHGLE...  AAACCTGAGAAACCAT   \n",
       "1     QVQLQQSGAELVRPGVSVKISCLVSGYTFTDYAMHWVKQSHAKSLE...  AAACCTGAGCTGATAA   \n",
       "2     EVQLQQSGPELVKPGASVKISCKTSGYTFTEYSMHWVKQSHGKSLE...  AAACCTGAGTGAAGTT   \n",
       "3     QVQLQQPGAELVRPGASVKLSCKASGYSFSSYWMNWVKQRPGQGLE...  AAACCTGCACGTCTCT   \n",
       "4     EVQLQQSGPELVKPGASMKISCKASGYSFTDYTMNWVKQSHGKNLE...  AAACCTGGTATAGGTA   \n",
       "...                                                 ...               ...   \n",
       "3542  QVQLQQPGTELVKPGASVKLSCKASGYTFTSYWMHWVKQRPGQGLE...          germline   \n",
       "3543  EVQLQQSGAELVRPGSSVKMSCKTSGYTFTSYGINWVKQRPGQGLE...          germline   \n",
       "3544  QVQLQQPGAELVRPGSSVKLSCKASGYTFTSYWMDWVKQRPGQGLE...          germline   \n",
       "3545  QVQLQQSGAELVRPGTSVKMSCKASGYTFTNYWIGWAKQRPGHGLE...          germline   \n",
       "3546  QVQLQQPGAELVRPGSSVKLSCKASGYTFTSYWMDWVKQRPGQGLE...          germline   \n",
       "\n",
       "     v_gene_family sample_id  sample_clonotype  sample_clonotype_encoded  \\\n",
       "0            IGHV1        s1   s1_clonotype559                         0   \n",
       "1            IGHV1        s1   s1_clonotype137                         1   \n",
       "2            IGHV1        s1   s1_clonotype245                         2   \n",
       "3            IGHV1        s1   s1_clonotype102                         3   \n",
       "4            IGHV1        s1   s1_clonotype119                         4   \n",
       "...            ...       ...               ...                       ...   \n",
       "3542      germline  germline  s5_clonotype1492                      1945   \n",
       "3543      germline  germline  s5_clonotype1859                      1947   \n",
       "3544      germline  germline  s5_clonotype1537                      1948   \n",
       "3545      germline  germline   s5_clonotype659                      1970   \n",
       "3546      germline  germline   s5_clonotype456                      1971   \n",
       "\n",
       "      velocity_self_transition isotype  clonal_exp  seq_frequency  \\\n",
       "0                     0.000000    IGHA         2.0            9.0   \n",
       "1                     0.000000    IGHG         7.0            5.0   \n",
       "2                     0.469341    IGHM         4.0            3.0   \n",
       "3                     0.000000    IGHG         9.0            4.0   \n",
       "4                     0.000000    IGHG         8.0            3.0   \n",
       "...                        ...     ...         ...            ...   \n",
       "3542                  0.055844    IGHA         1.0          -10.0   \n",
       "3543                  0.869029     NaN         1.0          -10.0   \n",
       "3544                  0.635994    IGHG         1.0          -10.0   \n",
       "3545                  0.326267    IGHM         2.0          -10.0   \n",
       "3546                  0.000000    IGHA         3.0          -10.0   \n",
       "\n",
       "      unique_clonal_seqs  SHM_count  \n",
       "0                    1.0       17.0  \n",
       "1                    2.0       60.0  \n",
       "2                    1.0       11.0  \n",
       "3                    4.0       31.0  \n",
       "4                    4.0       24.0  \n",
       "...                  ...        ...  \n",
       "3542               -10.0      -10.0  \n",
       "3543               -10.0      -10.0  \n",
       "3544               -10.0      -10.0  \n",
       "3545               -10.0      -10.0  \n",
       "3546               -10.0      -10.0  \n",
       "\n",
       "[3547 rows x 12 columns]"
      ]
     },
     "execution_count": 56,
     "metadata": {},
     "output_type": "execute_result"
    }
   ],
   "source": [
    "model_dict[\"ablang\"][\"IGHV1\"].obs"
   ]
  },
  {
   "cell_type": "markdown",
   "id": "9df34e52-337c-49f3-9a52-4610370e0de2",
   "metadata": {},
   "source": [
    "### SAVE EVO_VELO DICTIONARY"
   ]
  },
  {
   "cell_type": "code",
   "execution_count": 57,
   "id": "998c3204-be8b-41b9-83ef-768fc0f00893",
   "metadata": {},
   "outputs": [],
   "source": [
    "import pickle as pkl\n",
    "\n",
    "if include_germline:\n",
    "    file_path = f\"evo_velo_{group}_germline.pkl\"\n",
    "else:\n",
    "    file_path = f\"evo_velo_{group}.pkl\"\n",
    "\n",
    "with open(file_path ,\"wb\") as file:\n",
    "    pkl.dump(model_dict, file)"
   ]
  },
  {
   "cell_type": "markdown",
   "id": "1f75df95-02e5-41d0-b104-184aa2c4a45f",
   "metadata": {},
   "source": [
    "### VISUALIZE EVO_VELO PLOTS"
   ]
  },
  {
   "cell_type": "code",
   "execution_count": 37,
   "id": "8af09456-99dd-4ac9-ae84-f5f10718e8d2",
   "metadata": {},
   "outputs": [
    {
     "name": "stdout",
     "output_type": "stream",
     "text": [
      "computing velocity embedding\n",
      "    finished (0:00:00) --> added\n",
      "    'velocity_umap', embedded velocity vectors (adata.obsm)\n"
     ]
    },
    {
     "data": {
      "image/png": "[encoded data removed]",
      "text/plain": [
       "<Figure size 640x480 with 2 Axes>"
      ]
     },
     "metadata": {},
     "output_type": "display_data"
    },
    {
     "data": {
      "image/png": "[encoded data removed]",
      "text/plain": [
       "<Figure size 640x480 with 2 Axes>"
      ]
     },
     "metadata": {},
     "output_type": "display_data"
    }
   ],
   "source": [
    "model = \"ESM\"\n",
    "sub_group = \"IGHV1\"\n",
    "color = \"seq_frequency\"\n",
    "\n",
    "additional_cdn = model_dict[model][sub_group].obs[\"sample_id\"] == \"s2\"\n",
    "\n",
    "sc.tl.umap(model_dict[model][sub_group])\n",
    "evo.tl.velocity_embedding(model_dict[model][sub_group])\n",
    "evo.pl.velocity_embedding_grid(model_dict[model][sub_group][additional_cdn,:], color=color, legend_loc=\"right margin\")\n",
    "evo.pl.velocity_embedding_stream(model_dict[model][sub_group][additional_cdn,:],color =color, legend_loc=\"right margin\")"
   ]
  },
  {
   "cell_type": "code",
   "execution_count": 75,
   "id": "7f94e520-65c8-4386-a6a1-848093bc654c",
   "metadata": {
    "scrolled": true
   },
   "outputs": [],
   "source": [
    "x.obs = x.obs.sort_values(\"sample_clonotype\", key=lambda x: x.apply( lambda y: int(y.split(\"clonotype\")[1])))\n",
    "x.obs[\"sample_clonotype_encoded\"] = pd.factorize(x.obs[\"sample_clonotype\"])[0]"
   ]
  }
 ],
 "metadata": {
  "kernelspec": {
   "display_name": "Python 3 (ipykernel)",
   "language": "python",
   "name": "python3"
  },
  "language_info": {
   "codemirror_mode": {
    "name": "ipython",
    "version": 3
   },
   "file_extension": ".py",
   "mimetype": "text/x-python",
   "name": "python",
   "nbconvert_exporter": "python",
   "pygments_lexer": "ipython3",
   "version": "3.8.18"
  }
 },
 "nbformat": 4,
 "nbformat_minor": 5
}
